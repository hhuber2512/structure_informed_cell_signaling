{
 "cells": [
  {
   "cell_type": "code",
   "execution_count": 11,
   "metadata": {},
   "outputs": [],
   "source": [
    "using Serialization, Statistics, Distributions, StableRNGs, CSV, ForwardDiff, GlobalSensitivity\n",
    "include(\"misc.jl\")\n",
    "include(\"ode_problem.jl\")\n",
    "include(\"target_probability.jl\")\n",
    "include(\"marginal_kl_divergence.jl\")\n",
    "include(\"define_likelihood_data.jl\")\n",
    "include(\"sensitivity_analysis.jl\");"
   ]
  },
  {
   "attachments": {},
   "cell_type": "markdown",
   "metadata": {},
   "source": [
    "RNG"
   ]
  },
  {
   "cell_type": "code",
   "execution_count": 2,
   "metadata": {},
   "outputs": [],
   "source": [
    "rng = StableRNG(34627);"
   ]
  },
  {
   "attachments": {},
   "cell_type": "markdown",
   "metadata": {},
   "source": [
    "Input Run Details"
   ]
  },
  {
   "cell_type": "code",
   "execution_count": 3,
   "metadata": {},
   "outputs": [],
   "source": [
    "#for analysis needing pairs (augmented and baseline comparison)\n",
    "augmented_run = \"220\"\n",
    "baseline_run = \"201\"\n",
    "prior_nonbinding_offset = [2,2]\n",
    "prior_binding_offset = [0,0];"
   ]
  },
  {
   "cell_type": "code",
   "execution_count": 35,
   "metadata": {},
   "outputs": [],
   "source": [
    "#for analysis needing pairs (augmented and baseline comparison)\n",
    "augmented_run = \"204\"\n",
    "baseline_run = \"205\"\n",
    "#prior_nonbinding_offset  = [1,1]\n",
    "#prior_binding_offset = [0,0] #will be set later\n",
    "bound_offset = [1,1]\n",
    "binding_bound_offset = [0,0]; #will be set later\n",
    "prior_bounds = return_prior_bounds_empirical(bound_offset, binding_bound_offset) #for target probability\n",
    "#redefine narrow koff bounds\n",
    "koff_i = return_koff_indices()\n",
    "prior_bounds[koff_i] = return_prior_bounds_empirical(bound_offset, [-2,0])[koff_i] \n",
    "#redefine k12b bounds, so that reported value is within the prior bounds\n",
    "prior_bounds[koff_i[2]] = return_prior_bounds_empirical(bound_offset, [-1,-1])[koff_i[2]] \n",
    "#redefine narrow kon bounds\n",
    "kon_i = return_kon_indices()\n",
    "prior_bounds[kon_i] = return_prior_bounds_empirical(bound_offset, [-1,-1])[kon_i]\n",
    "#redefine k13f bounds, so that reported value is within the prior bounds\n",
    "prior_bounds[kon_i[3]] = return_prior_bounds_empirical(bound_offset, [-2,0])[kon_i[3]];"
   ]
  },
  {
   "cell_type": "code",
   "execution_count": 36,
   "metadata": {},
   "outputs": [
    {
     "data": {
      "text/plain": [
       "50-element Vector{Vector{Float64}}:\n",
       " [-0.4685210829577451, 5.531478917042255]\n",
       " [-1.3010299956639813, 4.698970004336019]\n",
       " [-1.0, 5.0]\n",
       " [-2.769551078621726, 3.230448921378274]\n",
       " [-0.3467874862246565, 5.653212513775344]\n",
       " [-3.0, 3.0]\n",
       " [-7.0, 1.0]\n",
       " [-5.0, 1.0]\n",
       " [-5.346787486224656, 0.6532125137753435]\n",
       " [-4.522878745280337, 1.4771212547196624]\n",
       " [-7.0, 1.0]\n",
       " [-5.0, 1.0]\n",
       " [-7.0, 1.0]\n",
       " ⋮\n",
       " [-4.0, 2.0]\n",
       " [-5.0, 1.0]\n",
       " [-5.0, 1.0]\n",
       " [-3.0, 3.0]\n",
       " [-7.0, 1.0]\n",
       " [-5.0, 1.0]\n",
       " [-4.301029995663981, 1.6989700043360187]\n",
       " [-3.0, 3.0]\n",
       " [-5.221848749616356, 0.7781512503836439]\n",
       " [-3.5228787452803374, 2.4771212547196626]\n",
       " [-7.0, 1.0]\n",
       " [-5.0, 1.0]"
      ]
     },
     "execution_count": 36,
     "metadata": {},
     "output_type": "execute_result"
    }
   ],
   "source": [
    "augmented_run = \"202\"\n",
    "baseline_run = \"203\"\n",
    "bound_offset = [3,3]\n",
    "binding_bound_offset = [1,1]\n",
    "prior_bounds = return_prior_bounds_empirical(bound_offset, binding_bound_offset); #for target probability"
   ]
  },
  {
   "attachments": {},
   "cell_type": "markdown",
   "metadata": {},
   "source": [
    "Define Prior for Analyses"
   ]
  },
  {
   "attachments": {},
   "cell_type": "markdown",
   "metadata": {},
   "source": [
    "Calculate Quantiles of Posteriors"
   ]
  },
  {
   "cell_type": "code",
   "execution_count": 37,
   "metadata": {},
   "outputs": [],
   "source": [
    "#load posterior samples - change name as necessary \n",
    "aug_samples = deserialize(\"outputs/300_$(augmented_run)_posterior_samples_thinned.jls\") #ndims x nsamples\n",
    "baseline_samples = deserialize(\"outputs/300_$(baseline_run)_posterior_samples_thinned.jls\") #ndims x nsamples \n",
    "n_parameters, n_samples = size(aug_samples)\n",
    "\n",
    "#define priors\n",
    "#prior_bounds = return_prior_bounds_empirical(prior_nonbinding_offset, prior_binding_offset)\n",
    "\n",
    "#parameter names\n",
    "parameter_names = return_inferred_parameters()\n",
    "\n",
    "#ground truth value on log10 scale\n",
    "ground_truth = log10.(groundtruth_parameter_values())\n",
    "\n",
    "#calculate quantiles\n",
    "lower_bound = 0.05\n",
    "upper_bound = 0.95\n",
    "my_quantiles = [[Statistics.quantile(baseline_samples[i,:], lower_bound), Statistics.quantile(baseline_samples[i,:], upper_bound)] for i in 1:n_parameters]\n",
    "my_quantiles_aug = [[Statistics.quantile(aug_samples[i,:], lower_bound), Statistics.quantile(aug_samples[i,:], upper_bound)] for i in 1:n_parameters]\n",
    "my_quantiles_priors = []\n",
    "for i in 1:n_parameters\n",
    "    bounds = prior_bounds[i]\n",
    "    difference = bounds[2] - bounds[1]\n",
    "    quantiles_offset = difference*lower_bound\n",
    "    push!(my_quantiles_priors, [bounds[1]+quantiles_offset, bounds[2]-quantiles_offset])\n",
    "end\n",
    "\n",
    "#save \n",
    "serialize(\"outputs/600_$(baseline_run)_posterior_quantiles.jls\", my_quantiles)\n",
    "serialize(\"outputs/600_$(augmented_run)_posterior_quantiles.jls\", my_quantiles_aug)\n",
    "serialize(\"outputs/600_$(augmented_run)_prior_quantiles.jls\", my_quantiles_priors)"
   ]
  },
  {
   "attachments": {},
   "cell_type": "markdown",
   "metadata": {},
   "source": [
    "Mean Absolute Error w.r.t. Posterior Samples"
   ]
  },
  {
   "cell_type": "code",
   "execution_count": 38,
   "metadata": {},
   "outputs": [],
   "source": [
    "#load posterior samples\n",
    "aug_samples = deserialize(\"outputs/300_$(augmented_run)_posterior_samples_thinned.jls\") #ndims x nsamples\n",
    "baseline_samples = deserialize(\"outputs/300_$(baseline_run)_posterior_samples_thinned.jls\") #ndims x nsamples \n",
    "n_parameters, n_samples = size(aug_samples)\n",
    "\n",
    "#parameter names\n",
    "parameter_names = return_inferred_parameters()\n",
    "\n",
    "#ground truth value on log10 scale\n",
    "ground_truth = log10.(groundtruth_parameter_values())\n",
    "\n",
    "#calculate absolute error of each sample\n",
    "abs_error = Base.stack([abs.(baseline_samples[:,i] .- ground_truth) for i in 1:n_samples])\n",
    "abs_error_reg = Base.stack([abs.(aug_samples[:,i] .- ground_truth) for i in 1:n_samples])\n",
    "\n",
    "#take mean of absolute errors for each parameter\n",
    "mae = [sum(abs_error[i,:])/n_samples for i in 1:n_parameters]\n",
    "mae_reg = [sum(abs_error_reg[i,:])/n_samples for i in 1:n_parameters]\n",
    "\n",
    "#convert to dictionary\n",
    "mae_dict = Dict(parameter_names[i] => mae[i] for i in 1:n_parameters)\n",
    "mae_aug_dict = Dict(parameter_names[i] => mae_reg[i] for i in 1:n_parameters)\n",
    "\n",
    "#save \n",
    "serialize(\"outputs/600_$(baseline_run)_mean_absolute_error.jls\", mae_dict)\n",
    "serialize(\"outputs/600_$(augmented_run)_mean_absolute_error.jls\", mae_aug_dict)"
   ]
  },
  {
   "attachments": {},
   "cell_type": "markdown",
   "metadata": {},
   "source": [
    "Calculate KL Divergence for From Augmented to Baseline Posterior"
   ]
  },
  {
   "cell_type": "code",
   "execution_count": 39,
   "metadata": {},
   "outputs": [],
   "source": [
    "#load posterior samples\n",
    "aug_samples = deserialize(\"outputs/300_$(augmented_run)_posterior_samples_thinned.jls\") #ndims x nsamples\n",
    "baseline_samples = deserialize(\"outputs/300_$(baseline_run)_posterior_samples_thinned.jls\") #ndims x nsamples \n",
    "n_parameters, n_samples = size(aug_samples)\n",
    "#prior_bounds = return_prior_bounds_empirical(prior_nonbinding_offset, prior_binding_offset)\n",
    "prior_distributions = [Uniform(prior_bounds[i]...) for i in 1:n_parameters]\n",
    "prior_samples = transpose(Base.stack([rand(rng, prior_distributions[i], n_samples) for i in 1:n_parameters])) #ndims x nsamples \n",
    "\n",
    "#parameter names\n",
    "parameter_names = return_inferred_parameters()\n",
    "kl_div_augmented_baseline, parameter_names = kl_divergence_bits_samples(aug_samples, baseline_samples, parameter_names)\n",
    "kl_div_baseline_prior, parameter_names = kl_divergence_bits_samples(baseline_samples, prior_samples, parameter_names)\n",
    "\n",
    "#save\n",
    "serialize(\"outputs/600_$(augmented_run)_$(baseline_run)_kl_div.jls\", kl_div_augmented_baseline)\n",
    "serialize(\"outputs/600_$(baseline_run)_prior_kl_div.jls\", kl_div_augmented_baseline)"
   ]
  },
  {
   "attachments": {},
   "cell_type": "markdown",
   "metadata": {},
   "source": [
    "Calculate quantiles of finegrain predictions for which we have experimental data"
   ]
  },
  {
   "cell_type": "code",
   "execution_count": 40,
   "metadata": {},
   "outputs": [],
   "source": [
    "data_files = readdir(\"data\")\n",
    "sort_files = data_files .!= \".DS_Store\"\n",
    "data_files = sort(data_files[sort_files]) #sort to ensure consistent order\n",
    "sort_files = data_files .!= \"kholodenko1.xml\"\n",
    "data_files = sort(data_files[sort_files])\n",
    "sort_files = data_files .!= \"predicted_kd.csv\"\n",
    "data_files = sort(data_files[sort_files])\n",
    "quantity_names = [replace(data_files[i], \".csv\" => \"\") for i in 1:length(data_files)];"
   ]
  },
  {
   "cell_type": "code",
   "execution_count": 41,
   "metadata": {},
   "outputs": [],
   "source": [
    "for r in [augmented_run, baseline_run]    \n",
    "    for i in quantity_names\n",
    "        predictions = Base.stack(deserialize(\"outputs/500_$(r)_finegrain_predictions_$(i).jls\")) #ntime x n\n",
    "        n_time_points, n_predictions = size(predictions)\n",
    "        uq = 0.95\n",
    "        lq = 0.05\n",
    "        m = 0.5\n",
    "        quantile_up = [Statistics.quantile(predictions[i,:], uq) for i in 1:n_time_points]\n",
    "        quantile_low = [Statistics.quantile(predictions[i,:], lq) for i in 1:n_time_points]\n",
    "        median = [Statistics.quantile(predictions[i,:], m) for i in 1:n_time_points]\n",
    "        serialize(\"outputs/600_$(r)_prediction_quantiles_$(i).jls\", Dict(\"lower_quantile\"=>quantile_low, \n",
    "        \"median\"=>median, \"upper_quantile\" =>quantile_up))\n",
    "    end\n",
    "end"
   ]
  },
  {
   "attachments": {},
   "cell_type": "markdown",
   "metadata": {},
   "source": [
    "Calculate Quantiles of Predictions for All Species"
   ]
  },
  {
   "cell_type": "code",
   "execution_count": 42,
   "metadata": {},
   "outputs": [],
   "source": [
    "#calculate quantiles\n",
    "for r in [augmented_run, baseline_run]\n",
    "    all_predictions = deserialize(\"outputs/500_$(r)_predictions.jls\")\n",
    "    n_doses, n_samples = size(all_predictions)\n",
    "    n_species = length(all_predictions[1].u[1])\n",
    "    n_time_points = length(all_predictions[1].u);\n",
    "    reshaped_predictions = []\n",
    "    for i in 1:n_doses\n",
    "        p_per_dose = all_predictions[i,:]\n",
    "        for z in 1:n_species\n",
    "            species_dose = zeros(n_time_points, n_samples)\n",
    "            for j in 1:n_samples\n",
    "                species_dose[:,j] = Base.stack(p_per_dose[j].u)[z,:]\n",
    "            end\n",
    "            reshaped_predictions = cat(reshaped_predictions, [Base.stack(species_dose)], dims=1)\n",
    "        end\n",
    "    end\n",
    "    quantiles = []   \n",
    "    for j in 1:(n_doses*n_species)\n",
    "        predictions = reshaped_predictions[j]\n",
    "        uq = 0.95\n",
    "        lq = 0.05\n",
    "        m = 0.5\n",
    "        quantile_up = [Statistics.quantile(predictions[i,:], uq) for i in 1:n_time_points]\n",
    "        quantile_low = [Statistics.quantile(predictions[i,:], lq) for i in 1:n_time_points]\n",
    "        median = [Statistics.quantile(predictions[i,:], m) for i in 1:n_time_points]\n",
    "        quantiles = cat(quantiles, [Dict(\"lower_quantile\"=>quantile_low, \"median\"=>median, \"upper_quantile\" =>quantile_up)], dims=1)\n",
    "    end\n",
    "    serialize(\"outputs/600_$(r)_prediction_quantiles.jls\", quantiles)\n",
    "end"
   ]
  },
  {
   "cell_type": "code",
   "execution_count": 43,
   "metadata": {},
   "outputs": [],
   "source": [
    "#calculate quantiles for finegrain predictions - this is for plotting\n",
    "for r in [augmented_run, baseline_run]\n",
    "    all_predictions = deserialize(\"outputs/500_$(r)_predictions_finegrain.jls\")\n",
    "    n_doses, n_samples = size(all_predictions)\n",
    "    n_species = length(all_predictions[1].u[1])\n",
    "    n_time_points = length(all_predictions[1].u);\n",
    "    reshaped_predictions = []\n",
    "    for i in 1:n_doses\n",
    "        p_per_dose = all_predictions[i,:]\n",
    "        for z in 1:n_species\n",
    "            species_dose = zeros(n_time_points, n_samples)\n",
    "            for j in 1:n_samples\n",
    "                species_dose[:,j] = Base.stack(p_per_dose[j].u)[z,:]\n",
    "            end\n",
    "            reshaped_predictions = cat(reshaped_predictions, [Base.stack(species_dose)], dims=1)\n",
    "        end\n",
    "    end\n",
    "    quantiles = []   \n",
    "    for j in 1:(n_doses*n_species)\n",
    "        predictions = reshaped_predictions[j]\n",
    "        uq = 0.95\n",
    "        lq = 0.05\n",
    "        m = 0.5\n",
    "        quantile_up = [Statistics.quantile(predictions[i,:], uq) for i in 1:n_time_points]\n",
    "        quantile_low = [Statistics.quantile(predictions[i,:], lq) for i in 1:n_time_points]\n",
    "        median = [Statistics.quantile(predictions[i,:], m) for i in 1:n_time_points]\n",
    "        quantiles = cat(quantiles, [Dict(\"lower_quantile\"=>quantile_low, \"median\"=>median, \"upper_quantile\" =>quantile_up)], dims=1)\n",
    "    end\n",
    "    serialize(\"outputs/600_$(r)_prediction_quantiles_finegrain.jls\", quantiles)\n",
    "end "
   ]
  },
  {
   "attachments": {},
   "cell_type": "markdown",
   "metadata": {},
   "source": [
    "Local Sensitivity Analysis"
   ]
  },
  {
   "cell_type": "code",
   "execution_count": 12,
   "metadata": {},
   "outputs": [],
   "source": [
    "#first, extract parameter set that maximizes baseline training data likelihood\n",
    "likelihood = deserialize(\"outputs/300_$(baseline_run)_posterior_samples_thinned_likelihood.jls\");\n",
    "max_likelihood = maximum(likelihood)\n",
    "mask = likelihood .== max_likelihood\n",
    "max_likelihood_parameters = deserialize(\"outputs/300_$(baseline_run)_posterior_samples_thinned.jls\")[:, mask]\n",
    "\n",
    "#calculate local sensitivity of each species about this parameter value \n",
    "egf_doses = return_ligand_dose_order_for_likelihood_w_pshc_test()\n",
    "n_doses = length(egf_doses)\n",
    "n_species = 23\n",
    "solver_inputs = return_ode_problem_solver_default_inputs()\n",
    "solver_inputs[\"reltol\"] = 1.0e-12\n",
    "solver_inputs[\"abstol\"] = 1.0e-9\n",
    "local_sensitivity_kb = []\n",
    "local_sensitivity_kf = []\n",
    "local_sensitivity_nonbinding = []\n",
    "for i in 1:n_doses \n",
    "    odesys, u0, tspan, p = return_ode_problem_default_inputs(egf_doses[i])\n",
    "    odeprob = DifferentialEquations.ODEProblem(odesys, u0, tspan, p) #note, parameters will be redefined in next function\n",
    "    for j in 1:n_species\n",
    "        local_sensitivity = ForwardDiff.jacobian(p -> local_sensitivity_analysis(p, odeprob, solver_inputs, j), max_likelihood_parameters) #take parameters out of log10scale first\n",
    "        local_sensitivity_kb = cat(local_sensitivity_kb, [local_sensitivity[:,return_koff_indices()]], dims=1)\n",
    "        local_sensitivity_kf = cat(local_sensitivity_kf, [local_sensitivity[:, return_kon_indices()]], dims=1)\n",
    "        local_sensitivity_nonbinding = cat(local_sensitivity_nonbinding, [local_sensitivity[:, return_nonbinding_indices()]], dims=1)\n",
    "    end\n",
    "end\n",
    "serialize(\"outputs/600_$(baseline_run)_local_sensitivity_kb.jls\", local_sensitivity_kb)\n",
    "serialize(\"outputs/600_$(baseline_run)_local_sensitivity_kf.jls\", local_sensitivity_kf)\n",
    "serialize(\"outputs/600_$(baseline_run)_local_sensitivity_nonbind.jls\", local_sensitivity_nonbinding)\n",
    "\n",
    "\n",
    "#reshape and save for correlation calculation between change in median and local sensitivity of parameters\n",
    "#calculate absolute difference between medians for each output of interest\n",
    "augmented_quantiles = deserialize(\"outputs/600_$(augmented_run)_prediction_quantiles.jls\")[1:end] # [1:46] exclude third dose. Third dose has only one training species timecourse, EGFR, and that timecourse is not well recapitulated\n",
    "baseline_quantiles = deserialize(\"outputs/600_$(baseline_run)_prediction_quantiles.jls\")[1:end] #exclude third dose. Third dose has only one training species timecourse, EGFR, and that timecourse is not well recapitulated\n",
    "n_outputs = length(augmented_quantiles) #n_species x n_doses\n",
    "n_timepoints = length(augmented_quantiles[1][\"median\"])\n",
    "difference_between_medians = []\n",
    "for i in 1:n_outputs\n",
    "    difference_between_medians = cat(difference_between_medians, [abs.(augmented_quantiles[i][\"median\"] .- baseline_quantiles[i][\"median\"])], dims=1)\n",
    "end\n",
    "#save\n",
    "med_dif = reshape(Base.stack(difference_between_medians), n_outputs*n_timepoints)\n",
    "serialize(\"outputs/600_$(baseline_run)_$(augmented_run)_difference_between_medians_1d.jls\", med_dif)\n",
    "\n",
    "#load local sensitivity to parameter for each output of interest, reshape to match median difference, save\n",
    "for i in [\"kb\", \"kf\", \"nonbind\"]\n",
    "    local_sensitivity_kb = deserialize(\"outputs/600_$(baseline_run)_local_sensitivity_$(i).jls\") #vector of n_outputs, each output is sensitivity matrix of n_timepoints x n_parameters\n",
    "    #maximum across kb\n",
    "    max_ls_kb = []\n",
    "    for i in 1:n_outputs\n",
    "        max_ls_kb = cat(max_ls_kb, [vec(maximum(abs.(local_sensitivity_kb[i]), dims=2))], dims=1) #take parameter with highest sensitivity for particular output\n",
    "    end\n",
    "    ls_kb = reshape(Base.stack(max_ls_kb), n_outputs*n_timepoints)\n",
    "    serialize(\"outputs/600_$(baseline_run)_local_sensitivity_$(i)_1d.jls\", ls_kb)\n",
    "end"
   ]
  },
  {
   "attachments": {},
   "cell_type": "markdown",
   "metadata": {},
   "source": [
    "Relative Local Sensitivity Analysis"
   ]
  },
  {
   "cell_type": "code",
   "execution_count": 41,
   "metadata": {},
   "outputs": [],
   "source": [
    "#first, extract parameter set that maximizes baseline training data likelihood\n",
    "likelihood = deserialize(\"outputs/300_$(baseline_run)_posterior_samples_thinned_likelihood.jls\");\n",
    "max_likelihood = maximum(likelihood)\n",
    "mask = likelihood .== max_likelihood\n",
    "max_likelihood_parameters = deserialize(\"outputs/300_$(baseline_run)_posterior_samples_thinned.jls\")[:, mask]\n",
    "\n",
    "#calculate local sensitivity of each species about this parameter value \n",
    "egf_doses = return_ligand_dose_order_for_likelihood_w_pshc_test()\n",
    "n_doses = length(egf_doses)\n",
    "n_species = 23\n",
    "solver_inputs = return_ode_problem_solver_default_inputs()\n",
    "solver_inputs[\"reltol\"] = 1.0e-12\n",
    "solver_inputs[\"abstol\"] = 1.0e-9\n",
    "local_sensitivity_kb = []\n",
    "local_sensitivity_kf = []\n",
    "local_sensitivity_nonbinding = [] \n",
    "for i in 1:n_doses \n",
    "    odesys, u0, tspan, p = return_ode_problem_default_inputs(egf_doses[i])\n",
    "    odeprob = DifferentialEquations.ODEProblem(odesys, u0, tspan, p) #note, parameters will be redefined in next function\n",
    "    for j in 1:n_species\n",
    "        local_sensitivity = ForwardDiff.jacobian(p -> local_sensitivity_analysis_absolute(p, odeprob, solver_inputs, j), 10.0.^max_likelihood_parameters) #take parameters out of log10scale first\n",
    "        #multiple by 5% change in parameter value \n",
    "        n_outputs, n_parameters = size(local_sensitivity)\n",
    "        percent_change = transpose(reshape(repeat((10.0.^max_likelihood_parameters).*0.05, n_outputs),n_parameters, n_outputs))\n",
    "        local_sensitivity = local_sensitivity.*percent_change\n",
    "        local_sensitivity_kb = cat(local_sensitivity_kb, [local_sensitivity[:,return_koff_indices()]], dims=1)\n",
    "        local_sensitivity_kf = cat(local_sensitivity_kf, [local_sensitivity[:, return_kon_indices()]], dims=1)\n",
    "        local_sensitivity_nonbinding = cat(local_sensitivity_nonbinding, [local_sensitivity[:, return_nonbinding_indices()]], dims=1)\n",
    "    end\n",
    "end\n",
    "serialize(\"outputs/600_$(baseline_run)_5_percent_change_kb.jls\", local_sensitivity_kb)\n",
    "serialize(\"outputs/600_$(baseline_run)_5_percent_change_kf.jls\", local_sensitivity_kf)\n",
    "serialize(\"outputs/600_$(baseline_run)_5_percent_change_nonbind.jls\", local_sensitivity_nonbinding)\n",
    "\n",
    "\n",
    "#reshape and save for correlation calculation between change in median and local sensitivity of parameters\n",
    "#calculate absolute difference between medians for each output of interest\n",
    "augmented_quantiles = deserialize(\"outputs/600_$(augmented_run)_prediction_quantiles.jls\")[1:end] # [1:46] exclude third dose. Third dose has only one training species timecourse, EGFR, and that timecourse is not well recapitulated\n",
    "baseline_quantiles = deserialize(\"outputs/600_$(baseline_run)_prediction_quantiles.jls\")[1:end] #exclude third dose. Third dose has only one training species timecourse, EGFR, and that timecourse is not well recapitulated\n",
    "n_outputs = length(augmented_quantiles) #n_species x n_doses\n",
    "n_timepoints = length(augmented_quantiles[1][\"median\"])\n",
    "difference_between_medians = []\n",
    "for i in 1:n_outputs\n",
    "    difference_between_medians = cat(difference_between_medians, [abs.(augmented_quantiles[i][\"median\"] .- baseline_quantiles[i][\"median\"])], dims=1)\n",
    "end\n",
    "#save\n",
    "med_dif = reshape(Base.stack(difference_between_medians), n_outputs*n_timepoints)\n",
    "serialize(\"outputs/600_$(baseline_run)_$(augmented_run)_difference_between_medians_1d.jls\", med_dif)\n",
    "\n",
    "#load local sensitivity to parameter for each output of interest, reshape to match median difference, save\n",
    "for i in [\"kb\", \"kf\", \"nonbind\"]\n",
    "    local_sensitivity_kb = deserialize(\"outputs/600_$(baseline_run)_5_percent_change_$(i).jls\") #vector of n_outputs, each output is sensitivity matrix of n_timepoints x n_parameters\n",
    "    #maximum across kb\n",
    "    max_ls_kb = []\n",
    "    for i in 1:n_outputs\n",
    "        max_ls_kb = cat(max_ls_kb, [vec(maximum(abs.(local_sensitivity_kb[i]), dims=2))], dims=1) #take parameter with highest sensitivity for particular output\n",
    "    end\n",
    "    ls_kb = reshape(Base.stack(max_ls_kb), n_outputs*n_timepoints)\n",
    "    serialize(\"outputs/600_$(baseline_run)_5_percent_change_$(i)_1d.jls\", ls_kb)\n",
    "end"
   ]
  },
  {
   "attachments": {},
   "cell_type": "markdown",
   "metadata": {},
   "source": [
    "Global Sensitivity Analysis about Max Likelihood Parameters"
   ]
  },
  {
   "cell_type": "code",
   "execution_count": 71,
   "metadata": {},
   "outputs": [],
   "source": [
    "#global sensitivity analysis about maximum likelihood parameter set \n",
    "#first, extract parameter set that maximizes baseline training data likelihood\n",
    "likelihood = deserialize(\"outputs/300_$(baseline_run)_posterior_samples_thinned_likelihood.jls\");\n",
    "max_likelihood = maximum(likelihood)\n",
    "mask = likelihood .== max_likelihood\n",
    "max_likelihood_parameters = deserialize(\"outputs/300_$(baseline_run)_posterior_samples_thinned.jls\")[:, mask]\n",
    "n_parameters = length(max_likelihood_parameters)\n",
    "n_species = 23\n",
    "\n",
    "#ode problem definition\n",
    "ligand_doses = return_ligand_dose_order_for_likelihood_w_pshc_test()\n",
    "n_doses = length(ligand_doses)\n",
    "solver_inputs = return_ode_problem_solver_default_inputs()\n",
    "odesys, u0, tspan, p = return_ode_problem_default_inputs(ligand_doses[1]) #dose will be set later, this is simply to define ode problem\n",
    "odeprob = DifferentialEquations.ODEProblem(odesys, u0, tspan, p) #note, parameters and initial conditions will be redefined in next function\n",
    "\n",
    "#ode solver inputs\n",
    "solver_inputs = return_ode_problem_solver_default_inputs()\n",
    "solver_inputs[\"reltol\"] = 1.0e-12\n",
    "solver_inputs[\"abstol\"] = 1.0e-9\n",
    "solver_inputs[\"saveat\"] = [15 30 45 60 120] #redefine to exclude tp 0\n",
    "\n",
    "#sensitivity analysis parameters\n",
    "#initial conditions first\n",
    "#vary non-zero initial conditions by an order of magnitude\n",
    "non_zero_ic_mask = u0 .!= 0.0\n",
    "non_zero_ic_mask[1] = 0 #exclude ligand dose\n",
    "non_zero_ic = u0[non_zero_ic_mask] #exclude ligand dose\n",
    "n_ic = length(non_zero_ic)\n",
    "non_zero_ic = log10.(non_zero_ic)\n",
    "lb_ic = non_zero_ic.-1\n",
    "ub_ic = non_zero_ic.+1\n",
    "bounds_ic = [[lb_ic[i],ub_ic[i]] for i in 1:n_ic];\n",
    "#get parameter bounds based on max likelihood parameters\n",
    "lb = max_likelihood_parameters.-1\n",
    "ub = max_likelihood_parameters.+1\n",
    "bounds = [[lb[i],ub[i]] for i in 1:50]\n",
    "push!(bounds, [-2,0]) #dummy parameter\n",
    "total_bounds = cat(bounds_ic, bounds, dims=1) #all bounds to vary \n",
    "total_bounds = total_bounds #exclude ligand dose, which we set for comparison with simulations \n",
    "\n",
    "Ns = 10000 #sample size, needs to be bigger than 2*num_harmonics*omega_max, where num_harmonics = 4 and omega_max = 56 (number of parameters) \n",
    "#calculate local sensitivity of each species about this parameter value \n",
    "result = GlobalSensitivity.gsa(p -> global_sensitivity_analysis(p, ligand_doses, odeprob, solver_inputs, n_species, non_zero_ic_mask), eFAST(), total_bounds, samples=Ns)\n",
    "#replace NaN with 0 sensitivity\n",
    "result.S1[isnan.(result.S1)] .= 0\n",
    "result.ST[isnan.(result.ST)] .= 0\n",
    "serialize(\"outputs/600_$(baseline_run)_global_sensitivity_about_max_likelihood_value.jls\", result); #ST and S1, each (n_doses x n_species x n_timepoints) x n_parameters+1"
   ]
  },
  {
   "attachments": {},
   "cell_type": "markdown",
   "metadata": {},
   "source": [
    "Global Sensitivity Analysis using Prior Bounds"
   ]
  },
  {
   "cell_type": "code",
   "execution_count": 47,
   "metadata": {},
   "outputs": [],
   "source": [
    "#global sensitivity analysis with priors\n",
    "bounds = sensitivity_analysis_bounds([2,2],[0,0])\n",
    "Ns = 10000 #sample size, needs to be bigger than 2*num_harmonics*omega_max, where num_harmonics = 4 and omega_max = 8 (number of parameters) \n",
    "#ode problem definition\n",
    "#calculate local sensitivity of each species about this parameter value \n",
    "ligand_doses = return_ligand_dose_order_for_likelihood_w_pshc_test()[1:2]\n",
    "n_doses = length(ligand_doses)\n",
    "solver_inputs = return_ode_problem_solver_default_inputs()\n",
    "odesys, u0, tspan, p = return_ode_problem_default_inputs(ligand_doses[1])\n",
    "odeprob = DifferentialEquations.ODEProblem(odesys, u0, tspan, p) #note, parameters and initial conditions will be redefined in next function\n",
    "result = GlobalSensitivity.gsa(p -> global_sensitivity_analysis(p, ligand_doses, odeprob, solver_inputs, n_species), eFAST(), bounds, samples=Ns)\n",
    "#replace NaN with 0 sensitivity\n",
    "result.S1[isnan.(result.S1)] .= 0\n",
    "result.ST[isnan.(result.ST)] .= 0\n",
    "serialize(\"outputs/600_$(baseline_run)_global_sensitivity_prior_bounds.jls\", result); #ST and S1, each (n_doses x n_species x n_timepoints) x n_parameters+1"
   ]
  },
  {
   "attachments": {},
   "cell_type": "markdown",
   "metadata": {},
   "source": [
    "Reshape for Comparison with Difference in Median Predictions"
   ]
  },
  {
   "cell_type": "code",
   "execution_count": 78,
   "metadata": {},
   "outputs": [],
   "source": [
    "path = [\"outputs/600_$(baseline_run)_global_sensitivity_about_max_likelihood_value\"]\n",
    "for p in path\n",
    "    save_global_sensitivity_indices_1d(p)\n",
    "end"
   ]
  },
  {
   "attachments": {},
   "cell_type": "markdown",
   "metadata": {},
   "source": [
    "Global Sensitivity Analysis, Mutual Information"
   ]
  },
  {
   "cell_type": "code",
   "execution_count": 26,
   "metadata": {},
   "outputs": [
    {
     "data": {
      "text/plain": [
       "GlobalSensitivity.MutualInformationResult{Vector{Float64}}([0.0, 0.0, 0.0, 0.0, 0.0, 0.0, 0.0, 0.0, 0.0, 0.0  …  0.0, 0.0, 0.0, 0.0, 0.0, 0.0, 0.0, 0.0, 0.0, 0.0], [0.17692969803904024, 0.23347697782637145, 0.17958133714910662, 0.20316787209447984, 0.13410439864522594, 0.20143515526506128, 0.2309322826532334, 0.1660787127933432, 0.1808121481317837, 0.1888896083190481  …  0.13055487206618288, 0.12867863042769567, 0.1953626408008713, 0.181502976391954, 0.15839445521164564, 0.16925537704204618, 0.16793595349404988, 0.13317260393742902, 0.17393568590668362, 0.13661279766894907], [0.2372256731980277, 0.2343439709800696, 0.23654401653686286, 0.23753710854465102, 0.23575808503582962, 0.23420840247071484, 0.23957340709408692, 0.23677902864985043, 0.23678634292051634, 0.24145393792666392  …  0.23619366276976259, 0.2400669372482415, 0.2391984934055848, 0.24017562324716416, 0.23914067448303045, 0.2393807507769485, 0.2375742640682479, 0.24215143098901226, 0.23735075772821798, 0.24019907632832369])"
      ]
     },
     "execution_count": 26,
     "metadata": {},
     "output_type": "execute_result"
    }
   ],
   "source": [
    "#global sensitivity analysis with priors\n",
    "bounds = sensitivity_analysis_bounds([2,2],[0,0])\n",
    "Ns = 50000 #sample size\n",
    "#ode problem definition\n",
    "#calculate local sensitivity of each species about this parameter value \n",
    "ligand_doses = return_ligand_dose_order_for_likelihood_w_pshc_test()[1:2]\n",
    "n_doses = length(ligand_doses)\n",
    "solver_inputs = return_ode_problem_solver_default_inputs()\n",
    "odesys, u0, tspan, p = return_ode_problem_default_inputs(ligand_doses[1])\n",
    "odeprob = DifferentialEquations.ODEProblem(odesys, u0, tspan, p) #note, parameters and initial conditions will be redefined in next function\n",
    "result = GlobalSensitivity.gsa(p -> global_sensitivity_analysis(p, ligand_doses, odeprob, solver_inputs, n_species), MutualInformation(), bounds, samples=Ns, batch=true);"
   ]
  },
  {
   "cell_type": "code",
   "execution_count": 96,
   "metadata": {},
   "outputs": [
    {
     "name": "stdout",
     "output_type": "stream",
     "text": [
      "123456789101112131415161718192021222312345678910111213141516171819202122231234567891011121314151617181920212223"
     ]
    }
   ],
   "source": [
    "#global sensitivity analysis about max likelihood param set\n",
    "likelihood = deserialize(\"outputs/300_$(baseline_run)_posterior_samples_thinned_likelihood.jls\");\n",
    "max_likelihood = maximum(likelihood)\n",
    "mask = likelihood .== max_likelihood\n",
    "max_likelihood_parameters = deserialize(\"outputs/300_$(baseline_run)_posterior_samples_thinned.jls\")[:, mask]\n",
    "#get bounds based on max likelihood parameters\n",
    "lb = max_likelihood_parameters.-1\n",
    "ub = max_likelihood_parameters.+1\n",
    "bounds = [[lb[i],ub[i]] for i in 1:n_parameters]\n",
    "#increase tolerances\n",
    "Ns = 5000 #sample size\n",
    "#ode problem definition\n",
    "ligand_doses = return_ligand_dose_order_for_likelihood_w_pshc_test()\n",
    "solver_inputs = return_ode_problem_solver_default_inputs()\n",
    "solver_inputs[\"reltol\"] = 1.0e-8\n",
    "solver_inputs[\"abstol\"] = 1.0e-7\n",
    "solver_inputs[\"saveat\"] = [15, 30, 45, 60, 120] #exclude timepoint 0\n",
    "n_doses = length(ligand_doses)\n",
    "n_species = 23\n",
    "n_timepoints = length(solver_inputs[\"saveat\"])\n",
    "all_results = [GlobalSensitivity.gsa(p -> global_sensitivity_analysis(p, ligand_doses, odeprob, solver_inputs, n_species), MutualInformation(), bounds, samples=Ns, batch=true)]\n",
    "for i in 1:n_doses\n",
    "    for j in 1:n_species\n",
    "        print(j)\n",
    "        for k in 1:n_timepoints\n",
    "            result = GlobalSensitivity.gsa(p -> global_sensitivity_analysis_mi(p, ligand_doses[i], odeprob, solver_inputs, j, k), MutualInformation(), bounds, samples=Ns)\n",
    "            all_results = push!(all_results, result)\n",
    "        end\n",
    "    end\n",
    "end\n",
    "serialize(\"outputs/600_$(baseline_run)_global_sensitivity_mutual_info_prior_bounds.jls\", all_results[2:end]);"
   ]
  },
  {
   "cell_type": "code",
   "execution_count": 135,
   "metadata": {},
   "outputs": [
    {
     "data": {
      "text/plain": [
       "345-element Vector{Float64}:\n",
       " 0.010150039063961946\n",
       " 0.030754904833003832\n",
       " 0.029934330888886862\n",
       " 0.029012739673816318\n",
       " 0.027516126129307372\n",
       " 0.009679446239142242\n",
       " 0.029634840123936107\n",
       " 0.029109655522987055\n",
       " 0.02918081737035455\n",
       " 0.027588821283415138\n",
       " 0.6461793614214038\n",
       " 0.7340211006816492\n",
       " 0.7950426281164698\n",
       " ⋮\n",
       " 0.1992491768249245\n",
       " 0.1385562781109897\n",
       " 0.23024032742697143\n",
       " 0.16064002409060574\n",
       " 0.08934583082263159\n",
       " 0.07003126749908861\n",
       " 0.014108001940459192\n",
       " 0.3211903675089692\n",
       " 0.4133071316801198\n",
       " 0.42710277757594745\n",
       " 0.3891043293523806\n",
       " 0.29578621252379333"
      ]
     },
     "execution_count": 135,
     "metadata": {},
     "output_type": "execute_result"
    }
   ],
   "source": [
    "result = deserialize(\"outputs/600_$(baseline_run)_global_sensitivity_mutual_info_prior_bounds.jls\")\n",
    "mi = [result[i].mutual_information for i in 1:length(mi)]\n",
    "s = [result[i].S for i in 1:length(mi)]\n",
    "mi_kb = [sum(s[i][return_koff_indices()]) for i in 1:length(mi)]\n",
    "mi_kf = [sum(s[i][return_kon_indices()]) for i in 1:length(mi)]\n",
    "mi_nonbind = [sum(s[i][return_nonbinding_indices()]) for i in 1:length(mi)]"
   ]
  },
  {
   "cell_type": "code",
   "execution_count": 117,
   "metadata": {},
   "outputs": [
    {
     "data": {
      "text/plain": [
       "230-element Vector{Float64}:\n",
       " 0.006201084730264483\n",
       " 0.007692583938478492\n",
       " 0.00851355366773987\n",
       " 0.0087744298286907\n",
       " 0.00889075654959015\n",
       " 0.006201084732092162\n",
       " 0.007692583939244077\n",
       " 0.008513553671942876\n",
       " 0.008774429825206587\n",
       " 0.008890756548240094\n",
       " 0.27041465060738634\n",
       " 0.3424994423265275\n",
       " 0.35882493423701156\n",
       " ⋮\n",
       " 0.7931505428330006\n",
       " 0.05727438448379385\n",
       " 0.1731236300676785\n",
       " 0.041403080461325514\n",
       " 0.08181685650416937\n",
       " 0.1349910429053373\n",
       " 0.17657605804138965\n",
       " 0.1417885038638551\n",
       " 0.24526443736231363\n",
       " 0.34732077210536594\n",
       " 0.38418178837672157\n",
       " 0.39840982083651943"
      ]
     },
     "execution_count": 117,
     "metadata": {},
     "output_type": "execute_result"
    }
   ],
   "source": [
    "egfr_median_difference = deserialize(\"outputs/600_201_220_difference_between_medians_1d.jls\")\n",
    "deleteat!(egfr_median_difference, 1:6:276) #exclude timepoint 0"
   ]
  },
  {
   "cell_type": "code",
   "execution_count": 136,
   "metadata": {},
   "outputs": [
    {
     "data": {
      "text/plain": [
       "0.007902828670418745"
      ]
     },
     "execution_count": 136,
     "metadata": {},
     "output_type": "execute_result"
    }
   ],
   "source": [
    "Statistics.cor(mi_kf[1:230], egfr_median_difference)"
   ]
  },
  {
   "cell_type": "code",
   "execution_count": 137,
   "metadata": {},
   "outputs": [
    {
     "data": {
      "text/plain": [
       "-0.07004120919840365"
      ]
     },
     "execution_count": 137,
     "metadata": {},
     "output_type": "execute_result"
    }
   ],
   "source": [
    "Statistics.cor(mi_nonbind[1:230], egfr_median_difference)"
   ]
  },
  {
   "cell_type": "code",
   "execution_count": 138,
   "metadata": {},
   "outputs": [
    {
     "data": {
      "text/plain": [
       "-0.030027166103005227"
      ]
     },
     "execution_count": 138,
     "metadata": {},
     "output_type": "execute_result"
    }
   ],
   "source": [
    "Statistics.cor(mi_kb[1:230], egfr_median_difference)"
   ]
  },
  {
   "cell_type": "code",
   "execution_count": 95,
   "metadata": {},
   "outputs": [
    {
     "data": {
      "text/plain": [
       "6.0"
      ]
     },
     "execution_count": 95,
     "metadata": {},
     "output_type": "execute_result"
    }
   ],
   "source": [
    "276/23/2"
   ]
  },
  {
   "cell_type": "code",
   "execution_count": 61,
   "metadata": {},
   "outputs": [
    {
     "data": {
      "text/plain": [
       "GlobalSensitivity.MutualInformationResult{Vector{Float64}}([0.0, 0.028222581541935854, 0.0, 0.0, 0.011103405840222791, 0.0017943046097230742, 0.0, 0.0, 0.0, 0.0  …  0.038345837668015026, 0.0, 0.021687746410925968, 0.0, 0.0, 0.0, 0.005514102812424371, 0.0, 0.0490406724441958, 0.0], [0.27540877779679285, 0.30737492761372565, 0.2721859410514629, 0.2737403913430452, 0.29044037410857726, 0.2808313116468497, 0.2664952725930583, 0.273659117844403, 0.27385181934929115, 0.2701058715943283  …  0.3169021995829642, 0.2754107598043465, 0.3008917348379203, 0.27351521391955913, 0.27844972781481125, 0.27618112088616975, 0.28399440120863595, 0.2744868000922036, 0.3278580620802618, 0.2721752765083334], [0.27875911418306476, 0.2791523460717898, 0.2786771447119936, 0.2787778298788172, 0.27933696826835447, 0.27903700703712664, 0.2784425935741871, 0.27878437488503127, 0.27906706949629106, 0.2787524253193841  …  0.27855636191494915, 0.2788714325295043, 0.27920398842699434, 0.2787976610948064, 0.27875324198652524, 0.2789508387294509, 0.2784802983962116, 0.27874995137424513, 0.278817389636066, 0.2785637154057601])"
      ]
     },
     "execution_count": 61,
     "metadata": {},
     "output_type": "execute_result"
    }
   ],
   "source": [
    "Ns = 10000 #sample size\n",
    "result = GlobalSensitivity.gsa(p -> global_sensitivity_analysis_mi(p, ligand_doses[1], odeprob, solver_inputs, 5, 3), MutualInformation(), bounds, samples=Ns)"
   ]
  },
  {
   "cell_type": "code",
   "execution_count": 62,
   "metadata": {},
   "outputs": [
    {
     "data": {
      "text/plain": [
       "51-element Vector{Float64}:\n",
       " 0.27540877779679285\n",
       " 0.30737492761372565\n",
       " 0.2721859410514629\n",
       " 0.2737403913430452\n",
       " 0.29044037410857726\n",
       " 0.2808313116468497\n",
       " 0.2664952725930583\n",
       " 0.273659117844403\n",
       " 0.27385181934929115\n",
       " 0.2701058715943283\n",
       " 0.27113485009030924\n",
       " 0.26486886390667763\n",
       " 0.2713070471328347\n",
       " ⋮\n",
       " 0.2792178330324653\n",
       " 0.2729733429765897\n",
       " 0.3169021995829642\n",
       " 0.2754107598043465\n",
       " 0.3008917348379203\n",
       " 0.27351521391955913\n",
       " 0.27844972781481125\n",
       " 0.27618112088616975\n",
       " 0.28399440120863595\n",
       " 0.2744868000922036\n",
       " 0.3278580620802618\n",
       " 0.2721752765083334"
      ]
     },
     "execution_count": 62,
     "metadata": {},
     "output_type": "execute_result"
    }
   ],
   "source": [
    "result.mutual_information"
   ]
  },
  {
   "cell_type": "code",
   "execution_count": 40,
   "metadata": {},
   "outputs": [
    {
     "data": {
      "text/plain": [
       "2-element Vector{Float64}:\n",
       " 4.599999999999999\n",
       " 4.001666049839541"
      ]
     },
     "execution_count": 40,
     "metadata": {},
     "output_type": "execute_result"
    }
   ],
   "source": [
    "X = [π/2 π/3; π/4 π/6; 1.0 2.0]\n",
    "ishi_batch(X)"
   ]
  },
  {
   "cell_type": "code",
   "execution_count": 38,
   "metadata": {},
   "outputs": [
    {
     "data": {
      "text/plain": [
       "4-element Vector{Float64}:\n",
       " 0.24958715698764555\n",
       " 0.5563328824056163\n",
       " 0.10492763995859966\n",
       " 0.0"
      ]
     },
     "execution_count": 38,
     "metadata": {},
     "output_type": "execute_result"
    }
   ],
   "source": [
    "res1.S"
   ]
  },
  {
   "cell_type": "code",
   "execution_count": 39,
   "metadata": {},
   "outputs": [
    {
     "data": {
      "text/plain": [
       "4-element Vector{Float64}:\n",
       " 0.24912607770211248\n",
       " 0.5566322558810122\n",
       " 0.10526927261759167\n",
       " 0.0"
      ]
     },
     "execution_count": 39,
     "metadata": {},
     "output_type": "execute_result"
    }
   ],
   "source": [
    "res2.S"
   ]
  },
  {
   "cell_type": "code",
   "execution_count": 15,
   "metadata": {},
   "outputs": [
    {
     "data": {
      "text/plain": [
       "(Main.egfr_ode!, [680.0, 100.0, 0.0, 0.0, 0.0, 0.0, 0.0, 0.0, 0.0, 0.0  …  0.0, 0.0, 0.0, 105.0, 0.0, 0.0, 85.0, 150.0, 34.0, 0.0], (0, 120), [340.0, 50.0, 100.0, 1.7, 450.0, 1.0, 0.06, 0.01, 0.0045, 0.03  …  0.01, 1.0, 0.2, 0.06, 0.05, 1.0, 0.006, 0.3, 0.05, 0.003])"
      ]
     },
     "execution_count": 15,
     "metadata": {},
     "output_type": "execute_result"
    }
   ],
   "source": [
    "odesys, u0, tspan, p = return_ode_problem_default_inputs(ligand_doses[1])"
   ]
  },
  {
   "attachments": {},
   "cell_type": "markdown",
   "metadata": {},
   "source": []
  },
  {
   "cell_type": "code",
   "execution_count": 49,
   "metadata": {},
   "outputs": [
    {
     "data": {
      "text/plain": [
       "GlobalSensitivity.eFASTResult{Matrix{Float64}}([0.0 0.0 … 0.0 0.0; 3.646952314407716e-6 0.0006580884344671986 … 0.0005101143219534799 2.9723659865681234e-6; … ; 2.6978752688638405e-8 0.0007188950037903527 … 5.0712895427463755e-5 7.414290040313076e-7; 1.9142523596420388e-7 0.0002789957468241772 … 4.832838775565364e-6 1.2277103173484774e-7], [0.0 0.0 … 0.0 0.0; 0.01981802992755355 0.02432204258758075 … 0.022431148717266924 0.01506524027813927; … ; 0.0022564480870691517 0.016884121664036522 … 0.005365879457703726 0.0027072616269867567; 0.0017712153369124906 0.01271239044929906 … 0.002175720289686267 0.00181405913389443])"
      ]
     },
     "execution_count": 49,
     "metadata": {},
     "output_type": "execute_result"
    }
   ],
   "source": [
    "result = deserialize(\"outputs/600_$(baseline_run)_global_sensitivity_about_max_likelihood_value.jls\") #ST and S1, each (n_speciesxn_timepoints) x n_parameters+1"
   ]
  },
  {
   "cell_type": "code",
   "execution_count": 50,
   "metadata": {},
   "outputs": [
    {
     "data": {
      "text/plain": [
       "276×1 Matrix{Float64}:\n",
       " 0.0\n",
       " 0.07438610802274731\n",
       " 0.07429237935541812\n",
       " 0.07318400841061595\n",
       " 0.0740188536439017\n",
       " 0.07550759762712878\n",
       " 0.0\n",
       " 0.07438610802497443\n",
       " 0.07429237935655837\n",
       " 0.07318400841144747\n",
       " 0.0740188536452537\n",
       " 0.07550759762615082\n",
       " 0.0\n",
       " ⋮\n",
       " 0.0\n",
       " 0.10577838340471656\n",
       " 0.17639578027411879\n",
       " 0.3104190603978291\n",
       " 0.31291279597399185\n",
       " 0.3125152858906625\n",
       " 0.0\n",
       " 0.6726096312190576\n",
       " 0.7629469101831239\n",
       " 0.7931182920632628\n",
       " 0.8056831359312663\n",
       " 0.8204167108183364"
      ]
     },
     "execution_count": 50,
     "metadata": {},
     "output_type": "execute_result"
    }
   ],
   "source": [
    "global_kb = sum(result.S1[:,return_koff_indices()], dims=2)\n",
    "global_kf = sum(result.S1[:,return_kon_indices()], dims=2)\n",
    "global_nonbind = sum(result.S1[:,return_nonbinding_indices()], dims=2)"
   ]
  },
  {
   "cell_type": "code",
   "execution_count": 51,
   "metadata": {},
   "outputs": [
    {
     "data": {
      "text/plain": [
       "276×1 Matrix{Float64}:\n",
       " 0.0\n",
       " 0.29810594224042375\n",
       " 0.313313189861513\n",
       " 0.3130333673296729\n",
       " 0.3122451821691805\n",
       " 0.3108602467852284\n",
       " 0.0\n",
       " 0.2981059422585799\n",
       " 0.31331318987364243\n",
       " 0.31303336734166043\n",
       " 0.31224518218080943\n",
       " 0.3108602467987708\n",
       " 0.0\n",
       " ⋮\n",
       " 0.0\n",
       " 0.7965301046421568\n",
       " 0.6766346528873382\n",
       " 0.6191527183788056\n",
       " 0.6189090764983568\n",
       " 0.6172828946320715\n",
       " 0.0\n",
       " 0.5941545377128912\n",
       " 0.6037049167707039\n",
       " 0.6093936905905923\n",
       " 0.6134593312790464\n",
       " 0.6219716845892559"
      ]
     },
     "execution_count": 51,
     "metadata": {},
     "output_type": "execute_result"
    }
   ],
   "source": [
    "global_kb = maximum(result.ST[:,return_koff_indices()], dims=2)\n",
    "global_kf = maximum(result.ST[:,return_kon_indices()], dims=2)\n",
    "global_nonbind = maximum(result.ST[:,return_nonbinding_indices()], dims=2)"
   ]
  },
  {
   "cell_type": "code",
   "execution_count": 52,
   "metadata": {},
   "outputs": [],
   "source": [
    "#dose 1\n",
    "augmented_quantiles = deserialize(\"outputs/600_$(augmented_run)_prediction_quantiles.jls\")[1:46] # 1D vector of length (n_doses x n_species)\n",
    "baseline_quantiles = deserialize(\"outputs/600_$(baseline_run)_prediction_quantiles.jls\")[1:46]\n",
    "n_outputs = length(augmented_quantiles)\n",
    "n_timepoints = length(augmented_quantiles[1][\"median\"])\n",
    "\n",
    "#calculate absolute difference between medians for each output of interest\n",
    "difference_between_medians = []\n",
    "for i in 1:n_outputs\n",
    "    difference_between_medians = cat(difference_between_medians, [abs.(augmented_quantiles[i][\"median\"] .- baseline_quantiles[i][\"median\"])], dims=1)\n",
    "end"
   ]
  },
  {
   "cell_type": "code",
   "execution_count": 53,
   "metadata": {},
   "outputs": [
    {
     "data": {
      "text/plain": [
       "276-element Vector{Float64}:\n",
       " 0.0\n",
       " 0.0042369503204326975\n",
       " 0.005325679619431867\n",
       " 0.005894967477161117\n",
       " 0.006077087562971428\n",
       " 0.006211944410551951\n",
       " 0.0\n",
       " 0.004236950318621818\n",
       " 0.005325679619909067\n",
       " 0.005894967479199199\n",
       " 0.006077087569965719\n",
       " 0.006211944410077376\n",
       " 0.0\n",
       " ⋮\n",
       " 0.0\n",
       " 0.04887555035577257\n",
       " 0.04977257995094095\n",
       " 0.032086312986549015\n",
       " 0.012309117075261278\n",
       " 0.012442611163354433\n",
       " 0.0\n",
       " 0.16360414952249158\n",
       " 0.12053244606587143\n",
       " 0.05446401807997514\n",
       " 0.005351005379354512\n",
       " 0.03808228222081422"
      ]
     },
     "execution_count": 53,
     "metadata": {},
     "output_type": "execute_result"
    }
   ],
   "source": [
    "dif_between_med = reshape(Base.stack(difference_between_medians),276) #time x species"
   ]
  },
  {
   "cell_type": "code",
   "execution_count": 54,
   "metadata": {},
   "outputs": [
    {
     "data": {
      "text/plain": [
       "1×1 transpose(::Vector{Float64}) with eltype Float64:\n",
       " 0.2498715019582158"
      ]
     },
     "execution_count": 54,
     "metadata": {},
     "output_type": "execute_result"
    }
   ],
   "source": [
    "Statistics.cor(dif_between_med, global_kf)"
   ]
  },
  {
   "cell_type": "code",
   "execution_count": 55,
   "metadata": {},
   "outputs": [
    {
     "data": {
      "image/png": "[encoded data removed]",
      "image/svg+xml": [
       "<?xml version=\"1.0\" encoding=\"utf-8\"?>\n",
       "<svg xmlns=\"http://www.w3.org/2000/svg\" xmlns:xlink=\"http://www.w3.org/1999/xlink\" width=\"600\" height=\"400\" viewBox=\"0 0 2400 1600\">\n",
       "<defs>\n",
       "  <clipPath id=\"clip930\">\n",
       "    <rect x=\"0\" y=\"0\" width=\"2400\" height=\"1600\"/>\n",
       "  </clipPath>\n",
       "</defs>\n",
       "<path clip-path=\"url(#clip930)\" d=\"M0 1600 L2400 1600 L2400 8.88178e-14 L0 8.88178e-14  Z\" fill=\"#ffffff\" fill-rule=\"evenodd\" fill-opacity=\"1\"/>\n",
       "<defs>\n",
       "  <clipPath id=\"clip931\">\n",
       "    <rect x=\"480\" y=\"0\" width=\"1681\" height=\"1600\"/>\n",
       "  </clipPath>\n",
       "</defs>\n",
       "<path clip-path=\"url(#clip930)\" d=\"M140.696 1486.45 L2352.76 1486.45 L2352.76 47.2441 L140.696 47.2441  Z\" fill=\"#ffffff\" fill-rule=\"evenodd\" fill-opacity=\"1\"/>\n",
       "<defs>\n",
       "  <clipPath id=\"clip932\">\n",
       "    <rect x=\"140\" y=\"47\" width=\"2213\" height=\"1440\"/>\n",
       "  </clipPath>\n",
       "</defs>\n",
       "<polyline clip-path=\"url(#clip932)\" style=\"stroke:#000000; stroke-linecap:round; stroke-linejoin:round; stroke-width:2; stroke-opacity:0.1; fill:none\" points=\"203.301,1486.45 203.301,47.2441 \"/>\n",
       "<polyline clip-path=\"url(#clip932)\" style=\"stroke:#000000; stroke-linecap:round; stroke-linejoin:round; stroke-width:2; stroke-opacity:0.1; fill:none\" points=\"654.261,1486.45 654.261,47.2441 \"/>\n",
       "<polyline clip-path=\"url(#clip932)\" style=\"stroke:#000000; stroke-linecap:round; stroke-linejoin:round; stroke-width:2; stroke-opacity:0.1; fill:none\" points=\"1105.22,1486.45 1105.22,47.2441 \"/>\n",
       "<polyline clip-path=\"url(#clip932)\" style=\"stroke:#000000; stroke-linecap:round; stroke-linejoin:round; stroke-width:2; stroke-opacity:0.1; fill:none\" points=\"1556.18,1486.45 1556.18,47.2441 \"/>\n",
       "<polyline clip-path=\"url(#clip932)\" style=\"stroke:#000000; stroke-linecap:round; stroke-linejoin:round; stroke-width:2; stroke-opacity:0.1; fill:none\" points=\"2007.14,1486.45 2007.14,47.2441 \"/>\n",
       "<polyline clip-path=\"url(#clip932)\" style=\"stroke:#000000; stroke-linecap:round; stroke-linejoin:round; stroke-width:2; stroke-opacity:0.1; fill:none\" points=\"140.696,1445.72 2352.76,1445.72 \"/>\n",
       "<polyline clip-path=\"url(#clip932)\" style=\"stroke:#000000; stroke-linecap:round; stroke-linejoin:round; stroke-width:2; stroke-opacity:0.1; fill:none\" points=\"140.696,1175.09 2352.76,1175.09 \"/>\n",
       "<polyline clip-path=\"url(#clip932)\" style=\"stroke:#000000; stroke-linecap:round; stroke-linejoin:round; stroke-width:2; stroke-opacity:0.1; fill:none\" points=\"140.696,904.47 2352.76,904.47 \"/>\n",
       "<polyline clip-path=\"url(#clip932)\" style=\"stroke:#000000; stroke-linecap:round; stroke-linejoin:round; stroke-width:2; stroke-opacity:0.1; fill:none\" points=\"140.696,633.847 2352.76,633.847 \"/>\n",
       "<polyline clip-path=\"url(#clip932)\" style=\"stroke:#000000; stroke-linecap:round; stroke-linejoin:round; stroke-width:2; stroke-opacity:0.1; fill:none\" points=\"140.696,363.224 2352.76,363.224 \"/>\n",
       "<polyline clip-path=\"url(#clip932)\" style=\"stroke:#000000; stroke-linecap:round; stroke-linejoin:round; stroke-width:2; stroke-opacity:0.1; fill:none\" points=\"140.696,92.6008 2352.76,92.6008 \"/>\n",
       "<polyline clip-path=\"url(#clip930)\" style=\"stroke:#000000; stroke-linecap:round; stroke-linejoin:round; stroke-width:4; stroke-opacity:1; fill:none\" points=\"140.696,1486.45 2352.76,1486.45 \"/>\n",
       "<polyline clip-path=\"url(#clip930)\" style=\"stroke:#000000; stroke-linecap:round; stroke-linejoin:round; stroke-width:4; stroke-opacity:1; fill:none\" points=\"203.301,1486.45 203.301,1467.55 \"/>\n",
       "<polyline clip-path=\"url(#clip930)\" style=\"stroke:#000000; stroke-linecap:round; stroke-linejoin:round; stroke-width:4; stroke-opacity:1; fill:none\" points=\"654.261,1486.45 654.261,1467.55 \"/>\n",
       "<polyline clip-path=\"url(#clip930)\" style=\"stroke:#000000; stroke-linecap:round; stroke-linejoin:round; stroke-width:4; stroke-opacity:1; fill:none\" points=\"1105.22,1486.45 1105.22,1467.55 \"/>\n",
       "<polyline clip-path=\"url(#clip930)\" style=\"stroke:#000000; stroke-linecap:round; stroke-linejoin:round; stroke-width:4; stroke-opacity:1; fill:none\" points=\"1556.18,1486.45 1556.18,1467.55 \"/>\n",
       "<polyline clip-path=\"url(#clip930)\" style=\"stroke:#000000; stroke-linecap:round; stroke-linejoin:round; stroke-width:4; stroke-opacity:1; fill:none\" points=\"2007.14,1486.45 2007.14,1467.55 \"/>\n",
       "<path clip-path=\"url(#clip930)\" d=\"M180.685 1517.37 Q177.074 1517.37 175.246 1520.93 Q173.44 1524.47 173.44 1531.6 Q173.44 1538.71 175.246 1542.27 Q177.074 1545.82 180.685 1545.82 Q184.32 1545.82 186.125 1542.27 Q187.954 1538.71 187.954 1531.6 Q187.954 1524.47 186.125 1520.93 Q184.32 1517.37 180.685 1517.37 M180.685 1513.66 Q186.496 1513.66 189.551 1518.27 Q192.63 1522.85 192.63 1531.6 Q192.63 1540.33 189.551 1544.94 Q186.496 1549.52 180.685 1549.52 Q174.875 1549.52 171.797 1544.94 Q168.741 1540.33 168.741 1531.6 Q168.741 1522.85 171.797 1518.27 Q174.875 1513.66 180.685 1513.66 Z\" fill=\"#000000\" fill-rule=\"nonzero\" fill-opacity=\"1\" /><path clip-path=\"url(#clip930)\" d=\"M200.847 1542.97 L205.732 1542.97 L205.732 1548.85 L200.847 1548.85 L200.847 1542.97 Z\" fill=\"#000000\" fill-rule=\"nonzero\" fill-opacity=\"1\" /><path clip-path=\"url(#clip930)\" d=\"M225.917 1517.37 Q222.306 1517.37 220.477 1520.93 Q218.671 1524.47 218.671 1531.6 Q218.671 1538.71 220.477 1542.27 Q222.306 1545.82 225.917 1545.82 Q229.551 1545.82 231.356 1542.27 Q233.185 1538.71 233.185 1531.6 Q233.185 1524.47 231.356 1520.93 Q229.551 1517.37 225.917 1517.37 M225.917 1513.66 Q231.727 1513.66 234.782 1518.27 Q237.861 1522.85 237.861 1531.6 Q237.861 1540.33 234.782 1544.94 Q231.727 1549.52 225.917 1549.52 Q220.106 1549.52 217.028 1544.94 Q213.972 1540.33 213.972 1531.6 Q213.972 1522.85 217.028 1518.27 Q220.106 1513.66 225.917 1513.66 Z\" fill=\"#000000\" fill-rule=\"nonzero\" fill-opacity=\"1\" /><path clip-path=\"url(#clip930)\" d=\"M632.444 1517.37 Q628.832 1517.37 627.004 1520.93 Q625.198 1524.47 625.198 1531.6 Q625.198 1538.71 627.004 1542.27 Q628.832 1545.82 632.444 1545.82 Q636.078 1545.82 637.883 1542.27 Q639.712 1538.71 639.712 1531.6 Q639.712 1524.47 637.883 1520.93 Q636.078 1517.37 632.444 1517.37 M632.444 1513.66 Q638.254 1513.66 641.309 1518.27 Q644.388 1522.85 644.388 1531.6 Q644.388 1540.33 641.309 1544.94 Q638.254 1549.52 632.444 1549.52 Q626.633 1549.52 623.555 1544.94 Q620.499 1540.33 620.499 1531.6 Q620.499 1522.85 623.555 1518.27 Q626.633 1513.66 632.444 1513.66 Z\" fill=\"#000000\" fill-rule=\"nonzero\" fill-opacity=\"1\" /><path clip-path=\"url(#clip930)\" d=\"M652.605 1542.97 L657.49 1542.97 L657.49 1548.85 L652.605 1548.85 L652.605 1542.97 Z\" fill=\"#000000\" fill-rule=\"nonzero\" fill-opacity=\"1\" /><path clip-path=\"url(#clip930)\" d=\"M671.703 1544.91 L688.022 1544.91 L688.022 1548.85 L666.078 1548.85 L666.078 1544.91 Q668.74 1542.16 673.323 1537.53 Q677.929 1532.88 679.11 1531.53 Q681.355 1529.01 682.235 1527.27 Q683.138 1525.51 683.138 1523.82 Q683.138 1521.07 681.193 1519.33 Q679.272 1517.6 676.17 1517.6 Q673.971 1517.6 671.517 1518.36 Q669.087 1519.13 666.309 1520.68 L666.309 1515.95 Q669.133 1514.82 671.587 1514.24 Q674.041 1513.66 676.078 1513.66 Q681.448 1513.66 684.642 1516.35 Q687.837 1519.03 687.837 1523.52 Q687.837 1525.65 687.027 1527.57 Q686.24 1529.47 684.133 1532.07 Q683.554 1532.74 680.453 1535.95 Q677.351 1539.15 671.703 1544.91 Z\" fill=\"#000000\" fill-rule=\"nonzero\" fill-opacity=\"1\" /><path clip-path=\"url(#clip930)\" d=\"M1082.36 1517.37 Q1078.75 1517.37 1076.92 1520.93 Q1075.12 1524.47 1075.12 1531.6 Q1075.12 1538.71 1076.92 1542.27 Q1078.75 1545.82 1082.36 1545.82 Q1086 1545.82 1087.8 1542.27 Q1089.63 1538.71 1089.63 1531.6 Q1089.63 1524.47 1087.8 1520.93 Q1086 1517.37 1082.36 1517.37 M1082.36 1513.66 Q1088.17 1513.66 1091.23 1518.27 Q1094.31 1522.85 1094.31 1531.6 Q1094.31 1540.33 1091.23 1544.94 Q1088.17 1549.52 1082.36 1549.52 Q1076.55 1549.52 1073.47 1544.94 Q1070.42 1540.33 1070.42 1531.6 Q1070.42 1522.85 1073.47 1518.27 Q1076.55 1513.66 1082.36 1513.66 Z\" fill=\"#000000\" fill-rule=\"nonzero\" fill-opacity=\"1\" /><path clip-path=\"url(#clip930)\" d=\"M1102.52 1542.97 L1107.41 1542.97 L1107.41 1548.85 L1102.52 1548.85 L1102.52 1542.97 Z\" fill=\"#000000\" fill-rule=\"nonzero\" fill-opacity=\"1\" /><path clip-path=\"url(#clip930)\" d=\"M1130.44 1518.36 L1118.63 1536.81 L1130.44 1536.81 L1130.44 1518.36 M1129.21 1514.29 L1135.09 1514.29 L1135.09 1536.81 L1140.02 1536.81 L1140.02 1540.7 L1135.09 1540.7 L1135.09 1548.85 L1130.44 1548.85 L1130.44 1540.7 L1114.84 1540.7 L1114.84 1536.19 L1129.21 1514.29 Z\" fill=\"#000000\" fill-rule=\"nonzero\" fill-opacity=\"1\" /><path clip-path=\"url(#clip930)\" d=\"M1533.48 1517.37 Q1529.87 1517.37 1528.04 1520.93 Q1526.24 1524.47 1526.24 1531.6 Q1526.24 1538.71 1528.04 1542.27 Q1529.87 1545.82 1533.48 1545.82 Q1537.12 1545.82 1538.92 1542.27 Q1540.75 1538.71 1540.75 1531.6 Q1540.75 1524.47 1538.92 1520.93 Q1537.12 1517.37 1533.48 1517.37 M1533.48 1513.66 Q1539.29 1513.66 1542.35 1518.27 Q1545.43 1522.85 1545.43 1531.6 Q1545.43 1540.33 1542.35 1544.94 Q1539.29 1549.52 1533.48 1549.52 Q1527.67 1549.52 1524.59 1544.94 Q1521.54 1540.33 1521.54 1531.6 Q1521.54 1522.85 1524.59 1518.27 Q1527.67 1513.66 1533.48 1513.66 Z\" fill=\"#000000\" fill-rule=\"nonzero\" fill-opacity=\"1\" /><path clip-path=\"url(#clip930)\" d=\"M1553.64 1542.97 L1558.53 1542.97 L1558.53 1548.85 L1553.64 1548.85 L1553.64 1542.97 Z\" fill=\"#000000\" fill-rule=\"nonzero\" fill-opacity=\"1\" /><path clip-path=\"url(#clip930)\" d=\"M1579.29 1529.7 Q1576.14 1529.7 1574.29 1531.86 Q1572.46 1534.01 1572.46 1537.76 Q1572.46 1541.49 1574.29 1543.66 Q1576.14 1545.82 1579.29 1545.82 Q1582.44 1545.82 1584.27 1543.66 Q1586.12 1541.49 1586.12 1537.76 Q1586.12 1534.01 1584.27 1531.86 Q1582.44 1529.7 1579.29 1529.7 M1588.58 1515.05 L1588.58 1519.31 Q1586.82 1518.48 1585.01 1518.04 Q1583.23 1517.6 1581.47 1517.6 Q1576.84 1517.6 1574.39 1520.72 Q1571.96 1523.85 1571.61 1530.17 Q1572.97 1528.15 1575.03 1527.09 Q1577.09 1526 1579.57 1526 Q1584.78 1526 1587.79 1529.17 Q1590.82 1532.32 1590.82 1537.76 Q1590.82 1543.08 1587.67 1546.3 Q1584.52 1549.52 1579.29 1549.52 Q1573.3 1549.52 1570.13 1544.94 Q1566.96 1540.33 1566.96 1531.6 Q1566.96 1523.41 1570.84 1518.55 Q1574.73 1513.66 1581.28 1513.66 Q1583.04 1513.66 1584.83 1514.01 Q1586.63 1514.36 1588.58 1515.05 Z\" fill=\"#000000\" fill-rule=\"nonzero\" fill-opacity=\"1\" /><path clip-path=\"url(#clip930)\" d=\"M1984.57 1517.37 Q1980.96 1517.37 1979.13 1520.93 Q1977.32 1524.47 1977.32 1531.6 Q1977.32 1538.71 1979.13 1542.27 Q1980.96 1545.82 1984.57 1545.82 Q1988.2 1545.82 1990.01 1542.27 Q1991.84 1538.71 1991.84 1531.6 Q1991.84 1524.47 1990.01 1520.93 Q1988.2 1517.37 1984.57 1517.37 M1984.57 1513.66 Q1990.38 1513.66 1993.44 1518.27 Q1996.51 1522.85 1996.51 1531.6 Q1996.51 1540.33 1993.44 1544.94 Q1990.38 1549.52 1984.57 1549.52 Q1978.76 1549.52 1975.68 1544.94 Q1972.63 1540.33 1972.63 1531.6 Q1972.63 1522.85 1975.68 1518.27 Q1978.76 1513.66 1984.57 1513.66 Z\" fill=\"#000000\" fill-rule=\"nonzero\" fill-opacity=\"1\" /><path clip-path=\"url(#clip930)\" d=\"M2004.73 1542.97 L2009.62 1542.97 L2009.62 1548.85 L2004.73 1548.85 L2004.73 1542.97 Z\" fill=\"#000000\" fill-rule=\"nonzero\" fill-opacity=\"1\" /><path clip-path=\"url(#clip930)\" d=\"M2029.8 1532.44 Q2026.47 1532.44 2024.55 1534.22 Q2022.65 1536 2022.65 1539.13 Q2022.65 1542.25 2024.55 1544.03 Q2026.47 1545.82 2029.8 1545.82 Q2033.13 1545.82 2035.06 1544.03 Q2036.98 1542.23 2036.98 1539.13 Q2036.98 1536 2035.06 1534.22 Q2033.16 1532.44 2029.8 1532.44 M2025.13 1530.45 Q2022.12 1529.7 2020.43 1527.64 Q2018.76 1525.58 2018.76 1522.62 Q2018.76 1518.48 2021.7 1516.07 Q2024.66 1513.66 2029.8 1513.66 Q2034.96 1513.66 2037.9 1516.07 Q2040.84 1518.48 2040.84 1522.62 Q2040.84 1525.58 2039.15 1527.64 Q2037.49 1529.7 2034.5 1530.45 Q2037.88 1531.23 2039.75 1533.52 Q2041.65 1535.82 2041.65 1539.13 Q2041.65 1544.15 2038.57 1546.83 Q2035.52 1549.52 2029.8 1549.52 Q2024.08 1549.52 2021 1546.83 Q2017.95 1544.15 2017.95 1539.13 Q2017.95 1535.82 2019.85 1533.52 Q2021.75 1531.23 2025.13 1530.45 M2023.41 1523.06 Q2023.41 1525.75 2025.08 1527.25 Q2026.77 1528.76 2029.8 1528.76 Q2032.81 1528.76 2034.5 1527.25 Q2036.21 1525.75 2036.21 1523.06 Q2036.21 1520.38 2034.5 1518.87 Q2032.81 1517.37 2029.8 1517.37 Q2026.77 1517.37 2025.08 1518.87 Q2023.41 1520.38 2023.41 1523.06 Z\" fill=\"#000000\" fill-rule=\"nonzero\" fill-opacity=\"1\" /><polyline clip-path=\"url(#clip930)\" style=\"stroke:#000000; stroke-linecap:round; stroke-linejoin:round; stroke-width:4; stroke-opacity:1; fill:none\" points=\"140.696,1486.45 140.696,47.2441 \"/>\n",
       "<polyline clip-path=\"url(#clip930)\" style=\"stroke:#000000; stroke-linecap:round; stroke-linejoin:round; stroke-width:4; stroke-opacity:1; fill:none\" points=\"140.696,1445.72 159.593,1445.72 \"/>\n",
       "<polyline clip-path=\"url(#clip930)\" style=\"stroke:#000000; stroke-linecap:round; stroke-linejoin:round; stroke-width:4; stroke-opacity:1; fill:none\" points=\"140.696,1175.09 159.593,1175.09 \"/>\n",
       "<polyline clip-path=\"url(#clip930)\" style=\"stroke:#000000; stroke-linecap:round; stroke-linejoin:round; stroke-width:4; stroke-opacity:1; fill:none\" points=\"140.696,904.47 159.593,904.47 \"/>\n",
       "<polyline clip-path=\"url(#clip930)\" style=\"stroke:#000000; stroke-linecap:round; stroke-linejoin:round; stroke-width:4; stroke-opacity:1; fill:none\" points=\"140.696,633.847 159.593,633.847 \"/>\n",
       "<polyline clip-path=\"url(#clip930)\" style=\"stroke:#000000; stroke-linecap:round; stroke-linejoin:round; stroke-width:4; stroke-opacity:1; fill:none\" points=\"140.696,363.224 159.593,363.224 \"/>\n",
       "<polyline clip-path=\"url(#clip930)\" style=\"stroke:#000000; stroke-linecap:round; stroke-linejoin:round; stroke-width:4; stroke-opacity:1; fill:none\" points=\"140.696,92.6008 159.593,92.6008 \"/>\n",
       "<path clip-path=\"url(#clip930)\" d=\"M92.7512 1431.51 Q89.1401 1431.51 87.3114 1435.08 Q85.5058 1438.62 85.5058 1445.75 Q85.5058 1452.86 87.3114 1456.42 Q89.1401 1459.96 92.7512 1459.96 Q96.3854 1459.96 98.1909 1456.42 Q100.02 1452.86 100.02 1445.75 Q100.02 1438.62 98.1909 1435.08 Q96.3854 1431.51 92.7512 1431.51 M92.7512 1427.81 Q98.5613 1427.81 101.617 1432.42 Q104.696 1437 104.696 1445.75 Q104.696 1454.48 101.617 1459.08 Q98.5613 1463.67 92.7512 1463.67 Q86.941 1463.67 83.8623 1459.08 Q80.8068 1454.48 80.8068 1445.75 Q80.8068 1437 83.8623 1432.42 Q86.941 1427.81 92.7512 1427.81 Z\" fill=\"#000000\" fill-rule=\"nonzero\" fill-opacity=\"1\" /><path clip-path=\"url(#clip930)\" d=\"M83.7929 1157.81 L102.149 1157.81 L102.149 1161.75 L88.0753 1161.75 L88.0753 1170.22 Q89.0938 1169.87 90.1123 1169.71 Q91.1308 1169.53 92.1493 1169.53 Q97.9363 1169.53 101.316 1172.7 Q104.696 1175.87 104.696 1181.28 Q104.696 1186.86 101.223 1189.97 Q97.7511 1193.04 91.4317 1193.04 Q89.2558 1193.04 86.9873 1192.67 Q84.7419 1192.3 82.3346 1191.56 L82.3346 1186.86 Q84.4179 1188 86.6401 1188.55 Q88.8623 1189.11 91.3391 1189.11 Q95.3437 1189.11 97.6817 1187 Q100.02 1184.9 100.02 1181.28 Q100.02 1177.67 97.6817 1175.57 Q95.3437 1173.46 91.3391 1173.46 Q89.4641 1173.46 87.5892 1173.88 Q85.7373 1174.29 83.7929 1175.17 L83.7929 1157.81 Z\" fill=\"#000000\" fill-rule=\"nonzero\" fill-opacity=\"1\" /><path clip-path=\"url(#clip930)\" d=\"M53.3995 917.815 L61.0384 917.815 L61.0384 891.449 L52.7282 893.116 L52.7282 888.856 L60.9921 887.19 L65.668 887.19 L65.668 917.815 L73.3068 917.815 L73.3068 921.75 L53.3995 921.75 L53.3995 917.815 Z\" fill=\"#000000\" fill-rule=\"nonzero\" fill-opacity=\"1\" /><path clip-path=\"url(#clip930)\" d=\"M92.7512 890.268 Q89.1401 890.268 87.3114 893.833 Q85.5058 897.375 85.5058 904.504 Q85.5058 911.611 87.3114 915.176 Q89.1401 918.717 92.7512 918.717 Q96.3854 918.717 98.1909 915.176 Q100.02 911.611 100.02 904.504 Q100.02 897.375 98.1909 893.833 Q96.3854 890.268 92.7512 890.268 M92.7512 886.565 Q98.5613 886.565 101.617 891.171 Q104.696 895.755 104.696 904.504 Q104.696 913.231 101.617 917.838 Q98.5613 922.421 92.7512 922.421 Q86.941 922.421 83.8623 917.838 Q80.8068 913.231 80.8068 904.504 Q80.8068 895.755 83.8623 891.171 Q86.941 886.565 92.7512 886.565 Z\" fill=\"#000000\" fill-rule=\"nonzero\" fill-opacity=\"1\" /><path clip-path=\"url(#clip930)\" d=\"M54.3949 647.192 L62.0337 647.192 L62.0337 620.826 L53.7236 622.493 L53.7236 618.233 L61.9874 616.567 L66.6633 616.567 L66.6633 647.192 L74.3022 647.192 L74.3022 651.127 L54.3949 651.127 L54.3949 647.192 Z\" fill=\"#000000\" fill-rule=\"nonzero\" fill-opacity=\"1\" /><path clip-path=\"url(#clip930)\" d=\"M83.7929 616.567 L102.149 616.567 L102.149 620.502 L88.0753 620.502 L88.0753 628.974 Q89.0938 628.627 90.1123 628.465 Q91.1308 628.28 92.1493 628.28 Q97.9363 628.28 101.316 631.451 Q104.696 634.622 104.696 640.039 Q104.696 645.618 101.223 648.719 Q97.7511 651.798 91.4317 651.798 Q89.2558 651.798 86.9873 651.428 Q84.7419 651.057 82.3346 650.317 L82.3346 645.618 Q84.4179 646.752 86.6401 647.307 Q88.8623 647.863 91.3391 647.863 Q95.3437 647.863 97.6817 645.756 Q100.02 643.65 100.02 640.039 Q100.02 636.428 97.6817 634.321 Q95.3437 632.215 91.3391 632.215 Q89.4641 632.215 87.5892 632.632 Q85.7373 633.048 83.7929 633.928 L83.7929 616.567 Z\" fill=\"#000000\" fill-rule=\"nonzero\" fill-opacity=\"1\" /><path clip-path=\"url(#clip930)\" d=\"M56.6171 376.569 L72.9365 376.569 L72.9365 380.504 L50.9921 380.504 L50.9921 376.569 Q53.6541 373.814 58.2375 369.184 Q62.8439 364.532 64.0245 363.189 Q66.2698 360.666 67.1494 358.93 Q68.0522 357.171 68.0522 355.481 Q68.0522 352.726 66.1078 350.99 Q64.1865 349.254 61.0847 349.254 Q58.8856 349.254 56.4319 350.018 Q54.0014 350.782 51.2236 352.333 L51.2236 347.61 Q54.0477 346.476 56.5014 345.898 Q58.955 345.319 60.9921 345.319 Q66.3624 345.319 69.5568 348.004 Q72.7513 350.689 72.7513 355.18 Q72.7513 357.309 71.9411 359.231 Q71.1541 361.129 69.0476 363.721 Q68.4689 364.393 65.367 367.61 Q62.2652 370.805 56.6171 376.569 Z\" fill=\"#000000\" fill-rule=\"nonzero\" fill-opacity=\"1\" /><path clip-path=\"url(#clip930)\" d=\"M92.7512 349.022 Q89.1401 349.022 87.3114 352.587 Q85.5058 356.129 85.5058 363.259 Q85.5058 370.365 87.3114 373.93 Q89.1401 377.471 92.7512 377.471 Q96.3854 377.471 98.1909 373.93 Q100.02 370.365 100.02 363.259 Q100.02 356.129 98.1909 352.587 Q96.3854 349.022 92.7512 349.022 M92.7512 345.319 Q98.5613 345.319 101.617 349.925 Q104.696 354.509 104.696 363.259 Q104.696 371.985 101.617 376.592 Q98.5613 381.175 92.7512 381.175 Q86.941 381.175 83.8623 376.592 Q80.8068 371.985 80.8068 363.259 Q80.8068 354.509 83.8623 349.925 Q86.941 345.319 92.7512 345.319 Z\" fill=\"#000000\" fill-rule=\"nonzero\" fill-opacity=\"1\" /><path clip-path=\"url(#clip930)\" d=\"M57.6125 105.946 L73.9318 105.946 L73.9318 109.881 L51.9875 109.881 L51.9875 105.946 Q54.6495 103.191 59.2328 98.5615 Q63.8393 93.9087 65.0198 92.5661 Q67.2652 90.043 68.1448 88.3069 Q69.0476 86.5476 69.0476 84.8578 Q69.0476 82.1032 67.1032 80.3671 Q65.1819 78.631 62.08 78.631 Q59.881 78.631 57.4273 79.3949 Q54.9967 80.1588 52.219 81.7097 L52.219 76.9875 Q55.043 75.8532 57.4967 75.2745 Q59.9504 74.6958 61.9874 74.6958 Q67.3578 74.6958 70.5522 77.381 Q73.7466 80.0662 73.7466 84.5569 Q73.7466 86.6865 72.9365 88.6078 Q72.1494 90.5059 70.0429 93.0985 Q69.4642 93.7698 66.3624 96.9874 Q63.2606 100.182 57.6125 105.946 Z\" fill=\"#000000\" fill-rule=\"nonzero\" fill-opacity=\"1\" /><path clip-path=\"url(#clip930)\" d=\"M83.7929 75.3208 L102.149 75.3208 L102.149 79.256 L88.0753 79.256 L88.0753 87.7282 Q89.0938 87.381 90.1123 87.2189 Q91.1308 87.0337 92.1493 87.0337 Q97.9363 87.0337 101.316 90.205 Q104.696 93.3763 104.696 98.7929 Q104.696 104.372 101.223 107.473 Q97.7511 110.552 91.4317 110.552 Q89.2558 110.552 86.9873 110.182 Q84.7419 109.811 82.3346 109.071 L82.3346 104.372 Q84.4179 105.506 86.6401 106.061 Q88.8623 106.617 91.3391 106.617 Q95.3437 106.617 97.6817 104.511 Q100.02 102.404 100.02 98.7929 Q100.02 95.1818 97.6817 93.0754 Q95.3437 90.9689 91.3391 90.9689 Q89.4641 90.9689 87.5892 91.3856 Q85.7373 91.8022 83.7929 92.6819 L83.7929 75.3208 Z\" fill=\"#000000\" fill-rule=\"nonzero\" fill-opacity=\"1\" /><circle clip-path=\"url(#clip932)\" cx=\"203.301\" cy=\"1445.72\" r=\"14.4\" fill=\"#009af9\" fill-rule=\"evenodd\" fill-opacity=\"1\" stroke=\"#000000\" stroke-opacity=\"1\" stroke-width=\"3.2\"/>\n",
       "<circle clip-path=\"url(#clip932)\" cx=\"875.47\" cy=\"1445.49\" r=\"14.4\" fill=\"#009af9\" fill-rule=\"evenodd\" fill-opacity=\"1\" stroke=\"#000000\" stroke-opacity=\"1\" stroke-width=\"3.2\"/>\n",
       "<circle clip-path=\"url(#clip932)\" cx=\"909.759\" cy=\"1445.43\" r=\"14.4\" fill=\"#009af9\" fill-rule=\"evenodd\" fill-opacity=\"1\" stroke=\"#000000\" stroke-opacity=\"1\" stroke-width=\"3.2\"/>\n",
       "<circle clip-path=\"url(#clip932)\" cx=\"909.128\" cy=\"1445.4\" r=\"14.4\" fill=\"#009af9\" fill-rule=\"evenodd\" fill-opacity=\"1\" stroke=\"#000000\" stroke-opacity=\"1\" stroke-width=\"3.2\"/>\n",
       "<circle clip-path=\"url(#clip932)\" cx=\"907.351\" cy=\"1445.39\" r=\"14.4\" fill=\"#009af9\" fill-rule=\"evenodd\" fill-opacity=\"1\" stroke=\"#000000\" stroke-opacity=\"1\" stroke-width=\"3.2\"/>\n",
       "<circle clip-path=\"url(#clip932)\" cx=\"904.228\" cy=\"1445.38\" r=\"14.4\" fill=\"#009af9\" fill-rule=\"evenodd\" fill-opacity=\"1\" stroke=\"#000000\" stroke-opacity=\"1\" stroke-width=\"3.2\"/>\n",
       "<circle clip-path=\"url(#clip932)\" cx=\"203.301\" cy=\"1445.72\" r=\"14.4\" fill=\"#009af9\" fill-rule=\"evenodd\" fill-opacity=\"1\" stroke=\"#000000\" stroke-opacity=\"1\" stroke-width=\"3.2\"/>\n",
       "<circle clip-path=\"url(#clip932)\" cx=\"875.47\" cy=\"1445.49\" r=\"14.4\" fill=\"#009af9\" fill-rule=\"evenodd\" fill-opacity=\"1\" stroke=\"#000000\" stroke-opacity=\"1\" stroke-width=\"3.2\"/>\n",
       "<circle clip-path=\"url(#clip932)\" cx=\"909.759\" cy=\"1445.43\" r=\"14.4\" fill=\"#009af9\" fill-rule=\"evenodd\" fill-opacity=\"1\" stroke=\"#000000\" stroke-opacity=\"1\" stroke-width=\"3.2\"/>\n",
       "<circle clip-path=\"url(#clip932)\" cx=\"909.128\" cy=\"1445.4\" r=\"14.4\" fill=\"#009af9\" fill-rule=\"evenodd\" fill-opacity=\"1\" stroke=\"#000000\" stroke-opacity=\"1\" stroke-width=\"3.2\"/>\n",
       "<circle clip-path=\"url(#clip932)\" cx=\"907.351\" cy=\"1445.39\" r=\"14.4\" fill=\"#009af9\" fill-rule=\"evenodd\" fill-opacity=\"1\" stroke=\"#000000\" stroke-opacity=\"1\" stroke-width=\"3.2\"/>\n",
       "<circle clip-path=\"url(#clip932)\" cx=\"904.228\" cy=\"1445.38\" r=\"14.4\" fill=\"#009af9\" fill-rule=\"evenodd\" fill-opacity=\"1\" stroke=\"#000000\" stroke-opacity=\"1\" stroke-width=\"3.2\"/>\n",
       "<circle clip-path=\"url(#clip932)\" cx=\"203.301\" cy=\"1445.72\" r=\"14.4\" fill=\"#009af9\" fill-rule=\"evenodd\" fill-opacity=\"1\" stroke=\"#000000\" stroke-opacity=\"1\" stroke-width=\"3.2\"/>\n",
       "<circle clip-path=\"url(#clip932)\" cx=\"1312.59\" cy=\"1426.4\" r=\"14.4\" fill=\"#009af9\" fill-rule=\"evenodd\" fill-opacity=\"1\" stroke=\"#000000\" stroke-opacity=\"1\" stroke-width=\"3.2\"/>\n",
       "<circle clip-path=\"url(#clip932)\" cx=\"1355.16\" cy=\"1420.89\" r=\"14.4\" fill=\"#009af9\" fill-rule=\"evenodd\" fill-opacity=\"1\" stroke=\"#000000\" stroke-opacity=\"1\" stroke-width=\"3.2\"/>\n",
       "<circle clip-path=\"url(#clip932)\" cx=\"1379.77\" cy=\"1417.01\" r=\"14.4\" fill=\"#009af9\" fill-rule=\"evenodd\" fill-opacity=\"1\" stroke=\"#000000\" stroke-opacity=\"1\" stroke-width=\"3.2\"/>\n",
       "<circle clip-path=\"url(#clip932)\" cx=\"1399.88\" cy=\"1416.22\" r=\"14.4\" fill=\"#009af9\" fill-rule=\"evenodd\" fill-opacity=\"1\" stroke=\"#000000\" stroke-opacity=\"1\" stroke-width=\"3.2\"/>\n",
       "<circle clip-path=\"url(#clip932)\" cx=\"1421.92\" cy=\"1416.92\" r=\"14.4\" fill=\"#009af9\" fill-rule=\"evenodd\" fill-opacity=\"1\" stroke=\"#000000\" stroke-opacity=\"1\" stroke-width=\"3.2\"/>\n",
       "<circle clip-path=\"url(#clip932)\" cx=\"203.301\" cy=\"1445.72\" r=\"14.4\" fill=\"#009af9\" fill-rule=\"evenodd\" fill-opacity=\"1\" stroke=\"#000000\" stroke-opacity=\"1\" stroke-width=\"3.2\"/>\n",
       "<circle clip-path=\"url(#clip932)\" cx=\"1099.45\" cy=\"1443.66\" r=\"14.4\" fill=\"#009af9\" fill-rule=\"evenodd\" fill-opacity=\"1\" stroke=\"#000000\" stroke-opacity=\"1\" stroke-width=\"3.2\"/>\n",
       "<circle clip-path=\"url(#clip932)\" cx=\"875.566\" cy=\"1428.63\" r=\"14.4\" fill=\"#009af9\" fill-rule=\"evenodd\" fill-opacity=\"1\" stroke=\"#000000\" stroke-opacity=\"1\" stroke-width=\"3.2\"/>\n",
       "<circle clip-path=\"url(#clip932)\" cx=\"900.438\" cy=\"1419.33\" r=\"14.4\" fill=\"#009af9\" fill-rule=\"evenodd\" fill-opacity=\"1\" stroke=\"#000000\" stroke-opacity=\"1\" stroke-width=\"3.2\"/>\n",
       "<circle clip-path=\"url(#clip932)\" cx=\"957.179\" cy=\"1424.45\" r=\"14.4\" fill=\"#009af9\" fill-rule=\"evenodd\" fill-opacity=\"1\" stroke=\"#000000\" stroke-opacity=\"1\" stroke-width=\"3.2\"/>\n",
       "<circle clip-path=\"url(#clip932)\" cx=\"1106.3\" cy=\"1438.02\" r=\"14.4\" fill=\"#009af9\" fill-rule=\"evenodd\" fill-opacity=\"1\" stroke=\"#000000\" stroke-opacity=\"1\" stroke-width=\"3.2\"/>\n",
       "<circle clip-path=\"url(#clip932)\" cx=\"203.301\" cy=\"1445.72\" r=\"14.4\" fill=\"#009af9\" fill-rule=\"evenodd\" fill-opacity=\"1\" stroke=\"#000000\" stroke-opacity=\"1\" stroke-width=\"3.2\"/>\n",
       "<circle clip-path=\"url(#clip932)\" cx=\"1215.16\" cy=\"1391.08\" r=\"14.4\" fill=\"#009af9\" fill-rule=\"evenodd\" fill-opacity=\"1\" stroke=\"#000000\" stroke-opacity=\"1\" stroke-width=\"3.2\"/>\n",
       "<circle clip-path=\"url(#clip932)\" cx=\"1241.71\" cy=\"1365.18\" r=\"14.4\" fill=\"#009af9\" fill-rule=\"evenodd\" fill-opacity=\"1\" stroke=\"#000000\" stroke-opacity=\"1\" stroke-width=\"3.2\"/>\n",
       "<circle clip-path=\"url(#clip932)\" cx=\"1276.83\" cy=\"1351.03\" r=\"14.4\" fill=\"#009af9\" fill-rule=\"evenodd\" fill-opacity=\"1\" stroke=\"#000000\" stroke-opacity=\"1\" stroke-width=\"3.2\"/>\n",
       "<circle clip-path=\"url(#clip932)\" cx=\"1306.75\" cy=\"1342.64\" r=\"14.4\" fill=\"#009af9\" fill-rule=\"evenodd\" fill-opacity=\"1\" stroke=\"#000000\" stroke-opacity=\"1\" stroke-width=\"3.2\"/>\n",
       "<circle clip-path=\"url(#clip932)\" cx=\"1350.98\" cy=\"1337.91\" r=\"14.4\" fill=\"#009af9\" fill-rule=\"evenodd\" fill-opacity=\"1\" stroke=\"#000000\" stroke-opacity=\"1\" stroke-width=\"3.2\"/>\n",
       "<circle clip-path=\"url(#clip932)\" cx=\"203.301\" cy=\"1445.72\" r=\"14.4\" fill=\"#009af9\" fill-rule=\"evenodd\" fill-opacity=\"1\" stroke=\"#000000\" stroke-opacity=\"1\" stroke-width=\"3.2\"/>\n",
       "<circle clip-path=\"url(#clip932)\" cx=\"1599.66\" cy=\"1381.81\" r=\"14.4\" fill=\"#009af9\" fill-rule=\"evenodd\" fill-opacity=\"1\" stroke=\"#000000\" stroke-opacity=\"1\" stroke-width=\"3.2\"/>\n",
       "<circle clip-path=\"url(#clip932)\" cx=\"2111.09\" cy=\"1399.55\" r=\"14.4\" fill=\"#009af9\" fill-rule=\"evenodd\" fill-opacity=\"1\" stroke=\"#000000\" stroke-opacity=\"1\" stroke-width=\"3.2\"/>\n",
       "<circle clip-path=\"url(#clip932)\" cx=\"2259.61\" cy=\"1430.55\" r=\"14.4\" fill=\"#009af9\" fill-rule=\"evenodd\" fill-opacity=\"1\" stroke=\"#000000\" stroke-opacity=\"1\" stroke-width=\"3.2\"/>\n",
       "<circle clip-path=\"url(#clip932)\" cx=\"2290.15\" cy=\"1441.73\" r=\"14.4\" fill=\"#009af9\" fill-rule=\"evenodd\" fill-opacity=\"1\" stroke=\"#000000\" stroke-opacity=\"1\" stroke-width=\"3.2\"/>\n",
       "<circle clip-path=\"url(#clip932)\" cx=\"2145.76\" cy=\"1445.58\" r=\"14.4\" fill=\"#009af9\" fill-rule=\"evenodd\" fill-opacity=\"1\" stroke=\"#000000\" stroke-opacity=\"1\" stroke-width=\"3.2\"/>\n",
       "<circle clip-path=\"url(#clip932)\" cx=\"203.301\" cy=\"1445.72\" r=\"14.4\" fill=\"#009af9\" fill-rule=\"evenodd\" fill-opacity=\"1\" stroke=\"#000000\" stroke-opacity=\"1\" stroke-width=\"3.2\"/>\n",
       "<circle clip-path=\"url(#clip932)\" cx=\"1327.38\" cy=\"1418.65\" r=\"14.4\" fill=\"#009af9\" fill-rule=\"evenodd\" fill-opacity=\"1\" stroke=\"#000000\" stroke-opacity=\"1\" stroke-width=\"3.2\"/>\n",
       "<circle clip-path=\"url(#clip932)\" cx=\"1591.53\" cy=\"1442.44\" r=\"14.4\" fill=\"#009af9\" fill-rule=\"evenodd\" fill-opacity=\"1\" stroke=\"#000000\" stroke-opacity=\"1\" stroke-width=\"3.2\"/>\n",
       "<circle clip-path=\"url(#clip932)\" cx=\"1487.24\" cy=\"1435.96\" r=\"14.4\" fill=\"#009af9\" fill-rule=\"evenodd\" fill-opacity=\"1\" stroke=\"#000000\" stroke-opacity=\"1\" stroke-width=\"3.2\"/>\n",
       "<circle clip-path=\"url(#clip932)\" cx=\"1299.83\" cy=\"1440.41\" r=\"14.4\" fill=\"#009af9\" fill-rule=\"evenodd\" fill-opacity=\"1\" stroke=\"#000000\" stroke-opacity=\"1\" stroke-width=\"3.2\"/>\n",
       "<circle clip-path=\"url(#clip932)\" cx=\"945.469\" cy=\"1444.59\" r=\"14.4\" fill=\"#009af9\" fill-rule=\"evenodd\" fill-opacity=\"1\" stroke=\"#000000\" stroke-opacity=\"1\" stroke-width=\"3.2\"/>\n",
       "<circle clip-path=\"url(#clip932)\" cx=\"203.301\" cy=\"1445.72\" r=\"14.4\" fill=\"#009af9\" fill-rule=\"evenodd\" fill-opacity=\"1\" stroke=\"#000000\" stroke-opacity=\"1\" stroke-width=\"3.2\"/>\n",
       "<circle clip-path=\"url(#clip932)\" cx=\"578.108\" cy=\"1189.97\" r=\"14.4\" fill=\"#009af9\" fill-rule=\"evenodd\" fill-opacity=\"1\" stroke=\"#000000\" stroke-opacity=\"1\" stroke-width=\"3.2\"/>\n",
       "<circle clip-path=\"url(#clip932)\" cx=\"603.78\" cy=\"1297.27\" r=\"14.4\" fill=\"#009af9\" fill-rule=\"evenodd\" fill-opacity=\"1\" stroke=\"#000000\" stroke-opacity=\"1\" stroke-width=\"3.2\"/>\n",
       "<circle clip-path=\"url(#clip932)\" cx=\"627.185\" cy=\"1354.07\" r=\"14.4\" fill=\"#009af9\" fill-rule=\"evenodd\" fill-opacity=\"1\" stroke=\"#000000\" stroke-opacity=\"1\" stroke-width=\"3.2\"/>\n",
       "<circle clip-path=\"url(#clip932)\" cx=\"638.433\" cy=\"1384.1\" r=\"14.4\" fill=\"#009af9\" fill-rule=\"evenodd\" fill-opacity=\"1\" stroke=\"#000000\" stroke-opacity=\"1\" stroke-width=\"3.2\"/>\n",
       "<circle clip-path=\"url(#clip932)\" cx=\"636.132\" cy=\"1416.95\" r=\"14.4\" fill=\"#009af9\" fill-rule=\"evenodd\" fill-opacity=\"1\" stroke=\"#000000\" stroke-opacity=\"1\" stroke-width=\"3.2\"/>\n",
       "<circle clip-path=\"url(#clip932)\" cx=\"203.301\" cy=\"1445.72\" r=\"14.4\" fill=\"#009af9\" fill-rule=\"evenodd\" fill-opacity=\"1\" stroke=\"#000000\" stroke-opacity=\"1\" stroke-width=\"3.2\"/>\n",
       "<circle clip-path=\"url(#clip932)\" cx=\"1967.09\" cy=\"1439.45\" r=\"14.4\" fill=\"#009af9\" fill-rule=\"evenodd\" fill-opacity=\"1\" stroke=\"#000000\" stroke-opacity=\"1\" stroke-width=\"3.2\"/>\n",
       "<circle clip-path=\"url(#clip932)\" cx=\"1479.3\" cy=\"1435.03\" r=\"14.4\" fill=\"#009af9\" fill-rule=\"evenodd\" fill-opacity=\"1\" stroke=\"#000000\" stroke-opacity=\"1\" stroke-width=\"3.2\"/>\n",
       "<circle clip-path=\"url(#clip932)\" cx=\"1311.35\" cy=\"1430.72\" r=\"14.4\" fill=\"#009af9\" fill-rule=\"evenodd\" fill-opacity=\"1\" stroke=\"#000000\" stroke-opacity=\"1\" stroke-width=\"3.2\"/>\n",
       "<circle clip-path=\"url(#clip932)\" cx=\"1267.06\" cy=\"1428.27\" r=\"14.4\" fill=\"#009af9\" fill-rule=\"evenodd\" fill-opacity=\"1\" stroke=\"#000000\" stroke-opacity=\"1\" stroke-width=\"3.2\"/>\n",
       "<circle clip-path=\"url(#clip932)\" cx=\"1240.46\" cy=\"1425.6\" r=\"14.4\" fill=\"#009af9\" fill-rule=\"evenodd\" fill-opacity=\"1\" stroke=\"#000000\" stroke-opacity=\"1\" stroke-width=\"3.2\"/>\n",
       "<circle clip-path=\"url(#clip932)\" cx=\"203.301\" cy=\"1445.72\" r=\"14.4\" fill=\"#009af9\" fill-rule=\"evenodd\" fill-opacity=\"1\" stroke=\"#000000\" stroke-opacity=\"1\" stroke-width=\"3.2\"/>\n",
       "<circle clip-path=\"url(#clip932)\" cx=\"1601.48\" cy=\"1434.77\" r=\"14.4\" fill=\"#009af9\" fill-rule=\"evenodd\" fill-opacity=\"1\" stroke=\"#000000\" stroke-opacity=\"1\" stroke-width=\"3.2\"/>\n",
       "<circle clip-path=\"url(#clip932)\" cx=\"1580.4\" cy=\"1439.94\" r=\"14.4\" fill=\"#009af9\" fill-rule=\"evenodd\" fill-opacity=\"1\" stroke=\"#000000\" stroke-opacity=\"1\" stroke-width=\"3.2\"/>\n",
       "<circle clip-path=\"url(#clip932)\" cx=\"1574.02\" cy=\"1443.87\" r=\"14.4\" fill=\"#009af9\" fill-rule=\"evenodd\" fill-opacity=\"1\" stroke=\"#000000\" stroke-opacity=\"1\" stroke-width=\"3.2\"/>\n",
       "<circle clip-path=\"url(#clip932)\" cx=\"1565.9\" cy=\"1444.95\" r=\"14.4\" fill=\"#009af9\" fill-rule=\"evenodd\" fill-opacity=\"1\" stroke=\"#000000\" stroke-opacity=\"1\" stroke-width=\"3.2\"/>\n",
       "<circle clip-path=\"url(#clip932)\" cx=\"1554.62\" cy=\"1445.4\" r=\"14.4\" fill=\"#009af9\" fill-rule=\"evenodd\" fill-opacity=\"1\" stroke=\"#000000\" stroke-opacity=\"1\" stroke-width=\"3.2\"/>\n",
       "<circle clip-path=\"url(#clip932)\" cx=\"203.301\" cy=\"1445.72\" r=\"14.4\" fill=\"#009af9\" fill-rule=\"evenodd\" fill-opacity=\"1\" stroke=\"#000000\" stroke-opacity=\"1\" stroke-width=\"3.2\"/>\n",
       "<circle clip-path=\"url(#clip932)\" cx=\"2088.93\" cy=\"1369.66\" r=\"14.4\" fill=\"#009af9\" fill-rule=\"evenodd\" fill-opacity=\"1\" stroke=\"#000000\" stroke-opacity=\"1\" stroke-width=\"3.2\"/>\n",
       "<circle clip-path=\"url(#clip932)\" cx=\"1619.91\" cy=\"1393.81\" r=\"14.4\" fill=\"#009af9\" fill-rule=\"evenodd\" fill-opacity=\"1\" stroke=\"#000000\" stroke-opacity=\"1\" stroke-width=\"3.2\"/>\n",
       "<circle clip-path=\"url(#clip932)\" cx=\"1269.36\" cy=\"1421.06\" r=\"14.4\" fill=\"#009af9\" fill-rule=\"evenodd\" fill-opacity=\"1\" stroke=\"#000000\" stroke-opacity=\"1\" stroke-width=\"3.2\"/>\n",
       "<circle clip-path=\"url(#clip932)\" cx=\"1171.53\" cy=\"1428.63\" r=\"14.4\" fill=\"#009af9\" fill-rule=\"evenodd\" fill-opacity=\"1\" stroke=\"#000000\" stroke-opacity=\"1\" stroke-width=\"3.2\"/>\n",
       "<circle clip-path=\"url(#clip932)\" cx=\"1167.72\" cy=\"1430.83\" r=\"14.4\" fill=\"#009af9\" fill-rule=\"evenodd\" fill-opacity=\"1\" stroke=\"#000000\" stroke-opacity=\"1\" stroke-width=\"3.2\"/>\n",
       "<circle clip-path=\"url(#clip932)\" cx=\"203.301\" cy=\"1445.72\" r=\"14.4\" fill=\"#009af9\" fill-rule=\"evenodd\" fill-opacity=\"1\" stroke=\"#000000\" stroke-opacity=\"1\" stroke-width=\"3.2\"/>\n",
       "<circle clip-path=\"url(#clip932)\" cx=\"1661.98\" cy=\"1443.45\" r=\"14.4\" fill=\"#009af9\" fill-rule=\"evenodd\" fill-opacity=\"1\" stroke=\"#000000\" stroke-opacity=\"1\" stroke-width=\"3.2\"/>\n",
       "<circle clip-path=\"url(#clip932)\" cx=\"1596.7\" cy=\"1442.49\" r=\"14.4\" fill=\"#009af9\" fill-rule=\"evenodd\" fill-opacity=\"1\" stroke=\"#000000\" stroke-opacity=\"1\" stroke-width=\"3.2\"/>\n",
       "<circle clip-path=\"url(#clip932)\" cx=\"1605.35\" cy=\"1442.58\" r=\"14.4\" fill=\"#009af9\" fill-rule=\"evenodd\" fill-opacity=\"1\" stroke=\"#000000\" stroke-opacity=\"1\" stroke-width=\"3.2\"/>\n",
       "<circle clip-path=\"url(#clip932)\" cx=\"1608.15\" cy=\"1443.36\" r=\"14.4\" fill=\"#009af9\" fill-rule=\"evenodd\" fill-opacity=\"1\" stroke=\"#000000\" stroke-opacity=\"1\" stroke-width=\"3.2\"/>\n",
       "<circle clip-path=\"url(#clip932)\" cx=\"1655.56\" cy=\"1443.99\" r=\"14.4\" fill=\"#009af9\" fill-rule=\"evenodd\" fill-opacity=\"1\" stroke=\"#000000\" stroke-opacity=\"1\" stroke-width=\"3.2\"/>\n",
       "<circle clip-path=\"url(#clip932)\" cx=\"203.301\" cy=\"1445.72\" r=\"14.4\" fill=\"#009af9\" fill-rule=\"evenodd\" fill-opacity=\"1\" stroke=\"#000000\" stroke-opacity=\"1\" stroke-width=\"3.2\"/>\n",
       "<circle clip-path=\"url(#clip932)\" cx=\"1883.56\" cy=\"1385.74\" r=\"14.4\" fill=\"#009af9\" fill-rule=\"evenodd\" fill-opacity=\"1\" stroke=\"#000000\" stroke-opacity=\"1\" stroke-width=\"3.2\"/>\n",
       "<circle clip-path=\"url(#clip932)\" cx=\"1658.21\" cy=\"1408.7\" r=\"14.4\" fill=\"#009af9\" fill-rule=\"evenodd\" fill-opacity=\"1\" stroke=\"#000000\" stroke-opacity=\"1\" stroke-width=\"3.2\"/>\n",
       "<circle clip-path=\"url(#clip932)\" cx=\"1613.13\" cy=\"1423.91\" r=\"14.4\" fill=\"#009af9\" fill-rule=\"evenodd\" fill-opacity=\"1\" stroke=\"#000000\" stroke-opacity=\"1\" stroke-width=\"3.2\"/>\n",
       "<circle clip-path=\"url(#clip932)\" cx=\"1606.71\" cy=\"1430.77\" r=\"14.4\" fill=\"#009af9\" fill-rule=\"evenodd\" fill-opacity=\"1\" stroke=\"#000000\" stroke-opacity=\"1\" stroke-width=\"3.2\"/>\n",
       "<circle clip-path=\"url(#clip932)\" cx=\"1609.78\" cy=\"1435.63\" r=\"14.4\" fill=\"#009af9\" fill-rule=\"evenodd\" fill-opacity=\"1\" stroke=\"#000000\" stroke-opacity=\"1\" stroke-width=\"3.2\"/>\n",
       "<circle clip-path=\"url(#clip932)\" cx=\"203.301\" cy=\"1445.72\" r=\"14.4\" fill=\"#009af9\" fill-rule=\"evenodd\" fill-opacity=\"1\" stroke=\"#000000\" stroke-opacity=\"1\" stroke-width=\"3.2\"/>\n",
       "<circle clip-path=\"url(#clip932)\" cx=\"1178.77\" cy=\"1367.43\" r=\"14.4\" fill=\"#009af9\" fill-rule=\"evenodd\" fill-opacity=\"1\" stroke=\"#000000\" stroke-opacity=\"1\" stroke-width=\"3.2\"/>\n",
       "<circle clip-path=\"url(#clip932)\" cx=\"1215.59\" cy=\"1373.43\" r=\"14.4\" fill=\"#009af9\" fill-rule=\"evenodd\" fill-opacity=\"1\" stroke=\"#000000\" stroke-opacity=\"1\" stroke-width=\"3.2\"/>\n",
       "<circle clip-path=\"url(#clip932)\" cx=\"1188.66\" cy=\"1391.02\" r=\"14.4\" fill=\"#009af9\" fill-rule=\"evenodd\" fill-opacity=\"1\" stroke=\"#000000\" stroke-opacity=\"1\" stroke-width=\"3.2\"/>\n",
       "<circle clip-path=\"url(#clip932)\" cx=\"1165.19\" cy=\"1396.63\" r=\"14.4\" fill=\"#009af9\" fill-rule=\"evenodd\" fill-opacity=\"1\" stroke=\"#000000\" stroke-opacity=\"1\" stroke-width=\"3.2\"/>\n",
       "<circle clip-path=\"url(#clip932)\" cx=\"1111.26\" cy=\"1391.52\" r=\"14.4\" fill=\"#009af9\" fill-rule=\"evenodd\" fill-opacity=\"1\" stroke=\"#000000\" stroke-opacity=\"1\" stroke-width=\"3.2\"/>\n",
       "<circle clip-path=\"url(#clip932)\" cx=\"203.301\" cy=\"1445.72\" r=\"14.4\" fill=\"#009af9\" fill-rule=\"evenodd\" fill-opacity=\"1\" stroke=\"#000000\" stroke-opacity=\"1\" stroke-width=\"3.2\"/>\n",
       "<circle clip-path=\"url(#clip932)\" cx=\"830.935\" cy=\"87.9763\" r=\"14.4\" fill=\"#009af9\" fill-rule=\"evenodd\" fill-opacity=\"1\" stroke=\"#000000\" stroke-opacity=\"1\" stroke-width=\"3.2\"/>\n",
       "<circle clip-path=\"url(#clip932)\" cx=\"870.975\" cy=\"793.937\" r=\"14.4\" fill=\"#009af9\" fill-rule=\"evenodd\" fill-opacity=\"1\" stroke=\"#000000\" stroke-opacity=\"1\" stroke-width=\"3.2\"/>\n",
       "<circle clip-path=\"url(#clip932)\" cx=\"864.792\" cy=\"1245.39\" r=\"14.4\" fill=\"#009af9\" fill-rule=\"evenodd\" fill-opacity=\"1\" stroke=\"#000000\" stroke-opacity=\"1\" stroke-width=\"3.2\"/>\n",
       "<circle clip-path=\"url(#clip932)\" cx=\"815.073\" cy=\"1330.86\" r=\"14.4\" fill=\"#009af9\" fill-rule=\"evenodd\" fill-opacity=\"1\" stroke=\"#000000\" stroke-opacity=\"1\" stroke-width=\"3.2\"/>\n",
       "<circle clip-path=\"url(#clip932)\" cx=\"676.279\" cy=\"1389.15\" r=\"14.4\" fill=\"#009af9\" fill-rule=\"evenodd\" fill-opacity=\"1\" stroke=\"#000000\" stroke-opacity=\"1\" stroke-width=\"3.2\"/>\n",
       "<circle clip-path=\"url(#clip932)\" cx=\"203.301\" cy=\"1445.72\" r=\"14.4\" fill=\"#009af9\" fill-rule=\"evenodd\" fill-opacity=\"1\" stroke=\"#000000\" stroke-opacity=\"1\" stroke-width=\"3.2\"/>\n",
       "<circle clip-path=\"url(#clip932)\" cx=\"581.078\" cy=\"1391.4\" r=\"14.4\" fill=\"#009af9\" fill-rule=\"evenodd\" fill-opacity=\"1\" stroke=\"#000000\" stroke-opacity=\"1\" stroke-width=\"3.2\"/>\n",
       "<circle clip-path=\"url(#clip932)\" cx=\"647.029\" cy=\"1389.83\" r=\"14.4\" fill=\"#009af9\" fill-rule=\"evenodd\" fill-opacity=\"1\" stroke=\"#000000\" stroke-opacity=\"1\" stroke-width=\"3.2\"/>\n",
       "<circle clip-path=\"url(#clip932)\" cx=\"681.32\" cy=\"1419.07\" r=\"14.4\" fill=\"#009af9\" fill-rule=\"evenodd\" fill-opacity=\"1\" stroke=\"#000000\" stroke-opacity=\"1\" stroke-width=\"3.2\"/>\n",
       "<circle clip-path=\"url(#clip932)\" cx=\"687.594\" cy=\"1433.89\" r=\"14.4\" fill=\"#009af9\" fill-rule=\"evenodd\" fill-opacity=\"1\" stroke=\"#000000\" stroke-opacity=\"1\" stroke-width=\"3.2\"/>\n",
       "<circle clip-path=\"url(#clip932)\" cx=\"659.599\" cy=\"1431.91\" r=\"14.4\" fill=\"#009af9\" fill-rule=\"evenodd\" fill-opacity=\"1\" stroke=\"#000000\" stroke-opacity=\"1\" stroke-width=\"3.2\"/>\n",
       "<circle clip-path=\"url(#clip932)\" cx=\"203.301\" cy=\"1445.72\" r=\"14.4\" fill=\"#009af9\" fill-rule=\"evenodd\" fill-opacity=\"1\" stroke=\"#000000\" stroke-opacity=\"1\" stroke-width=\"3.2\"/>\n",
       "<circle clip-path=\"url(#clip932)\" cx=\"990.562\" cy=\"1299.29\" r=\"14.4\" fill=\"#009af9\" fill-rule=\"evenodd\" fill-opacity=\"1\" stroke=\"#000000\" stroke-opacity=\"1\" stroke-width=\"3.2\"/>\n",
       "<circle clip-path=\"url(#clip932)\" cx=\"888.273\" cy=\"1323.41\" r=\"14.4\" fill=\"#009af9\" fill-rule=\"evenodd\" fill-opacity=\"1\" stroke=\"#000000\" stroke-opacity=\"1\" stroke-width=\"3.2\"/>\n",
       "<circle clip-path=\"url(#clip932)\" cx=\"899.379\" cy=\"1402.2\" r=\"14.4\" fill=\"#009af9\" fill-rule=\"evenodd\" fill-opacity=\"1\" stroke=\"#000000\" stroke-opacity=\"1\" stroke-width=\"3.2\"/>\n",
       "<circle clip-path=\"url(#clip932)\" cx=\"938.226\" cy=\"1435.08\" r=\"14.4\" fill=\"#009af9\" fill-rule=\"evenodd\" fill-opacity=\"1\" stroke=\"#000000\" stroke-opacity=\"1\" stroke-width=\"3.2\"/>\n",
       "<circle clip-path=\"url(#clip932)\" cx=\"1077.73\" cy=\"1445.25\" r=\"14.4\" fill=\"#009af9\" fill-rule=\"evenodd\" fill-opacity=\"1\" stroke=\"#000000\" stroke-opacity=\"1\" stroke-width=\"3.2\"/>\n",
       "<circle clip-path=\"url(#clip932)\" cx=\"203.301\" cy=\"1445.72\" r=\"14.4\" fill=\"#009af9\" fill-rule=\"evenodd\" fill-opacity=\"1\" stroke=\"#000000\" stroke-opacity=\"1\" stroke-width=\"3.2\"/>\n",
       "<circle clip-path=\"url(#clip932)\" cx=\"1520.45\" cy=\"1418.89\" r=\"14.4\" fill=\"#009af9\" fill-rule=\"evenodd\" fill-opacity=\"1\" stroke=\"#000000\" stroke-opacity=\"1\" stroke-width=\"3.2\"/>\n",
       "<circle clip-path=\"url(#clip932)\" cx=\"1584.53\" cy=\"1437.07\" r=\"14.4\" fill=\"#009af9\" fill-rule=\"evenodd\" fill-opacity=\"1\" stroke=\"#000000\" stroke-opacity=\"1\" stroke-width=\"3.2\"/>\n",
       "<circle clip-path=\"url(#clip932)\" cx=\"1614.09\" cy=\"1438.78\" r=\"14.4\" fill=\"#009af9\" fill-rule=\"evenodd\" fill-opacity=\"1\" stroke=\"#000000\" stroke-opacity=\"1\" stroke-width=\"3.2\"/>\n",
       "<circle clip-path=\"url(#clip932)\" cx=\"1630.22\" cy=\"1429.91\" r=\"14.4\" fill=\"#009af9\" fill-rule=\"evenodd\" fill-opacity=\"1\" stroke=\"#000000\" stroke-opacity=\"1\" stroke-width=\"3.2\"/>\n",
       "<circle clip-path=\"url(#clip932)\" cx=\"1659.76\" cy=\"1423.88\" r=\"14.4\" fill=\"#009af9\" fill-rule=\"evenodd\" fill-opacity=\"1\" stroke=\"#000000\" stroke-opacity=\"1\" stroke-width=\"3.2\"/>\n",
       "<circle clip-path=\"url(#clip932)\" cx=\"203.301\" cy=\"1445.72\" r=\"14.4\" fill=\"#009af9\" fill-rule=\"evenodd\" fill-opacity=\"1\" stroke=\"#000000\" stroke-opacity=\"1\" stroke-width=\"3.2\"/>\n",
       "<circle clip-path=\"url(#clip932)\" cx=\"857.963\" cy=\"1229.74\" r=\"14.4\" fill=\"#009af9\" fill-rule=\"evenodd\" fill-opacity=\"1\" stroke=\"#000000\" stroke-opacity=\"1\" stroke-width=\"3.2\"/>\n",
       "<circle clip-path=\"url(#clip932)\" cx=\"759.113\" cy=\"1264.95\" r=\"14.4\" fill=\"#009af9\" fill-rule=\"evenodd\" fill-opacity=\"1\" stroke=\"#000000\" stroke-opacity=\"1\" stroke-width=\"3.2\"/>\n",
       "<circle clip-path=\"url(#clip932)\" cx=\"781.505\" cy=\"1378.4\" r=\"14.4\" fill=\"#009af9\" fill-rule=\"evenodd\" fill-opacity=\"1\" stroke=\"#000000\" stroke-opacity=\"1\" stroke-width=\"3.2\"/>\n",
       "<circle clip-path=\"url(#clip932)\" cx=\"830.484\" cy=\"1443.16\" r=\"14.4\" fill=\"#009af9\" fill-rule=\"evenodd\" fill-opacity=\"1\" stroke=\"#000000\" stroke-opacity=\"1\" stroke-width=\"3.2\"/>\n",
       "<circle clip-path=\"url(#clip932)\" cx=\"966.124\" cy=\"1431.51\" r=\"14.4\" fill=\"#009af9\" fill-rule=\"evenodd\" fill-opacity=\"1\" stroke=\"#000000\" stroke-opacity=\"1\" stroke-width=\"3.2\"/>\n",
       "<circle clip-path=\"url(#clip932)\" cx=\"203.301\" cy=\"1445.72\" r=\"14.4\" fill=\"#009af9\" fill-rule=\"evenodd\" fill-opacity=\"1\" stroke=\"#000000\" stroke-opacity=\"1\" stroke-width=\"3.2\"/>\n",
       "<circle clip-path=\"url(#clip932)\" cx=\"1142.89\" cy=\"1429.67\" r=\"14.4\" fill=\"#009af9\" fill-rule=\"evenodd\" fill-opacity=\"1\" stroke=\"#000000\" stroke-opacity=\"1\" stroke-width=\"3.2\"/>\n",
       "<circle clip-path=\"url(#clip932)\" cx=\"907.949\" cy=\"1439.05\" r=\"14.4\" fill=\"#009af9\" fill-rule=\"evenodd\" fill-opacity=\"1\" stroke=\"#000000\" stroke-opacity=\"1\" stroke-width=\"3.2\"/>\n",
       "<circle clip-path=\"url(#clip932)\" cx=\"892.335\" cy=\"1442.07\" r=\"14.4\" fill=\"#009af9\" fill-rule=\"evenodd\" fill-opacity=\"1\" stroke=\"#000000\" stroke-opacity=\"1\" stroke-width=\"3.2\"/>\n",
       "<circle clip-path=\"url(#clip932)\" cx=\"908.814\" cy=\"1443.71\" r=\"14.4\" fill=\"#009af9\" fill-rule=\"evenodd\" fill-opacity=\"1\" stroke=\"#000000\" stroke-opacity=\"1\" stroke-width=\"3.2\"/>\n",
       "<circle clip-path=\"url(#clip932)\" cx=\"877.218\" cy=\"1445.42\" r=\"14.4\" fill=\"#009af9\" fill-rule=\"evenodd\" fill-opacity=\"1\" stroke=\"#000000\" stroke-opacity=\"1\" stroke-width=\"3.2\"/>\n",
       "<circle clip-path=\"url(#clip932)\" cx=\"203.301\" cy=\"1445.72\" r=\"14.4\" fill=\"#009af9\" fill-rule=\"evenodd\" fill-opacity=\"1\" stroke=\"#000000\" stroke-opacity=\"1\" stroke-width=\"3.2\"/>\n",
       "<circle clip-path=\"url(#clip932)\" cx=\"1032.02\" cy=\"326.23\" r=\"14.4\" fill=\"#009af9\" fill-rule=\"evenodd\" fill-opacity=\"1\" stroke=\"#000000\" stroke-opacity=\"1\" stroke-width=\"3.2\"/>\n",
       "<circle clip-path=\"url(#clip932)\" cx=\"1104.2\" cy=\"1003.69\" r=\"14.4\" fill=\"#009af9\" fill-rule=\"evenodd\" fill-opacity=\"1\" stroke=\"#000000\" stroke-opacity=\"1\" stroke-width=\"3.2\"/>\n",
       "<circle clip-path=\"url(#clip932)\" cx=\"1221.99\" cy=\"1371.59\" r=\"14.4\" fill=\"#009af9\" fill-rule=\"evenodd\" fill-opacity=\"1\" stroke=\"#000000\" stroke-opacity=\"1\" stroke-width=\"3.2\"/>\n",
       "<circle clip-path=\"url(#clip932)\" cx=\"1342.05\" cy=\"1423.86\" r=\"14.4\" fill=\"#009af9\" fill-rule=\"evenodd\" fill-opacity=\"1\" stroke=\"#000000\" stroke-opacity=\"1\" stroke-width=\"3.2\"/>\n",
       "<circle clip-path=\"url(#clip932)\" cx=\"1641.21\" cy=\"1442.51\" r=\"14.4\" fill=\"#009af9\" fill-rule=\"evenodd\" fill-opacity=\"1\" stroke=\"#000000\" stroke-opacity=\"1\" stroke-width=\"3.2\"/>\n",
       "<circle clip-path=\"url(#clip932)\" cx=\"203.301\" cy=\"1445.72\" r=\"14.4\" fill=\"#009af9\" fill-rule=\"evenodd\" fill-opacity=\"1\" stroke=\"#000000\" stroke-opacity=\"1\" stroke-width=\"3.2\"/>\n",
       "<circle clip-path=\"url(#clip932)\" cx=\"1992.77\" cy=\"1440.47\" r=\"14.4\" fill=\"#009af9\" fill-rule=\"evenodd\" fill-opacity=\"1\" stroke=\"#000000\" stroke-opacity=\"1\" stroke-width=\"3.2\"/>\n",
       "<circle clip-path=\"url(#clip932)\" cx=\"1600.82\" cy=\"1442.1\" r=\"14.4\" fill=\"#009af9\" fill-rule=\"evenodd\" fill-opacity=\"1\" stroke=\"#000000\" stroke-opacity=\"1\" stroke-width=\"3.2\"/>\n",
       "<circle clip-path=\"url(#clip932)\" cx=\"1597.17\" cy=\"1443.78\" r=\"14.4\" fill=\"#009af9\" fill-rule=\"evenodd\" fill-opacity=\"1\" stroke=\"#000000\" stroke-opacity=\"1\" stroke-width=\"3.2\"/>\n",
       "<circle clip-path=\"url(#clip932)\" cx=\"1596.08\" cy=\"1444.6\" r=\"14.4\" fill=\"#009af9\" fill-rule=\"evenodd\" fill-opacity=\"1\" stroke=\"#000000\" stroke-opacity=\"1\" stroke-width=\"3.2\"/>\n",
       "<circle clip-path=\"url(#clip932)\" cx=\"1595.63\" cy=\"1445.69\" r=\"14.4\" fill=\"#009af9\" fill-rule=\"evenodd\" fill-opacity=\"1\" stroke=\"#000000\" stroke-opacity=\"1\" stroke-width=\"3.2\"/>\n",
       "<circle clip-path=\"url(#clip932)\" cx=\"203.301\" cy=\"1445.72\" r=\"14.4\" fill=\"#009af9\" fill-rule=\"evenodd\" fill-opacity=\"1\" stroke=\"#000000\" stroke-opacity=\"1\" stroke-width=\"3.2\"/>\n",
       "<circle clip-path=\"url(#clip932)\" cx=\"1600.52\" cy=\"1434.9\" r=\"14.4\" fill=\"#009af9\" fill-rule=\"evenodd\" fill-opacity=\"1\" stroke=\"#000000\" stroke-opacity=\"1\" stroke-width=\"3.2\"/>\n",
       "<circle clip-path=\"url(#clip932)\" cx=\"1600.82\" cy=\"1442.37\" r=\"14.4\" fill=\"#009af9\" fill-rule=\"evenodd\" fill-opacity=\"1\" stroke=\"#000000\" stroke-opacity=\"1\" stroke-width=\"3.2\"/>\n",
       "<circle clip-path=\"url(#clip932)\" cx=\"1611.37\" cy=\"1445.21\" r=\"14.4\" fill=\"#009af9\" fill-rule=\"evenodd\" fill-opacity=\"1\" stroke=\"#000000\" stroke-opacity=\"1\" stroke-width=\"3.2\"/>\n",
       "<circle clip-path=\"url(#clip932)\" cx=\"1620.21\" cy=\"1443.74\" r=\"14.4\" fill=\"#009af9\" fill-rule=\"evenodd\" fill-opacity=\"1\" stroke=\"#000000\" stroke-opacity=\"1\" stroke-width=\"3.2\"/>\n",
       "<circle clip-path=\"url(#clip932)\" cx=\"1634.62\" cy=\"1443.33\" r=\"14.4\" fill=\"#009af9\" fill-rule=\"evenodd\" fill-opacity=\"1\" stroke=\"#000000\" stroke-opacity=\"1\" stroke-width=\"3.2\"/>\n",
       "<circle clip-path=\"url(#clip932)\" cx=\"203.301\" cy=\"1445.72\" r=\"14.4\" fill=\"#009af9\" fill-rule=\"evenodd\" fill-opacity=\"1\" stroke=\"#000000\" stroke-opacity=\"1\" stroke-width=\"3.2\"/>\n",
       "<circle clip-path=\"url(#clip932)\" cx=\"760.828\" cy=\"1433.81\" r=\"14.4\" fill=\"#009af9\" fill-rule=\"evenodd\" fill-opacity=\"1\" stroke=\"#000000\" stroke-opacity=\"1\" stroke-width=\"3.2\"/>\n",
       "<circle clip-path=\"url(#clip932)\" cx=\"863.45\" cy=\"1440.54\" r=\"14.4\" fill=\"#009af9\" fill-rule=\"evenodd\" fill-opacity=\"1\" stroke=\"#000000\" stroke-opacity=\"1\" stroke-width=\"3.2\"/>\n",
       "<circle clip-path=\"url(#clip932)\" cx=\"891.367\" cy=\"1441.12\" r=\"14.4\" fill=\"#009af9\" fill-rule=\"evenodd\" fill-opacity=\"1\" stroke=\"#000000\" stroke-opacity=\"1\" stroke-width=\"3.2\"/>\n",
       "<circle clip-path=\"url(#clip932)\" cx=\"889.037\" cy=\"1441\" r=\"14.4\" fill=\"#009af9\" fill-rule=\"evenodd\" fill-opacity=\"1\" stroke=\"#000000\" stroke-opacity=\"1\" stroke-width=\"3.2\"/>\n",
       "<circle clip-path=\"url(#clip932)\" cx=\"883.661\" cy=\"1440.8\" r=\"14.4\" fill=\"#009af9\" fill-rule=\"evenodd\" fill-opacity=\"1\" stroke=\"#000000\" stroke-opacity=\"1\" stroke-width=\"3.2\"/>\n",
       "<circle clip-path=\"url(#clip932)\" cx=\"203.301\" cy=\"1445.72\" r=\"14.4\" fill=\"#009af9\" fill-rule=\"evenodd\" fill-opacity=\"1\" stroke=\"#000000\" stroke-opacity=\"1\" stroke-width=\"3.2\"/>\n",
       "<circle clip-path=\"url(#clip932)\" cx=\"760.828\" cy=\"1433.81\" r=\"14.4\" fill=\"#009af9\" fill-rule=\"evenodd\" fill-opacity=\"1\" stroke=\"#000000\" stroke-opacity=\"1\" stroke-width=\"3.2\"/>\n",
       "<circle clip-path=\"url(#clip932)\" cx=\"863.45\" cy=\"1440.54\" r=\"14.4\" fill=\"#009af9\" fill-rule=\"evenodd\" fill-opacity=\"1\" stroke=\"#000000\" stroke-opacity=\"1\" stroke-width=\"3.2\"/>\n",
       "<circle clip-path=\"url(#clip932)\" cx=\"891.367\" cy=\"1441.12\" r=\"14.4\" fill=\"#009af9\" fill-rule=\"evenodd\" fill-opacity=\"1\" stroke=\"#000000\" stroke-opacity=\"1\" stroke-width=\"3.2\"/>\n",
       "<circle clip-path=\"url(#clip932)\" cx=\"889.037\" cy=\"1441\" r=\"14.4\" fill=\"#009af9\" fill-rule=\"evenodd\" fill-opacity=\"1\" stroke=\"#000000\" stroke-opacity=\"1\" stroke-width=\"3.2\"/>\n",
       "<circle clip-path=\"url(#clip932)\" cx=\"883.661\" cy=\"1440.8\" r=\"14.4\" fill=\"#009af9\" fill-rule=\"evenodd\" fill-opacity=\"1\" stroke=\"#000000\" stroke-opacity=\"1\" stroke-width=\"3.2\"/>\n",
       "<circle clip-path=\"url(#clip932)\" cx=\"203.301\" cy=\"1445.72\" r=\"14.4\" fill=\"#009af9\" fill-rule=\"evenodd\" fill-opacity=\"1\" stroke=\"#000000\" stroke-opacity=\"1\" stroke-width=\"3.2\"/>\n",
       "<circle clip-path=\"url(#clip932)\" cx=\"1312.9\" cy=\"1428.07\" r=\"14.4\" fill=\"#009af9\" fill-rule=\"evenodd\" fill-opacity=\"1\" stroke=\"#000000\" stroke-opacity=\"1\" stroke-width=\"3.2\"/>\n",
       "<circle clip-path=\"url(#clip932)\" cx=\"1314.51\" cy=\"1428.82\" r=\"14.4\" fill=\"#009af9\" fill-rule=\"evenodd\" fill-opacity=\"1\" stroke=\"#000000\" stroke-opacity=\"1\" stroke-width=\"3.2\"/>\n",
       "<circle clip-path=\"url(#clip932)\" cx=\"1338.57\" cy=\"1426.65\" r=\"14.4\" fill=\"#009af9\" fill-rule=\"evenodd\" fill-opacity=\"1\" stroke=\"#000000\" stroke-opacity=\"1\" stroke-width=\"3.2\"/>\n",
       "<circle clip-path=\"url(#clip932)\" cx=\"1359.61\" cy=\"1424.7\" r=\"14.4\" fill=\"#009af9\" fill-rule=\"evenodd\" fill-opacity=\"1\" stroke=\"#000000\" stroke-opacity=\"1\" stroke-width=\"3.2\"/>\n",
       "<circle clip-path=\"url(#clip932)\" cx=\"1407.71\" cy=\"1420.41\" r=\"14.4\" fill=\"#009af9\" fill-rule=\"evenodd\" fill-opacity=\"1\" stroke=\"#000000\" stroke-opacity=\"1\" stroke-width=\"3.2\"/>\n",
       "<circle clip-path=\"url(#clip932)\" cx=\"203.301\" cy=\"1445.72\" r=\"14.4\" fill=\"#009af9\" fill-rule=\"evenodd\" fill-opacity=\"1\" stroke=\"#000000\" stroke-opacity=\"1\" stroke-width=\"3.2\"/>\n",
       "<circle clip-path=\"url(#clip932)\" cx=\"1196.92\" cy=\"1436.34\" r=\"14.4\" fill=\"#009af9\" fill-rule=\"evenodd\" fill-opacity=\"1\" stroke=\"#000000\" stroke-opacity=\"1\" stroke-width=\"3.2\"/>\n",
       "<circle clip-path=\"url(#clip932)\" cx=\"858.181\" cy=\"1445.36\" r=\"14.4\" fill=\"#009af9\" fill-rule=\"evenodd\" fill-opacity=\"1\" stroke=\"#000000\" stroke-opacity=\"1\" stroke-width=\"3.2\"/>\n",
       "<circle clip-path=\"url(#clip932)\" cx=\"849.207\" cy=\"1441.8\" r=\"14.4\" fill=\"#009af9\" fill-rule=\"evenodd\" fill-opacity=\"1\" stroke=\"#000000\" stroke-opacity=\"1\" stroke-width=\"3.2\"/>\n",
       "<circle clip-path=\"url(#clip932)\" cx=\"884.058\" cy=\"1436.54\" r=\"14.4\" fill=\"#009af9\" fill-rule=\"evenodd\" fill-opacity=\"1\" stroke=\"#000000\" stroke-opacity=\"1\" stroke-width=\"3.2\"/>\n",
       "<circle clip-path=\"url(#clip932)\" cx=\"1049.64\" cy=\"1433.88\" r=\"14.4\" fill=\"#009af9\" fill-rule=\"evenodd\" fill-opacity=\"1\" stroke=\"#000000\" stroke-opacity=\"1\" stroke-width=\"3.2\"/>\n",
       "<circle clip-path=\"url(#clip932)\" cx=\"203.301\" cy=\"1445.72\" r=\"14.4\" fill=\"#009af9\" fill-rule=\"evenodd\" fill-opacity=\"1\" stroke=\"#000000\" stroke-opacity=\"1\" stroke-width=\"3.2\"/>\n",
       "<circle clip-path=\"url(#clip932)\" cx=\"1157\" cy=\"1417.33\" r=\"14.4\" fill=\"#009af9\" fill-rule=\"evenodd\" fill-opacity=\"1\" stroke=\"#000000\" stroke-opacity=\"1\" stroke-width=\"3.2\"/>\n",
       "<circle clip-path=\"url(#clip932)\" cx=\"1199\" cy=\"1402.11\" r=\"14.4\" fill=\"#009af9\" fill-rule=\"evenodd\" fill-opacity=\"1\" stroke=\"#000000\" stroke-opacity=\"1\" stroke-width=\"3.2\"/>\n",
       "<circle clip-path=\"url(#clip932)\" cx=\"1234.71\" cy=\"1389.36\" r=\"14.4\" fill=\"#009af9\" fill-rule=\"evenodd\" fill-opacity=\"1\" stroke=\"#000000\" stroke-opacity=\"1\" stroke-width=\"3.2\"/>\n",
       "<circle clip-path=\"url(#clip932)\" cx=\"1263.05\" cy=\"1381.94\" r=\"14.4\" fill=\"#009af9\" fill-rule=\"evenodd\" fill-opacity=\"1\" stroke=\"#000000\" stroke-opacity=\"1\" stroke-width=\"3.2\"/>\n",
       "<circle clip-path=\"url(#clip932)\" cx=\"1327.68\" cy=\"1375.83\" r=\"14.4\" fill=\"#009af9\" fill-rule=\"evenodd\" fill-opacity=\"1\" stroke=\"#000000\" stroke-opacity=\"1\" stroke-width=\"3.2\"/>\n",
       "<circle clip-path=\"url(#clip932)\" cx=\"203.301\" cy=\"1445.72\" r=\"14.4\" fill=\"#009af9\" fill-rule=\"evenodd\" fill-opacity=\"1\" stroke=\"#000000\" stroke-opacity=\"1\" stroke-width=\"3.2\"/>\n",
       "<circle clip-path=\"url(#clip932)\" cx=\"1341.33\" cy=\"1402.24\" r=\"14.4\" fill=\"#009af9\" fill-rule=\"evenodd\" fill-opacity=\"1\" stroke=\"#000000\" stroke-opacity=\"1\" stroke-width=\"3.2\"/>\n",
       "<circle clip-path=\"url(#clip932)\" cx=\"1878.11\" cy=\"1402.75\" r=\"14.4\" fill=\"#009af9\" fill-rule=\"evenodd\" fill-opacity=\"1\" stroke=\"#000000\" stroke-opacity=\"1\" stroke-width=\"3.2\"/>\n",
       "<circle clip-path=\"url(#clip932)\" cx=\"2136.2\" cy=\"1415.18\" r=\"14.4\" fill=\"#009af9\" fill-rule=\"evenodd\" fill-opacity=\"1\" stroke=\"#000000\" stroke-opacity=\"1\" stroke-width=\"3.2\"/>\n",
       "<circle clip-path=\"url(#clip932)\" cx=\"2245.68\" cy=\"1430.94\" r=\"14.4\" fill=\"#009af9\" fill-rule=\"evenodd\" fill-opacity=\"1\" stroke=\"#000000\" stroke-opacity=\"1\" stroke-width=\"3.2\"/>\n",
       "<circle clip-path=\"url(#clip932)\" cx=\"2232.39\" cy=\"1445.22\" r=\"14.4\" fill=\"#009af9\" fill-rule=\"evenodd\" fill-opacity=\"1\" stroke=\"#000000\" stroke-opacity=\"1\" stroke-width=\"3.2\"/>\n",
       "<circle clip-path=\"url(#clip932)\" cx=\"203.301\" cy=\"1445.72\" r=\"14.4\" fill=\"#009af9\" fill-rule=\"evenodd\" fill-opacity=\"1\" stroke=\"#000000\" stroke-opacity=\"1\" stroke-width=\"3.2\"/>\n",
       "<circle clip-path=\"url(#clip932)\" cx=\"1212.64\" cy=\"1413.66\" r=\"14.4\" fill=\"#009af9\" fill-rule=\"evenodd\" fill-opacity=\"1\" stroke=\"#000000\" stroke-opacity=\"1\" stroke-width=\"3.2\"/>\n",
       "<circle clip-path=\"url(#clip932)\" cx=\"1561.29\" cy=\"1435.06\" r=\"14.4\" fill=\"#009af9\" fill-rule=\"evenodd\" fill-opacity=\"1\" stroke=\"#000000\" stroke-opacity=\"1\" stroke-width=\"3.2\"/>\n",
       "<circle clip-path=\"url(#clip932)\" cx=\"1634.08\" cy=\"1443.96\" r=\"14.4\" fill=\"#009af9\" fill-rule=\"evenodd\" fill-opacity=\"1\" stroke=\"#000000\" stroke-opacity=\"1\" stroke-width=\"3.2\"/>\n",
       "<circle clip-path=\"url(#clip932)\" cx=\"1540.73\" cy=\"1442.43\" r=\"14.4\" fill=\"#009af9\" fill-rule=\"evenodd\" fill-opacity=\"1\" stroke=\"#000000\" stroke-opacity=\"1\" stroke-width=\"3.2\"/>\n",
       "<circle clip-path=\"url(#clip932)\" cx=\"1071.03\" cy=\"1444.36\" r=\"14.4\" fill=\"#009af9\" fill-rule=\"evenodd\" fill-opacity=\"1\" stroke=\"#000000\" stroke-opacity=\"1\" stroke-width=\"3.2\"/>\n",
       "<circle clip-path=\"url(#clip932)\" cx=\"203.301\" cy=\"1445.72\" r=\"14.4\" fill=\"#009af9\" fill-rule=\"evenodd\" fill-opacity=\"1\" stroke=\"#000000\" stroke-opacity=\"1\" stroke-width=\"3.2\"/>\n",
       "<circle clip-path=\"url(#clip932)\" cx=\"577.14\" cy=\"1259.79\" r=\"14.4\" fill=\"#009af9\" fill-rule=\"evenodd\" fill-opacity=\"1\" stroke=\"#000000\" stroke-opacity=\"1\" stroke-width=\"3.2\"/>\n",
       "<circle clip-path=\"url(#clip932)\" cx=\"569.123\" cy=\"1348.81\" r=\"14.4\" fill=\"#009af9\" fill-rule=\"evenodd\" fill-opacity=\"1\" stroke=\"#000000\" stroke-opacity=\"1\" stroke-width=\"3.2\"/>\n",
       "<circle clip-path=\"url(#clip932)\" cx=\"599.209\" cy=\"1393.01\" r=\"14.4\" fill=\"#009af9\" fill-rule=\"evenodd\" fill-opacity=\"1\" stroke=\"#000000\" stroke-opacity=\"1\" stroke-width=\"3.2\"/>\n",
       "<circle clip-path=\"url(#clip932)\" cx=\"628.236\" cy=\"1412.73\" r=\"14.4\" fill=\"#009af9\" fill-rule=\"evenodd\" fill-opacity=\"1\" stroke=\"#000000\" stroke-opacity=\"1\" stroke-width=\"3.2\"/>\n",
       "<circle clip-path=\"url(#clip932)\" cx=\"669.076\" cy=\"1431.23\" r=\"14.4\" fill=\"#009af9\" fill-rule=\"evenodd\" fill-opacity=\"1\" stroke=\"#000000\" stroke-opacity=\"1\" stroke-width=\"3.2\"/>\n",
       "<circle clip-path=\"url(#clip932)\" cx=\"203.301\" cy=\"1445.72\" r=\"14.4\" fill=\"#009af9\" fill-rule=\"evenodd\" fill-opacity=\"1\" stroke=\"#000000\" stroke-opacity=\"1\" stroke-width=\"3.2\"/>\n",
       "<circle clip-path=\"url(#clip932)\" cx=\"2071.27\" cy=\"1441.58\" r=\"14.4\" fill=\"#009af9\" fill-rule=\"evenodd\" fill-opacity=\"1\" stroke=\"#000000\" stroke-opacity=\"1\" stroke-width=\"3.2\"/>\n",
       "<circle clip-path=\"url(#clip932)\" cx=\"1655.49\" cy=\"1439.34\" r=\"14.4\" fill=\"#009af9\" fill-rule=\"evenodd\" fill-opacity=\"1\" stroke=\"#000000\" stroke-opacity=\"1\" stroke-width=\"3.2\"/>\n",
       "<circle clip-path=\"url(#clip932)\" cx=\"1374.94\" cy=\"1436.98\" r=\"14.4\" fill=\"#009af9\" fill-rule=\"evenodd\" fill-opacity=\"1\" stroke=\"#000000\" stroke-opacity=\"1\" stroke-width=\"3.2\"/>\n",
       "<circle clip-path=\"url(#clip932)\" cx=\"1297.18\" cy=\"1435.18\" r=\"14.4\" fill=\"#009af9\" fill-rule=\"evenodd\" fill-opacity=\"1\" stroke=\"#000000\" stroke-opacity=\"1\" stroke-width=\"3.2\"/>\n",
       "<circle clip-path=\"url(#clip932)\" cx=\"1253.13\" cy=\"1432.85\" r=\"14.4\" fill=\"#009af9\" fill-rule=\"evenodd\" fill-opacity=\"1\" stroke=\"#000000\" stroke-opacity=\"1\" stroke-width=\"3.2\"/>\n",
       "<circle clip-path=\"url(#clip932)\" cx=\"203.301\" cy=\"1445.72\" r=\"14.4\" fill=\"#009af9\" fill-rule=\"evenodd\" fill-opacity=\"1\" stroke=\"#000000\" stroke-opacity=\"1\" stroke-width=\"3.2\"/>\n",
       "<circle clip-path=\"url(#clip932)\" cx=\"1599.71\" cy=\"1440.74\" r=\"14.4\" fill=\"#009af9\" fill-rule=\"evenodd\" fill-opacity=\"1\" stroke=\"#000000\" stroke-opacity=\"1\" stroke-width=\"3.2\"/>\n",
       "<circle clip-path=\"url(#clip932)\" cx=\"1603.38\" cy=\"1438.98\" r=\"14.4\" fill=\"#009af9\" fill-rule=\"evenodd\" fill-opacity=\"1\" stroke=\"#000000\" stroke-opacity=\"1\" stroke-width=\"3.2\"/>\n",
       "<circle clip-path=\"url(#clip932)\" cx=\"1582.66\" cy=\"1441.53\" r=\"14.4\" fill=\"#009af9\" fill-rule=\"evenodd\" fill-opacity=\"1\" stroke=\"#000000\" stroke-opacity=\"1\" stroke-width=\"3.2\"/>\n",
       "<circle clip-path=\"url(#clip932)\" cx=\"1569.64\" cy=\"1443.75\" r=\"14.4\" fill=\"#009af9\" fill-rule=\"evenodd\" fill-opacity=\"1\" stroke=\"#000000\" stroke-opacity=\"1\" stroke-width=\"3.2\"/>\n",
       "<circle clip-path=\"url(#clip932)\" cx=\"1555.56\" cy=\"1445.37\" r=\"14.4\" fill=\"#009af9\" fill-rule=\"evenodd\" fill-opacity=\"1\" stroke=\"#000000\" stroke-opacity=\"1\" stroke-width=\"3.2\"/>\n",
       "<circle clip-path=\"url(#clip932)\" cx=\"203.301\" cy=\"1445.72\" r=\"14.4\" fill=\"#009af9\" fill-rule=\"evenodd\" fill-opacity=\"1\" stroke=\"#000000\" stroke-opacity=\"1\" stroke-width=\"3.2\"/>\n",
       "<circle clip-path=\"url(#clip932)\" cx=\"2109.75\" cy=\"1416.79\" r=\"14.4\" fill=\"#009af9\" fill-rule=\"evenodd\" fill-opacity=\"1\" stroke=\"#000000\" stroke-opacity=\"1\" stroke-width=\"3.2\"/>\n",
       "<circle clip-path=\"url(#clip932)\" cx=\"1944.66\" cy=\"1401.67\" r=\"14.4\" fill=\"#009af9\" fill-rule=\"evenodd\" fill-opacity=\"1\" stroke=\"#000000\" stroke-opacity=\"1\" stroke-width=\"3.2\"/>\n",
       "<circle clip-path=\"url(#clip932)\" cx=\"1558.38\" cy=\"1414.02\" r=\"14.4\" fill=\"#009af9\" fill-rule=\"evenodd\" fill-opacity=\"1\" stroke=\"#000000\" stroke-opacity=\"1\" stroke-width=\"3.2\"/>\n",
       "<circle clip-path=\"url(#clip932)\" cx=\"1317.88\" cy=\"1425.56\" r=\"14.4\" fill=\"#009af9\" fill-rule=\"evenodd\" fill-opacity=\"1\" stroke=\"#000000\" stroke-opacity=\"1\" stroke-width=\"3.2\"/>\n",
       "<circle clip-path=\"url(#clip932)\" cx=\"1183.96\" cy=\"1434.95\" r=\"14.4\" fill=\"#009af9\" fill-rule=\"evenodd\" fill-opacity=\"1\" stroke=\"#000000\" stroke-opacity=\"1\" stroke-width=\"3.2\"/>\n",
       "<circle clip-path=\"url(#clip932)\" cx=\"203.301\" cy=\"1445.72\" r=\"14.4\" fill=\"#009af9\" fill-rule=\"evenodd\" fill-opacity=\"1\" stroke=\"#000000\" stroke-opacity=\"1\" stroke-width=\"3.2\"/>\n",
       "<circle clip-path=\"url(#clip932)\" cx=\"1691.86\" cy=\"1445.48\" r=\"14.4\" fill=\"#009af9\" fill-rule=\"evenodd\" fill-opacity=\"1\" stroke=\"#000000\" stroke-opacity=\"1\" stroke-width=\"3.2\"/>\n",
       "<circle clip-path=\"url(#clip932)\" cx=\"1610.47\" cy=\"1444.1\" r=\"14.4\" fill=\"#009af9\" fill-rule=\"evenodd\" fill-opacity=\"1\" stroke=\"#000000\" stroke-opacity=\"1\" stroke-width=\"3.2\"/>\n",
       "<circle clip-path=\"url(#clip932)\" cx=\"1600.17\" cy=\"1444\" r=\"14.4\" fill=\"#009af9\" fill-rule=\"evenodd\" fill-opacity=\"1\" stroke=\"#000000\" stroke-opacity=\"1\" stroke-width=\"3.2\"/>\n",
       "<circle clip-path=\"url(#clip932)\" cx=\"1596.03\" cy=\"1443.92\" r=\"14.4\" fill=\"#009af9\" fill-rule=\"evenodd\" fill-opacity=\"1\" stroke=\"#000000\" stroke-opacity=\"1\" stroke-width=\"3.2\"/>\n",
       "<circle clip-path=\"url(#clip932)\" cx=\"1622.22\" cy=\"1444.53\" r=\"14.4\" fill=\"#009af9\" fill-rule=\"evenodd\" fill-opacity=\"1\" stroke=\"#000000\" stroke-opacity=\"1\" stroke-width=\"3.2\"/>\n",
       "<circle clip-path=\"url(#clip932)\" cx=\"203.301\" cy=\"1445.72\" r=\"14.4\" fill=\"#009af9\" fill-rule=\"evenodd\" fill-opacity=\"1\" stroke=\"#000000\" stroke-opacity=\"1\" stroke-width=\"3.2\"/>\n",
       "<circle clip-path=\"url(#clip932)\" cx=\"1940.54\" cy=\"1402.62\" r=\"14.4\" fill=\"#009af9\" fill-rule=\"evenodd\" fill-opacity=\"1\" stroke=\"#000000\" stroke-opacity=\"1\" stroke-width=\"3.2\"/>\n",
       "<circle clip-path=\"url(#clip932)\" cx=\"1749\" cy=\"1412.15\" r=\"14.4\" fill=\"#009af9\" fill-rule=\"evenodd\" fill-opacity=\"1\" stroke=\"#000000\" stroke-opacity=\"1\" stroke-width=\"3.2\"/>\n",
       "<circle clip-path=\"url(#clip932)\" cx=\"1640.88\" cy=\"1421.34\" r=\"14.4\" fill=\"#009af9\" fill-rule=\"evenodd\" fill-opacity=\"1\" stroke=\"#000000\" stroke-opacity=\"1\" stroke-width=\"3.2\"/>\n",
       "<circle clip-path=\"url(#clip932)\" cx=\"1609.25\" cy=\"1428.93\" r=\"14.4\" fill=\"#009af9\" fill-rule=\"evenodd\" fill-opacity=\"1\" stroke=\"#000000\" stroke-opacity=\"1\" stroke-width=\"3.2\"/>\n",
       "<circle clip-path=\"url(#clip932)\" cx=\"1602.34\" cy=\"1438.2\" r=\"14.4\" fill=\"#009af9\" fill-rule=\"evenodd\" fill-opacity=\"1\" stroke=\"#000000\" stroke-opacity=\"1\" stroke-width=\"3.2\"/>\n",
       "<circle clip-path=\"url(#clip932)\" cx=\"203.301\" cy=\"1445.72\" r=\"14.4\" fill=\"#009af9\" fill-rule=\"evenodd\" fill-opacity=\"1\" stroke=\"#000000\" stroke-opacity=\"1\" stroke-width=\"3.2\"/>\n",
       "<circle clip-path=\"url(#clip932)\" cx=\"1155.61\" cy=\"1390.86\" r=\"14.4\" fill=\"#009af9\" fill-rule=\"evenodd\" fill-opacity=\"1\" stroke=\"#000000\" stroke-opacity=\"1\" stroke-width=\"3.2\"/>\n",
       "<circle clip-path=\"url(#clip932)\" cx=\"1352.54\" cy=\"1391.62\" r=\"14.4\" fill=\"#009af9\" fill-rule=\"evenodd\" fill-opacity=\"1\" stroke=\"#000000\" stroke-opacity=\"1\" stroke-width=\"3.2\"/>\n",
       "<circle clip-path=\"url(#clip932)\" cx=\"1330.29\" cy=\"1397.19\" r=\"14.4\" fill=\"#009af9\" fill-rule=\"evenodd\" fill-opacity=\"1\" stroke=\"#000000\" stroke-opacity=\"1\" stroke-width=\"3.2\"/>\n",
       "<circle clip-path=\"url(#clip932)\" cx=\"1311.2\" cy=\"1404.37\" r=\"14.4\" fill=\"#009af9\" fill-rule=\"evenodd\" fill-opacity=\"1\" stroke=\"#000000\" stroke-opacity=\"1\" stroke-width=\"3.2\"/>\n",
       "<circle clip-path=\"url(#clip932)\" cx=\"1268.97\" cy=\"1405.37\" r=\"14.4\" fill=\"#009af9\" fill-rule=\"evenodd\" fill-opacity=\"1\" stroke=\"#000000\" stroke-opacity=\"1\" stroke-width=\"3.2\"/>\n",
       "<circle clip-path=\"url(#clip932)\" cx=\"203.301\" cy=\"1445.72\" r=\"14.4\" fill=\"#009af9\" fill-rule=\"evenodd\" fill-opacity=\"1\" stroke=\"#000000\" stroke-opacity=\"1\" stroke-width=\"3.2\"/>\n",
       "<circle clip-path=\"url(#clip932)\" cx=\"728.269\" cy=\"527.737\" r=\"14.4\" fill=\"#009af9\" fill-rule=\"evenodd\" fill-opacity=\"1\" stroke=\"#000000\" stroke-opacity=\"1\" stroke-width=\"3.2\"/>\n",
       "<circle clip-path=\"url(#clip932)\" cx=\"752.695\" cy=\"402.846\" r=\"14.4\" fill=\"#009af9\" fill-rule=\"evenodd\" fill-opacity=\"1\" stroke=\"#000000\" stroke-opacity=\"1\" stroke-width=\"3.2\"/>\n",
       "<circle clip-path=\"url(#clip932)\" cx=\"826.94\" cy=\"861.314\" r=\"14.4\" fill=\"#009af9\" fill-rule=\"evenodd\" fill-opacity=\"1\" stroke=\"#000000\" stroke-opacity=\"1\" stroke-width=\"3.2\"/>\n",
       "<circle clip-path=\"url(#clip932)\" cx=\"877.319\" cy=\"1215.54\" r=\"14.4\" fill=\"#009af9\" fill-rule=\"evenodd\" fill-opacity=\"1\" stroke=\"#000000\" stroke-opacity=\"1\" stroke-width=\"3.2\"/>\n",
       "<circle clip-path=\"url(#clip932)\" cx=\"838.899\" cy=\"1396.4\" r=\"14.4\" fill=\"#009af9\" fill-rule=\"evenodd\" fill-opacity=\"1\" stroke=\"#000000\" stroke-opacity=\"1\" stroke-width=\"3.2\"/>\n",
       "<circle clip-path=\"url(#clip932)\" cx=\"203.301\" cy=\"1445.72\" r=\"14.4\" fill=\"#009af9\" fill-rule=\"evenodd\" fill-opacity=\"1\" stroke=\"#000000\" stroke-opacity=\"1\" stroke-width=\"3.2\"/>\n",
       "<circle clip-path=\"url(#clip932)\" cx=\"661.092\" cy=\"1278.88\" r=\"14.4\" fill=\"#009af9\" fill-rule=\"evenodd\" fill-opacity=\"1\" stroke=\"#000000\" stroke-opacity=\"1\" stroke-width=\"3.2\"/>\n",
       "<circle clip-path=\"url(#clip932)\" cx=\"544.417\" cy=\"1443.07\" r=\"14.4\" fill=\"#009af9\" fill-rule=\"evenodd\" fill-opacity=\"1\" stroke=\"#000000\" stroke-opacity=\"1\" stroke-width=\"3.2\"/>\n",
       "<circle clip-path=\"url(#clip932)\" cx=\"606.709\" cy=\"1440.01\" r=\"14.4\" fill=\"#009af9\" fill-rule=\"evenodd\" fill-opacity=\"1\" stroke=\"#000000\" stroke-opacity=\"1\" stroke-width=\"3.2\"/>\n",
       "<circle clip-path=\"url(#clip932)\" cx=\"644.625\" cy=\"1434.28\" r=\"14.4\" fill=\"#009af9\" fill-rule=\"evenodd\" fill-opacity=\"1\" stroke=\"#000000\" stroke-opacity=\"1\" stroke-width=\"3.2\"/>\n",
       "<circle clip-path=\"url(#clip932)\" cx=\"679.466\" cy=\"1424.15\" r=\"14.4\" fill=\"#009af9\" fill-rule=\"evenodd\" fill-opacity=\"1\" stroke=\"#000000\" stroke-opacity=\"1\" stroke-width=\"3.2\"/>\n",
       "<circle clip-path=\"url(#clip932)\" cx=\"203.301\" cy=\"1445.72\" r=\"14.4\" fill=\"#009af9\" fill-rule=\"evenodd\" fill-opacity=\"1\" stroke=\"#000000\" stroke-opacity=\"1\" stroke-width=\"3.2\"/>\n",
       "<circle clip-path=\"url(#clip932)\" cx=\"938.954\" cy=\"1255.21\" r=\"14.4\" fill=\"#009af9\" fill-rule=\"evenodd\" fill-opacity=\"1\" stroke=\"#000000\" stroke-opacity=\"1\" stroke-width=\"3.2\"/>\n",
       "<circle clip-path=\"url(#clip932)\" cx=\"826.201\" cy=\"1310.32\" r=\"14.4\" fill=\"#009af9\" fill-rule=\"evenodd\" fill-opacity=\"1\" stroke=\"#000000\" stroke-opacity=\"1\" stroke-width=\"3.2\"/>\n",
       "<circle clip-path=\"url(#clip932)\" cx=\"809.015\" cy=\"1356\" r=\"14.4\" fill=\"#009af9\" fill-rule=\"evenodd\" fill-opacity=\"1\" stroke=\"#000000\" stroke-opacity=\"1\" stroke-width=\"3.2\"/>\n",
       "<circle clip-path=\"url(#clip932)\" cx=\"832.653\" cy=\"1396.45\" r=\"14.4\" fill=\"#009af9\" fill-rule=\"evenodd\" fill-opacity=\"1\" stroke=\"#000000\" stroke-opacity=\"1\" stroke-width=\"3.2\"/>\n",
       "<circle clip-path=\"url(#clip932)\" cx=\"968.711\" cy=\"1444.55\" r=\"14.4\" fill=\"#009af9\" fill-rule=\"evenodd\" fill-opacity=\"1\" stroke=\"#000000\" stroke-opacity=\"1\" stroke-width=\"3.2\"/>\n",
       "<circle clip-path=\"url(#clip932)\" cx=\"203.301\" cy=\"1445.72\" r=\"14.4\" fill=\"#009af9\" fill-rule=\"evenodd\" fill-opacity=\"1\" stroke=\"#000000\" stroke-opacity=\"1\" stroke-width=\"3.2\"/>\n",
       "<circle clip-path=\"url(#clip932)\" cx=\"1479.71\" cy=\"1429.26\" r=\"14.4\" fill=\"#009af9\" fill-rule=\"evenodd\" fill-opacity=\"1\" stroke=\"#000000\" stroke-opacity=\"1\" stroke-width=\"3.2\"/>\n",
       "<circle clip-path=\"url(#clip932)\" cx=\"1551.07\" cy=\"1434.33\" r=\"14.4\" fill=\"#009af9\" fill-rule=\"evenodd\" fill-opacity=\"1\" stroke=\"#000000\" stroke-opacity=\"1\" stroke-width=\"3.2\"/>\n",
       "<circle clip-path=\"url(#clip932)\" cx=\"1587.23\" cy=\"1442.94\" r=\"14.4\" fill=\"#009af9\" fill-rule=\"evenodd\" fill-opacity=\"1\" stroke=\"#000000\" stroke-opacity=\"1\" stroke-width=\"3.2\"/>\n",
       "<circle clip-path=\"url(#clip932)\" cx=\"1609.83\" cy=\"1437.89\" r=\"14.4\" fill=\"#009af9\" fill-rule=\"evenodd\" fill-opacity=\"1\" stroke=\"#000000\" stroke-opacity=\"1\" stroke-width=\"3.2\"/>\n",
       "<circle clip-path=\"url(#clip932)\" cx=\"1651.76\" cy=\"1425.21\" r=\"14.4\" fill=\"#009af9\" fill-rule=\"evenodd\" fill-opacity=\"1\" stroke=\"#000000\" stroke-opacity=\"1\" stroke-width=\"3.2\"/>\n",
       "<circle clip-path=\"url(#clip932)\" cx=\"203.301\" cy=\"1445.72\" r=\"14.4\" fill=\"#009af9\" fill-rule=\"evenodd\" fill-opacity=\"1\" stroke=\"#000000\" stroke-opacity=\"1\" stroke-width=\"3.2\"/>\n",
       "<circle clip-path=\"url(#clip932)\" cx=\"861.519\" cy=\"1228.36\" r=\"14.4\" fill=\"#009af9\" fill-rule=\"evenodd\" fill-opacity=\"1\" stroke=\"#000000\" stroke-opacity=\"1\" stroke-width=\"3.2\"/>\n",
       "<circle clip-path=\"url(#clip932)\" cx=\"735.108\" cy=\"1249.47\" r=\"14.4\" fill=\"#009af9\" fill-rule=\"evenodd\" fill-opacity=\"1\" stroke=\"#000000\" stroke-opacity=\"1\" stroke-width=\"3.2\"/>\n",
       "<circle clip-path=\"url(#clip932)\" cx=\"722.31\" cy=\"1317.92\" r=\"14.4\" fill=\"#009af9\" fill-rule=\"evenodd\" fill-opacity=\"1\" stroke=\"#000000\" stroke-opacity=\"1\" stroke-width=\"3.2\"/>\n",
       "<circle clip-path=\"url(#clip932)\" cx=\"751.048\" cy=\"1386.98\" r=\"14.4\" fill=\"#009af9\" fill-rule=\"evenodd\" fill-opacity=\"1\" stroke=\"#000000\" stroke-opacity=\"1\" stroke-width=\"3.2\"/>\n",
       "<circle clip-path=\"url(#clip932)\" cx=\"900.212\" cy=\"1432\" r=\"14.4\" fill=\"#009af9\" fill-rule=\"evenodd\" fill-opacity=\"1\" stroke=\"#000000\" stroke-opacity=\"1\" stroke-width=\"3.2\"/>\n",
       "<circle clip-path=\"url(#clip932)\" cx=\"203.301\" cy=\"1445.72\" r=\"14.4\" fill=\"#009af9\" fill-rule=\"evenodd\" fill-opacity=\"1\" stroke=\"#000000\" stroke-opacity=\"1\" stroke-width=\"3.2\"/>\n",
       "<circle clip-path=\"url(#clip932)\" cx=\"1060.18\" cy=\"1158.69\" r=\"14.4\" fill=\"#009af9\" fill-rule=\"evenodd\" fill-opacity=\"1\" stroke=\"#000000\" stroke-opacity=\"1\" stroke-width=\"3.2\"/>\n",
       "<circle clip-path=\"url(#clip932)\" cx=\"860.011\" cy=\"1442.62\" r=\"14.4\" fill=\"#009af9\" fill-rule=\"evenodd\" fill-opacity=\"1\" stroke=\"#000000\" stroke-opacity=\"1\" stroke-width=\"3.2\"/>\n",
       "<circle clip-path=\"url(#clip932)\" cx=\"836.3\" cy=\"1444.06\" r=\"14.4\" fill=\"#009af9\" fill-rule=\"evenodd\" fill-opacity=\"1\" stroke=\"#000000\" stroke-opacity=\"1\" stroke-width=\"3.2\"/>\n",
       "<circle clip-path=\"url(#clip932)\" cx=\"868.658\" cy=\"1445.03\" r=\"14.4\" fill=\"#009af9\" fill-rule=\"evenodd\" fill-opacity=\"1\" stroke=\"#000000\" stroke-opacity=\"1\" stroke-width=\"3.2\"/>\n",
       "<circle clip-path=\"url(#clip932)\" cx=\"1028.8\" cy=\"1444.57\" r=\"14.4\" fill=\"#009af9\" fill-rule=\"evenodd\" fill-opacity=\"1\" stroke=\"#000000\" stroke-opacity=\"1\" stroke-width=\"3.2\"/>\n",
       "<circle clip-path=\"url(#clip932)\" cx=\"203.301\" cy=\"1445.72\" r=\"14.4\" fill=\"#009af9\" fill-rule=\"evenodd\" fill-opacity=\"1\" stroke=\"#000000\" stroke-opacity=\"1\" stroke-width=\"3.2\"/>\n",
       "<circle clip-path=\"url(#clip932)\" cx=\"819.096\" cy=\"581.297\" r=\"14.4\" fill=\"#009af9\" fill-rule=\"evenodd\" fill-opacity=\"1\" stroke=\"#000000\" stroke-opacity=\"1\" stroke-width=\"3.2\"/>\n",
       "<circle clip-path=\"url(#clip932)\" cx=\"848.441\" cy=\"508.439\" r=\"14.4\" fill=\"#009af9\" fill-rule=\"evenodd\" fill-opacity=\"1\" stroke=\"#000000\" stroke-opacity=\"1\" stroke-width=\"3.2\"/>\n",
       "<circle clip-path=\"url(#clip932)\" cx=\"935.206\" cy=\"947.648\" r=\"14.4\" fill=\"#009af9\" fill-rule=\"evenodd\" fill-opacity=\"1\" stroke=\"#000000\" stroke-opacity=\"1\" stroke-width=\"3.2\"/>\n",
       "<circle clip-path=\"url(#clip932)\" cx=\"1020.96\" cy=\"1268.63\" r=\"14.4\" fill=\"#009af9\" fill-rule=\"evenodd\" fill-opacity=\"1\" stroke=\"#000000\" stroke-opacity=\"1\" stroke-width=\"3.2\"/>\n",
       "<circle clip-path=\"url(#clip932)\" cx=\"1388.55\" cy=\"1433.06\" r=\"14.4\" fill=\"#009af9\" fill-rule=\"evenodd\" fill-opacity=\"1\" stroke=\"#000000\" stroke-opacity=\"1\" stroke-width=\"3.2\"/>\n",
       "<circle clip-path=\"url(#clip932)\" cx=\"203.301\" cy=\"1445.72\" r=\"14.4\" fill=\"#009af9\" fill-rule=\"evenodd\" fill-opacity=\"1\" stroke=\"#000000\" stroke-opacity=\"1\" stroke-width=\"3.2\"/>\n",
       "<circle clip-path=\"url(#clip932)\" cx=\"1999.32\" cy=\"1443.07\" r=\"14.4\" fill=\"#009af9\" fill-rule=\"evenodd\" fill-opacity=\"1\" stroke=\"#000000\" stroke-opacity=\"1\" stroke-width=\"3.2\"/>\n",
       "<circle clip-path=\"url(#clip932)\" cx=\"1728.98\" cy=\"1443.02\" r=\"14.4\" fill=\"#009af9\" fill-rule=\"evenodd\" fill-opacity=\"1\" stroke=\"#000000\" stroke-opacity=\"1\" stroke-width=\"3.2\"/>\n",
       "<circle clip-path=\"url(#clip932)\" cx=\"1599.37\" cy=\"1443.98\" r=\"14.4\" fill=\"#009af9\" fill-rule=\"evenodd\" fill-opacity=\"1\" stroke=\"#000000\" stroke-opacity=\"1\" stroke-width=\"3.2\"/>\n",
       "<circle clip-path=\"url(#clip932)\" cx=\"1598.82\" cy=\"1445.05\" r=\"14.4\" fill=\"#009af9\" fill-rule=\"evenodd\" fill-opacity=\"1\" stroke=\"#000000\" stroke-opacity=\"1\" stroke-width=\"3.2\"/>\n",
       "<circle clip-path=\"url(#clip932)\" cx=\"1595.15\" cy=\"1445.04\" r=\"14.4\" fill=\"#009af9\" fill-rule=\"evenodd\" fill-opacity=\"1\" stroke=\"#000000\" stroke-opacity=\"1\" stroke-width=\"3.2\"/>\n",
       "<circle clip-path=\"url(#clip932)\" cx=\"203.301\" cy=\"1445.72\" r=\"14.4\" fill=\"#009af9\" fill-rule=\"evenodd\" fill-opacity=\"1\" stroke=\"#000000\" stroke-opacity=\"1\" stroke-width=\"3.2\"/>\n",
       "<circle clip-path=\"url(#clip932)\" cx=\"1543\" cy=\"1436.86\" r=\"14.4\" fill=\"#009af9\" fill-rule=\"evenodd\" fill-opacity=\"1\" stroke=\"#000000\" stroke-opacity=\"1\" stroke-width=\"3.2\"/>\n",
       "<circle clip-path=\"url(#clip932)\" cx=\"1564.53\" cy=\"1439.19\" r=\"14.4\" fill=\"#009af9\" fill-rule=\"evenodd\" fill-opacity=\"1\" stroke=\"#000000\" stroke-opacity=\"1\" stroke-width=\"3.2\"/>\n",
       "<circle clip-path=\"url(#clip932)\" cx=\"1577.36\" cy=\"1442.77\" r=\"14.4\" fill=\"#009af9\" fill-rule=\"evenodd\" fill-opacity=\"1\" stroke=\"#000000\" stroke-opacity=\"1\" stroke-width=\"3.2\"/>\n",
       "<circle clip-path=\"url(#clip932)\" cx=\"1586.53\" cy=\"1445.43\" r=\"14.4\" fill=\"#009af9\" fill-rule=\"evenodd\" fill-opacity=\"1\" stroke=\"#000000\" stroke-opacity=\"1\" stroke-width=\"3.2\"/>\n",
       "<circle clip-path=\"url(#clip932)\" cx=\"1605.72\" cy=\"1443.65\" r=\"14.4\" fill=\"#009af9\" fill-rule=\"evenodd\" fill-opacity=\"1\" stroke=\"#000000\" stroke-opacity=\"1\" stroke-width=\"3.2\"/>\n",
       "<path clip-path=\"url(#clip930)\" d=\"M2005.38 198.898 L2279.02 198.898 L2279.02 95.2176 L2005.38 95.2176  Z\" fill=\"#ffffff\" fill-rule=\"evenodd\" fill-opacity=\"1\"/>\n",
       "<polyline clip-path=\"url(#clip930)\" style=\"stroke:#000000; stroke-linecap:round; stroke-linejoin:round; stroke-width:4; stroke-opacity:1; fill:none\" points=\"2005.38,198.898 2279.02,198.898 2279.02,95.2176 2005.38,95.2176 2005.38,198.898 \"/>\n",
       "<circle clip-path=\"url(#clip930)\" cx=\"2103.7\" cy=\"147.058\" r=\"20.48\" fill=\"#009af9\" fill-rule=\"evenodd\" fill-opacity=\"1\" stroke=\"#000000\" stroke-opacity=\"1\" stroke-width=\"4.55111\"/>\n",
       "<path clip-path=\"url(#clip930)\" d=\"M2215.85 166.745 Q2214.05 171.375 2212.34 172.787 Q2210.62 174.199 2207.75 174.199 L2204.35 174.199 L2204.35 170.634 L2206.85 170.634 Q2208.61 170.634 2209.58 169.8 Q2210.55 168.967 2211.73 165.865 L2212.5 163.921 L2202.01 138.412 L2206.53 138.412 L2214.63 158.689 L2222.73 138.412 L2227.24 138.412 L2215.85 166.745 Z\" fill=\"#000000\" fill-rule=\"nonzero\" fill-opacity=\"1\" /><path clip-path=\"url(#clip930)\" d=\"M2234.53 160.402 L2242.17 160.402 L2242.17 134.037 L2233.86 135.703 L2233.86 131.444 L2242.13 129.778 L2246.8 129.778 L2246.8 160.402 L2254.44 160.402 L2254.44 164.338 L2234.53 164.338 L2234.53 160.402 Z\" fill=\"#000000\" fill-rule=\"nonzero\" fill-opacity=\"1\" /></svg>\n"
      ],
      "text/html": [
       "<?xml version=\"1.0\" encoding=\"utf-8\"?>\n",
       "<svg xmlns=\"http://www.w3.org/2000/svg\" xmlns:xlink=\"http://www.w3.org/1999/xlink\" width=\"600\" height=\"400\" viewBox=\"0 0 2400 1600\">\n",
       "<defs>\n",
       "  <clipPath id=\"clip980\">\n",
       "    <rect x=\"0\" y=\"0\" width=\"2400\" height=\"1600\"/>\n",
       "  </clipPath>\n",
       "</defs>\n",
       "<path clip-path=\"url(#clip980)\" d=\"M0 1600 L2400 1600 L2400 8.88178e-14 L0 8.88178e-14  Z\" fill=\"#ffffff\" fill-rule=\"evenodd\" fill-opacity=\"1\"/>\n",
       "<defs>\n",
       "  <clipPath id=\"clip981\">\n",
       "    <rect x=\"480\" y=\"0\" width=\"1681\" height=\"1600\"/>\n",
       "  </clipPath>\n",
       "</defs>\n",
       "<path clip-path=\"url(#clip980)\" d=\"M140.696 1486.45 L2352.76 1486.45 L2352.76 47.2441 L140.696 47.2441  Z\" fill=\"#ffffff\" fill-rule=\"evenodd\" fill-opacity=\"1\"/>\n",
       "<defs>\n",
       "  <clipPath id=\"clip982\">\n",
       "    <rect x=\"140\" y=\"47\" width=\"2213\" height=\"1440\"/>\n",
       "  </clipPath>\n",
       "</defs>\n",
       "<polyline clip-path=\"url(#clip982)\" style=\"stroke:#000000; stroke-linecap:round; stroke-linejoin:round; stroke-width:2; stroke-opacity:0.1; fill:none\" points=\"203.301,1486.45 203.301,47.2441 \"/>\n",
       "<polyline clip-path=\"url(#clip982)\" style=\"stroke:#000000; stroke-linecap:round; stroke-linejoin:round; stroke-width:2; stroke-opacity:0.1; fill:none\" points=\"654.261,1486.45 654.261,47.2441 \"/>\n",
       "<polyline clip-path=\"url(#clip982)\" style=\"stroke:#000000; stroke-linecap:round; stroke-linejoin:round; stroke-width:2; stroke-opacity:0.1; fill:none\" points=\"1105.22,1486.45 1105.22,47.2441 \"/>\n",
       "<polyline clip-path=\"url(#clip982)\" style=\"stroke:#000000; stroke-linecap:round; stroke-linejoin:round; stroke-width:2; stroke-opacity:0.1; fill:none\" points=\"1556.18,1486.45 1556.18,47.2441 \"/>\n",
       "<polyline clip-path=\"url(#clip982)\" style=\"stroke:#000000; stroke-linecap:round; stroke-linejoin:round; stroke-width:2; stroke-opacity:0.1; fill:none\" points=\"2007.14,1486.45 2007.14,47.2441 \"/>\n",
       "<polyline clip-path=\"url(#clip982)\" style=\"stroke:#000000; stroke-linecap:round; stroke-linejoin:round; stroke-width:2; stroke-opacity:0.1; fill:none\" points=\"140.696,1445.72 2352.76,1445.72 \"/>\n",
       "<polyline clip-path=\"url(#clip982)\" style=\"stroke:#000000; stroke-linecap:round; stroke-linejoin:round; stroke-width:2; stroke-opacity:0.1; fill:none\" points=\"140.696,1175.09 2352.76,1175.09 \"/>\n",
       "<polyline clip-path=\"url(#clip982)\" style=\"stroke:#000000; stroke-linecap:round; stroke-linejoin:round; stroke-width:2; stroke-opacity:0.1; fill:none\" points=\"140.696,904.47 2352.76,904.47 \"/>\n",
       "<polyline clip-path=\"url(#clip982)\" style=\"stroke:#000000; stroke-linecap:round; stroke-linejoin:round; stroke-width:2; stroke-opacity:0.1; fill:none\" points=\"140.696,633.847 2352.76,633.847 \"/>\n",
       "<polyline clip-path=\"url(#clip982)\" style=\"stroke:#000000; stroke-linecap:round; stroke-linejoin:round; stroke-width:2; stroke-opacity:0.1; fill:none\" points=\"140.696,363.224 2352.76,363.224 \"/>\n",
       "<polyline clip-path=\"url(#clip982)\" style=\"stroke:#000000; stroke-linecap:round; stroke-linejoin:round; stroke-width:2; stroke-opacity:0.1; fill:none\" points=\"140.696,92.6008 2352.76,92.6008 \"/>\n",
       "<polyline clip-path=\"url(#clip980)\" style=\"stroke:#000000; stroke-linecap:round; stroke-linejoin:round; stroke-width:4; stroke-opacity:1; fill:none\" points=\"140.696,1486.45 2352.76,1486.45 \"/>\n",
       "<polyline clip-path=\"url(#clip980)\" style=\"stroke:#000000; stroke-linecap:round; stroke-linejoin:round; stroke-width:4; stroke-opacity:1; fill:none\" points=\"203.301,1486.45 203.301,1467.55 \"/>\n",
       "<polyline clip-path=\"url(#clip980)\" style=\"stroke:#000000; stroke-linecap:round; stroke-linejoin:round; stroke-width:4; stroke-opacity:1; fill:none\" points=\"654.261,1486.45 654.261,1467.55 \"/>\n",
       "<polyline clip-path=\"url(#clip980)\" style=\"stroke:#000000; stroke-linecap:round; stroke-linejoin:round; stroke-width:4; stroke-opacity:1; fill:none\" points=\"1105.22,1486.45 1105.22,1467.55 \"/>\n",
       "<polyline clip-path=\"url(#clip980)\" style=\"stroke:#000000; stroke-linecap:round; stroke-linejoin:round; stroke-width:4; stroke-opacity:1; fill:none\" points=\"1556.18,1486.45 1556.18,1467.55 \"/>\n",
       "<polyline clip-path=\"url(#clip980)\" style=\"stroke:#000000; stroke-linecap:round; stroke-linejoin:round; stroke-width:4; stroke-opacity:1; fill:none\" points=\"2007.14,1486.45 2007.14,1467.55 \"/>\n",
       "<path clip-path=\"url(#clip980)\" d=\"M180.685 1517.37 Q177.074 1517.37 175.246 1520.93 Q173.44 1524.47 173.44 1531.6 Q173.44 1538.71 175.246 1542.27 Q177.074 1545.82 180.685 1545.82 Q184.32 1545.82 186.125 1542.27 Q187.954 1538.71 187.954 1531.6 Q187.954 1524.47 186.125 1520.93 Q184.32 1517.37 180.685 1517.37 M180.685 1513.66 Q186.496 1513.66 189.551 1518.27 Q192.63 1522.85 192.63 1531.6 Q192.63 1540.33 189.551 1544.94 Q186.496 1549.52 180.685 1549.52 Q174.875 1549.52 171.797 1544.94 Q168.741 1540.33 168.741 1531.6 Q168.741 1522.85 171.797 1518.27 Q174.875 1513.66 180.685 1513.66 Z\" fill=\"#000000\" fill-rule=\"nonzero\" fill-opacity=\"1\" /><path clip-path=\"url(#clip980)\" d=\"M200.847 1542.97 L205.732 1542.97 L205.732 1548.85 L200.847 1548.85 L200.847 1542.97 Z\" fill=\"#000000\" fill-rule=\"nonzero\" fill-opacity=\"1\" /><path clip-path=\"url(#clip980)\" d=\"M225.917 1517.37 Q222.306 1517.37 220.477 1520.93 Q218.671 1524.47 218.671 1531.6 Q218.671 1538.71 220.477 1542.27 Q222.306 1545.82 225.917 1545.82 Q229.551 1545.82 231.356 1542.27 Q233.185 1538.71 233.185 1531.6 Q233.185 1524.47 231.356 1520.93 Q229.551 1517.37 225.917 1517.37 M225.917 1513.66 Q231.727 1513.66 234.782 1518.27 Q237.861 1522.85 237.861 1531.6 Q237.861 1540.33 234.782 1544.94 Q231.727 1549.52 225.917 1549.52 Q220.106 1549.52 217.028 1544.94 Q213.972 1540.33 213.972 1531.6 Q213.972 1522.85 217.028 1518.27 Q220.106 1513.66 225.917 1513.66 Z\" fill=\"#000000\" fill-rule=\"nonzero\" fill-opacity=\"1\" /><path clip-path=\"url(#clip980)\" d=\"M632.444 1517.37 Q628.832 1517.37 627.004 1520.93 Q625.198 1524.47 625.198 1531.6 Q625.198 1538.71 627.004 1542.27 Q628.832 1545.82 632.444 1545.82 Q636.078 1545.82 637.883 1542.27 Q639.712 1538.71 639.712 1531.6 Q639.712 1524.47 637.883 1520.93 Q636.078 1517.37 632.444 1517.37 M632.444 1513.66 Q638.254 1513.66 641.309 1518.27 Q644.388 1522.85 644.388 1531.6 Q644.388 1540.33 641.309 1544.94 Q638.254 1549.52 632.444 1549.52 Q626.633 1549.52 623.555 1544.94 Q620.499 1540.33 620.499 1531.6 Q620.499 1522.85 623.555 1518.27 Q626.633 1513.66 632.444 1513.66 Z\" fill=\"#000000\" fill-rule=\"nonzero\" fill-opacity=\"1\" /><path clip-path=\"url(#clip980)\" d=\"M652.605 1542.97 L657.49 1542.97 L657.49 1548.85 L652.605 1548.85 L652.605 1542.97 Z\" fill=\"#000000\" fill-rule=\"nonzero\" fill-opacity=\"1\" /><path clip-path=\"url(#clip980)\" d=\"M671.703 1544.91 L688.022 1544.91 L688.022 1548.85 L666.078 1548.85 L666.078 1544.91 Q668.74 1542.16 673.323 1537.53 Q677.929 1532.88 679.11 1531.53 Q681.355 1529.01 682.235 1527.27 Q683.138 1525.51 683.138 1523.82 Q683.138 1521.07 681.193 1519.33 Q679.272 1517.6 676.17 1517.6 Q673.971 1517.6 671.517 1518.36 Q669.087 1519.13 666.309 1520.68 L666.309 1515.95 Q669.133 1514.82 671.587 1514.24 Q674.041 1513.66 676.078 1513.66 Q681.448 1513.66 684.642 1516.35 Q687.837 1519.03 687.837 1523.52 Q687.837 1525.65 687.027 1527.57 Q686.24 1529.47 684.133 1532.07 Q683.554 1532.74 680.453 1535.95 Q677.351 1539.15 671.703 1544.91 Z\" fill=\"#000000\" fill-rule=\"nonzero\" fill-opacity=\"1\" /><path clip-path=\"url(#clip980)\" d=\"M1082.36 1517.37 Q1078.75 1517.37 1076.92 1520.93 Q1075.12 1524.47 1075.12 1531.6 Q1075.12 1538.71 1076.92 1542.27 Q1078.75 1545.82 1082.36 1545.82 Q1086 1545.82 1087.8 1542.27 Q1089.63 1538.71 1089.63 1531.6 Q1089.63 1524.47 1087.8 1520.93 Q1086 1517.37 1082.36 1517.37 M1082.36 1513.66 Q1088.17 1513.66 1091.23 1518.27 Q1094.31 1522.85 1094.31 1531.6 Q1094.31 1540.33 1091.23 1544.94 Q1088.17 1549.52 1082.36 1549.52 Q1076.55 1549.52 1073.47 1544.94 Q1070.42 1540.33 1070.42 1531.6 Q1070.42 1522.85 1073.47 1518.27 Q1076.55 1513.66 1082.36 1513.66 Z\" fill=\"#000000\" fill-rule=\"nonzero\" fill-opacity=\"1\" /><path clip-path=\"url(#clip980)\" d=\"M1102.52 1542.97 L1107.41 1542.97 L1107.41 1548.85 L1102.52 1548.85 L1102.52 1542.97 Z\" fill=\"#000000\" fill-rule=\"nonzero\" fill-opacity=\"1\" /><path clip-path=\"url(#clip980)\" d=\"M1130.44 1518.36 L1118.63 1536.81 L1130.44 1536.81 L1130.44 1518.36 M1129.21 1514.29 L1135.09 1514.29 L1135.09 1536.81 L1140.02 1536.81 L1140.02 1540.7 L1135.09 1540.7 L1135.09 1548.85 L1130.44 1548.85 L1130.44 1540.7 L1114.84 1540.7 L1114.84 1536.19 L1129.21 1514.29 Z\" fill=\"#000000\" fill-rule=\"nonzero\" fill-opacity=\"1\" /><path clip-path=\"url(#clip980)\" d=\"M1533.48 1517.37 Q1529.87 1517.37 1528.04 1520.93 Q1526.24 1524.47 1526.24 1531.6 Q1526.24 1538.71 1528.04 1542.27 Q1529.87 1545.82 1533.48 1545.82 Q1537.12 1545.82 1538.92 1542.27 Q1540.75 1538.71 1540.75 1531.6 Q1540.75 1524.47 1538.92 1520.93 Q1537.12 1517.37 1533.48 1517.37 M1533.48 1513.66 Q1539.29 1513.66 1542.35 1518.27 Q1545.43 1522.85 1545.43 1531.6 Q1545.43 1540.33 1542.35 1544.94 Q1539.29 1549.52 1533.48 1549.52 Q1527.67 1549.52 1524.59 1544.94 Q1521.54 1540.33 1521.54 1531.6 Q1521.54 1522.85 1524.59 1518.27 Q1527.67 1513.66 1533.48 1513.66 Z\" fill=\"#000000\" fill-rule=\"nonzero\" fill-opacity=\"1\" /><path clip-path=\"url(#clip980)\" d=\"M1553.64 1542.97 L1558.53 1542.97 L1558.53 1548.85 L1553.64 1548.85 L1553.64 1542.97 Z\" fill=\"#000000\" fill-rule=\"nonzero\" fill-opacity=\"1\" /><path clip-path=\"url(#clip980)\" d=\"M1579.29 1529.7 Q1576.14 1529.7 1574.29 1531.86 Q1572.46 1534.01 1572.46 1537.76 Q1572.46 1541.49 1574.29 1543.66 Q1576.14 1545.82 1579.29 1545.82 Q1582.44 1545.82 1584.27 1543.66 Q1586.12 1541.49 1586.12 1537.76 Q1586.12 1534.01 1584.27 1531.86 Q1582.44 1529.7 1579.29 1529.7 M1588.58 1515.05 L1588.58 1519.31 Q1586.82 1518.48 1585.01 1518.04 Q1583.23 1517.6 1581.47 1517.6 Q1576.84 1517.6 1574.39 1520.72 Q1571.96 1523.85 1571.61 1530.17 Q1572.97 1528.15 1575.03 1527.09 Q1577.09 1526 1579.57 1526 Q1584.78 1526 1587.79 1529.17 Q1590.82 1532.32 1590.82 1537.76 Q1590.82 1543.08 1587.67 1546.3 Q1584.52 1549.52 1579.29 1549.52 Q1573.3 1549.52 1570.13 1544.94 Q1566.96 1540.33 1566.96 1531.6 Q1566.96 1523.41 1570.84 1518.55 Q1574.73 1513.66 1581.28 1513.66 Q1583.04 1513.66 1584.83 1514.01 Q1586.63 1514.36 1588.58 1515.05 Z\" fill=\"#000000\" fill-rule=\"nonzero\" fill-opacity=\"1\" /><path clip-path=\"url(#clip980)\" d=\"M1984.57 1517.37 Q1980.96 1517.37 1979.13 1520.93 Q1977.32 1524.47 1977.32 1531.6 Q1977.32 1538.71 1979.13 1542.27 Q1980.96 1545.82 1984.57 1545.82 Q1988.2 1545.82 1990.01 1542.27 Q1991.84 1538.71 1991.84 1531.6 Q1991.84 1524.47 1990.01 1520.93 Q1988.2 1517.37 1984.57 1517.37 M1984.57 1513.66 Q1990.38 1513.66 1993.44 1518.27 Q1996.51 1522.85 1996.51 1531.6 Q1996.51 1540.33 1993.44 1544.94 Q1990.38 1549.52 1984.57 1549.52 Q1978.76 1549.52 1975.68 1544.94 Q1972.63 1540.33 1972.63 1531.6 Q1972.63 1522.85 1975.68 1518.27 Q1978.76 1513.66 1984.57 1513.66 Z\" fill=\"#000000\" fill-rule=\"nonzero\" fill-opacity=\"1\" /><path clip-path=\"url(#clip980)\" d=\"M2004.73 1542.97 L2009.62 1542.97 L2009.62 1548.85 L2004.73 1548.85 L2004.73 1542.97 Z\" fill=\"#000000\" fill-rule=\"nonzero\" fill-opacity=\"1\" /><path clip-path=\"url(#clip980)\" d=\"M2029.8 1532.44 Q2026.47 1532.44 2024.55 1534.22 Q2022.65 1536 2022.65 1539.13 Q2022.65 1542.25 2024.55 1544.03 Q2026.47 1545.82 2029.8 1545.82 Q2033.13 1545.82 2035.06 1544.03 Q2036.98 1542.23 2036.98 1539.13 Q2036.98 1536 2035.06 1534.22 Q2033.16 1532.44 2029.8 1532.44 M2025.13 1530.45 Q2022.12 1529.7 2020.43 1527.64 Q2018.76 1525.58 2018.76 1522.62 Q2018.76 1518.48 2021.7 1516.07 Q2024.66 1513.66 2029.8 1513.66 Q2034.96 1513.66 2037.9 1516.07 Q2040.84 1518.48 2040.84 1522.62 Q2040.84 1525.58 2039.15 1527.64 Q2037.49 1529.7 2034.5 1530.45 Q2037.88 1531.23 2039.75 1533.52 Q2041.65 1535.82 2041.65 1539.13 Q2041.65 1544.15 2038.57 1546.83 Q2035.52 1549.52 2029.8 1549.52 Q2024.08 1549.52 2021 1546.83 Q2017.95 1544.15 2017.95 1539.13 Q2017.95 1535.82 2019.85 1533.52 Q2021.75 1531.23 2025.13 1530.45 M2023.41 1523.06 Q2023.41 1525.75 2025.08 1527.25 Q2026.77 1528.76 2029.8 1528.76 Q2032.81 1528.76 2034.5 1527.25 Q2036.21 1525.75 2036.21 1523.06 Q2036.21 1520.38 2034.5 1518.87 Q2032.81 1517.37 2029.8 1517.37 Q2026.77 1517.37 2025.08 1518.87 Q2023.41 1520.38 2023.41 1523.06 Z\" fill=\"#000000\" fill-rule=\"nonzero\" fill-opacity=\"1\" /><polyline clip-path=\"url(#clip980)\" style=\"stroke:#000000; stroke-linecap:round; stroke-linejoin:round; stroke-width:4; stroke-opacity:1; fill:none\" points=\"140.696,1486.45 140.696,47.2441 \"/>\n",
       "<polyline clip-path=\"url(#clip980)\" style=\"stroke:#000000; stroke-linecap:round; stroke-linejoin:round; stroke-width:4; stroke-opacity:1; fill:none\" points=\"140.696,1445.72 159.593,1445.72 \"/>\n",
       "<polyline clip-path=\"url(#clip980)\" style=\"stroke:#000000; stroke-linecap:round; stroke-linejoin:round; stroke-width:4; stroke-opacity:1; fill:none\" points=\"140.696,1175.09 159.593,1175.09 \"/>\n",
       "<polyline clip-path=\"url(#clip980)\" style=\"stroke:#000000; stroke-linecap:round; stroke-linejoin:round; stroke-width:4; stroke-opacity:1; fill:none\" points=\"140.696,904.47 159.593,904.47 \"/>\n",
       "<polyline clip-path=\"url(#clip980)\" style=\"stroke:#000000; stroke-linecap:round; stroke-linejoin:round; stroke-width:4; stroke-opacity:1; fill:none\" points=\"140.696,633.847 159.593,633.847 \"/>\n",
       "<polyline clip-path=\"url(#clip980)\" style=\"stroke:#000000; stroke-linecap:round; stroke-linejoin:round; stroke-width:4; stroke-opacity:1; fill:none\" points=\"140.696,363.224 159.593,363.224 \"/>\n",
       "<polyline clip-path=\"url(#clip980)\" style=\"stroke:#000000; stroke-linecap:round; stroke-linejoin:round; stroke-width:4; stroke-opacity:1; fill:none\" points=\"140.696,92.6008 159.593,92.6008 \"/>\n",
       "<path clip-path=\"url(#clip980)\" d=\"M92.7512 1431.51 Q89.1401 1431.51 87.3114 1435.08 Q85.5058 1438.62 85.5058 1445.75 Q85.5058 1452.86 87.3114 1456.42 Q89.1401 1459.96 92.7512 1459.96 Q96.3854 1459.96 98.1909 1456.42 Q100.02 1452.86 100.02 1445.75 Q100.02 1438.62 98.1909 1435.08 Q96.3854 1431.51 92.7512 1431.51 M92.7512 1427.81 Q98.5613 1427.81 101.617 1432.42 Q104.696 1437 104.696 1445.75 Q104.696 1454.48 101.617 1459.08 Q98.5613 1463.67 92.7512 1463.67 Q86.941 1463.67 83.8623 1459.08 Q80.8068 1454.48 80.8068 1445.75 Q80.8068 1437 83.8623 1432.42 Q86.941 1427.81 92.7512 1427.81 Z\" fill=\"#000000\" fill-rule=\"nonzero\" fill-opacity=\"1\" /><path clip-path=\"url(#clip980)\" d=\"M83.7929 1157.81 L102.149 1157.81 L102.149 1161.75 L88.0753 1161.75 L88.0753 1170.22 Q89.0938 1169.87 90.1123 1169.71 Q91.1308 1169.53 92.1493 1169.53 Q97.9363 1169.53 101.316 1172.7 Q104.696 1175.87 104.696 1181.28 Q104.696 1186.86 101.223 1189.97 Q97.7511 1193.04 91.4317 1193.04 Q89.2558 1193.04 86.9873 1192.67 Q84.7419 1192.3 82.3346 1191.56 L82.3346 1186.86 Q84.4179 1188 86.6401 1188.55 Q88.8623 1189.11 91.3391 1189.11 Q95.3437 1189.11 97.6817 1187 Q100.02 1184.9 100.02 1181.28 Q100.02 1177.67 97.6817 1175.57 Q95.3437 1173.46 91.3391 1173.46 Q89.4641 1173.46 87.5892 1173.88 Q85.7373 1174.29 83.7929 1175.17 L83.7929 1157.81 Z\" fill=\"#000000\" fill-rule=\"nonzero\" fill-opacity=\"1\" /><path clip-path=\"url(#clip980)\" d=\"M53.3995 917.815 L61.0384 917.815 L61.0384 891.449 L52.7282 893.116 L52.7282 888.856 L60.9921 887.19 L65.668 887.19 L65.668 917.815 L73.3068 917.815 L73.3068 921.75 L53.3995 921.75 L53.3995 917.815 Z\" fill=\"#000000\" fill-rule=\"nonzero\" fill-opacity=\"1\" /><path clip-path=\"url(#clip980)\" d=\"M92.7512 890.268 Q89.1401 890.268 87.3114 893.833 Q85.5058 897.375 85.5058 904.504 Q85.5058 911.611 87.3114 915.176 Q89.1401 918.717 92.7512 918.717 Q96.3854 918.717 98.1909 915.176 Q100.02 911.611 100.02 904.504 Q100.02 897.375 98.1909 893.833 Q96.3854 890.268 92.7512 890.268 M92.7512 886.565 Q98.5613 886.565 101.617 891.171 Q104.696 895.755 104.696 904.504 Q104.696 913.231 101.617 917.838 Q98.5613 922.421 92.7512 922.421 Q86.941 922.421 83.8623 917.838 Q80.8068 913.231 80.8068 904.504 Q80.8068 895.755 83.8623 891.171 Q86.941 886.565 92.7512 886.565 Z\" fill=\"#000000\" fill-rule=\"nonzero\" fill-opacity=\"1\" /><path clip-path=\"url(#clip980)\" d=\"M54.3949 647.192 L62.0337 647.192 L62.0337 620.826 L53.7236 622.493 L53.7236 618.233 L61.9874 616.567 L66.6633 616.567 L66.6633 647.192 L74.3022 647.192 L74.3022 651.127 L54.3949 651.127 L54.3949 647.192 Z\" fill=\"#000000\" fill-rule=\"nonzero\" fill-opacity=\"1\" /><path clip-path=\"url(#clip980)\" d=\"M83.7929 616.567 L102.149 616.567 L102.149 620.502 L88.0753 620.502 L88.0753 628.974 Q89.0938 628.627 90.1123 628.465 Q91.1308 628.28 92.1493 628.28 Q97.9363 628.28 101.316 631.451 Q104.696 634.622 104.696 640.039 Q104.696 645.618 101.223 648.719 Q97.7511 651.798 91.4317 651.798 Q89.2558 651.798 86.9873 651.428 Q84.7419 651.057 82.3346 650.317 L82.3346 645.618 Q84.4179 646.752 86.6401 647.307 Q88.8623 647.863 91.3391 647.863 Q95.3437 647.863 97.6817 645.756 Q100.02 643.65 100.02 640.039 Q100.02 636.428 97.6817 634.321 Q95.3437 632.215 91.3391 632.215 Q89.4641 632.215 87.5892 632.632 Q85.7373 633.048 83.7929 633.928 L83.7929 616.567 Z\" fill=\"#000000\" fill-rule=\"nonzero\" fill-opacity=\"1\" /><path clip-path=\"url(#clip980)\" d=\"M56.6171 376.569 L72.9365 376.569 L72.9365 380.504 L50.9921 380.504 L50.9921 376.569 Q53.6541 373.814 58.2375 369.184 Q62.8439 364.532 64.0245 363.189 Q66.2698 360.666 67.1494 358.93 Q68.0522 357.171 68.0522 355.481 Q68.0522 352.726 66.1078 350.99 Q64.1865 349.254 61.0847 349.254 Q58.8856 349.254 56.4319 350.018 Q54.0014 350.782 51.2236 352.333 L51.2236 347.61 Q54.0477 346.476 56.5014 345.898 Q58.955 345.319 60.9921 345.319 Q66.3624 345.319 69.5568 348.004 Q72.7513 350.689 72.7513 355.18 Q72.7513 357.309 71.9411 359.231 Q71.1541 361.129 69.0476 363.721 Q68.4689 364.393 65.367 367.61 Q62.2652 370.805 56.6171 376.569 Z\" fill=\"#000000\" fill-rule=\"nonzero\" fill-opacity=\"1\" /><path clip-path=\"url(#clip980)\" d=\"M92.7512 349.022 Q89.1401 349.022 87.3114 352.587 Q85.5058 356.129 85.5058 363.259 Q85.5058 370.365 87.3114 373.93 Q89.1401 377.471 92.7512 377.471 Q96.3854 377.471 98.1909 373.93 Q100.02 370.365 100.02 363.259 Q100.02 356.129 98.1909 352.587 Q96.3854 349.022 92.7512 349.022 M92.7512 345.319 Q98.5613 345.319 101.617 349.925 Q104.696 354.509 104.696 363.259 Q104.696 371.985 101.617 376.592 Q98.5613 381.175 92.7512 381.175 Q86.941 381.175 83.8623 376.592 Q80.8068 371.985 80.8068 363.259 Q80.8068 354.509 83.8623 349.925 Q86.941 345.319 92.7512 345.319 Z\" fill=\"#000000\" fill-rule=\"nonzero\" fill-opacity=\"1\" /><path clip-path=\"url(#clip980)\" d=\"M57.6125 105.946 L73.9318 105.946 L73.9318 109.881 L51.9875 109.881 L51.9875 105.946 Q54.6495 103.191 59.2328 98.5615 Q63.8393 93.9087 65.0198 92.5661 Q67.2652 90.043 68.1448 88.3069 Q69.0476 86.5476 69.0476 84.8578 Q69.0476 82.1032 67.1032 80.3671 Q65.1819 78.631 62.08 78.631 Q59.881 78.631 57.4273 79.3949 Q54.9967 80.1588 52.219 81.7097 L52.219 76.9875 Q55.043 75.8532 57.4967 75.2745 Q59.9504 74.6958 61.9874 74.6958 Q67.3578 74.6958 70.5522 77.381 Q73.7466 80.0662 73.7466 84.5569 Q73.7466 86.6865 72.9365 88.6078 Q72.1494 90.5059 70.0429 93.0985 Q69.4642 93.7698 66.3624 96.9874 Q63.2606 100.182 57.6125 105.946 Z\" fill=\"#000000\" fill-rule=\"nonzero\" fill-opacity=\"1\" /><path clip-path=\"url(#clip980)\" d=\"M83.7929 75.3208 L102.149 75.3208 L102.149 79.256 L88.0753 79.256 L88.0753 87.7282 Q89.0938 87.381 90.1123 87.2189 Q91.1308 87.0337 92.1493 87.0337 Q97.9363 87.0337 101.316 90.205 Q104.696 93.3763 104.696 98.7929 Q104.696 104.372 101.223 107.473 Q97.7511 110.552 91.4317 110.552 Q89.2558 110.552 86.9873 110.182 Q84.7419 109.811 82.3346 109.071 L82.3346 104.372 Q84.4179 105.506 86.6401 106.061 Q88.8623 106.617 91.3391 106.617 Q95.3437 106.617 97.6817 104.511 Q100.02 102.404 100.02 98.7929 Q100.02 95.1818 97.6817 93.0754 Q95.3437 90.9689 91.3391 90.9689 Q89.4641 90.9689 87.5892 91.3856 Q85.7373 91.8022 83.7929 92.6819 L83.7929 75.3208 Z\" fill=\"#000000\" fill-rule=\"nonzero\" fill-opacity=\"1\" /><circle clip-path=\"url(#clip982)\" cx=\"203.301\" cy=\"1445.72\" r=\"14.4\" fill=\"#009af9\" fill-rule=\"evenodd\" fill-opacity=\"1\" stroke=\"#000000\" stroke-opacity=\"1\" stroke-width=\"3.2\"/>\n",
       "<circle clip-path=\"url(#clip982)\" cx=\"875.47\" cy=\"1445.49\" r=\"14.4\" fill=\"#009af9\" fill-rule=\"evenodd\" fill-opacity=\"1\" stroke=\"#000000\" stroke-opacity=\"1\" stroke-width=\"3.2\"/>\n",
       "<circle clip-path=\"url(#clip982)\" cx=\"909.759\" cy=\"1445.43\" r=\"14.4\" fill=\"#009af9\" fill-rule=\"evenodd\" fill-opacity=\"1\" stroke=\"#000000\" stroke-opacity=\"1\" stroke-width=\"3.2\"/>\n",
       "<circle clip-path=\"url(#clip982)\" cx=\"909.128\" cy=\"1445.4\" r=\"14.4\" fill=\"#009af9\" fill-rule=\"evenodd\" fill-opacity=\"1\" stroke=\"#000000\" stroke-opacity=\"1\" stroke-width=\"3.2\"/>\n",
       "<circle clip-path=\"url(#clip982)\" cx=\"907.351\" cy=\"1445.39\" r=\"14.4\" fill=\"#009af9\" fill-rule=\"evenodd\" fill-opacity=\"1\" stroke=\"#000000\" stroke-opacity=\"1\" stroke-width=\"3.2\"/>\n",
       "<circle clip-path=\"url(#clip982)\" cx=\"904.228\" cy=\"1445.38\" r=\"14.4\" fill=\"#009af9\" fill-rule=\"evenodd\" fill-opacity=\"1\" stroke=\"#000000\" stroke-opacity=\"1\" stroke-width=\"3.2\"/>\n",
       "<circle clip-path=\"url(#clip982)\" cx=\"203.301\" cy=\"1445.72\" r=\"14.4\" fill=\"#009af9\" fill-rule=\"evenodd\" fill-opacity=\"1\" stroke=\"#000000\" stroke-opacity=\"1\" stroke-width=\"3.2\"/>\n",
       "<circle clip-path=\"url(#clip982)\" cx=\"875.47\" cy=\"1445.49\" r=\"14.4\" fill=\"#009af9\" fill-rule=\"evenodd\" fill-opacity=\"1\" stroke=\"#000000\" stroke-opacity=\"1\" stroke-width=\"3.2\"/>\n",
       "<circle clip-path=\"url(#clip982)\" cx=\"909.759\" cy=\"1445.43\" r=\"14.4\" fill=\"#009af9\" fill-rule=\"evenodd\" fill-opacity=\"1\" stroke=\"#000000\" stroke-opacity=\"1\" stroke-width=\"3.2\"/>\n",
       "<circle clip-path=\"url(#clip982)\" cx=\"909.128\" cy=\"1445.4\" r=\"14.4\" fill=\"#009af9\" fill-rule=\"evenodd\" fill-opacity=\"1\" stroke=\"#000000\" stroke-opacity=\"1\" stroke-width=\"3.2\"/>\n",
       "<circle clip-path=\"url(#clip982)\" cx=\"907.351\" cy=\"1445.39\" r=\"14.4\" fill=\"#009af9\" fill-rule=\"evenodd\" fill-opacity=\"1\" stroke=\"#000000\" stroke-opacity=\"1\" stroke-width=\"3.2\"/>\n",
       "<circle clip-path=\"url(#clip982)\" cx=\"904.228\" cy=\"1445.38\" r=\"14.4\" fill=\"#009af9\" fill-rule=\"evenodd\" fill-opacity=\"1\" stroke=\"#000000\" stroke-opacity=\"1\" stroke-width=\"3.2\"/>\n",
       "<circle clip-path=\"url(#clip982)\" cx=\"203.301\" cy=\"1445.72\" r=\"14.4\" fill=\"#009af9\" fill-rule=\"evenodd\" fill-opacity=\"1\" stroke=\"#000000\" stroke-opacity=\"1\" stroke-width=\"3.2\"/>\n",
       "<circle clip-path=\"url(#clip982)\" cx=\"1312.59\" cy=\"1426.4\" r=\"14.4\" fill=\"#009af9\" fill-rule=\"evenodd\" fill-opacity=\"1\" stroke=\"#000000\" stroke-opacity=\"1\" stroke-width=\"3.2\"/>\n",
       "<circle clip-path=\"url(#clip982)\" cx=\"1355.16\" cy=\"1420.89\" r=\"14.4\" fill=\"#009af9\" fill-rule=\"evenodd\" fill-opacity=\"1\" stroke=\"#000000\" stroke-opacity=\"1\" stroke-width=\"3.2\"/>\n",
       "<circle clip-path=\"url(#clip982)\" cx=\"1379.77\" cy=\"1417.01\" r=\"14.4\" fill=\"#009af9\" fill-rule=\"evenodd\" fill-opacity=\"1\" stroke=\"#000000\" stroke-opacity=\"1\" stroke-width=\"3.2\"/>\n",
       "<circle clip-path=\"url(#clip982)\" cx=\"1399.88\" cy=\"1416.22\" r=\"14.4\" fill=\"#009af9\" fill-rule=\"evenodd\" fill-opacity=\"1\" stroke=\"#000000\" stroke-opacity=\"1\" stroke-width=\"3.2\"/>\n",
       "<circle clip-path=\"url(#clip982)\" cx=\"1421.92\" cy=\"1416.92\" r=\"14.4\" fill=\"#009af9\" fill-rule=\"evenodd\" fill-opacity=\"1\" stroke=\"#000000\" stroke-opacity=\"1\" stroke-width=\"3.2\"/>\n",
       "<circle clip-path=\"url(#clip982)\" cx=\"203.301\" cy=\"1445.72\" r=\"14.4\" fill=\"#009af9\" fill-rule=\"evenodd\" fill-opacity=\"1\" stroke=\"#000000\" stroke-opacity=\"1\" stroke-width=\"3.2\"/>\n",
       "<circle clip-path=\"url(#clip982)\" cx=\"1099.45\" cy=\"1443.66\" r=\"14.4\" fill=\"#009af9\" fill-rule=\"evenodd\" fill-opacity=\"1\" stroke=\"#000000\" stroke-opacity=\"1\" stroke-width=\"3.2\"/>\n",
       "<circle clip-path=\"url(#clip982)\" cx=\"875.566\" cy=\"1428.63\" r=\"14.4\" fill=\"#009af9\" fill-rule=\"evenodd\" fill-opacity=\"1\" stroke=\"#000000\" stroke-opacity=\"1\" stroke-width=\"3.2\"/>\n",
       "<circle clip-path=\"url(#clip982)\" cx=\"900.438\" cy=\"1419.33\" r=\"14.4\" fill=\"#009af9\" fill-rule=\"evenodd\" fill-opacity=\"1\" stroke=\"#000000\" stroke-opacity=\"1\" stroke-width=\"3.2\"/>\n",
       "<circle clip-path=\"url(#clip982)\" cx=\"957.179\" cy=\"1424.45\" r=\"14.4\" fill=\"#009af9\" fill-rule=\"evenodd\" fill-opacity=\"1\" stroke=\"#000000\" stroke-opacity=\"1\" stroke-width=\"3.2\"/>\n",
       "<circle clip-path=\"url(#clip982)\" cx=\"1106.3\" cy=\"1438.02\" r=\"14.4\" fill=\"#009af9\" fill-rule=\"evenodd\" fill-opacity=\"1\" stroke=\"#000000\" stroke-opacity=\"1\" stroke-width=\"3.2\"/>\n",
       "<circle clip-path=\"url(#clip982)\" cx=\"203.301\" cy=\"1445.72\" r=\"14.4\" fill=\"#009af9\" fill-rule=\"evenodd\" fill-opacity=\"1\" stroke=\"#000000\" stroke-opacity=\"1\" stroke-width=\"3.2\"/>\n",
       "<circle clip-path=\"url(#clip982)\" cx=\"1215.16\" cy=\"1391.08\" r=\"14.4\" fill=\"#009af9\" fill-rule=\"evenodd\" fill-opacity=\"1\" stroke=\"#000000\" stroke-opacity=\"1\" stroke-width=\"3.2\"/>\n",
       "<circle clip-path=\"url(#clip982)\" cx=\"1241.71\" cy=\"1365.18\" r=\"14.4\" fill=\"#009af9\" fill-rule=\"evenodd\" fill-opacity=\"1\" stroke=\"#000000\" stroke-opacity=\"1\" stroke-width=\"3.2\"/>\n",
       "<circle clip-path=\"url(#clip982)\" cx=\"1276.83\" cy=\"1351.03\" r=\"14.4\" fill=\"#009af9\" fill-rule=\"evenodd\" fill-opacity=\"1\" stroke=\"#000000\" stroke-opacity=\"1\" stroke-width=\"3.2\"/>\n",
       "<circle clip-path=\"url(#clip982)\" cx=\"1306.75\" cy=\"1342.64\" r=\"14.4\" fill=\"#009af9\" fill-rule=\"evenodd\" fill-opacity=\"1\" stroke=\"#000000\" stroke-opacity=\"1\" stroke-width=\"3.2\"/>\n",
       "<circle clip-path=\"url(#clip982)\" cx=\"1350.98\" cy=\"1337.91\" r=\"14.4\" fill=\"#009af9\" fill-rule=\"evenodd\" fill-opacity=\"1\" stroke=\"#000000\" stroke-opacity=\"1\" stroke-width=\"3.2\"/>\n",
       "<circle clip-path=\"url(#clip982)\" cx=\"203.301\" cy=\"1445.72\" r=\"14.4\" fill=\"#009af9\" fill-rule=\"evenodd\" fill-opacity=\"1\" stroke=\"#000000\" stroke-opacity=\"1\" stroke-width=\"3.2\"/>\n",
       "<circle clip-path=\"url(#clip982)\" cx=\"1599.66\" cy=\"1381.81\" r=\"14.4\" fill=\"#009af9\" fill-rule=\"evenodd\" fill-opacity=\"1\" stroke=\"#000000\" stroke-opacity=\"1\" stroke-width=\"3.2\"/>\n",
       "<circle clip-path=\"url(#clip982)\" cx=\"2111.09\" cy=\"1399.55\" r=\"14.4\" fill=\"#009af9\" fill-rule=\"evenodd\" fill-opacity=\"1\" stroke=\"#000000\" stroke-opacity=\"1\" stroke-width=\"3.2\"/>\n",
       "<circle clip-path=\"url(#clip982)\" cx=\"2259.61\" cy=\"1430.55\" r=\"14.4\" fill=\"#009af9\" fill-rule=\"evenodd\" fill-opacity=\"1\" stroke=\"#000000\" stroke-opacity=\"1\" stroke-width=\"3.2\"/>\n",
       "<circle clip-path=\"url(#clip982)\" cx=\"2290.15\" cy=\"1441.73\" r=\"14.4\" fill=\"#009af9\" fill-rule=\"evenodd\" fill-opacity=\"1\" stroke=\"#000000\" stroke-opacity=\"1\" stroke-width=\"3.2\"/>\n",
       "<circle clip-path=\"url(#clip982)\" cx=\"2145.76\" cy=\"1445.58\" r=\"14.4\" fill=\"#009af9\" fill-rule=\"evenodd\" fill-opacity=\"1\" stroke=\"#000000\" stroke-opacity=\"1\" stroke-width=\"3.2\"/>\n",
       "<circle clip-path=\"url(#clip982)\" cx=\"203.301\" cy=\"1445.72\" r=\"14.4\" fill=\"#009af9\" fill-rule=\"evenodd\" fill-opacity=\"1\" stroke=\"#000000\" stroke-opacity=\"1\" stroke-width=\"3.2\"/>\n",
       "<circle clip-path=\"url(#clip982)\" cx=\"1327.38\" cy=\"1418.65\" r=\"14.4\" fill=\"#009af9\" fill-rule=\"evenodd\" fill-opacity=\"1\" stroke=\"#000000\" stroke-opacity=\"1\" stroke-width=\"3.2\"/>\n",
       "<circle clip-path=\"url(#clip982)\" cx=\"1591.53\" cy=\"1442.44\" r=\"14.4\" fill=\"#009af9\" fill-rule=\"evenodd\" fill-opacity=\"1\" stroke=\"#000000\" stroke-opacity=\"1\" stroke-width=\"3.2\"/>\n",
       "<circle clip-path=\"url(#clip982)\" cx=\"1487.24\" cy=\"1435.96\" r=\"14.4\" fill=\"#009af9\" fill-rule=\"evenodd\" fill-opacity=\"1\" stroke=\"#000000\" stroke-opacity=\"1\" stroke-width=\"3.2\"/>\n",
       "<circle clip-path=\"url(#clip982)\" cx=\"1299.83\" cy=\"1440.41\" r=\"14.4\" fill=\"#009af9\" fill-rule=\"evenodd\" fill-opacity=\"1\" stroke=\"#000000\" stroke-opacity=\"1\" stroke-width=\"3.2\"/>\n",
       "<circle clip-path=\"url(#clip982)\" cx=\"945.469\" cy=\"1444.59\" r=\"14.4\" fill=\"#009af9\" fill-rule=\"evenodd\" fill-opacity=\"1\" stroke=\"#000000\" stroke-opacity=\"1\" stroke-width=\"3.2\"/>\n",
       "<circle clip-path=\"url(#clip982)\" cx=\"203.301\" cy=\"1445.72\" r=\"14.4\" fill=\"#009af9\" fill-rule=\"evenodd\" fill-opacity=\"1\" stroke=\"#000000\" stroke-opacity=\"1\" stroke-width=\"3.2\"/>\n",
       "<circle clip-path=\"url(#clip982)\" cx=\"578.108\" cy=\"1189.97\" r=\"14.4\" fill=\"#009af9\" fill-rule=\"evenodd\" fill-opacity=\"1\" stroke=\"#000000\" stroke-opacity=\"1\" stroke-width=\"3.2\"/>\n",
       "<circle clip-path=\"url(#clip982)\" cx=\"603.78\" cy=\"1297.27\" r=\"14.4\" fill=\"#009af9\" fill-rule=\"evenodd\" fill-opacity=\"1\" stroke=\"#000000\" stroke-opacity=\"1\" stroke-width=\"3.2\"/>\n",
       "<circle clip-path=\"url(#clip982)\" cx=\"627.185\" cy=\"1354.07\" r=\"14.4\" fill=\"#009af9\" fill-rule=\"evenodd\" fill-opacity=\"1\" stroke=\"#000000\" stroke-opacity=\"1\" stroke-width=\"3.2\"/>\n",
       "<circle clip-path=\"url(#clip982)\" cx=\"638.433\" cy=\"1384.1\" r=\"14.4\" fill=\"#009af9\" fill-rule=\"evenodd\" fill-opacity=\"1\" stroke=\"#000000\" stroke-opacity=\"1\" stroke-width=\"3.2\"/>\n",
       "<circle clip-path=\"url(#clip982)\" cx=\"636.132\" cy=\"1416.95\" r=\"14.4\" fill=\"#009af9\" fill-rule=\"evenodd\" fill-opacity=\"1\" stroke=\"#000000\" stroke-opacity=\"1\" stroke-width=\"3.2\"/>\n",
       "<circle clip-path=\"url(#clip982)\" cx=\"203.301\" cy=\"1445.72\" r=\"14.4\" fill=\"#009af9\" fill-rule=\"evenodd\" fill-opacity=\"1\" stroke=\"#000000\" stroke-opacity=\"1\" stroke-width=\"3.2\"/>\n",
       "<circle clip-path=\"url(#clip982)\" cx=\"1967.09\" cy=\"1439.45\" r=\"14.4\" fill=\"#009af9\" fill-rule=\"evenodd\" fill-opacity=\"1\" stroke=\"#000000\" stroke-opacity=\"1\" stroke-width=\"3.2\"/>\n",
       "<circle clip-path=\"url(#clip982)\" cx=\"1479.3\" cy=\"1435.03\" r=\"14.4\" fill=\"#009af9\" fill-rule=\"evenodd\" fill-opacity=\"1\" stroke=\"#000000\" stroke-opacity=\"1\" stroke-width=\"3.2\"/>\n",
       "<circle clip-path=\"url(#clip982)\" cx=\"1311.35\" cy=\"1430.72\" r=\"14.4\" fill=\"#009af9\" fill-rule=\"evenodd\" fill-opacity=\"1\" stroke=\"#000000\" stroke-opacity=\"1\" stroke-width=\"3.2\"/>\n",
       "<circle clip-path=\"url(#clip982)\" cx=\"1267.06\" cy=\"1428.27\" r=\"14.4\" fill=\"#009af9\" fill-rule=\"evenodd\" fill-opacity=\"1\" stroke=\"#000000\" stroke-opacity=\"1\" stroke-width=\"3.2\"/>\n",
       "<circle clip-path=\"url(#clip982)\" cx=\"1240.46\" cy=\"1425.6\" r=\"14.4\" fill=\"#009af9\" fill-rule=\"evenodd\" fill-opacity=\"1\" stroke=\"#000000\" stroke-opacity=\"1\" stroke-width=\"3.2\"/>\n",
       "<circle clip-path=\"url(#clip982)\" cx=\"203.301\" cy=\"1445.72\" r=\"14.4\" fill=\"#009af9\" fill-rule=\"evenodd\" fill-opacity=\"1\" stroke=\"#000000\" stroke-opacity=\"1\" stroke-width=\"3.2\"/>\n",
       "<circle clip-path=\"url(#clip982)\" cx=\"1601.48\" cy=\"1434.77\" r=\"14.4\" fill=\"#009af9\" fill-rule=\"evenodd\" fill-opacity=\"1\" stroke=\"#000000\" stroke-opacity=\"1\" stroke-width=\"3.2\"/>\n",
       "<circle clip-path=\"url(#clip982)\" cx=\"1580.4\" cy=\"1439.94\" r=\"14.4\" fill=\"#009af9\" fill-rule=\"evenodd\" fill-opacity=\"1\" stroke=\"#000000\" stroke-opacity=\"1\" stroke-width=\"3.2\"/>\n",
       "<circle clip-path=\"url(#clip982)\" cx=\"1574.02\" cy=\"1443.87\" r=\"14.4\" fill=\"#009af9\" fill-rule=\"evenodd\" fill-opacity=\"1\" stroke=\"#000000\" stroke-opacity=\"1\" stroke-width=\"3.2\"/>\n",
       "<circle clip-path=\"url(#clip982)\" cx=\"1565.9\" cy=\"1444.95\" r=\"14.4\" fill=\"#009af9\" fill-rule=\"evenodd\" fill-opacity=\"1\" stroke=\"#000000\" stroke-opacity=\"1\" stroke-width=\"3.2\"/>\n",
       "<circle clip-path=\"url(#clip982)\" cx=\"1554.62\" cy=\"1445.4\" r=\"14.4\" fill=\"#009af9\" fill-rule=\"evenodd\" fill-opacity=\"1\" stroke=\"#000000\" stroke-opacity=\"1\" stroke-width=\"3.2\"/>\n",
       "<circle clip-path=\"url(#clip982)\" cx=\"203.301\" cy=\"1445.72\" r=\"14.4\" fill=\"#009af9\" fill-rule=\"evenodd\" fill-opacity=\"1\" stroke=\"#000000\" stroke-opacity=\"1\" stroke-width=\"3.2\"/>\n",
       "<circle clip-path=\"url(#clip982)\" cx=\"2088.93\" cy=\"1369.66\" r=\"14.4\" fill=\"#009af9\" fill-rule=\"evenodd\" fill-opacity=\"1\" stroke=\"#000000\" stroke-opacity=\"1\" stroke-width=\"3.2\"/>\n",
       "<circle clip-path=\"url(#clip982)\" cx=\"1619.91\" cy=\"1393.81\" r=\"14.4\" fill=\"#009af9\" fill-rule=\"evenodd\" fill-opacity=\"1\" stroke=\"#000000\" stroke-opacity=\"1\" stroke-width=\"3.2\"/>\n",
       "<circle clip-path=\"url(#clip982)\" cx=\"1269.36\" cy=\"1421.06\" r=\"14.4\" fill=\"#009af9\" fill-rule=\"evenodd\" fill-opacity=\"1\" stroke=\"#000000\" stroke-opacity=\"1\" stroke-width=\"3.2\"/>\n",
       "<circle clip-path=\"url(#clip982)\" cx=\"1171.53\" cy=\"1428.63\" r=\"14.4\" fill=\"#009af9\" fill-rule=\"evenodd\" fill-opacity=\"1\" stroke=\"#000000\" stroke-opacity=\"1\" stroke-width=\"3.2\"/>\n",
       "<circle clip-path=\"url(#clip982)\" cx=\"1167.72\" cy=\"1430.83\" r=\"14.4\" fill=\"#009af9\" fill-rule=\"evenodd\" fill-opacity=\"1\" stroke=\"#000000\" stroke-opacity=\"1\" stroke-width=\"3.2\"/>\n",
       "<circle clip-path=\"url(#clip982)\" cx=\"203.301\" cy=\"1445.72\" r=\"14.4\" fill=\"#009af9\" fill-rule=\"evenodd\" fill-opacity=\"1\" stroke=\"#000000\" stroke-opacity=\"1\" stroke-width=\"3.2\"/>\n",
       "<circle clip-path=\"url(#clip982)\" cx=\"1661.98\" cy=\"1443.45\" r=\"14.4\" fill=\"#009af9\" fill-rule=\"evenodd\" fill-opacity=\"1\" stroke=\"#000000\" stroke-opacity=\"1\" stroke-width=\"3.2\"/>\n",
       "<circle clip-path=\"url(#clip982)\" cx=\"1596.7\" cy=\"1442.49\" r=\"14.4\" fill=\"#009af9\" fill-rule=\"evenodd\" fill-opacity=\"1\" stroke=\"#000000\" stroke-opacity=\"1\" stroke-width=\"3.2\"/>\n",
       "<circle clip-path=\"url(#clip982)\" cx=\"1605.35\" cy=\"1442.58\" r=\"14.4\" fill=\"#009af9\" fill-rule=\"evenodd\" fill-opacity=\"1\" stroke=\"#000000\" stroke-opacity=\"1\" stroke-width=\"3.2\"/>\n",
       "<circle clip-path=\"url(#clip982)\" cx=\"1608.15\" cy=\"1443.36\" r=\"14.4\" fill=\"#009af9\" fill-rule=\"evenodd\" fill-opacity=\"1\" stroke=\"#000000\" stroke-opacity=\"1\" stroke-width=\"3.2\"/>\n",
       "<circle clip-path=\"url(#clip982)\" cx=\"1655.56\" cy=\"1443.99\" r=\"14.4\" fill=\"#009af9\" fill-rule=\"evenodd\" fill-opacity=\"1\" stroke=\"#000000\" stroke-opacity=\"1\" stroke-width=\"3.2\"/>\n",
       "<circle clip-path=\"url(#clip982)\" cx=\"203.301\" cy=\"1445.72\" r=\"14.4\" fill=\"#009af9\" fill-rule=\"evenodd\" fill-opacity=\"1\" stroke=\"#000000\" stroke-opacity=\"1\" stroke-width=\"3.2\"/>\n",
       "<circle clip-path=\"url(#clip982)\" cx=\"1883.56\" cy=\"1385.74\" r=\"14.4\" fill=\"#009af9\" fill-rule=\"evenodd\" fill-opacity=\"1\" stroke=\"#000000\" stroke-opacity=\"1\" stroke-width=\"3.2\"/>\n",
       "<circle clip-path=\"url(#clip982)\" cx=\"1658.21\" cy=\"1408.7\" r=\"14.4\" fill=\"#009af9\" fill-rule=\"evenodd\" fill-opacity=\"1\" stroke=\"#000000\" stroke-opacity=\"1\" stroke-width=\"3.2\"/>\n",
       "<circle clip-path=\"url(#clip982)\" cx=\"1613.13\" cy=\"1423.91\" r=\"14.4\" fill=\"#009af9\" fill-rule=\"evenodd\" fill-opacity=\"1\" stroke=\"#000000\" stroke-opacity=\"1\" stroke-width=\"3.2\"/>\n",
       "<circle clip-path=\"url(#clip982)\" cx=\"1606.71\" cy=\"1430.77\" r=\"14.4\" fill=\"#009af9\" fill-rule=\"evenodd\" fill-opacity=\"1\" stroke=\"#000000\" stroke-opacity=\"1\" stroke-width=\"3.2\"/>\n",
       "<circle clip-path=\"url(#clip982)\" cx=\"1609.78\" cy=\"1435.63\" r=\"14.4\" fill=\"#009af9\" fill-rule=\"evenodd\" fill-opacity=\"1\" stroke=\"#000000\" stroke-opacity=\"1\" stroke-width=\"3.2\"/>\n",
       "<circle clip-path=\"url(#clip982)\" cx=\"203.301\" cy=\"1445.72\" r=\"14.4\" fill=\"#009af9\" fill-rule=\"evenodd\" fill-opacity=\"1\" stroke=\"#000000\" stroke-opacity=\"1\" stroke-width=\"3.2\"/>\n",
       "<circle clip-path=\"url(#clip982)\" cx=\"1178.77\" cy=\"1367.43\" r=\"14.4\" fill=\"#009af9\" fill-rule=\"evenodd\" fill-opacity=\"1\" stroke=\"#000000\" stroke-opacity=\"1\" stroke-width=\"3.2\"/>\n",
       "<circle clip-path=\"url(#clip982)\" cx=\"1215.59\" cy=\"1373.43\" r=\"14.4\" fill=\"#009af9\" fill-rule=\"evenodd\" fill-opacity=\"1\" stroke=\"#000000\" stroke-opacity=\"1\" stroke-width=\"3.2\"/>\n",
       "<circle clip-path=\"url(#clip982)\" cx=\"1188.66\" cy=\"1391.02\" r=\"14.4\" fill=\"#009af9\" fill-rule=\"evenodd\" fill-opacity=\"1\" stroke=\"#000000\" stroke-opacity=\"1\" stroke-width=\"3.2\"/>\n",
       "<circle clip-path=\"url(#clip982)\" cx=\"1165.19\" cy=\"1396.63\" r=\"14.4\" fill=\"#009af9\" fill-rule=\"evenodd\" fill-opacity=\"1\" stroke=\"#000000\" stroke-opacity=\"1\" stroke-width=\"3.2\"/>\n",
       "<circle clip-path=\"url(#clip982)\" cx=\"1111.26\" cy=\"1391.52\" r=\"14.4\" fill=\"#009af9\" fill-rule=\"evenodd\" fill-opacity=\"1\" stroke=\"#000000\" stroke-opacity=\"1\" stroke-width=\"3.2\"/>\n",
       "<circle clip-path=\"url(#clip982)\" cx=\"203.301\" cy=\"1445.72\" r=\"14.4\" fill=\"#009af9\" fill-rule=\"evenodd\" fill-opacity=\"1\" stroke=\"#000000\" stroke-opacity=\"1\" stroke-width=\"3.2\"/>\n",
       "<circle clip-path=\"url(#clip982)\" cx=\"830.935\" cy=\"87.9763\" r=\"14.4\" fill=\"#009af9\" fill-rule=\"evenodd\" fill-opacity=\"1\" stroke=\"#000000\" stroke-opacity=\"1\" stroke-width=\"3.2\"/>\n",
       "<circle clip-path=\"url(#clip982)\" cx=\"870.975\" cy=\"793.937\" r=\"14.4\" fill=\"#009af9\" fill-rule=\"evenodd\" fill-opacity=\"1\" stroke=\"#000000\" stroke-opacity=\"1\" stroke-width=\"3.2\"/>\n",
       "<circle clip-path=\"url(#clip982)\" cx=\"864.792\" cy=\"1245.39\" r=\"14.4\" fill=\"#009af9\" fill-rule=\"evenodd\" fill-opacity=\"1\" stroke=\"#000000\" stroke-opacity=\"1\" stroke-width=\"3.2\"/>\n",
       "<circle clip-path=\"url(#clip982)\" cx=\"815.073\" cy=\"1330.86\" r=\"14.4\" fill=\"#009af9\" fill-rule=\"evenodd\" fill-opacity=\"1\" stroke=\"#000000\" stroke-opacity=\"1\" stroke-width=\"3.2\"/>\n",
       "<circle clip-path=\"url(#clip982)\" cx=\"676.279\" cy=\"1389.15\" r=\"14.4\" fill=\"#009af9\" fill-rule=\"evenodd\" fill-opacity=\"1\" stroke=\"#000000\" stroke-opacity=\"1\" stroke-width=\"3.2\"/>\n",
       "<circle clip-path=\"url(#clip982)\" cx=\"203.301\" cy=\"1445.72\" r=\"14.4\" fill=\"#009af9\" fill-rule=\"evenodd\" fill-opacity=\"1\" stroke=\"#000000\" stroke-opacity=\"1\" stroke-width=\"3.2\"/>\n",
       "<circle clip-path=\"url(#clip982)\" cx=\"581.078\" cy=\"1391.4\" r=\"14.4\" fill=\"#009af9\" fill-rule=\"evenodd\" fill-opacity=\"1\" stroke=\"#000000\" stroke-opacity=\"1\" stroke-width=\"3.2\"/>\n",
       "<circle clip-path=\"url(#clip982)\" cx=\"647.029\" cy=\"1389.83\" r=\"14.4\" fill=\"#009af9\" fill-rule=\"evenodd\" fill-opacity=\"1\" stroke=\"#000000\" stroke-opacity=\"1\" stroke-width=\"3.2\"/>\n",
       "<circle clip-path=\"url(#clip982)\" cx=\"681.32\" cy=\"1419.07\" r=\"14.4\" fill=\"#009af9\" fill-rule=\"evenodd\" fill-opacity=\"1\" stroke=\"#000000\" stroke-opacity=\"1\" stroke-width=\"3.2\"/>\n",
       "<circle clip-path=\"url(#clip982)\" cx=\"687.594\" cy=\"1433.89\" r=\"14.4\" fill=\"#009af9\" fill-rule=\"evenodd\" fill-opacity=\"1\" stroke=\"#000000\" stroke-opacity=\"1\" stroke-width=\"3.2\"/>\n",
       "<circle clip-path=\"url(#clip982)\" cx=\"659.599\" cy=\"1431.91\" r=\"14.4\" fill=\"#009af9\" fill-rule=\"evenodd\" fill-opacity=\"1\" stroke=\"#000000\" stroke-opacity=\"1\" stroke-width=\"3.2\"/>\n",
       "<circle clip-path=\"url(#clip982)\" cx=\"203.301\" cy=\"1445.72\" r=\"14.4\" fill=\"#009af9\" fill-rule=\"evenodd\" fill-opacity=\"1\" stroke=\"#000000\" stroke-opacity=\"1\" stroke-width=\"3.2\"/>\n",
       "<circle clip-path=\"url(#clip982)\" cx=\"990.562\" cy=\"1299.29\" r=\"14.4\" fill=\"#009af9\" fill-rule=\"evenodd\" fill-opacity=\"1\" stroke=\"#000000\" stroke-opacity=\"1\" stroke-width=\"3.2\"/>\n",
       "<circle clip-path=\"url(#clip982)\" cx=\"888.273\" cy=\"1323.41\" r=\"14.4\" fill=\"#009af9\" fill-rule=\"evenodd\" fill-opacity=\"1\" stroke=\"#000000\" stroke-opacity=\"1\" stroke-width=\"3.2\"/>\n",
       "<circle clip-path=\"url(#clip982)\" cx=\"899.379\" cy=\"1402.2\" r=\"14.4\" fill=\"#009af9\" fill-rule=\"evenodd\" fill-opacity=\"1\" stroke=\"#000000\" stroke-opacity=\"1\" stroke-width=\"3.2\"/>\n",
       "<circle clip-path=\"url(#clip982)\" cx=\"938.226\" cy=\"1435.08\" r=\"14.4\" fill=\"#009af9\" fill-rule=\"evenodd\" fill-opacity=\"1\" stroke=\"#000000\" stroke-opacity=\"1\" stroke-width=\"3.2\"/>\n",
       "<circle clip-path=\"url(#clip982)\" cx=\"1077.73\" cy=\"1445.25\" r=\"14.4\" fill=\"#009af9\" fill-rule=\"evenodd\" fill-opacity=\"1\" stroke=\"#000000\" stroke-opacity=\"1\" stroke-width=\"3.2\"/>\n",
       "<circle clip-path=\"url(#clip982)\" cx=\"203.301\" cy=\"1445.72\" r=\"14.4\" fill=\"#009af9\" fill-rule=\"evenodd\" fill-opacity=\"1\" stroke=\"#000000\" stroke-opacity=\"1\" stroke-width=\"3.2\"/>\n",
       "<circle clip-path=\"url(#clip982)\" cx=\"1520.45\" cy=\"1418.89\" r=\"14.4\" fill=\"#009af9\" fill-rule=\"evenodd\" fill-opacity=\"1\" stroke=\"#000000\" stroke-opacity=\"1\" stroke-width=\"3.2\"/>\n",
       "<circle clip-path=\"url(#clip982)\" cx=\"1584.53\" cy=\"1437.07\" r=\"14.4\" fill=\"#009af9\" fill-rule=\"evenodd\" fill-opacity=\"1\" stroke=\"#000000\" stroke-opacity=\"1\" stroke-width=\"3.2\"/>\n",
       "<circle clip-path=\"url(#clip982)\" cx=\"1614.09\" cy=\"1438.78\" r=\"14.4\" fill=\"#009af9\" fill-rule=\"evenodd\" fill-opacity=\"1\" stroke=\"#000000\" stroke-opacity=\"1\" stroke-width=\"3.2\"/>\n",
       "<circle clip-path=\"url(#clip982)\" cx=\"1630.22\" cy=\"1429.91\" r=\"14.4\" fill=\"#009af9\" fill-rule=\"evenodd\" fill-opacity=\"1\" stroke=\"#000000\" stroke-opacity=\"1\" stroke-width=\"3.2\"/>\n",
       "<circle clip-path=\"url(#clip982)\" cx=\"1659.76\" cy=\"1423.88\" r=\"14.4\" fill=\"#009af9\" fill-rule=\"evenodd\" fill-opacity=\"1\" stroke=\"#000000\" stroke-opacity=\"1\" stroke-width=\"3.2\"/>\n",
       "<circle clip-path=\"url(#clip982)\" cx=\"203.301\" cy=\"1445.72\" r=\"14.4\" fill=\"#009af9\" fill-rule=\"evenodd\" fill-opacity=\"1\" stroke=\"#000000\" stroke-opacity=\"1\" stroke-width=\"3.2\"/>\n",
       "<circle clip-path=\"url(#clip982)\" cx=\"857.963\" cy=\"1229.74\" r=\"14.4\" fill=\"#009af9\" fill-rule=\"evenodd\" fill-opacity=\"1\" stroke=\"#000000\" stroke-opacity=\"1\" stroke-width=\"3.2\"/>\n",
       "<circle clip-path=\"url(#clip982)\" cx=\"759.113\" cy=\"1264.95\" r=\"14.4\" fill=\"#009af9\" fill-rule=\"evenodd\" fill-opacity=\"1\" stroke=\"#000000\" stroke-opacity=\"1\" stroke-width=\"3.2\"/>\n",
       "<circle clip-path=\"url(#clip982)\" cx=\"781.505\" cy=\"1378.4\" r=\"14.4\" fill=\"#009af9\" fill-rule=\"evenodd\" fill-opacity=\"1\" stroke=\"#000000\" stroke-opacity=\"1\" stroke-width=\"3.2\"/>\n",
       "<circle clip-path=\"url(#clip982)\" cx=\"830.484\" cy=\"1443.16\" r=\"14.4\" fill=\"#009af9\" fill-rule=\"evenodd\" fill-opacity=\"1\" stroke=\"#000000\" stroke-opacity=\"1\" stroke-width=\"3.2\"/>\n",
       "<circle clip-path=\"url(#clip982)\" cx=\"966.124\" cy=\"1431.51\" r=\"14.4\" fill=\"#009af9\" fill-rule=\"evenodd\" fill-opacity=\"1\" stroke=\"#000000\" stroke-opacity=\"1\" stroke-width=\"3.2\"/>\n",
       "<circle clip-path=\"url(#clip982)\" cx=\"203.301\" cy=\"1445.72\" r=\"14.4\" fill=\"#009af9\" fill-rule=\"evenodd\" fill-opacity=\"1\" stroke=\"#000000\" stroke-opacity=\"1\" stroke-width=\"3.2\"/>\n",
       "<circle clip-path=\"url(#clip982)\" cx=\"1142.89\" cy=\"1429.67\" r=\"14.4\" fill=\"#009af9\" fill-rule=\"evenodd\" fill-opacity=\"1\" stroke=\"#000000\" stroke-opacity=\"1\" stroke-width=\"3.2\"/>\n",
       "<circle clip-path=\"url(#clip982)\" cx=\"907.949\" cy=\"1439.05\" r=\"14.4\" fill=\"#009af9\" fill-rule=\"evenodd\" fill-opacity=\"1\" stroke=\"#000000\" stroke-opacity=\"1\" stroke-width=\"3.2\"/>\n",
       "<circle clip-path=\"url(#clip982)\" cx=\"892.335\" cy=\"1442.07\" r=\"14.4\" fill=\"#009af9\" fill-rule=\"evenodd\" fill-opacity=\"1\" stroke=\"#000000\" stroke-opacity=\"1\" stroke-width=\"3.2\"/>\n",
       "<circle clip-path=\"url(#clip982)\" cx=\"908.814\" cy=\"1443.71\" r=\"14.4\" fill=\"#009af9\" fill-rule=\"evenodd\" fill-opacity=\"1\" stroke=\"#000000\" stroke-opacity=\"1\" stroke-width=\"3.2\"/>\n",
       "<circle clip-path=\"url(#clip982)\" cx=\"877.218\" cy=\"1445.42\" r=\"14.4\" fill=\"#009af9\" fill-rule=\"evenodd\" fill-opacity=\"1\" stroke=\"#000000\" stroke-opacity=\"1\" stroke-width=\"3.2\"/>\n",
       "<circle clip-path=\"url(#clip982)\" cx=\"203.301\" cy=\"1445.72\" r=\"14.4\" fill=\"#009af9\" fill-rule=\"evenodd\" fill-opacity=\"1\" stroke=\"#000000\" stroke-opacity=\"1\" stroke-width=\"3.2\"/>\n",
       "<circle clip-path=\"url(#clip982)\" cx=\"1032.02\" cy=\"326.23\" r=\"14.4\" fill=\"#009af9\" fill-rule=\"evenodd\" fill-opacity=\"1\" stroke=\"#000000\" stroke-opacity=\"1\" stroke-width=\"3.2\"/>\n",
       "<circle clip-path=\"url(#clip982)\" cx=\"1104.2\" cy=\"1003.69\" r=\"14.4\" fill=\"#009af9\" fill-rule=\"evenodd\" fill-opacity=\"1\" stroke=\"#000000\" stroke-opacity=\"1\" stroke-width=\"3.2\"/>\n",
       "<circle clip-path=\"url(#clip982)\" cx=\"1221.99\" cy=\"1371.59\" r=\"14.4\" fill=\"#009af9\" fill-rule=\"evenodd\" fill-opacity=\"1\" stroke=\"#000000\" stroke-opacity=\"1\" stroke-width=\"3.2\"/>\n",
       "<circle clip-path=\"url(#clip982)\" cx=\"1342.05\" cy=\"1423.86\" r=\"14.4\" fill=\"#009af9\" fill-rule=\"evenodd\" fill-opacity=\"1\" stroke=\"#000000\" stroke-opacity=\"1\" stroke-width=\"3.2\"/>\n",
       "<circle clip-path=\"url(#clip982)\" cx=\"1641.21\" cy=\"1442.51\" r=\"14.4\" fill=\"#009af9\" fill-rule=\"evenodd\" fill-opacity=\"1\" stroke=\"#000000\" stroke-opacity=\"1\" stroke-width=\"3.2\"/>\n",
       "<circle clip-path=\"url(#clip982)\" cx=\"203.301\" cy=\"1445.72\" r=\"14.4\" fill=\"#009af9\" fill-rule=\"evenodd\" fill-opacity=\"1\" stroke=\"#000000\" stroke-opacity=\"1\" stroke-width=\"3.2\"/>\n",
       "<circle clip-path=\"url(#clip982)\" cx=\"1992.77\" cy=\"1440.47\" r=\"14.4\" fill=\"#009af9\" fill-rule=\"evenodd\" fill-opacity=\"1\" stroke=\"#000000\" stroke-opacity=\"1\" stroke-width=\"3.2\"/>\n",
       "<circle clip-path=\"url(#clip982)\" cx=\"1600.82\" cy=\"1442.1\" r=\"14.4\" fill=\"#009af9\" fill-rule=\"evenodd\" fill-opacity=\"1\" stroke=\"#000000\" stroke-opacity=\"1\" stroke-width=\"3.2\"/>\n",
       "<circle clip-path=\"url(#clip982)\" cx=\"1597.17\" cy=\"1443.78\" r=\"14.4\" fill=\"#009af9\" fill-rule=\"evenodd\" fill-opacity=\"1\" stroke=\"#000000\" stroke-opacity=\"1\" stroke-width=\"3.2\"/>\n",
       "<circle clip-path=\"url(#clip982)\" cx=\"1596.08\" cy=\"1444.6\" r=\"14.4\" fill=\"#009af9\" fill-rule=\"evenodd\" fill-opacity=\"1\" stroke=\"#000000\" stroke-opacity=\"1\" stroke-width=\"3.2\"/>\n",
       "<circle clip-path=\"url(#clip982)\" cx=\"1595.63\" cy=\"1445.69\" r=\"14.4\" fill=\"#009af9\" fill-rule=\"evenodd\" fill-opacity=\"1\" stroke=\"#000000\" stroke-opacity=\"1\" stroke-width=\"3.2\"/>\n",
       "<circle clip-path=\"url(#clip982)\" cx=\"203.301\" cy=\"1445.72\" r=\"14.4\" fill=\"#009af9\" fill-rule=\"evenodd\" fill-opacity=\"1\" stroke=\"#000000\" stroke-opacity=\"1\" stroke-width=\"3.2\"/>\n",
       "<circle clip-path=\"url(#clip982)\" cx=\"1600.52\" cy=\"1434.9\" r=\"14.4\" fill=\"#009af9\" fill-rule=\"evenodd\" fill-opacity=\"1\" stroke=\"#000000\" stroke-opacity=\"1\" stroke-width=\"3.2\"/>\n",
       "<circle clip-path=\"url(#clip982)\" cx=\"1600.82\" cy=\"1442.37\" r=\"14.4\" fill=\"#009af9\" fill-rule=\"evenodd\" fill-opacity=\"1\" stroke=\"#000000\" stroke-opacity=\"1\" stroke-width=\"3.2\"/>\n",
       "<circle clip-path=\"url(#clip982)\" cx=\"1611.37\" cy=\"1445.21\" r=\"14.4\" fill=\"#009af9\" fill-rule=\"evenodd\" fill-opacity=\"1\" stroke=\"#000000\" stroke-opacity=\"1\" stroke-width=\"3.2\"/>\n",
       "<circle clip-path=\"url(#clip982)\" cx=\"1620.21\" cy=\"1443.74\" r=\"14.4\" fill=\"#009af9\" fill-rule=\"evenodd\" fill-opacity=\"1\" stroke=\"#000000\" stroke-opacity=\"1\" stroke-width=\"3.2\"/>\n",
       "<circle clip-path=\"url(#clip982)\" cx=\"1634.62\" cy=\"1443.33\" r=\"14.4\" fill=\"#009af9\" fill-rule=\"evenodd\" fill-opacity=\"1\" stroke=\"#000000\" stroke-opacity=\"1\" stroke-width=\"3.2\"/>\n",
       "<circle clip-path=\"url(#clip982)\" cx=\"203.301\" cy=\"1445.72\" r=\"14.4\" fill=\"#009af9\" fill-rule=\"evenodd\" fill-opacity=\"1\" stroke=\"#000000\" stroke-opacity=\"1\" stroke-width=\"3.2\"/>\n",
       "<circle clip-path=\"url(#clip982)\" cx=\"760.828\" cy=\"1433.81\" r=\"14.4\" fill=\"#009af9\" fill-rule=\"evenodd\" fill-opacity=\"1\" stroke=\"#000000\" stroke-opacity=\"1\" stroke-width=\"3.2\"/>\n",
       "<circle clip-path=\"url(#clip982)\" cx=\"863.45\" cy=\"1440.54\" r=\"14.4\" fill=\"#009af9\" fill-rule=\"evenodd\" fill-opacity=\"1\" stroke=\"#000000\" stroke-opacity=\"1\" stroke-width=\"3.2\"/>\n",
       "<circle clip-path=\"url(#clip982)\" cx=\"891.367\" cy=\"1441.12\" r=\"14.4\" fill=\"#009af9\" fill-rule=\"evenodd\" fill-opacity=\"1\" stroke=\"#000000\" stroke-opacity=\"1\" stroke-width=\"3.2\"/>\n",
       "<circle clip-path=\"url(#clip982)\" cx=\"889.037\" cy=\"1441\" r=\"14.4\" fill=\"#009af9\" fill-rule=\"evenodd\" fill-opacity=\"1\" stroke=\"#000000\" stroke-opacity=\"1\" stroke-width=\"3.2\"/>\n",
       "<circle clip-path=\"url(#clip982)\" cx=\"883.661\" cy=\"1440.8\" r=\"14.4\" fill=\"#009af9\" fill-rule=\"evenodd\" fill-opacity=\"1\" stroke=\"#000000\" stroke-opacity=\"1\" stroke-width=\"3.2\"/>\n",
       "<circle clip-path=\"url(#clip982)\" cx=\"203.301\" cy=\"1445.72\" r=\"14.4\" fill=\"#009af9\" fill-rule=\"evenodd\" fill-opacity=\"1\" stroke=\"#000000\" stroke-opacity=\"1\" stroke-width=\"3.2\"/>\n",
       "<circle clip-path=\"url(#clip982)\" cx=\"760.828\" cy=\"1433.81\" r=\"14.4\" fill=\"#009af9\" fill-rule=\"evenodd\" fill-opacity=\"1\" stroke=\"#000000\" stroke-opacity=\"1\" stroke-width=\"3.2\"/>\n",
       "<circle clip-path=\"url(#clip982)\" cx=\"863.45\" cy=\"1440.54\" r=\"14.4\" fill=\"#009af9\" fill-rule=\"evenodd\" fill-opacity=\"1\" stroke=\"#000000\" stroke-opacity=\"1\" stroke-width=\"3.2\"/>\n",
       "<circle clip-path=\"url(#clip982)\" cx=\"891.367\" cy=\"1441.12\" r=\"14.4\" fill=\"#009af9\" fill-rule=\"evenodd\" fill-opacity=\"1\" stroke=\"#000000\" stroke-opacity=\"1\" stroke-width=\"3.2\"/>\n",
       "<circle clip-path=\"url(#clip982)\" cx=\"889.037\" cy=\"1441\" r=\"14.4\" fill=\"#009af9\" fill-rule=\"evenodd\" fill-opacity=\"1\" stroke=\"#000000\" stroke-opacity=\"1\" stroke-width=\"3.2\"/>\n",
       "<circle clip-path=\"url(#clip982)\" cx=\"883.661\" cy=\"1440.8\" r=\"14.4\" fill=\"#009af9\" fill-rule=\"evenodd\" fill-opacity=\"1\" stroke=\"#000000\" stroke-opacity=\"1\" stroke-width=\"3.2\"/>\n",
       "<circle clip-path=\"url(#clip982)\" cx=\"203.301\" cy=\"1445.72\" r=\"14.4\" fill=\"#009af9\" fill-rule=\"evenodd\" fill-opacity=\"1\" stroke=\"#000000\" stroke-opacity=\"1\" stroke-width=\"3.2\"/>\n",
       "<circle clip-path=\"url(#clip982)\" cx=\"1312.9\" cy=\"1428.07\" r=\"14.4\" fill=\"#009af9\" fill-rule=\"evenodd\" fill-opacity=\"1\" stroke=\"#000000\" stroke-opacity=\"1\" stroke-width=\"3.2\"/>\n",
       "<circle clip-path=\"url(#clip982)\" cx=\"1314.51\" cy=\"1428.82\" r=\"14.4\" fill=\"#009af9\" fill-rule=\"evenodd\" fill-opacity=\"1\" stroke=\"#000000\" stroke-opacity=\"1\" stroke-width=\"3.2\"/>\n",
       "<circle clip-path=\"url(#clip982)\" cx=\"1338.57\" cy=\"1426.65\" r=\"14.4\" fill=\"#009af9\" fill-rule=\"evenodd\" fill-opacity=\"1\" stroke=\"#000000\" stroke-opacity=\"1\" stroke-width=\"3.2\"/>\n",
       "<circle clip-path=\"url(#clip982)\" cx=\"1359.61\" cy=\"1424.7\" r=\"14.4\" fill=\"#009af9\" fill-rule=\"evenodd\" fill-opacity=\"1\" stroke=\"#000000\" stroke-opacity=\"1\" stroke-width=\"3.2\"/>\n",
       "<circle clip-path=\"url(#clip982)\" cx=\"1407.71\" cy=\"1420.41\" r=\"14.4\" fill=\"#009af9\" fill-rule=\"evenodd\" fill-opacity=\"1\" stroke=\"#000000\" stroke-opacity=\"1\" stroke-width=\"3.2\"/>\n",
       "<circle clip-path=\"url(#clip982)\" cx=\"203.301\" cy=\"1445.72\" r=\"14.4\" fill=\"#009af9\" fill-rule=\"evenodd\" fill-opacity=\"1\" stroke=\"#000000\" stroke-opacity=\"1\" stroke-width=\"3.2\"/>\n",
       "<circle clip-path=\"url(#clip982)\" cx=\"1196.92\" cy=\"1436.34\" r=\"14.4\" fill=\"#009af9\" fill-rule=\"evenodd\" fill-opacity=\"1\" stroke=\"#000000\" stroke-opacity=\"1\" stroke-width=\"3.2\"/>\n",
       "<circle clip-path=\"url(#clip982)\" cx=\"858.181\" cy=\"1445.36\" r=\"14.4\" fill=\"#009af9\" fill-rule=\"evenodd\" fill-opacity=\"1\" stroke=\"#000000\" stroke-opacity=\"1\" stroke-width=\"3.2\"/>\n",
       "<circle clip-path=\"url(#clip982)\" cx=\"849.207\" cy=\"1441.8\" r=\"14.4\" fill=\"#009af9\" fill-rule=\"evenodd\" fill-opacity=\"1\" stroke=\"#000000\" stroke-opacity=\"1\" stroke-width=\"3.2\"/>\n",
       "<circle clip-path=\"url(#clip982)\" cx=\"884.058\" cy=\"1436.54\" r=\"14.4\" fill=\"#009af9\" fill-rule=\"evenodd\" fill-opacity=\"1\" stroke=\"#000000\" stroke-opacity=\"1\" stroke-width=\"3.2\"/>\n",
       "<circle clip-path=\"url(#clip982)\" cx=\"1049.64\" cy=\"1433.88\" r=\"14.4\" fill=\"#009af9\" fill-rule=\"evenodd\" fill-opacity=\"1\" stroke=\"#000000\" stroke-opacity=\"1\" stroke-width=\"3.2\"/>\n",
       "<circle clip-path=\"url(#clip982)\" cx=\"203.301\" cy=\"1445.72\" r=\"14.4\" fill=\"#009af9\" fill-rule=\"evenodd\" fill-opacity=\"1\" stroke=\"#000000\" stroke-opacity=\"1\" stroke-width=\"3.2\"/>\n",
       "<circle clip-path=\"url(#clip982)\" cx=\"1157\" cy=\"1417.33\" r=\"14.4\" fill=\"#009af9\" fill-rule=\"evenodd\" fill-opacity=\"1\" stroke=\"#000000\" stroke-opacity=\"1\" stroke-width=\"3.2\"/>\n",
       "<circle clip-path=\"url(#clip982)\" cx=\"1199\" cy=\"1402.11\" r=\"14.4\" fill=\"#009af9\" fill-rule=\"evenodd\" fill-opacity=\"1\" stroke=\"#000000\" stroke-opacity=\"1\" stroke-width=\"3.2\"/>\n",
       "<circle clip-path=\"url(#clip982)\" cx=\"1234.71\" cy=\"1389.36\" r=\"14.4\" fill=\"#009af9\" fill-rule=\"evenodd\" fill-opacity=\"1\" stroke=\"#000000\" stroke-opacity=\"1\" stroke-width=\"3.2\"/>\n",
       "<circle clip-path=\"url(#clip982)\" cx=\"1263.05\" cy=\"1381.94\" r=\"14.4\" fill=\"#009af9\" fill-rule=\"evenodd\" fill-opacity=\"1\" stroke=\"#000000\" stroke-opacity=\"1\" stroke-width=\"3.2\"/>\n",
       "<circle clip-path=\"url(#clip982)\" cx=\"1327.68\" cy=\"1375.83\" r=\"14.4\" fill=\"#009af9\" fill-rule=\"evenodd\" fill-opacity=\"1\" stroke=\"#000000\" stroke-opacity=\"1\" stroke-width=\"3.2\"/>\n",
       "<circle clip-path=\"url(#clip982)\" cx=\"203.301\" cy=\"1445.72\" r=\"14.4\" fill=\"#009af9\" fill-rule=\"evenodd\" fill-opacity=\"1\" stroke=\"#000000\" stroke-opacity=\"1\" stroke-width=\"3.2\"/>\n",
       "<circle clip-path=\"url(#clip982)\" cx=\"1341.33\" cy=\"1402.24\" r=\"14.4\" fill=\"#009af9\" fill-rule=\"evenodd\" fill-opacity=\"1\" stroke=\"#000000\" stroke-opacity=\"1\" stroke-width=\"3.2\"/>\n",
       "<circle clip-path=\"url(#clip982)\" cx=\"1878.11\" cy=\"1402.75\" r=\"14.4\" fill=\"#009af9\" fill-rule=\"evenodd\" fill-opacity=\"1\" stroke=\"#000000\" stroke-opacity=\"1\" stroke-width=\"3.2\"/>\n",
       "<circle clip-path=\"url(#clip982)\" cx=\"2136.2\" cy=\"1415.18\" r=\"14.4\" fill=\"#009af9\" fill-rule=\"evenodd\" fill-opacity=\"1\" stroke=\"#000000\" stroke-opacity=\"1\" stroke-width=\"3.2\"/>\n",
       "<circle clip-path=\"url(#clip982)\" cx=\"2245.68\" cy=\"1430.94\" r=\"14.4\" fill=\"#009af9\" fill-rule=\"evenodd\" fill-opacity=\"1\" stroke=\"#000000\" stroke-opacity=\"1\" stroke-width=\"3.2\"/>\n",
       "<circle clip-path=\"url(#clip982)\" cx=\"2232.39\" cy=\"1445.22\" r=\"14.4\" fill=\"#009af9\" fill-rule=\"evenodd\" fill-opacity=\"1\" stroke=\"#000000\" stroke-opacity=\"1\" stroke-width=\"3.2\"/>\n",
       "<circle clip-path=\"url(#clip982)\" cx=\"203.301\" cy=\"1445.72\" r=\"14.4\" fill=\"#009af9\" fill-rule=\"evenodd\" fill-opacity=\"1\" stroke=\"#000000\" stroke-opacity=\"1\" stroke-width=\"3.2\"/>\n",
       "<circle clip-path=\"url(#clip982)\" cx=\"1212.64\" cy=\"1413.66\" r=\"14.4\" fill=\"#009af9\" fill-rule=\"evenodd\" fill-opacity=\"1\" stroke=\"#000000\" stroke-opacity=\"1\" stroke-width=\"3.2\"/>\n",
       "<circle clip-path=\"url(#clip982)\" cx=\"1561.29\" cy=\"1435.06\" r=\"14.4\" fill=\"#009af9\" fill-rule=\"evenodd\" fill-opacity=\"1\" stroke=\"#000000\" stroke-opacity=\"1\" stroke-width=\"3.2\"/>\n",
       "<circle clip-path=\"url(#clip982)\" cx=\"1634.08\" cy=\"1443.96\" r=\"14.4\" fill=\"#009af9\" fill-rule=\"evenodd\" fill-opacity=\"1\" stroke=\"#000000\" stroke-opacity=\"1\" stroke-width=\"3.2\"/>\n",
       "<circle clip-path=\"url(#clip982)\" cx=\"1540.73\" cy=\"1442.43\" r=\"14.4\" fill=\"#009af9\" fill-rule=\"evenodd\" fill-opacity=\"1\" stroke=\"#000000\" stroke-opacity=\"1\" stroke-width=\"3.2\"/>\n",
       "<circle clip-path=\"url(#clip982)\" cx=\"1071.03\" cy=\"1444.36\" r=\"14.4\" fill=\"#009af9\" fill-rule=\"evenodd\" fill-opacity=\"1\" stroke=\"#000000\" stroke-opacity=\"1\" stroke-width=\"3.2\"/>\n",
       "<circle clip-path=\"url(#clip982)\" cx=\"203.301\" cy=\"1445.72\" r=\"14.4\" fill=\"#009af9\" fill-rule=\"evenodd\" fill-opacity=\"1\" stroke=\"#000000\" stroke-opacity=\"1\" stroke-width=\"3.2\"/>\n",
       "<circle clip-path=\"url(#clip982)\" cx=\"577.14\" cy=\"1259.79\" r=\"14.4\" fill=\"#009af9\" fill-rule=\"evenodd\" fill-opacity=\"1\" stroke=\"#000000\" stroke-opacity=\"1\" stroke-width=\"3.2\"/>\n",
       "<circle clip-path=\"url(#clip982)\" cx=\"569.123\" cy=\"1348.81\" r=\"14.4\" fill=\"#009af9\" fill-rule=\"evenodd\" fill-opacity=\"1\" stroke=\"#000000\" stroke-opacity=\"1\" stroke-width=\"3.2\"/>\n",
       "<circle clip-path=\"url(#clip982)\" cx=\"599.209\" cy=\"1393.01\" r=\"14.4\" fill=\"#009af9\" fill-rule=\"evenodd\" fill-opacity=\"1\" stroke=\"#000000\" stroke-opacity=\"1\" stroke-width=\"3.2\"/>\n",
       "<circle clip-path=\"url(#clip982)\" cx=\"628.236\" cy=\"1412.73\" r=\"14.4\" fill=\"#009af9\" fill-rule=\"evenodd\" fill-opacity=\"1\" stroke=\"#000000\" stroke-opacity=\"1\" stroke-width=\"3.2\"/>\n",
       "<circle clip-path=\"url(#clip982)\" cx=\"669.076\" cy=\"1431.23\" r=\"14.4\" fill=\"#009af9\" fill-rule=\"evenodd\" fill-opacity=\"1\" stroke=\"#000000\" stroke-opacity=\"1\" stroke-width=\"3.2\"/>\n",
       "<circle clip-path=\"url(#clip982)\" cx=\"203.301\" cy=\"1445.72\" r=\"14.4\" fill=\"#009af9\" fill-rule=\"evenodd\" fill-opacity=\"1\" stroke=\"#000000\" stroke-opacity=\"1\" stroke-width=\"3.2\"/>\n",
       "<circle clip-path=\"url(#clip982)\" cx=\"2071.27\" cy=\"1441.58\" r=\"14.4\" fill=\"#009af9\" fill-rule=\"evenodd\" fill-opacity=\"1\" stroke=\"#000000\" stroke-opacity=\"1\" stroke-width=\"3.2\"/>\n",
       "<circle clip-path=\"url(#clip982)\" cx=\"1655.49\" cy=\"1439.34\" r=\"14.4\" fill=\"#009af9\" fill-rule=\"evenodd\" fill-opacity=\"1\" stroke=\"#000000\" stroke-opacity=\"1\" stroke-width=\"3.2\"/>\n",
       "<circle clip-path=\"url(#clip982)\" cx=\"1374.94\" cy=\"1436.98\" r=\"14.4\" fill=\"#009af9\" fill-rule=\"evenodd\" fill-opacity=\"1\" stroke=\"#000000\" stroke-opacity=\"1\" stroke-width=\"3.2\"/>\n",
       "<circle clip-path=\"url(#clip982)\" cx=\"1297.18\" cy=\"1435.18\" r=\"14.4\" fill=\"#009af9\" fill-rule=\"evenodd\" fill-opacity=\"1\" stroke=\"#000000\" stroke-opacity=\"1\" stroke-width=\"3.2\"/>\n",
       "<circle clip-path=\"url(#clip982)\" cx=\"1253.13\" cy=\"1432.85\" r=\"14.4\" fill=\"#009af9\" fill-rule=\"evenodd\" fill-opacity=\"1\" stroke=\"#000000\" stroke-opacity=\"1\" stroke-width=\"3.2\"/>\n",
       "<circle clip-path=\"url(#clip982)\" cx=\"203.301\" cy=\"1445.72\" r=\"14.4\" fill=\"#009af9\" fill-rule=\"evenodd\" fill-opacity=\"1\" stroke=\"#000000\" stroke-opacity=\"1\" stroke-width=\"3.2\"/>\n",
       "<circle clip-path=\"url(#clip982)\" cx=\"1599.71\" cy=\"1440.74\" r=\"14.4\" fill=\"#009af9\" fill-rule=\"evenodd\" fill-opacity=\"1\" stroke=\"#000000\" stroke-opacity=\"1\" stroke-width=\"3.2\"/>\n",
       "<circle clip-path=\"url(#clip982)\" cx=\"1603.38\" cy=\"1438.98\" r=\"14.4\" fill=\"#009af9\" fill-rule=\"evenodd\" fill-opacity=\"1\" stroke=\"#000000\" stroke-opacity=\"1\" stroke-width=\"3.2\"/>\n",
       "<circle clip-path=\"url(#clip982)\" cx=\"1582.66\" cy=\"1441.53\" r=\"14.4\" fill=\"#009af9\" fill-rule=\"evenodd\" fill-opacity=\"1\" stroke=\"#000000\" stroke-opacity=\"1\" stroke-width=\"3.2\"/>\n",
       "<circle clip-path=\"url(#clip982)\" cx=\"1569.64\" cy=\"1443.75\" r=\"14.4\" fill=\"#009af9\" fill-rule=\"evenodd\" fill-opacity=\"1\" stroke=\"#000000\" stroke-opacity=\"1\" stroke-width=\"3.2\"/>\n",
       "<circle clip-path=\"url(#clip982)\" cx=\"1555.56\" cy=\"1445.37\" r=\"14.4\" fill=\"#009af9\" fill-rule=\"evenodd\" fill-opacity=\"1\" stroke=\"#000000\" stroke-opacity=\"1\" stroke-width=\"3.2\"/>\n",
       "<circle clip-path=\"url(#clip982)\" cx=\"203.301\" cy=\"1445.72\" r=\"14.4\" fill=\"#009af9\" fill-rule=\"evenodd\" fill-opacity=\"1\" stroke=\"#000000\" stroke-opacity=\"1\" stroke-width=\"3.2\"/>\n",
       "<circle clip-path=\"url(#clip982)\" cx=\"2109.75\" cy=\"1416.79\" r=\"14.4\" fill=\"#009af9\" fill-rule=\"evenodd\" fill-opacity=\"1\" stroke=\"#000000\" stroke-opacity=\"1\" stroke-width=\"3.2\"/>\n",
       "<circle clip-path=\"url(#clip982)\" cx=\"1944.66\" cy=\"1401.67\" r=\"14.4\" fill=\"#009af9\" fill-rule=\"evenodd\" fill-opacity=\"1\" stroke=\"#000000\" stroke-opacity=\"1\" stroke-width=\"3.2\"/>\n",
       "<circle clip-path=\"url(#clip982)\" cx=\"1558.38\" cy=\"1414.02\" r=\"14.4\" fill=\"#009af9\" fill-rule=\"evenodd\" fill-opacity=\"1\" stroke=\"#000000\" stroke-opacity=\"1\" stroke-width=\"3.2\"/>\n",
       "<circle clip-path=\"url(#clip982)\" cx=\"1317.88\" cy=\"1425.56\" r=\"14.4\" fill=\"#009af9\" fill-rule=\"evenodd\" fill-opacity=\"1\" stroke=\"#000000\" stroke-opacity=\"1\" stroke-width=\"3.2\"/>\n",
       "<circle clip-path=\"url(#clip982)\" cx=\"1183.96\" cy=\"1434.95\" r=\"14.4\" fill=\"#009af9\" fill-rule=\"evenodd\" fill-opacity=\"1\" stroke=\"#000000\" stroke-opacity=\"1\" stroke-width=\"3.2\"/>\n",
       "<circle clip-path=\"url(#clip982)\" cx=\"203.301\" cy=\"1445.72\" r=\"14.4\" fill=\"#009af9\" fill-rule=\"evenodd\" fill-opacity=\"1\" stroke=\"#000000\" stroke-opacity=\"1\" stroke-width=\"3.2\"/>\n",
       "<circle clip-path=\"url(#clip982)\" cx=\"1691.86\" cy=\"1445.48\" r=\"14.4\" fill=\"#009af9\" fill-rule=\"evenodd\" fill-opacity=\"1\" stroke=\"#000000\" stroke-opacity=\"1\" stroke-width=\"3.2\"/>\n",
       "<circle clip-path=\"url(#clip982)\" cx=\"1610.47\" cy=\"1444.1\" r=\"14.4\" fill=\"#009af9\" fill-rule=\"evenodd\" fill-opacity=\"1\" stroke=\"#000000\" stroke-opacity=\"1\" stroke-width=\"3.2\"/>\n",
       "<circle clip-path=\"url(#clip982)\" cx=\"1600.17\" cy=\"1444\" r=\"14.4\" fill=\"#009af9\" fill-rule=\"evenodd\" fill-opacity=\"1\" stroke=\"#000000\" stroke-opacity=\"1\" stroke-width=\"3.2\"/>\n",
       "<circle clip-path=\"url(#clip982)\" cx=\"1596.03\" cy=\"1443.92\" r=\"14.4\" fill=\"#009af9\" fill-rule=\"evenodd\" fill-opacity=\"1\" stroke=\"#000000\" stroke-opacity=\"1\" stroke-width=\"3.2\"/>\n",
       "<circle clip-path=\"url(#clip982)\" cx=\"1622.22\" cy=\"1444.53\" r=\"14.4\" fill=\"#009af9\" fill-rule=\"evenodd\" fill-opacity=\"1\" stroke=\"#000000\" stroke-opacity=\"1\" stroke-width=\"3.2\"/>\n",
       "<circle clip-path=\"url(#clip982)\" cx=\"203.301\" cy=\"1445.72\" r=\"14.4\" fill=\"#009af9\" fill-rule=\"evenodd\" fill-opacity=\"1\" stroke=\"#000000\" stroke-opacity=\"1\" stroke-width=\"3.2\"/>\n",
       "<circle clip-path=\"url(#clip982)\" cx=\"1940.54\" cy=\"1402.62\" r=\"14.4\" fill=\"#009af9\" fill-rule=\"evenodd\" fill-opacity=\"1\" stroke=\"#000000\" stroke-opacity=\"1\" stroke-width=\"3.2\"/>\n",
       "<circle clip-path=\"url(#clip982)\" cx=\"1749\" cy=\"1412.15\" r=\"14.4\" fill=\"#009af9\" fill-rule=\"evenodd\" fill-opacity=\"1\" stroke=\"#000000\" stroke-opacity=\"1\" stroke-width=\"3.2\"/>\n",
       "<circle clip-path=\"url(#clip982)\" cx=\"1640.88\" cy=\"1421.34\" r=\"14.4\" fill=\"#009af9\" fill-rule=\"evenodd\" fill-opacity=\"1\" stroke=\"#000000\" stroke-opacity=\"1\" stroke-width=\"3.2\"/>\n",
       "<circle clip-path=\"url(#clip982)\" cx=\"1609.25\" cy=\"1428.93\" r=\"14.4\" fill=\"#009af9\" fill-rule=\"evenodd\" fill-opacity=\"1\" stroke=\"#000000\" stroke-opacity=\"1\" stroke-width=\"3.2\"/>\n",
       "<circle clip-path=\"url(#clip982)\" cx=\"1602.34\" cy=\"1438.2\" r=\"14.4\" fill=\"#009af9\" fill-rule=\"evenodd\" fill-opacity=\"1\" stroke=\"#000000\" stroke-opacity=\"1\" stroke-width=\"3.2\"/>\n",
       "<circle clip-path=\"url(#clip982)\" cx=\"203.301\" cy=\"1445.72\" r=\"14.4\" fill=\"#009af9\" fill-rule=\"evenodd\" fill-opacity=\"1\" stroke=\"#000000\" stroke-opacity=\"1\" stroke-width=\"3.2\"/>\n",
       "<circle clip-path=\"url(#clip982)\" cx=\"1155.61\" cy=\"1390.86\" r=\"14.4\" fill=\"#009af9\" fill-rule=\"evenodd\" fill-opacity=\"1\" stroke=\"#000000\" stroke-opacity=\"1\" stroke-width=\"3.2\"/>\n",
       "<circle clip-path=\"url(#clip982)\" cx=\"1352.54\" cy=\"1391.62\" r=\"14.4\" fill=\"#009af9\" fill-rule=\"evenodd\" fill-opacity=\"1\" stroke=\"#000000\" stroke-opacity=\"1\" stroke-width=\"3.2\"/>\n",
       "<circle clip-path=\"url(#clip982)\" cx=\"1330.29\" cy=\"1397.19\" r=\"14.4\" fill=\"#009af9\" fill-rule=\"evenodd\" fill-opacity=\"1\" stroke=\"#000000\" stroke-opacity=\"1\" stroke-width=\"3.2\"/>\n",
       "<circle clip-path=\"url(#clip982)\" cx=\"1311.2\" cy=\"1404.37\" r=\"14.4\" fill=\"#009af9\" fill-rule=\"evenodd\" fill-opacity=\"1\" stroke=\"#000000\" stroke-opacity=\"1\" stroke-width=\"3.2\"/>\n",
       "<circle clip-path=\"url(#clip982)\" cx=\"1268.97\" cy=\"1405.37\" r=\"14.4\" fill=\"#009af9\" fill-rule=\"evenodd\" fill-opacity=\"1\" stroke=\"#000000\" stroke-opacity=\"1\" stroke-width=\"3.2\"/>\n",
       "<circle clip-path=\"url(#clip982)\" cx=\"203.301\" cy=\"1445.72\" r=\"14.4\" fill=\"#009af9\" fill-rule=\"evenodd\" fill-opacity=\"1\" stroke=\"#000000\" stroke-opacity=\"1\" stroke-width=\"3.2\"/>\n",
       "<circle clip-path=\"url(#clip982)\" cx=\"728.269\" cy=\"527.737\" r=\"14.4\" fill=\"#009af9\" fill-rule=\"evenodd\" fill-opacity=\"1\" stroke=\"#000000\" stroke-opacity=\"1\" stroke-width=\"3.2\"/>\n",
       "<circle clip-path=\"url(#clip982)\" cx=\"752.695\" cy=\"402.846\" r=\"14.4\" fill=\"#009af9\" fill-rule=\"evenodd\" fill-opacity=\"1\" stroke=\"#000000\" stroke-opacity=\"1\" stroke-width=\"3.2\"/>\n",
       "<circle clip-path=\"url(#clip982)\" cx=\"826.94\" cy=\"861.314\" r=\"14.4\" fill=\"#009af9\" fill-rule=\"evenodd\" fill-opacity=\"1\" stroke=\"#000000\" stroke-opacity=\"1\" stroke-width=\"3.2\"/>\n",
       "<circle clip-path=\"url(#clip982)\" cx=\"877.319\" cy=\"1215.54\" r=\"14.4\" fill=\"#009af9\" fill-rule=\"evenodd\" fill-opacity=\"1\" stroke=\"#000000\" stroke-opacity=\"1\" stroke-width=\"3.2\"/>\n",
       "<circle clip-path=\"url(#clip982)\" cx=\"838.899\" cy=\"1396.4\" r=\"14.4\" fill=\"#009af9\" fill-rule=\"evenodd\" fill-opacity=\"1\" stroke=\"#000000\" stroke-opacity=\"1\" stroke-width=\"3.2\"/>\n",
       "<circle clip-path=\"url(#clip982)\" cx=\"203.301\" cy=\"1445.72\" r=\"14.4\" fill=\"#009af9\" fill-rule=\"evenodd\" fill-opacity=\"1\" stroke=\"#000000\" stroke-opacity=\"1\" stroke-width=\"3.2\"/>\n",
       "<circle clip-path=\"url(#clip982)\" cx=\"661.092\" cy=\"1278.88\" r=\"14.4\" fill=\"#009af9\" fill-rule=\"evenodd\" fill-opacity=\"1\" stroke=\"#000000\" stroke-opacity=\"1\" stroke-width=\"3.2\"/>\n",
       "<circle clip-path=\"url(#clip982)\" cx=\"544.417\" cy=\"1443.07\" r=\"14.4\" fill=\"#009af9\" fill-rule=\"evenodd\" fill-opacity=\"1\" stroke=\"#000000\" stroke-opacity=\"1\" stroke-width=\"3.2\"/>\n",
       "<circle clip-path=\"url(#clip982)\" cx=\"606.709\" cy=\"1440.01\" r=\"14.4\" fill=\"#009af9\" fill-rule=\"evenodd\" fill-opacity=\"1\" stroke=\"#000000\" stroke-opacity=\"1\" stroke-width=\"3.2\"/>\n",
       "<circle clip-path=\"url(#clip982)\" cx=\"644.625\" cy=\"1434.28\" r=\"14.4\" fill=\"#009af9\" fill-rule=\"evenodd\" fill-opacity=\"1\" stroke=\"#000000\" stroke-opacity=\"1\" stroke-width=\"3.2\"/>\n",
       "<circle clip-path=\"url(#clip982)\" cx=\"679.466\" cy=\"1424.15\" r=\"14.4\" fill=\"#009af9\" fill-rule=\"evenodd\" fill-opacity=\"1\" stroke=\"#000000\" stroke-opacity=\"1\" stroke-width=\"3.2\"/>\n",
       "<circle clip-path=\"url(#clip982)\" cx=\"203.301\" cy=\"1445.72\" r=\"14.4\" fill=\"#009af9\" fill-rule=\"evenodd\" fill-opacity=\"1\" stroke=\"#000000\" stroke-opacity=\"1\" stroke-width=\"3.2\"/>\n",
       "<circle clip-path=\"url(#clip982)\" cx=\"938.954\" cy=\"1255.21\" r=\"14.4\" fill=\"#009af9\" fill-rule=\"evenodd\" fill-opacity=\"1\" stroke=\"#000000\" stroke-opacity=\"1\" stroke-width=\"3.2\"/>\n",
       "<circle clip-path=\"url(#clip982)\" cx=\"826.201\" cy=\"1310.32\" r=\"14.4\" fill=\"#009af9\" fill-rule=\"evenodd\" fill-opacity=\"1\" stroke=\"#000000\" stroke-opacity=\"1\" stroke-width=\"3.2\"/>\n",
       "<circle clip-path=\"url(#clip982)\" cx=\"809.015\" cy=\"1356\" r=\"14.4\" fill=\"#009af9\" fill-rule=\"evenodd\" fill-opacity=\"1\" stroke=\"#000000\" stroke-opacity=\"1\" stroke-width=\"3.2\"/>\n",
       "<circle clip-path=\"url(#clip982)\" cx=\"832.653\" cy=\"1396.45\" r=\"14.4\" fill=\"#009af9\" fill-rule=\"evenodd\" fill-opacity=\"1\" stroke=\"#000000\" stroke-opacity=\"1\" stroke-width=\"3.2\"/>\n",
       "<circle clip-path=\"url(#clip982)\" cx=\"968.711\" cy=\"1444.55\" r=\"14.4\" fill=\"#009af9\" fill-rule=\"evenodd\" fill-opacity=\"1\" stroke=\"#000000\" stroke-opacity=\"1\" stroke-width=\"3.2\"/>\n",
       "<circle clip-path=\"url(#clip982)\" cx=\"203.301\" cy=\"1445.72\" r=\"14.4\" fill=\"#009af9\" fill-rule=\"evenodd\" fill-opacity=\"1\" stroke=\"#000000\" stroke-opacity=\"1\" stroke-width=\"3.2\"/>\n",
       "<circle clip-path=\"url(#clip982)\" cx=\"1479.71\" cy=\"1429.26\" r=\"14.4\" fill=\"#009af9\" fill-rule=\"evenodd\" fill-opacity=\"1\" stroke=\"#000000\" stroke-opacity=\"1\" stroke-width=\"3.2\"/>\n",
       "<circle clip-path=\"url(#clip982)\" cx=\"1551.07\" cy=\"1434.33\" r=\"14.4\" fill=\"#009af9\" fill-rule=\"evenodd\" fill-opacity=\"1\" stroke=\"#000000\" stroke-opacity=\"1\" stroke-width=\"3.2\"/>\n",
       "<circle clip-path=\"url(#clip982)\" cx=\"1587.23\" cy=\"1442.94\" r=\"14.4\" fill=\"#009af9\" fill-rule=\"evenodd\" fill-opacity=\"1\" stroke=\"#000000\" stroke-opacity=\"1\" stroke-width=\"3.2\"/>\n",
       "<circle clip-path=\"url(#clip982)\" cx=\"1609.83\" cy=\"1437.89\" r=\"14.4\" fill=\"#009af9\" fill-rule=\"evenodd\" fill-opacity=\"1\" stroke=\"#000000\" stroke-opacity=\"1\" stroke-width=\"3.2\"/>\n",
       "<circle clip-path=\"url(#clip982)\" cx=\"1651.76\" cy=\"1425.21\" r=\"14.4\" fill=\"#009af9\" fill-rule=\"evenodd\" fill-opacity=\"1\" stroke=\"#000000\" stroke-opacity=\"1\" stroke-width=\"3.2\"/>\n",
       "<circle clip-path=\"url(#clip982)\" cx=\"203.301\" cy=\"1445.72\" r=\"14.4\" fill=\"#009af9\" fill-rule=\"evenodd\" fill-opacity=\"1\" stroke=\"#000000\" stroke-opacity=\"1\" stroke-width=\"3.2\"/>\n",
       "<circle clip-path=\"url(#clip982)\" cx=\"861.519\" cy=\"1228.36\" r=\"14.4\" fill=\"#009af9\" fill-rule=\"evenodd\" fill-opacity=\"1\" stroke=\"#000000\" stroke-opacity=\"1\" stroke-width=\"3.2\"/>\n",
       "<circle clip-path=\"url(#clip982)\" cx=\"735.108\" cy=\"1249.47\" r=\"14.4\" fill=\"#009af9\" fill-rule=\"evenodd\" fill-opacity=\"1\" stroke=\"#000000\" stroke-opacity=\"1\" stroke-width=\"3.2\"/>\n",
       "<circle clip-path=\"url(#clip982)\" cx=\"722.31\" cy=\"1317.92\" r=\"14.4\" fill=\"#009af9\" fill-rule=\"evenodd\" fill-opacity=\"1\" stroke=\"#000000\" stroke-opacity=\"1\" stroke-width=\"3.2\"/>\n",
       "<circle clip-path=\"url(#clip982)\" cx=\"751.048\" cy=\"1386.98\" r=\"14.4\" fill=\"#009af9\" fill-rule=\"evenodd\" fill-opacity=\"1\" stroke=\"#000000\" stroke-opacity=\"1\" stroke-width=\"3.2\"/>\n",
       "<circle clip-path=\"url(#clip982)\" cx=\"900.212\" cy=\"1432\" r=\"14.4\" fill=\"#009af9\" fill-rule=\"evenodd\" fill-opacity=\"1\" stroke=\"#000000\" stroke-opacity=\"1\" stroke-width=\"3.2\"/>\n",
       "<circle clip-path=\"url(#clip982)\" cx=\"203.301\" cy=\"1445.72\" r=\"14.4\" fill=\"#009af9\" fill-rule=\"evenodd\" fill-opacity=\"1\" stroke=\"#000000\" stroke-opacity=\"1\" stroke-width=\"3.2\"/>\n",
       "<circle clip-path=\"url(#clip982)\" cx=\"1060.18\" cy=\"1158.69\" r=\"14.4\" fill=\"#009af9\" fill-rule=\"evenodd\" fill-opacity=\"1\" stroke=\"#000000\" stroke-opacity=\"1\" stroke-width=\"3.2\"/>\n",
       "<circle clip-path=\"url(#clip982)\" cx=\"860.011\" cy=\"1442.62\" r=\"14.4\" fill=\"#009af9\" fill-rule=\"evenodd\" fill-opacity=\"1\" stroke=\"#000000\" stroke-opacity=\"1\" stroke-width=\"3.2\"/>\n",
       "<circle clip-path=\"url(#clip982)\" cx=\"836.3\" cy=\"1444.06\" r=\"14.4\" fill=\"#009af9\" fill-rule=\"evenodd\" fill-opacity=\"1\" stroke=\"#000000\" stroke-opacity=\"1\" stroke-width=\"3.2\"/>\n",
       "<circle clip-path=\"url(#clip982)\" cx=\"868.658\" cy=\"1445.03\" r=\"14.4\" fill=\"#009af9\" fill-rule=\"evenodd\" fill-opacity=\"1\" stroke=\"#000000\" stroke-opacity=\"1\" stroke-width=\"3.2\"/>\n",
       "<circle clip-path=\"url(#clip982)\" cx=\"1028.8\" cy=\"1444.57\" r=\"14.4\" fill=\"#009af9\" fill-rule=\"evenodd\" fill-opacity=\"1\" stroke=\"#000000\" stroke-opacity=\"1\" stroke-width=\"3.2\"/>\n",
       "<circle clip-path=\"url(#clip982)\" cx=\"203.301\" cy=\"1445.72\" r=\"14.4\" fill=\"#009af9\" fill-rule=\"evenodd\" fill-opacity=\"1\" stroke=\"#000000\" stroke-opacity=\"1\" stroke-width=\"3.2\"/>\n",
       "<circle clip-path=\"url(#clip982)\" cx=\"819.096\" cy=\"581.297\" r=\"14.4\" fill=\"#009af9\" fill-rule=\"evenodd\" fill-opacity=\"1\" stroke=\"#000000\" stroke-opacity=\"1\" stroke-width=\"3.2\"/>\n",
       "<circle clip-path=\"url(#clip982)\" cx=\"848.441\" cy=\"508.439\" r=\"14.4\" fill=\"#009af9\" fill-rule=\"evenodd\" fill-opacity=\"1\" stroke=\"#000000\" stroke-opacity=\"1\" stroke-width=\"3.2\"/>\n",
       "<circle clip-path=\"url(#clip982)\" cx=\"935.206\" cy=\"947.648\" r=\"14.4\" fill=\"#009af9\" fill-rule=\"evenodd\" fill-opacity=\"1\" stroke=\"#000000\" stroke-opacity=\"1\" stroke-width=\"3.2\"/>\n",
       "<circle clip-path=\"url(#clip982)\" cx=\"1020.96\" cy=\"1268.63\" r=\"14.4\" fill=\"#009af9\" fill-rule=\"evenodd\" fill-opacity=\"1\" stroke=\"#000000\" stroke-opacity=\"1\" stroke-width=\"3.2\"/>\n",
       "<circle clip-path=\"url(#clip982)\" cx=\"1388.55\" cy=\"1433.06\" r=\"14.4\" fill=\"#009af9\" fill-rule=\"evenodd\" fill-opacity=\"1\" stroke=\"#000000\" stroke-opacity=\"1\" stroke-width=\"3.2\"/>\n",
       "<circle clip-path=\"url(#clip982)\" cx=\"203.301\" cy=\"1445.72\" r=\"14.4\" fill=\"#009af9\" fill-rule=\"evenodd\" fill-opacity=\"1\" stroke=\"#000000\" stroke-opacity=\"1\" stroke-width=\"3.2\"/>\n",
       "<circle clip-path=\"url(#clip982)\" cx=\"1999.32\" cy=\"1443.07\" r=\"14.4\" fill=\"#009af9\" fill-rule=\"evenodd\" fill-opacity=\"1\" stroke=\"#000000\" stroke-opacity=\"1\" stroke-width=\"3.2\"/>\n",
       "<circle clip-path=\"url(#clip982)\" cx=\"1728.98\" cy=\"1443.02\" r=\"14.4\" fill=\"#009af9\" fill-rule=\"evenodd\" fill-opacity=\"1\" stroke=\"#000000\" stroke-opacity=\"1\" stroke-width=\"3.2\"/>\n",
       "<circle clip-path=\"url(#clip982)\" cx=\"1599.37\" cy=\"1443.98\" r=\"14.4\" fill=\"#009af9\" fill-rule=\"evenodd\" fill-opacity=\"1\" stroke=\"#000000\" stroke-opacity=\"1\" stroke-width=\"3.2\"/>\n",
       "<circle clip-path=\"url(#clip982)\" cx=\"1598.82\" cy=\"1445.05\" r=\"14.4\" fill=\"#009af9\" fill-rule=\"evenodd\" fill-opacity=\"1\" stroke=\"#000000\" stroke-opacity=\"1\" stroke-width=\"3.2\"/>\n",
       "<circle clip-path=\"url(#clip982)\" cx=\"1595.15\" cy=\"1445.04\" r=\"14.4\" fill=\"#009af9\" fill-rule=\"evenodd\" fill-opacity=\"1\" stroke=\"#000000\" stroke-opacity=\"1\" stroke-width=\"3.2\"/>\n",
       "<circle clip-path=\"url(#clip982)\" cx=\"203.301\" cy=\"1445.72\" r=\"14.4\" fill=\"#009af9\" fill-rule=\"evenodd\" fill-opacity=\"1\" stroke=\"#000000\" stroke-opacity=\"1\" stroke-width=\"3.2\"/>\n",
       "<circle clip-path=\"url(#clip982)\" cx=\"1543\" cy=\"1436.86\" r=\"14.4\" fill=\"#009af9\" fill-rule=\"evenodd\" fill-opacity=\"1\" stroke=\"#000000\" stroke-opacity=\"1\" stroke-width=\"3.2\"/>\n",
       "<circle clip-path=\"url(#clip982)\" cx=\"1564.53\" cy=\"1439.19\" r=\"14.4\" fill=\"#009af9\" fill-rule=\"evenodd\" fill-opacity=\"1\" stroke=\"#000000\" stroke-opacity=\"1\" stroke-width=\"3.2\"/>\n",
       "<circle clip-path=\"url(#clip982)\" cx=\"1577.36\" cy=\"1442.77\" r=\"14.4\" fill=\"#009af9\" fill-rule=\"evenodd\" fill-opacity=\"1\" stroke=\"#000000\" stroke-opacity=\"1\" stroke-width=\"3.2\"/>\n",
       "<circle clip-path=\"url(#clip982)\" cx=\"1586.53\" cy=\"1445.43\" r=\"14.4\" fill=\"#009af9\" fill-rule=\"evenodd\" fill-opacity=\"1\" stroke=\"#000000\" stroke-opacity=\"1\" stroke-width=\"3.2\"/>\n",
       "<circle clip-path=\"url(#clip982)\" cx=\"1605.72\" cy=\"1443.65\" r=\"14.4\" fill=\"#009af9\" fill-rule=\"evenodd\" fill-opacity=\"1\" stroke=\"#000000\" stroke-opacity=\"1\" stroke-width=\"3.2\"/>\n",
       "<path clip-path=\"url(#clip980)\" d=\"M2005.38 198.898 L2279.02 198.898 L2279.02 95.2176 L2005.38 95.2176  Z\" fill=\"#ffffff\" fill-rule=\"evenodd\" fill-opacity=\"1\"/>\n",
       "<polyline clip-path=\"url(#clip980)\" style=\"stroke:#000000; stroke-linecap:round; stroke-linejoin:round; stroke-width:4; stroke-opacity:1; fill:none\" points=\"2005.38,198.898 2279.02,198.898 2279.02,95.2176 2005.38,95.2176 2005.38,198.898 \"/>\n",
       "<circle clip-path=\"url(#clip980)\" cx=\"2103.7\" cy=\"147.058\" r=\"20.48\" fill=\"#009af9\" fill-rule=\"evenodd\" fill-opacity=\"1\" stroke=\"#000000\" stroke-opacity=\"1\" stroke-width=\"4.55111\"/>\n",
       "<path clip-path=\"url(#clip980)\" d=\"M2215.85 166.745 Q2214.05 171.375 2212.34 172.787 Q2210.62 174.199 2207.75 174.199 L2204.35 174.199 L2204.35 170.634 L2206.85 170.634 Q2208.61 170.634 2209.58 169.8 Q2210.55 168.967 2211.73 165.865 L2212.5 163.921 L2202.01 138.412 L2206.53 138.412 L2214.63 158.689 L2222.73 138.412 L2227.24 138.412 L2215.85 166.745 Z\" fill=\"#000000\" fill-rule=\"nonzero\" fill-opacity=\"1\" /><path clip-path=\"url(#clip980)\" d=\"M2234.53 160.402 L2242.17 160.402 L2242.17 134.037 L2233.86 135.703 L2233.86 131.444 L2242.13 129.778 L2246.8 129.778 L2246.8 160.402 L2254.44 160.402 L2254.44 164.338 L2234.53 164.338 L2234.53 160.402 Z\" fill=\"#000000\" fill-rule=\"nonzero\" fill-opacity=\"1\" /></svg>\n"
      ]
     },
     "execution_count": 55,
     "metadata": {},
     "output_type": "execute_result"
    }
   ],
   "source": [
    "using Plots\n",
    "scatter(global_nonbind, dif_between_med)"
   ]
  },
  {
   "attachments": {},
   "cell_type": "markdown",
   "metadata": {},
   "source": [
    "Calculate Correlation between change in median and local sensitivity of kb"
   ]
  },
  {
   "cell_type": "code",
   "execution_count": 56,
   "metadata": {},
   "outputs": [
    {
     "data": {
      "text/plain": [
       "0.22759727984626757"
      ]
     },
     "execution_count": 56,
     "metadata": {},
     "output_type": "execute_result"
    }
   ],
   "source": [
    "augmented_quantiles = deserialize(\"outputs/600_$(augmented_run)_prediction_quantiles.jls\")[1:23]\n",
    "baseline_quantiles = deserialize(\"outputs/600_$(baseline_run)_prediction_quantiles.jls\")[1:23]\n",
    "n_outputs = length(augmented_quantiles)\n",
    "n_timepoints = length(augmented_quantiles[1][\"median\"])\n",
    "\n",
    "#calculate absolute difference between medians for each output of interest\n",
    "difference_between_medians = []\n",
    "for i in 1:n_outputs\n",
    "    difference_between_medians = cat(difference_between_medians, [abs.(augmented_quantiles[i][\"median\"] .- baseline_quantiles[i][\"median\"])], dims=1)\n",
    "end\n",
    "\n",
    "#load local sensitivity to kb for each output of interest\n",
    "local_sensitivity_kb = deserialize(\"outputs/600_$(baseline_run)_local_sensitivity_kf.jls\");\n",
    "#maximum across kb\n",
    "summed_ls_kb = []\n",
    "for i in 1:n_outputs\n",
    "    summed_ls_kb = cat(summed_ls_kb, [vec(maximum(abs.(local_sensitivity_kb[i]), dims=2))], dims=1)\n",
    "end\n",
    "\n",
    "#reshape for correlation\n",
    "ls_kb = reshape(Base.stack(summed_ls_kb), n_outputs*n_timepoints)\n",
    "med_dif = reshape(Base.stack(difference_between_medians), n_outputs*n_timepoints)\n",
    "\n",
    "pearsons_coef = Statistics.cor(ls_kb, med_dif)"
   ]
  }
 ],
 "metadata": {
  "kernelspec": {
   "display_name": "Julia(emcee-4-thread-1.11) 1.11.4",
   "language": "julia",
   "name": "julia_emcee-4-thread-1.11_-1.11"
  },
  "language_info": {
   "file_extension": ".jl",
   "mimetype": "application/julia",
   "name": "julia",
   "version": "1.11.4"
  },
  "orig_nbformat": 4
 },
 "nbformat": 4,
 "nbformat_minor": 2
}
