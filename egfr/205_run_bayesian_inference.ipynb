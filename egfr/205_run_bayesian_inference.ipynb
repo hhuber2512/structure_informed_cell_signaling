{
 "cells": [
  {
   "cell_type": "code",
   "execution_count": 1,
   "metadata": {},
   "outputs": [],
   "source": [
    "using Serialization, Distributions, AffineInvariantMCMC, StableRNGs \n",
    "include(\"ode_problem.jl\")\n",
    "include(\"target_probability.jl\")\n",
    "include(\"define_likelihood_data.jl\");"
   ]
  },
  {
   "attachments": {},
   "cell_type": "markdown",
   "metadata": {},
   "source": [
    "### Name Run\n",
    "\n",
    "run: 205   \n",
    "test data: pSHC  \n",
    "augmented: no \n",
    "weighed by AF3 confidence: N/A   \n",
    "prior offset: +/- 1   \n",
    "binding prior offset: +/- 1  "
   ]
  },
  {
   "cell_type": "code",
   "execution_count": 2,
   "metadata": {},
   "outputs": [
    {
     "data": {
      "text/plain": [
       "\"205\""
      ]
     },
     "execution_count": 2,
     "metadata": {},
     "output_type": "execute_result"
    }
   ],
   "source": [
    "run = \"205\""
   ]
  },
  {
   "attachments": {},
   "cell_type": "markdown",
   "metadata": {},
   "source": [
    "Define Prior Distributions"
   ]
  },
  {
   "cell_type": "code",
   "execution_count": 3,
   "metadata": {},
   "outputs": [],
   "source": [
    "#generate bounds for prior\n",
    "bound_offset = [1,1]\n",
    "binding_bound_offset = [0,0] #will be set later\n",
    "prior_bounds = return_prior_bounds_empirical(bound_offset, binding_bound_offset) #for target probability\n",
    "#redefine narrow koff bounds\n",
    "koff_i = return_koff_indices()\n",
    "prior_bounds[koff_i] = return_prior_bounds_empirical(bound_offset, [-2,0])[koff_i] \n",
    "#redefine k12b bounds, so that reported value is within the prior bounds\n",
    "prior_bounds[koff_i[2]] = return_prior_bounds_empirical(bound_offset, [-1,-1])[koff_i[2]] \n",
    "#redefine narrow kon bounds\n",
    "kon_i = return_kon_indices()\n",
    "prior_bounds[kon_i] = return_prior_bounds_empirical(bound_offset, [-1,-1])[kon_i]\n",
    "#redefine k13f bounds, so that reported value is within the prior bounds\n",
    "prior_bounds[kon_i[3]] = return_prior_bounds_empirical(bound_offset, [-2,0])[kon_i[3]]\n",
    "prior_distributions = [Uniform(prior_bounds[i]...) for i in 1:length(prior_bounds)];"
   ]
  },
  {
   "attachments": {},
   "cell_type": "markdown",
   "metadata": {},
   "source": [
    "Define Test/Train Data"
   ]
  },
  {
   "cell_type": "code",
   "execution_count": 4,
   "metadata": {},
   "outputs": [],
   "source": [
    "#first input we need are data points and each point's associated standard deviation to evaluate the likelihood\n",
    "data_points = deserialize(\"outputs/000_training_data_w_pshc_test.dict\")[\"response\"]\n",
    "std_dev = deserialize(\"outputs/000_training_data_w_pshc_test.dict\")[\"average_error\"]\n",
    "\n",
    "#load different EGF ligand dosages needed to simulate all training data\n",
    "ligand_dosages = return_ligand_dose_order_for_likelihood_w_pshc_test()\n",
    "\n",
    "#provide function for indexing likelihood data - that is, non test data\n",
    "training_data_indices = likelihood_w_pshc_test;"
   ]
  },
  {
   "attachments": {},
   "cell_type": "markdown",
   "metadata": {},
   "source": [
    "Define ODEProblems for different intial conditions"
   ]
  },
  {
   "cell_type": "code",
   "execution_count": 5,
   "metadata": {},
   "outputs": [],
   "source": [
    "#next input we need is an ode problem\n",
    "odeproblems = []\n",
    "for egf in ligand_dosages\n",
    "    odesys, u0, tspan, p = return_ode_problem_default_inputs(egf)\n",
    "    prob = DifferentialEquations.ODEProblem(odesys, u0, tspan, p) #note p will be overwritten in first run of mcmc algorithm\n",
    "    push!(odeproblems, prob)\n",
    "end"
   ]
  },
  {
   "attachments": {},
   "cell_type": "markdown",
   "metadata": {},
   "source": [
    "Define ODE Solver Inputs"
   ]
  },
  {
   "cell_type": "code",
   "execution_count": 6,
   "metadata": {},
   "outputs": [],
   "source": [
    "#and ode solver inputs, which are consistent for all simulations\n",
    "odesolver_inputs = return_ode_problem_solver_default_inputs();"
   ]
  },
  {
   "attachments": {},
   "cell_type": "markdown",
   "metadata": {},
   "source": [
    "Define Type of ODESolution"
   ]
  },
  {
   "cell_type": "code",
   "execution_count": 7,
   "metadata": {},
   "outputs": [],
   "source": [
    "#get type of ODEProblem solution\n",
    "pred = DifferentialEquations.solve(odeproblems[1], odesolver_inputs[\"solver\"], abstol=odesolver_inputs[\"abstol\"], reltol=odesolver_inputs[\"reltol\"], saveat=odesolver_inputs[\"saveat\"])\n",
    "ode_sol_type = typeof(pred);"
   ]
  },
  {
   "attachments": {},
   "cell_type": "markdown",
   "metadata": {},
   "source": [
    "Define Augmented Likelihood Term"
   ]
  },
  {
   "cell_type": "code",
   "execution_count": 8,
   "metadata": {},
   "outputs": [],
   "source": [
    "#none needed for baseline data set"
   ]
  },
  {
   "attachments": {},
   "cell_type": "markdown",
   "metadata": {},
   "source": [
    "Define Target Distribution for Sampling"
   ]
  },
  {
   "cell_type": "code",
   "execution_count": 9,
   "metadata": {},
   "outputs": [
    {
     "data": {
      "text/plain": [
       "#51 (generic function with 1 method)"
      ]
     },
     "execution_count": 9,
     "metadata": {},
     "output_type": "execute_result"
    }
   ],
   "source": [
    "target_probability = parameters -> logprob_baseline(parameters, prior_distributions, data_points, std_dev, training_data_indices, ligand_dosages, odeproblems, odesolver_inputs, ode_sol_type)"
   ]
  },
  {
   "attachments": {},
   "cell_type": "markdown",
   "metadata": {},
   "source": [
    "Affine Invariant Sampler Hyperparameters"
   ]
  },
  {
   "cell_type": "code",
   "execution_count": 10,
   "metadata": {},
   "outputs": [],
   "source": [
    "#affine invariant sampler hyperparameters\n",
    "numdims = 50\n",
    "numwalkers = 1000\n",
    "thinning = 1\n",
    "numsamples_perwalker = 1000\n",
    "burnin = 1000\n",
    "n_subchains = 70\n",
    "a_burnin = 4\n",
    "a = 2\n",
    "rng = StableRNG(28475);"
   ]
  },
  {
   "attachments": {},
   "cell_type": "markdown",
   "metadata": {},
   "source": [
    "Run Affine Invariant Sampler from 0"
   ]
  },
  {
   "cell_type": "code",
   "execution_count": 11,
   "metadata": {},
   "outputs": [
    {
     "name": "stderr",
     "output_type": "stream",
     "text": [
      "\u001b[32mProgress: 100%|█████████████████████████████████████████| Time: 0:10:24\u001b[39m\n",
      "\u001b[32mProgress: 100%|█████████████████████████████████████████| Time: 0:12:11\u001b[39m\n",
      "\u001b[32mProgress: 100%|█████████████████████████████████████████| Time: 0:12:07\u001b[39m\n",
      "\u001b[32mProgress: 100%|█████████████████████████████████████████| Time: 0:12:06\u001b[39m\n",
      "\u001b[32mProgress: 100%|█████████████████████████████████████████| Time: 0:12:07\u001b[39m\n",
      "\u001b[32mProgress: 100%|█████████████████████████████████████████| Time: 0:12:09\u001b[39m\n",
      "\u001b[32mProgress: 100%|█████████████████████████████████████████| Time: 0:12:10\u001b[39m\n",
      "\u001b[32mProgress: 100%|█████████████████████████████████████████| Time: 0:12:13\u001b[39m\n",
      "\u001b[32mProgress: 100%|█████████████████████████████████████████| Time: 0:12:11\u001b[39m\n",
      "\u001b[32mProgress: 100%|█████████████████████████████████████████| Time: 0:12:16\u001b[39m\n",
      "\u001b[32mProgress: 100%|█████████████████████████████████████████| Time: 0:12:15\u001b[39m\n",
      "\u001b[32mProgress: 100%|█████████████████████████████████████████| Time: 0:12:14\u001b[39m\n",
      "\u001b[32mProgress: 100%|█████████████████████████████████████████| Time: 0:12:17\u001b[39m\n",
      "\u001b[32mProgress: 100%|█████████████████████████████████████████| Time: 0:12:15\u001b[39m\n",
      "\u001b[32mProgress: 100%|█████████████████████████████████████████| Time: 0:12:18\u001b[39m\n",
      "\u001b[32mProgress: 100%|█████████████████████████████████████████| Time: 0:12:18\u001b[39m\n",
      "\u001b[32mProgress: 100%|█████████████████████████████████████████| Time: 0:12:19\u001b[39m\n",
      "\u001b[32mProgress: 100%|█████████████████████████████████████████| Time: 0:12:23\u001b[39m\n",
      "\u001b[32mProgress: 100%|█████████████████████████████████████████| Time: 0:12:20\u001b[39m\n",
      "\u001b[32mProgress: 100%|█████████████████████████████████████████| Time: 0:12:24\u001b[39m\n",
      "\u001b[32mProgress: 100%|█████████████████████████████████████████| Time: 0:12:22\u001b[39m\n",
      "\u001b[32mProgress: 100%|█████████████████████████████████████████| Time: 0:12:23\u001b[39m\n",
      "\u001b[32mProgress: 100%|█████████████████████████████████████████| Time: 0:12:23\u001b[39m\n",
      "\u001b[32mProgress: 100%|█████████████████████████████████████████| Time: 0:12:25\u001b[39m\n",
      "\u001b[32mProgress: 100%|█████████████████████████████████████████| Time: 0:12:28\u001b[39m\n",
      "\u001b[32mProgress: 100%|█████████████████████████████████████████| Time: 0:12:26\u001b[39m\n",
      "\u001b[32mProgress: 100%|█████████████████████████████████████████| Time: 0:12:28\u001b[39m\n",
      "\u001b[32mProgress: 100%|█████████████████████████████████████████| Time: 0:12:28\u001b[39m\n",
      "\u001b[32mProgress: 100%|█████████████████████████████████████████| Time: 0:12:30\u001b[39m\n",
      "\u001b[32mProgress: 100%|█████████████████████████████████████████| Time: 0:12:30\u001b[39m\n",
      "\u001b[32mProgress: 100%|█████████████████████████████████████████| Time: 0:12:30\u001b[39m\n",
      "\u001b[32mProgress: 100%|█████████████████████████████████████████| Time: 0:12:31\u001b[39m\n",
      "\u001b[32mProgress: 100%|█████████████████████████████████████████| Time: 0:12:42\u001b[39m\n",
      "\u001b[32mProgress: 100%|█████████████████████████████████████████| Time: 0:14:29\u001b[39m\n",
      "\u001b[32mProgress: 100%|█████████████████████████████████████████| Time: 0:12:34\u001b[39m\n",
      "\u001b[32mProgress: 100%|█████████████████████████████████████████| Time: 0:13:59\u001b[39m\n",
      "\u001b[32mProgress: 100%|█████████████████████████████████████████| Time: 0:12:33\u001b[39m\n",
      "\u001b[32mProgress: 100%|█████████████████████████████████████████| Time: 0:12:34\u001b[39m\n",
      "\u001b[32mProgress: 100%|█████████████████████████████████████████| Time: 0:12:37\u001b[39m\n",
      "\u001b[32mProgress: 100%|█████████████████████████████████████████| Time: 0:12:48\u001b[39m\n",
      "\u001b[32mProgress: 100%|█████████████████████████████████████████| Time: 0:12:49\u001b[39m\n",
      "\u001b[32mProgress: 100%|█████████████████████████████████████████| Time: 0:12:35\u001b[39m\n",
      "\u001b[32mProgress: 100%|█████████████████████████████████████████| Time: 0:12:32\u001b[39m\n",
      "\u001b[32mProgress: 100%|█████████████████████████████████████████| Time: 0:12:39\u001b[39m\n",
      "\u001b[32mProgress: 100%|█████████████████████████████████████████| Time: 0:12:35\u001b[39m\n",
      "\u001b[32mProgress: 100%|█████████████████████████████████████████| Time: 0:12:35\u001b[39m\n",
      "\u001b[32mProgress: 100%|█████████████████████████████████████████| Time: 0:12:38\u001b[39m\n",
      "\u001b[32mProgress: 100%|█████████████████████████████████████████| Time: 0:12:37\u001b[39m\n",
      "\u001b[32mProgress: 100%|█████████████████████████████████████████| Time: 0:12:36\u001b[39m\n",
      "\u001b[32mProgress: 100%|█████████████████████████████████████████| Time: 0:12:35\u001b[39m\n",
      "\u001b[32mProgress: 100%|█████████████████████████████████████████| Time: 0:12:38\u001b[39m\n",
      "\u001b[32mProgress: 100%|█████████████████████████████████████████| Time: 0:12:42\u001b[39m\n",
      "\u001b[32mProgress: 100%|█████████████████████████████████████████| Time: 0:12:41\u001b[39m\n",
      "\u001b[32mProgress: 100%|█████████████████████████████████████████| Time: 0:12:43\u001b[39m\n",
      "\u001b[32mProgress: 100%|█████████████████████████████████████████| Time: 0:12:40\u001b[39m\n",
      "\u001b[32mProgress: 100%|█████████████████████████████████████████| Time: 0:12:43\u001b[39m\n",
      "\u001b[32mProgress: 100%|█████████████████████████████████████████| Time: 0:12:41\u001b[39m\n",
      "\u001b[32mProgress: 100%|█████████████████████████████████████████| Time: 0:12:41\u001b[39m\n",
      "\u001b[32mProgress: 100%|█████████████████████████████████████████| Time: 0:12:43\u001b[39m\n",
      "\u001b[32mProgress: 100%|█████████████████████████████████████████| Time: 0:12:44\u001b[39m\n",
      "\u001b[32mProgress: 100%|█████████████████████████████████████████| Time: 0:12:46\u001b[39m\n",
      "\u001b[32mProgress: 100%|█████████████████████████████████████████| Time: 0:12:47\u001b[39m\n",
      "\u001b[32mProgress: 100%|█████████████████████████████████████████| Time: 0:12:49\u001b[39m\n",
      "\u001b[32mProgress: 100%|█████████████████████████████████████████| Time: 0:12:48\u001b[39m\n",
      "\u001b[32mProgress: 100%|█████████████████████████████████████████| Time: 0:12:47\u001b[39m\n",
      "\u001b[32mProgress: 100%|█████████████████████████████████████████| Time: 0:12:46\u001b[39m\n",
      "\u001b[32mProgress: 100%|█████████████████████████████████████████| Time: 0:12:47\u001b[39m\n",
      "\u001b[32mProgress: 100%|█████████████████████████████████████████| Time: 0:12:45\u001b[39m\n",
      "\u001b[32mProgress: 100%|█████████████████████████████████████████| Time: 0:12:49\u001b[39m\n",
      "\u001b[32mProgress: 100%|█████████████████████████████████████████| Time: 0:12:50\u001b[39m\n",
      "\u001b[32mProgress: 100%|█████████████████████████████████████████| Time: 0:12:46\u001b[39m\n"
     ]
    }
   ],
   "source": [
    "x0 = Matrix{Float64}(undef,numdims,numwalkers)\n",
    "for i in 1:numwalkers\n",
    "    x0[:,i] = [rand(rng, prior_distributions[j]) for j in 1:numdims]\n",
    "end\n",
    "\n",
    "chain0, llhoodvals0 = AffineInvariantMCMC.sample(target_probability, numwalkers, x0, burnin, thinning, a_burnin, rng=rng)\n",
    "serialize(\"outputs/$(run)_posterior_samples_subchain_0.jls\", chain0)\n",
    "serialize(\"outputs/$(run)_posterior_samples_likelihood_subchain_0.jls\", llhoodvals0)\n",
    "\n",
    "#release from RAM\n",
    "chain0 = nothing\n",
    "llhoodvals0 = nothing\n",
    "\n",
    "for i in 1:n_subchains\n",
    "    chain = deserialize(\"outputs/$(run)_posterior_samples_subchain_$(i-1).jls\")\n",
    "    chain, llhoodvals = AffineInvariantMCMC.sample(target_probability, numwalkers, chain[:, :, end], numsamples_perwalker, thinning, a, rng=rng)\n",
    "    serialize(\"outputs/$(run)_posterior_samples_subchain_$(i).jls\", chain)\n",
    "    serialize(\"outputs/$(run)_posterior_samples_likelihood_subchain_$(i).jls\", llhoodvals)\n",
    "end"
   ]
  },
  {
   "attachments": {},
   "cell_type": "markdown",
   "metadata": {},
   "source": [
    "Run Affine Invariate Sampler from N Subchain"
   ]
  },
  {
   "cell_type": "code",
   "execution_count": 12,
   "metadata": {},
   "outputs": [],
   "source": [
    "#start = 51\n",
    "#stop = 70\n",
    "#for i in start:stop\n",
    "    #chain = deserialize(\"outputs/$(run)_posterior_samples_subchain_$(i-1).jls\")\n",
    "    #chain, llhoodvals = AffineInvariantMCMC.sample(target_probability, numwalkers, chain[:, :, end], numsamples_perwalker, thinning, a, rng=rng)\n",
    "    #serialize(\"outputs/$(run)_posterior_samples_subchain_$(i).jls\", chain)\n",
    "    #serialize(\"outputs/$(run)_posterior_samples_likelihood_subchain_$(i).jls\", llhoodvals)\n",
    "#end"
   ]
  }
 ],
 "metadata": {
  "kernelspec": {
   "display_name": "Julia(emcee-4-thread-1.11) 1.11.4",
   "language": "julia",
   "name": "julia_emcee-4-thread-1.11_-1.11"
  },
  "language_info": {
   "file_extension": ".jl",
   "mimetype": "application/julia",
   "name": "julia",
   "version": "1.11.4"
  },
  "orig_nbformat": 4
 },
 "nbformat": 4,
 "nbformat_minor": 2
}
