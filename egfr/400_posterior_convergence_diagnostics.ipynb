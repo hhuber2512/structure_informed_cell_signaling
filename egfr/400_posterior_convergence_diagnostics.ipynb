{
 "cells": [
  {
   "cell_type": "code",
   "execution_count": 1,
   "metadata": {},
   "outputs": [],
   "source": [
    "using MCMCChains, Serialization, Plots, StableRNGs\n",
    "include(\"misc.jl\")\n",
    "include(\"convergence_diagnostics.jl\");"
   ]
  },
  {
   "cell_type": "code",
   "execution_count": 8,
   "metadata": {},
   "outputs": [],
   "source": [
    "#run = \"290\"\n",
    "chunks = [1,2]\n",
    "rng = StableRNG(39485); #for randomly sampled trace plots"
   ]
  },
  {
   "cell_type": "code",
   "execution_count": 3,
   "metadata": {},
   "outputs": [],
   "source": [
    "parameters = return_inferred_parameters();"
   ]
  },
  {
   "attachments": {},
   "cell_type": "markdown",
   "metadata": {},
   "source": [
    "ESS"
   ]
  },
  {
   "cell_type": "code",
   "execution_count": 6,
   "metadata": {},
   "outputs": [
    {
     "ename": "LoadError",
     "evalue": "InterruptException:",
     "output_type": "error",
     "traceback": [
      "InterruptException:",
      "",
      "Stacktrace:",
      " [1] _unsafe_setindex!(::IndexLinear, ::Array{Float64, 3}, ::Vector{Float64}, ::Base.Slice{Base.OneTo{Int64}}, ::Int64, ::Int64)",
      "   @ Base ./multidimensional.jl:988",
      " [2] _setindex!",
      "   @ ./multidimensional.jl:967 [inlined]",
      " [3] setindex!",
      "   @ ./abstractarray.jl:1413 [inlined]",
      " [4] return_ess(chain::Array{Float64, 3}, ndims::Int64, nwalkers::Int64, nsamples::Int64)",
      "   @ Main ~/Documents/structure_informed_cell_signaling2/egfr/convergence_diagnostics.jl:10",
      " [5] top-level scope",
      "   @ ./In[6]:4"
     ]
    }
   ],
   "source": [
    "for chunk in chunks\n",
    "    chain = deserialize(\"outputs/300_$(run)_posterior_samples_chunk$(chunk).jls\")\n",
    "    ndims, nwalkers, nsamples = size(chain)\n",
    "    my_ess = return_ess(chain, ndims, nwalkers, nsamples)\n",
    "    serialize(\"outputs/400_$(run)_ess_chunk$(chunk).jls\", my_ess)\n",
    "    chain = nothing\n",
    "end"
   ]
  },
  {
   "attachments": {},
   "cell_type": "markdown",
   "metadata": {},
   "source": [
    "Plot ESS"
   ]
  },
  {
   "cell_type": "code",
   "execution_count": 13,
   "metadata": {},
   "outputs": [],
   "source": [
    "for chunk in chunks\n",
    "    ess = deserialize(\"outputs/400_$(run)_ess_chunk$(chunk).jls\")\n",
    "    n_parameters = length(ess)*2\n",
    "    nwalkers = 1000\n",
    "    min_ess = nwalkers*100\n",
    "    p1 = plot(bar(1:Int(n_parameters/2), ess, color=:turquoise4, label=\"ess\"))\n",
    "    plot!([0,Int(n_parameters/2)+1],[min_ess, min_ess], color=:black, linewidth=4, label=\"minimum ess\")\n",
    "    if chunk == 1\n",
    "        xticks!(1:Int(n_parameters/2), parameters[1:Int(n_parameters/2)])\n",
    "    elseif chunk == 2\n",
    "        xticks!(1:Int(n_parameters/2), parameters[Int(n_parameters/2)+1:Int(n_parameters)])\n",
    "    end\n",
    "    plot!(dpi=300, size=(10*100, 2*100))\n",
    "    savefig(\"outputs/400_convergence_diagnostics/400_$(run)_ess_chunk$(chunk)_plot.png\")\n",
    "end"
   ]
  },
  {
   "attachments": {},
   "cell_type": "markdown",
   "metadata": {},
   "source": [
    "Trace Plots"
   ]
  },
  {
   "attachments": {},
   "cell_type": "markdown",
   "metadata": {},
   "source": [
    "chain = deserialize(\"outputs/300_$(run)_posterior_samples_chunk1.jls\")\n",
    "ndims, nwalkers, nsamples = size(chain)\n",
    "p = []\n",
    "for i in 1:ndims\n",
    "    p_i = trace_plots(rng, chain[i,:,:], nwalkers, nsamples, parameters[i])\n",
    "    push!(p,p_i)\n",
    "end\n",
    "#my_plot = plot(p[3:end]...,layout=(5,5))\n",
    "#savefig(\"outputs/400_$(run)_trace_plots_chunk$(chunk).png\")"
   ]
  }
 ],
 "metadata": {
  "kernelspec": {
   "display_name": "Julia(emcee-4-thread-1.11) 1.11.4",
   "language": "julia",
   "name": "julia_emcee-4-thread-1.11_-1.11"
  },
  "language_info": {
   "file_extension": ".jl",
   "mimetype": "application/julia",
   "name": "julia",
   "version": "1.11.4"
  },
  "orig_nbformat": 4
 },
 "nbformat": 4,
 "nbformat_minor": 2
}
