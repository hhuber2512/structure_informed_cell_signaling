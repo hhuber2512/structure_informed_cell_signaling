{
 "cells": [
  {
   "cell_type": "code",
   "execution_count": 1,
   "metadata": {},
   "outputs": [],
   "source": [
    "using Serialization\n",
    "include(\"combine_posterior_samples.jl\");"
   ]
  },
  {
   "cell_type": "code",
   "execution_count": 2,
   "metadata": {},
   "outputs": [],
   "source": [
    "#run = \"201\"\n",
    "n_subchains = 70\n",
    "n_walkers = 1000\n",
    "n_samples_per_subchain = 1000\n",
    "ndims = 50\n",
    "n_samples_per_walker = n_subchains*n_walkers*n_samples_per_subchain;"
   ]
  },
  {
   "attachments": {},
   "cell_type": "markdown",
   "metadata": {},
   "source": [
    "Combine and thin posterior samples for analysis (10000 samples across all chains)"
   ]
  },
  {
   "cell_type": "code",
   "execution_count": 3,
   "metadata": {},
   "outputs": [],
   "source": [
    "n_total_thinned_samples = 10000\n",
    "thin_each_walker_by = Int(n_samples_per_walker/n_total_thinned_samples);\n",
    "chain, ll = combine_and_thin_posterior_samples(run, thin_each_walker_by,n_subchains)\n",
    "serialize(\"outputs/300_$(run)_posterior_samples_thinned.jls\", chain) #ndims x nsamples\n",
    "serialize(\"outputs/300_$(run)_posterior_samples_thinned_likelihood.jls\", ll); #nsamples\n",
    "#release from RAM\n",
    "chain = nothing\n",
    "ll = nothing"
   ]
  },
  {
   "attachments": {},
   "cell_type": "markdown",
   "metadata": {},
   "source": [
    "Combine and Thin Posterior Samples for Convergence Diagnostics (at least 100*n_walkers samples total, keep individual chains)"
   ]
  },
  {
   "cell_type": "code",
   "execution_count": null,
   "metadata": {},
   "outputs": [],
   "source": [
    "thin_each_walker_by = 1 #keep all for convergence diagnostics calculations\n",
    "#for RAM, we divide chains into two halves along parameters - given n parameters, first half is 1:n/2, second half is n/2+1:n\n",
    "pindex = [1:Int(ndims/2), (Int(ndims/2)+1):ndims]\n",
    "for i in 1:2\n",
    "    chain_i, ll_i = combine_posterior_samples_keep_walkers(run, thin_each_walker_by, n_subchains, pindex[i])\n",
    "    serialize(\"outputs/300_$(run)_posterior_samples_chunk$(i).jls\", chain_i) #ndims/2 x nwalkers x n samples\n",
    "    serialize(\"outputs/300_$(run)_posterior_samples_likelihood.jls\", ll_i); #nwalkers x nsamples\n",
    "    #for RAM\n",
    "    chain_i = nothing\n",
    "    ll_i = nothing\n",
    "end"
   ]
  },
  {
   "cell_type": "code",
   "execution_count": 3,
   "metadata": {},
   "outputs": [],
   "source": [
    "#thin_each_walker_by = 1 #keep all for convergence diagnostics calculations\n",
    "#for RAM, we divide chains into two halves along parameters - given n parameters, first half is 1:n/2, second half is n/2+1:n\n",
    "#pindex = [1:Int(ndims/2), (Int(ndims/2)+1):ndims]\n",
    "#for i in 2:2\n",
    "    #chain = 0\n",
    "    #ll = 0\n",
    "    #chain, ll = combine_posterior_samples_keep_walkers(run, thin_each_walker_by, n_subchains, pindex[i])\n",
    "    #serialize(\"outputs/300_$(run)_posterior_samples_chunk$(i).jls\", chain) #ndims/2 x nwalkers x n samples\n",
    "    #serialize(\"outputs/300_$(run)_posterior_samples_likelihood.jls\", ll); #nwalkers x nsamples\n",
    "#end"
   ]
  }
 ],
 "metadata": {
  "kernelspec": {
   "display_name": "Julia(emcee-4-thread-1.11) 1.11.4",
   "language": "julia",
   "name": "julia_emcee-4-thread-1.11_-1.11"
  },
  "language_info": {
   "file_extension": ".jl",
   "mimetype": "application/julia",
   "name": "julia",
   "version": "1.11.4"
  },
  "orig_nbformat": 4
 },
 "nbformat": 4,
 "nbformat_minor": 2
}
