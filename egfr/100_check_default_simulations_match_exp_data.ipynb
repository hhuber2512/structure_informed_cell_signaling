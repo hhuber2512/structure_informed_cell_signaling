{
 "cells": [
  {
   "cell_type": "code",
   "execution_count": 1,
   "metadata": {},
   "outputs": [],
   "source": [
    "using DifferentialEquations, Plots, Serialization\n",
    "include(\"ode_problem.jl\")\n",
    "include(\"calculate_experimental_outputs.jl\");"
   ]
  },
  {
   "cell_type": "code",
   "execution_count": 2,
   "metadata": {},
   "outputs": [],
   "source": [
    "#figure hyperparameter\n",
    "marker_size = 7\n",
    "linewidth = 5;"
   ]
  },
  {
   "attachments": {},
   "cell_type": "markdown",
   "metadata": {},
   "source": [
    "### This Script Compares EGFR Simulations to the Reported Experimental Measurements\n",
    "To generate predictions, we set the parameter values to the published values, and simulate the experimental conditions. Here, the conditions are stimulation of cells with various concentrations of EGF, and the downstream response of 4 different species, such as phosphorylated EGFR. Experimental data can be seen in Fig2 and Fig3 of Kholodenko. "
   ]
  },
  {
   "attachments": {},
   "cell_type": "markdown",
   "metadata": {},
   "source": [
    "### Figure 2"
   ]
  },
  {
   "cell_type": "code",
   "execution_count": 3,
   "metadata": {},
   "outputs": [],
   "source": [
    "solver_inputs = return_ode_problem_solver_default_inputs()\n",
    "EGFR_response = []\n",
    "EGFR_response_finegrain = []\n",
    "my_species = \"p_egfr\"\n",
    "for i in [20.0, 2.0, 0.2]\n",
    "    odesys, u0, tspan, p = return_ode_problem_default_inputs(i)\n",
    "    op = ODEProblem(odesys, u0, tspan, p)\n",
    "    #simulate using DifferentialEquations solver and calculate fraction of activated G protein\n",
    "    predicted = DifferentialEquations.solve(op, solver_inputs[\"solver\"], abstol=solver_inputs[\"abstol\"], reltol=solver_inputs[\"reltol\"], saveat=solver_inputs[\"saveat\"]);\n",
    "    experimental_quantities = calculate_all_quantities(predicted)\n",
    "\n",
    "    #fine grain simulation for visualization\n",
    "    save_at = collect(range(start=0.0,stop=120.0, step=1))\n",
    "    predicted = DifferentialEquations.solve(op, solver_inputs[\"solver\"], abstol=solver_inputs[\"abstol\"], reltol=solver_inputs[\"reltol\"], saveat=save_at);\n",
    "    experimental_quantities_finegrain = calculate_all_quantities(predicted)\n",
    "\n",
    "    push!(EGFR_response, experimental_quantities[my_species])\n",
    "    push!(EGFR_response_finegrain, experimental_quantities_finegrain[my_species])\n",
    "end"
   ]
  },
  {
   "cell_type": "code",
   "execution_count": 4,
   "metadata": {},
   "outputs": [
    {
     "data": {
      "text/plain": [
       "\"/Users/hollyhuber/Documents/structure_informed_cell_signaling2/egfr/outputs/100_kholodenko_fig2.png\""
      ]
     },
     "execution_count": 4,
     "metadata": {},
     "output_type": "execute_result"
    }
   ],
   "source": [
    "save_at = collect(range(start=0.0,stop=120.0, step=1))\n",
    "egf_concentrations = [20,2,0.2]\n",
    "mark_shapes = [:circle,:utriangle,:rect]\n",
    "data = [\"p_egfr_20\", \"p_egfr_2\", \"p_egfr_02\"]\n",
    "marker_size = 7\n",
    "color = :turquoise4 \n",
    "plot(save_at, EGFR_response_finegrain[1], label=false, color=color, linewidth=linewidth)\n",
    "for i in 1:3\n",
    "    experiment_timecourse = deserialize(\"outputs/000_processed_$(data[i]).dict\")\n",
    "    plot!(save_at, EGFR_response_finegrain[i], label=false, color=color, linewidth=linewidth)\n",
    "    scatter!(experiment_timecourse[\"save_at\"], EGFR_response[i], label=\"simulated, $(egf_concentrations[i])nM\", color=color,\n",
    "    marker=mark_shapes[i], markersize=marker_size)\n",
    "    scatter!(experiment_timecourse[\"save_at\"], experiment_timecourse[\"response\"], label=\"experimental data, $(egf_concentrations[i])nM\", color=\"black\",\n",
    "    yerr=experiment_timecourse[\"average_error\"],marker=mark_shapes[i], markersize=marker_size)\n",
    "end\n",
    "xlabel!(\"Time (secs)\")\n",
    "ylabel!(\"Percent pEGFR\")\n",
    "ylims!(0,80)\n",
    "plot!(size=(690,690), dpi=300)\n",
    "savefig(\"outputs/100_kholodenko_fig2.png\")"
   ]
  },
  {
   "attachments": {},
   "cell_type": "markdown",
   "metadata": {},
   "source": [
    "### Figure 3A"
   ]
  },
  {
   "cell_type": "code",
   "execution_count": 5,
   "metadata": {},
   "outputs": [
    {
     "data": {
      "text/plain": [
       "\"/Users/hollyhuber/Documents/structure_informed_cell_signaling2/egfr/outputs/100_kholodenko_fig3a.png\""
      ]
     },
     "execution_count": 5,
     "metadata": {},
     "output_type": "execute_result"
    }
   ],
   "source": [
    "solver_inputs = return_ode_problem_solver_default_inputs()\n",
    "simulated_response = []\n",
    "simulated_response_finegrain = []\n",
    "my_species = \"p_plcg\"\n",
    "for i in [20, 2]\n",
    "    odesys, u0, tspan, p = return_ode_problem_default_inputs(i)\n",
    "    op = ODEProblem(odesys, u0, tspan, p)\n",
    "    #simulate using DifferentialEquations solver and calculate fraction of activated G protein\n",
    "    predicted = DifferentialEquations.solve(op, solver_inputs[\"solver\"], abstol=solver_inputs[\"abstol\"], reltol=solver_inputs[\"reltol\"], saveat=solver_inputs[\"saveat\"]);\n",
    "    experimental_quantities = calculate_all_quantities(predicted)\n",
    "\n",
    "    #fine grain simulation for visualization\n",
    "    save_at = collect(range(start=0.0,stop=120.0, step=1))\n",
    "    predicted = DifferentialEquations.solve(op, solver_inputs[\"solver\"], abstol=solver_inputs[\"abstol\"], reltol=solver_inputs[\"reltol\"], saveat=save_at);\n",
    "    experimental_quantities_finegrain = calculate_all_quantities(predicted)\n",
    "\n",
    "    push!(simulated_response, experimental_quantities[my_species])\n",
    "    push!(simulated_response_finegrain, experimental_quantities_finegrain[my_species])\n",
    "end\n",
    "\n",
    "save_at = collect(range(start=0.0,stop=120.0, step=1))\n",
    "initial_concentrations = [20,2,0.2]\n",
    "mark_shapes = [:circle,:utriangle,:rect]\n",
    "data = [\"p_plcg_20\", \"p_plcg_2\"]\n",
    "p1 = plot(save_at, simulated_response_finegrain[1], label=false, color=\"darkturquoise\")\n",
    "for i in 1:2\n",
    "    experiment_timecourse = deserialize(\"outputs/000_processed_$(data[i]).dict\")\n",
    "    plot!(save_at, simulated_response_finegrain[i], label=false, color=color, linewidth=linewidth)\n",
    "    scatter!(experiment_timecourse[\"save_at\"], simulated_response[i], label=\"simulated, $(initial_concentrations[i])nM\", color=color,\n",
    "    marker=mark_shapes[i], markersize=marker_size)\n",
    "    scatter!(experiment_timecourse[\"save_at\"], experiment_timecourse[\"response\"], label=\"experimental data, $(initial_concentrations[i])nM\", color=\"black\",\n",
    "    yerr=experiment_timecourse[\"average_error\"],marker=mark_shapes[i], markersize=marker_size)\n",
    "end\n",
    "xlabel!(\"Time (secs)\")\n",
    "ylabel!(\"Percent pPLCg\")\n",
    "#title!(\"Figure 3 of Kholodenko et al\")\n",
    "ylims!(0,15)\n",
    "plot!(size=(690,690), dpi=300)\n",
    "savefig(\"outputs/100_kholodenko_fig3a.png\")"
   ]
  },
  {
   "attachments": {},
   "cell_type": "markdown",
   "metadata": {},
   "source": [
    "### Figure 3B"
   ]
  },
  {
   "cell_type": "code",
   "execution_count": 6,
   "metadata": {},
   "outputs": [
    {
     "data": {
      "text/plain": [
       "\"/Users/hollyhuber/Documents/structure_informed_cell_signaling2/egfr/outputs/100_kholodenko_fig3b.png\""
      ]
     },
     "execution_count": 6,
     "metadata": {},
     "output_type": "execute_result"
    }
   ],
   "source": [
    "solver_inputs = return_ode_problem_solver_default_inputs()\n",
    "simulated_response = []\n",
    "simulated_response_finegrain = []\n",
    "my_species = \"p_shc\"\n",
    "for i in [20]\n",
    "    odesys, u0, tspan, p = return_ode_problem_default_inputs(i)\n",
    "    op = ODEProblem(odesys, u0, tspan, p)\n",
    "    #simulate using DifferentialEquations solver and calculate fraction of activated G protein\n",
    "    predicted = DifferentialEquations.solve(op, solver_inputs[\"solver\"], abstol=solver_inputs[\"abstol\"], reltol=solver_inputs[\"reltol\"], saveat=solver_inputs[\"saveat\"]);\n",
    "    experimental_quantities = calculate_all_quantities(predicted)\n",
    "\n",
    "    #fine grain simulation for visualization\n",
    "    save_at = collect(range(start=0.0,stop=120.0, step=1))\n",
    "    predicted = DifferentialEquations.solve(op, solver_inputs[\"solver\"], abstol=solver_inputs[\"abstol\"], reltol=solver_inputs[\"reltol\"], saveat=save_at);\n",
    "    experimental_quantities_finegrain = calculate_all_quantities(predicted)\n",
    "\n",
    "    push!(simulated_response, experimental_quantities[my_species])\n",
    "    push!(simulated_response_finegrain, experimental_quantities_finegrain[my_species])\n",
    "end\n",
    "\n",
    "save_at = collect(range(start=0.0,stop=120.0, step=1))\n",
    "initial_concentrations = [20]\n",
    "mark_shapes = [:circle,:utriangle,:rect]\n",
    "data = [\"p_shc_20\"]\n",
    "p2 = plot(save_at, simulated_response_finegrain[1], label=false, color=color)\n",
    "for i in 1:1\n",
    "    experiment_timecourse = deserialize(\"outputs/000_processed_$(data[i]).dict\")\n",
    "    plot!(save_at, simulated_response_finegrain[i], label=false, color=color, linewidth=linewidth)\n",
    "    scatter!(experiment_timecourse[\"save_at\"], simulated_response[i], label=\"simulated, $(initial_concentrations[i])nM\", color=color,\n",
    "    marker=mark_shapes[i], markersize=marker_size)\n",
    "    scatter!(experiment_timecourse[\"save_at\"], experiment_timecourse[\"response\"], label=\"experimental data, $(initial_concentrations[i])nM\", color=\"black\",\n",
    "    yerr=experiment_timecourse[\"average_error\"],marker=mark_shapes[i], markersize=marker_size)\n",
    "end\n",
    "xlabel!(\"Time (secs)\")\n",
    "ylabel!(\"Percent pSHC\")\n",
    "#title!(\"Figure 3 of Kholodenko et al\")\n",
    "#ylims!(0,45)\n",
    "plot!(size=(690,690), dpi=300)\n",
    "savefig(\"outputs/100_kholodenko_fig3b.png\")"
   ]
  },
  {
   "attachments": {},
   "cell_type": "markdown",
   "metadata": {},
   "source": [
    "### Figure 3C"
   ]
  },
  {
   "cell_type": "code",
   "execution_count": 7,
   "metadata": {},
   "outputs": [
    {
     "data": {
      "text/plain": [
       "\"/Users/hollyhuber/Documents/structure_informed_cell_signaling2/egfr/outputs/100_kholodenko_fig3c_i.png\""
      ]
     },
     "execution_count": 7,
     "metadata": {},
     "output_type": "execute_result"
    }
   ],
   "source": [
    "solver_inputs = return_ode_problem_solver_default_inputs()\n",
    "simulated_response = []\n",
    "simulated_response_finegrain = []\n",
    "my_species = \"grb_egfr\"\n",
    "for i in [20]\n",
    "    odesys, u0, tspan, p = return_ode_problem_default_inputs(i)\n",
    "    op = ODEProblem(odesys, u0, tspan, p)\n",
    "    #simulate using DifferentialEquations solver and calculate fraction of activated G protein\n",
    "    predicted = DifferentialEquations.solve(op, solver_inputs[\"solver\"], abstol=solver_inputs[\"abstol\"], reltol=solver_inputs[\"reltol\"], saveat=solver_inputs[\"saveat\"]);\n",
    "    experimental_quantities = calculate_all_quantities(predicted)\n",
    "\n",
    "    #fine grain simulation for visualization\n",
    "    save_at = collect(range(start=0.0,stop=120.0, step=1))\n",
    "    predicted = DifferentialEquations.solve(op, solver_inputs[\"solver\"], abstol=solver_inputs[\"abstol\"], reltol=solver_inputs[\"reltol\"], saveat=save_at);\n",
    "    experimental_quantities_finegrain = calculate_all_quantities(predicted)\n",
    "\n",
    "    push!(simulated_response, experimental_quantities[my_species])\n",
    "    push!(simulated_response_finegrain, experimental_quantities_finegrain[my_species])\n",
    "end\n",
    "\n",
    "save_at = collect(range(start=0.0,stop=120.0, step=1))\n",
    "initial_concentrations = [20]\n",
    "mark_shapes = [:circle,:utriangle,:rect]\n",
    "data = [\"grb_egfr_20\"]\n",
    "p3 = plot(save_at, simulated_response_finegrain[1], label=false, color=color)\n",
    "for i in 1:1\n",
    "    experiment_timecourse = deserialize(\"outputs/000_processed_$(data[i]).dict\")\n",
    "    plot!(save_at, simulated_response_finegrain[i], label=false, color=color, linewidth=linewidth)\n",
    "    scatter!(experiment_timecourse[\"save_at\"], simulated_response[i], label=\"simulated, $(initial_concentrations[i])nM\", color=color,\n",
    "    marker=mark_shapes[i], markersize=marker_size)\n",
    "    scatter!(experiment_timecourse[\"save_at\"], experiment_timecourse[\"response\"], label=\"experimental data, $(initial_concentrations[i])nM\", color=\"black\",\n",
    "    yerr=experiment_timecourse[\"average_error\"],marker=mark_shapes[i], markersize=marker_size)\n",
    "end\n",
    "xlabel!(\"Time (secs)\")\n",
    "ylabel!(\"Percent GRB2 in EGFR IP\")\n",
    "#title!(\"Figure 3 of Kholodenko et al\")\n",
    "ylims!(0,25)\n",
    "plot!(size=(690,690), dpi=300)\n",
    "savefig(\"outputs/100_kholodenko_fig3c_i.png\")"
   ]
  },
  {
   "cell_type": "code",
   "execution_count": 8,
   "metadata": {},
   "outputs": [
    {
     "data": {
      "text/plain": [
       "\"/Users/hollyhuber/Documents/structure_informed_cell_signaling2/egfr/outputs/100_kholodenko_fig3c_ii.png\""
      ]
     },
     "execution_count": 8,
     "metadata": {},
     "output_type": "execute_result"
    }
   ],
   "source": [
    "solver_inputs = return_ode_problem_solver_default_inputs()\n",
    "simulated_response = []\n",
    "simulated_response_finegrain = []\n",
    "my_species = \"grb_shc\"\n",
    "for i in [20]\n",
    "    odesys, u0, tspan, p = return_ode_problem_default_inputs(i)\n",
    "    op = ODEProblem(odesys, u0, tspan, p)\n",
    "    #simulate using DifferentialEquations solver and calculate fraction of activated G protein\n",
    "    predicted = DifferentialEquations.solve(op, solver_inputs[\"solver\"], abstol=solver_inputs[\"abstol\"], reltol=solver_inputs[\"reltol\"], saveat=solver_inputs[\"saveat\"]);\n",
    "    experimental_quantities = calculate_all_quantities(predicted)\n",
    "\n",
    "    #fine grain simulation for visualization\n",
    "    save_at = collect(range(start=0.0,stop=120.0, step=1))\n",
    "    predicted = DifferentialEquations.solve(op, solver_inputs[\"solver\"], abstol=solver_inputs[\"abstol\"], reltol=solver_inputs[\"reltol\"], saveat=save_at);\n",
    "    experimental_quantities_finegrain = calculate_all_quantities(predicted)\n",
    "\n",
    "    push!(simulated_response, experimental_quantities[my_species])\n",
    "    push!(simulated_response_finegrain, experimental_quantities_finegrain[my_species])\n",
    "end\n",
    "\n",
    "save_at = collect(range(start=0.0,stop=120.0, step=1))\n",
    "initial_concentrations = [20]\n",
    "mark_shapes = [:circle,:utriangle,:rect]\n",
    "data = [\"grb_shc_20\"]\n",
    "p4 = plot(save_at, simulated_response_finegrain[1], label=false, color=color)\n",
    "for i in 1:1\n",
    "    experiment_timecourse = deserialize(\"outputs/000_processed_$(data[i]).dict\")\n",
    "    plot!(save_at, simulated_response_finegrain[i], label=false, color=color, linewidth=linewidth)\n",
    "    scatter!(experiment_timecourse[\"save_at\"], simulated_response[i], label=\"simulated, $(initial_concentrations[i])nM\", color=color,\n",
    "    marker=mark_shapes[i], markersize=marker_size)\n",
    "    scatter!(experiment_timecourse[\"save_at\"], experiment_timecourse[\"response\"], label=\"experimental data, $(initial_concentrations[i])nM\", color=\"black\",\n",
    "    yerr=experiment_timecourse[\"average_error\"],marker=mark_shapes[i], markersize=marker_size)\n",
    "end\n",
    "xlabel!(\"Time (secs)\")\n",
    "ylabel!(\"Percent GRB2 in SHC IP\")\n",
    "#title!(\"Figure 3 of Kholodenko et al\")\n",
    "ylims!(0,45)\n",
    "plot!(size=(690,690), dpi=300)\n",
    "savefig(\"outputs/100_kholodenko_fig3c_ii.png\")"
   ]
  },
  {
   "cell_type": "code",
   "execution_count": 9,
   "metadata": {},
   "outputs": [
    {
     "data": {
      "text/plain": [
       "\"/Users/hollyhuber/Documents/structure_informed_cell_signaling2/egfr/outputs/100_kholodenko_fig3.png\""
      ]
     },
     "execution_count": 9,
     "metadata": {},
     "output_type": "execute_result"
    }
   ],
   "source": [
    "plot(p1,p2,p3,p4,layout=(2,2),dpi=200,size=(1000,500),xguidefontsize=8, yguidefontsize=8,xtickfontsize=5,ytickfontsize=5,titlefontsize=12, \n",
    "left_margin=[3Plots.mm 1Plots.mm])\n",
    "savefig(\"outputs/100_kholodenko_fig3.png\")"
   ]
  }
 ],
 "metadata": {
  "kernelspec": {
   "display_name": "Julia(emcee-4-thread-1.11) 1.11.4",
   "language": "julia",
   "name": "julia_emcee-4-thread-1.11_-1.11"
  },
  "language_info": {
   "file_extension": ".jl",
   "mimetype": "application/julia",
   "name": "julia",
   "version": "1.11.4"
  },
  "orig_nbformat": 4
 },
 "nbformat": 4,
 "nbformat_minor": 2
}
