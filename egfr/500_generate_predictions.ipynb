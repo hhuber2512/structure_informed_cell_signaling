{
 "cells": [
  {
   "cell_type": "code",
   "execution_count": 9,
   "metadata": {},
   "outputs": [],
   "source": [
    "using DifferentialEquations, Serialization\n",
    "include(\"ode_problem.jl\")\n",
    "include(\"calculate_experimental_outputs.jl\")\n",
    "include(\"make_predictions.jl\");"
   ]
  },
  {
   "attachments": {},
   "cell_type": "markdown",
   "metadata": {},
   "source": [
    "Specify Run of Interest"
   ]
  },
  {
   "cell_type": "code",
   "execution_count": 10,
   "metadata": {},
   "outputs": [],
   "source": [
    "#if running from command line, can set this globally and run for different cases\n",
    "#run = \"201\";"
   ]
  },
  {
   "attachments": {},
   "cell_type": "markdown",
   "metadata": {},
   "source": [
    "Create ODE Problems for each initial condition"
   ]
  },
  {
   "cell_type": "code",
   "execution_count": 11,
   "metadata": {},
   "outputs": [],
   "source": [
    "#next input we need is an ode problem\n",
    "ligand_dosages = [20.0, 2.0, 0.2] #all possible doses\n",
    "n_doses = length(ligand_dosages)\n",
    "odeproblems = []\n",
    "for egf in ligand_dosages\n",
    "    odesys, u0, tspan, p = return_ode_problem_default_inputs(egf)\n",
    "    prob = DifferentialEquations.ODEProblem(odesys, u0, tspan, p) #note p will be overwritten in first run of mcmc algorithm\n",
    "    push!(odeproblems, prob)\n",
    "end"
   ]
  },
  {
   "attachments": {},
   "cell_type": "markdown",
   "metadata": {},
   "source": [
    "Load ODE Solver Inputs"
   ]
  },
  {
   "cell_type": "code",
   "execution_count": 12,
   "metadata": {},
   "outputs": [],
   "source": [
    "#need ode solver inputs, which are consistent for all simulations\n",
    "odesolver_inputs = return_ode_problem_solver_default_inputs()\n",
    "save_at_finegrain = return_finegrain_saveat()\n",
    "odesolver_inputs_finegrain = copy(odesolver_inputs)\n",
    "odesolver_inputs_finegrain[\"saveat\"] = save_at_finegrain;"
   ]
  },
  {
   "attachments": {},
   "cell_type": "markdown",
   "metadata": {},
   "source": [
    "Define Type of ODE Solution"
   ]
  },
  {
   "cell_type": "code",
   "execution_count": 13,
   "metadata": {},
   "outputs": [],
   "source": [
    "#get type of ODEProblem solution\n",
    "pred = DifferentialEquations.solve(odeproblems[1], odesolver_inputs[\"solver\"], abstol=odesolver_inputs[\"abstol\"], reltol=odesolver_inputs[\"reltol\"], saveat=odesolver_inputs[\"saveat\"])\n",
    "ode_sol_type = typeof(pred);"
   ]
  },
  {
   "attachments": {},
   "cell_type": "markdown",
   "metadata": {},
   "source": [
    "Load posterior samples and convert from log10 scale"
   ]
  },
  {
   "cell_type": "code",
   "execution_count": 14,
   "metadata": {},
   "outputs": [],
   "source": [
    "parameters = 10.0.^deserialize(\"outputs/300_$(run)_posterior_samples_thinned.jls\")\n",
    "n_parameters, n_samples = size(parameters);"
   ]
  },
  {
   "attachments": {},
   "cell_type": "markdown",
   "metadata": {},
   "source": [
    "Simulate using Posterior Samples"
   ]
  },
  {
   "cell_type": "code",
   "execution_count": 15,
   "metadata": {},
   "outputs": [],
   "source": [
    "predicted = Matrix{ode_sol_type}(undef, n_doses, n_samples)\n",
    "predicted_finegrain = Matrix{ode_sol_type}(undef, n_doses, n_samples)\n",
    "for i in 1:n_doses\n",
    "    for j in 1:n_samples\n",
    "        predicted[i,j] = make_prediction(odeproblems[i], odesolver_inputs, parameters[:,j])\n",
    "        predicted_finegrain[i,j] = make_prediction(odeproblems[i], odesolver_inputs_finegrain, parameters[:,j])\n",
    "    end\n",
    "end\n",
    "serialize(\"outputs/500_$(run)_predictions.jls\", predicted)\n",
    "serialize(\"outputs/500_$(run)_predictions_finegrain.jls\", predicted_finegrain)"
   ]
  },
  {
   "attachments": {},
   "cell_type": "markdown",
   "metadata": {},
   "source": [
    "Calculate Experiemental Quantities per Dose"
   ]
  },
  {
   "cell_type": "code",
   "execution_count": null,
   "metadata": {},
   "outputs": [],
   "source": [
    "dose_names = [\"20\",\"2\",\"02\"]\n",
    "for i in 1:n_doses\n",
    "    experimental_quantities = Array{Dict}(undef, n_samples)\n",
    "    experimental_quantities_finegrain = Array{Dict}(undef, n_samples)\n",
    "    for j in 1:n_samples\n",
    "        experimental_quantities[j] = calculate_all_quantities(predicted[i,j])\n",
    "        experimental_quantities_finegrain[j] = calculate_all_quantities(predicted_finegrain[i,j])\n",
    "    end\n",
    "    exp_keys = keys(experimental_quantities[1])\n",
    "    for k in exp_keys\n",
    "        one_quantity = [experimental_quantities[j][k] for j in 1:n_samples]\n",
    "        one_quantity_finegrain = [experimental_quantities_finegrain[j][k] for j in 1:n_samples]\n",
    "        serialize(\"outputs/500_$(run)_predictions_$(k)_$(dose_names[i]).jls\", one_quantity)\n",
    "        serialize(\"outputs/500_$(run)_finegrain_predictions_$(k)_$(dose_names[i]).jls\", one_quantity_finegrain)\n",
    "    end\n",
    "end"
   ]
  }
 ],
 "metadata": {
  "kernelspec": {
   "display_name": "Julia(emcee-4-thread-1.11) 1.11.4",
   "language": "julia",
   "name": "julia_emcee-4-thread-1.11_-1.11"
  },
  "language_info": {
   "file_extension": ".jl",
   "mimetype": "application/julia",
   "name": "julia",
   "version": "1.11.4"
  },
  "orig_nbformat": 4
 },
 "nbformat": 4,
 "nbformat_minor": 2
}
