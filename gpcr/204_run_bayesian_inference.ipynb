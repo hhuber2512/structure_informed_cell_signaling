{
 "cells": [
  {
   "cell_type": "code",
   "execution_count": 1,
   "metadata": {},
   "outputs": [],
   "source": [
    "using Serialization, Distributions, AffineInvariantMCMC, StableRNGs \n",
    "include(\"ode_problem.jl\")\n",
    "include(\"target_probability.jl\");"
   ]
  },
  {
   "attachments": {},
   "cell_type": "markdown",
   "metadata": {},
   "source": [
    "### Name Run\n",
    "\n",
    "run: 204  \n",
    "test data: active G protein timecourse and dose response  \n",
    "augmented: yes  \n",
    "weighed by AF3 confidence: yes   \n",
    "prior offset: +/- 1  \n",
    "binding prior offset: +/- -1 (means two order of magnitude tighter prior)  "
   ]
  },
  {
   "cell_type": "code",
   "execution_count": 2,
   "metadata": {},
   "outputs": [
    {
     "data": {
      "text/plain": [
       "\"204\""
      ]
     },
     "execution_count": 2,
     "metadata": {},
     "output_type": "execute_result"
    }
   ],
   "source": [
    "run = \"204\""
   ]
  },
  {
   "attachments": {},
   "cell_type": "markdown",
   "metadata": {},
   "source": [
    "Define Prior Distributions"
   ]
  },
  {
   "cell_type": "code",
   "execution_count": 3,
   "metadata": {},
   "outputs": [],
   "source": [
    "#generate bounds for prior\n",
    "bound_offset = [1,1]\n",
    "binding_bound_offset = [-1,-1]\n",
    "prior_bounds = return_prior_bounds_empirical(bound_offset, binding_bound_offset) #for target probability\n",
    "prior_bounds[1] = return_prior_bounds_empirical(bound_offset, [0,-2])[1] #shrink kon by 2 orders of magnitude, keeping ground truth in range\n",
    "prior_distributions = [Uniform(prior_bounds[i]...) for i in 1:length(prior_bounds)];"
   ]
  },
  {
   "attachments": {},
   "cell_type": "markdown",
   "metadata": {},
   "source": [
    "Define Test/Train Data"
   ]
  },
  {
   "cell_type": "code",
   "execution_count": 4,
   "metadata": {},
   "outputs": [],
   "source": [
    "#first input we need are data points and each point's associated standard deviation to evaluate the likelihood\n",
    "experiment_timecourse = deserialize(\"outputs/000_processed_active_g_timecourse.dict\")\n",
    "experiment_dose_response = deserialize(\"outputs/000_processed_active_g_dose_response.dict\")\n",
    "\n",
    "data_points = cat(experiment_timecourse[\"response\"], experiment_dose_response[\"response\"], dims=1 )\n",
    "std_dev = cat(fill(experiment_timecourse[\"average_error\"], length(experiment_timecourse[\"response\"])), fill(experiment_dose_response[\"average_error\"], length(experiment_dose_response[\"response\"])), dims=1)\n",
    "\n",
    "#load different ligand dosages needed to simulate all training data\n",
    "normalize_to = normalize_to_dose()\n",
    "ligand_doses = cat(return_ligand_dose_nM(),normalize_to, dims=1); #normalize to last stimulation"
   ]
  },
  {
   "attachments": {},
   "cell_type": "markdown",
   "metadata": {},
   "source": [
    "Define ODEProblems for different intial conditions"
   ]
  },
  {
   "cell_type": "code",
   "execution_count": 5,
   "metadata": {},
   "outputs": [],
   "source": [
    "#next input we need is an ode problem\n",
    "odeproblems = []\n",
    "for l in ligand_doses\n",
    "    odesys, u0, tspan, p = return_ode_problem_default_inputs(l)\n",
    "    if l != 1000.0\n",
    "        tspan = (0,65)\n",
    "    end\n",
    "    prob = DifferentialEquations.ODEProblem(odesys, u0, tspan, p) #note p will be overwritten in first run of mcmc algorithm\n",
    "    push!(odeproblems, prob)\n",
    "end"
   ]
  },
  {
   "attachments": {},
   "cell_type": "markdown",
   "metadata": {},
   "source": [
    "Define ODE Solver Inputs"
   ]
  },
  {
   "cell_type": "code",
   "execution_count": 6,
   "metadata": {},
   "outputs": [],
   "source": [
    "#and ode solver inputs, save at changes based on timecourse vs dose response output\n",
    "odesolver_inputs_timecourse = return_ode_problem_solver_default_inputs(\"timecourse\")\n",
    "odesolver_inputs_dose_response = return_ode_problem_solver_default_inputs(\"dose response\");"
   ]
  },
  {
   "attachments": {},
   "cell_type": "markdown",
   "metadata": {},
   "source": [
    "Define Type of ODESolution"
   ]
  },
  {
   "cell_type": "code",
   "execution_count": 7,
   "metadata": {},
   "outputs": [],
   "source": [
    "#get type of ODEProblem solution\n",
    "pred = DifferentialEquations.solve(odeproblems[1], odesolver_inputs_dose_response[\"solver\"], abstol=odesolver_inputs_dose_response[\"abstol\"], reltol=odesolver_inputs_dose_response[\"reltol\"], saveat=odesolver_inputs_dose_response[\"saveat\"])\n",
    "ode_sol_type = typeof(pred);"
   ]
  },
  {
   "attachments": {},
   "cell_type": "markdown",
   "metadata": {},
   "source": [
    "Define Augmented Likelihood Term"
   ]
  },
  {
   "cell_type": "code",
   "execution_count": 8,
   "metadata": {},
   "outputs": [],
   "source": [
    "#also need hyperparameters for augmenting likelihood\n",
    "augmented_likelihood_parameters = deserialize(\"outputs/000_regularization_parameters_predicted.dict\");"
   ]
  },
  {
   "attachments": {},
   "cell_type": "markdown",
   "metadata": {},
   "source": [
    "Define Target Distribution for Sampling"
   ]
  },
  {
   "cell_type": "code",
   "execution_count": 9,
   "metadata": {},
   "outputs": [
    {
     "data": {
      "text/plain": [
       "#31 (generic function with 1 method)"
      ]
     },
     "execution_count": 9,
     "metadata": {},
     "output_type": "execute_result"
    }
   ],
   "source": [
    "target_probability = parameters -> logprob_augmented(parameters, prior_distributions, data_points, std_dev, odeproblems, odesolver_inputs_timecourse, odesolver_inputs_dose_response, ode_sol_type, augmented_likelihood_parameters)"
   ]
  },
  {
   "attachments": {},
   "cell_type": "markdown",
   "metadata": {},
   "source": [
    "Affine Invariant Sampler Hyperparameters"
   ]
  },
  {
   "cell_type": "code",
   "execution_count": 10,
   "metadata": {},
   "outputs": [],
   "source": [
    "#affine invariant sampler hyperparameters\n",
    "numdims = 8\n",
    "numwalkers = 1000\n",
    "thinning = 1\n",
    "numsamples_perwalker = 1000\n",
    "burnin = 1000\n",
    "n_subchains = 40\n",
    "a_burnin = 4\n",
    "a = 2\n",
    "rng = StableRNG(28475);"
   ]
  },
  {
   "attachments": {},
   "cell_type": "markdown",
   "metadata": {},
   "source": [
    "Run Affine Invariant Sampler from 0"
   ]
  },
  {
   "cell_type": "code",
   "execution_count": 11,
   "metadata": {},
   "outputs": [
    {
     "name": "stderr",
     "output_type": "stream",
     "text": [
      "\u001b[32mProgress: 100%|█████████████████████████████████████████| Time: 0:48:26\u001b[39m\n",
      "\u001b[32mProgress: 100%|█████████████████████████████████████████| Time: 1:06:55\u001b[39m\n",
      "\u001b[32mProgress: 100%|█████████████████████████████████████████| Time: 1:05:20\u001b[39m\n",
      "\u001b[32mProgress: 100%|█████████████████████████████████████████| Time: 1:04:01\u001b[39m\n",
      "\u001b[32mProgress: 100%|█████████████████████████████████████████| Time: 1:04:20\u001b[39m\n",
      "\u001b[32mProgress: 100%|█████████████████████████████████████████| Time: 1:06:32\u001b[39m\n",
      "\u001b[32mProgress: 100%|█████████████████████████████████████████| Time: 1:05:11\u001b[39m\n",
      "\u001b[32mProgress: 100%|█████████████████████████████████████████| Time: 1:02:56\u001b[39m\n",
      "\u001b[32mProgress: 100%|█████████████████████████████████████████| Time: 1:03:26\u001b[39m\n",
      "\u001b[32mProgress: 100%|█████████████████████████████████████████| Time: 1:02:50\u001b[39m\n",
      "\u001b[32mProgress: 100%|█████████████████████████████████████████| Time: 1:02:33\u001b[39m\n",
      "\u001b[32mProgress: 100%|█████████████████████████████████████████| Time: 1:03:43\u001b[39m\n",
      "\u001b[32mProgress: 100%|█████████████████████████████████████████| Time: 1:03:47\u001b[39m\n",
      "\u001b[32mProgress: 100%|█████████████████████████████████████████| Time: 1:03:51\u001b[39m\n",
      "\u001b[32mProgress: 100%|█████████████████████████████████████████| Time: 1:04:00\u001b[39m\n",
      "\u001b[32mProgress: 100%|█████████████████████████████████████████| Time: 1:04:08\u001b[39m\n",
      "\u001b[32mProgress: 100%|█████████████████████████████████████████| Time: 2:22:16\u001b[39m\n",
      "\u001b[32mProgress: 100%|█████████████████████████████████████████| Time: 2:21:10\u001b[39m\n",
      "\u001b[32mProgress: 100%|█████████████████████████████████████████| Time: 2:36:07\u001b[39m\n",
      "\u001b[32mProgress: 100%|█████████████████████████████████████████| Time: 1:34:31\u001b[39mm\n",
      "\u001b[32mProgress: 100%|█████████████████████████████████████████| Time: 1:04:34\u001b[39m\n",
      "\u001b[32mProgress: 100%|█████████████████████████████████████████| Time: 2:33:04\u001b[39mm30\u001b[39m\n",
      "\u001b[32mProgress: 100%|█████████████████████████████████████████| Time: 1:03:39\u001b[39m\n",
      "\u001b[32mProgress: 100%|█████████████████████████████████████████| Time: 1:03:15\u001b[39m\n",
      "\u001b[32mProgress: 100%|█████████████████████████████████████████| Time: 1:05:03\u001b[39m\n",
      "\u001b[32mProgress: 100%|█████████████████████████████████████████| Time: 1:05:38\u001b[39m\n",
      "\u001b[32mProgress: 100%|█████████████████████████████████████████| Time: 1:05:28\u001b[39m\n",
      "\u001b[32mProgress: 100%|█████████████████████████████████████████| Time: 1:06:02\u001b[39m\n",
      "\u001b[32mProgress: 100%|█████████████████████████████████████████| Time: 1:06:10\u001b[39m\n",
      "\u001b[32mProgress: 100%|█████████████████████████████████████████| Time: 1:06:11\u001b[39m\n",
      "\u001b[32mProgress: 100%|█████████████████████████████████████████| Time: 1:05:55\u001b[39m\n",
      "\u001b[32mProgress: 100%|█████████████████████████████████████████| Time: 1:06:07\u001b[39m\n",
      "\u001b[32mProgress: 100%|█████████████████████████████████████████| Time: 1:05:48\u001b[39m\n",
      "\u001b[32mProgress: 100%|█████████████████████████████████████████| Time: 1:03:55\u001b[39m\n",
      "\u001b[32mProgress: 100%|█████████████████████████████████████████| Time: 1:03:20\u001b[39m\n",
      "\u001b[32mProgress: 100%|█████████████████████████████████████████| Time: 1:02:45\u001b[39m\n",
      "\u001b[32mProgress: 100%|█████████████████████████████████████████| Time: 1:03:55\u001b[39m\n",
      "\u001b[32mProgress: 100%|█████████████████████████████████████████| Time: 1:01:23\u001b[39m\n",
      "\u001b[32mProgress: 100%|█████████████████████████████████████████| Time: 0:57:51\u001b[39m\n",
      "\u001b[32mProgress: 100%|█████████████████████████████████████████| Time: 0:57:34\u001b[39m\n",
      "\u001b[32mProgress: 100%|█████████████████████████████████████████| Time: 0:58:06\u001b[39m\n"
     ]
    }
   ],
   "source": [
    "x0 = Matrix{Float64}(undef,numdims,numwalkers)\n",
    "for i in 1:numwalkers\n",
    "    x0[:,i] = [rand(rng, prior_distributions[j]) for j in 1:numdims]\n",
    "end\n",
    "\n",
    "chain0, llhoodvals0 = AffineInvariantMCMC.sample(target_probability, numwalkers, x0, burnin, thinning, a_burnin, rng=rng)\n",
    "serialize(\"outputs/$(run)_posterior_samples_subchain_0.jls\", chain0)\n",
    "serialize(\"outputs/$(run)_posterior_samples_likelihood_subchain_0.jls\", llhoodvals0)\n",
    "\n",
    "#release from RAM\n",
    "chain0 = nothing\n",
    "llhoodvals0 = nothing\n",
    "\n",
    "for i in 1:n_subchains\n",
    "    chain = deserialize(\"outputs/$(run)_posterior_samples_subchain_$(i-1).jls\")\n",
    "    chain, llhoodvals = AffineInvariantMCMC.sample(target_probability, numwalkers, chain[:, :, end], numsamples_perwalker, thinning, a, rng=rng)\n",
    "    serialize(\"outputs/$(run)_posterior_samples_subchain_$(i).jls\", chain)\n",
    "    serialize(\"outputs/$(run)_posterior_samples_likelihood_subchain_$(i).jls\", llhoodvals)\n",
    "end"
   ]
  },
  {
   "attachments": {},
   "cell_type": "markdown",
   "metadata": {},
   "source": [
    "Run Affine Invariate Sampler from N Subchain"
   ]
  },
  {
   "cell_type": "code",
   "execution_count": 12,
   "metadata": {},
   "outputs": [],
   "source": [
    "#start = \n",
    "#stop = \n",
    "#for i in start:stop\n",
    "    #chain = deserialize(\"outputs/$(run)_posterior_samples_subchain_$(i-1).jls\")\n",
    "    #chain, llhoodvals = AffineInvariantMCMC.sample(target_probability, numwalkers, chain[:, :, end], numsamples_perwalker, thinning, a, rng=rng)\n",
    "    #serialize(\"outputs/$(run)_posterior_samples_subchain_$(i).jls\", chain)\n",
    "    #serialize(\"outputs/$(run)_posterior_samples_likelihood_subchain_$(i).jls\", llhoodvals)\n",
    "#end"
   ]
  }
 ],
 "metadata": {
  "kernelspec": {
   "display_name": "Julia(emcee-4-thread-1.11) 1.11.1",
   "language": "julia",
   "name": "julia_emcee-4-thread-1.11_-1.11"
  },
  "language_info": {
   "file_extension": ".jl",
   "mimetype": "application/julia",
   "name": "julia",
   "version": "1.11.1"
  },
  "orig_nbformat": 4
 },
 "nbformat": 4,
 "nbformat_minor": 2
}
