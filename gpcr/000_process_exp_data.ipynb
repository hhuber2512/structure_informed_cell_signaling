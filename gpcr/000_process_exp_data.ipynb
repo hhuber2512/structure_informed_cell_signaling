{
 "cells": [
  {
   "cell_type": "code",
   "execution_count": 1,
   "metadata": {},
   "outputs": [],
   "source": [
    "using CSV, DataFrames, Serialization"
   ]
  },
  {
   "attachments": {},
   "cell_type": "markdown",
   "metadata": {},
   "source": [
    "### Extract Training Data from CSV\n",
    "This script extracts relevant inputs from the experimental data reported in Yi et al. For example, it extracts what timepoints to save at for the timecourse simulation, then serializes the files. As another example, it extracts the ligand dose inputs, and converts them to the correct units (from nM to molecules)\n",
    "\n",
    "Outputs:\n",
    "\n",
    "00_processed_active_G_timecourse.dict: <br>\n",
    "\n",
    "Dict{String, Any} with 3 entries: <br>\n",
    "  \"response\"                       => [0.0, 0.35, 0.4, 0.36, 0.39, 0.33, 0.24, … <br>\n",
    "  \"save_at\"                        => [0, 10, 30, 60, 120, 210, 300, 450, 600] <br>\n",
    "  \"ligand_stimulation (nM)\" => 1000 <br>\n",
    "  \"average_error\"                 => 0.015 <br>\n",
    "\n",
    "00_processed_active_G_dose_response.dict: <br>\n",
    "\n",
    "Dict{String, Any} with 4 entries: <br>\n",
    "  \"response\"                       => [0.0253298, 0.145646, 0.265963, 0.497098,… <br>\n",
    "  \"save_at\"                        => [60] <br>\n",
    "  \"normalize_to_response_at_dose\"  => 1000 <br>\n",
    "  \"ligand_stimulation (nM)\" => [0.1, 6.022e14, 1.20155e15, 3.01815e… <br>\n",
    "  \"average_error\"                 => 0.03 <br>"
   ]
  },
  {
   "cell_type": "code",
   "execution_count": 2,
   "metadata": {},
   "outputs": [],
   "source": [
    "timecourse = DataFrame(CSV.File(\"data/active_g_timecourse.csv\"))\n",
    "dose_response = DataFrame(CSV.File(\"data/active_g_dose_response.csv\"));"
   ]
  },
  {
   "cell_type": "code",
   "execution_count": 3,
   "metadata": {},
   "outputs": [],
   "source": [
    "#timecourse inputs\n",
    "ligand_stimulation_nM = 1000\n",
    "average_error = 0.015\n",
    "timecourse_dict = Dict(\"save_at\"=>timecourse[!,\"t\"], \"response\"=>timecourse[!,\" percent Ga\"], \n",
    "\"ligand_stimulation (nM)\" => ligand_stimulation_nM, \"average_error\" => average_error)\n",
    "serialize(\"outputs/000_processed_active_g_timecourse.dict\", timecourse_dict)"
   ]
  },
  {
   "cell_type": "code",
   "execution_count": 4,
   "metadata": {},
   "outputs": [],
   "source": [
    "#dose response inputs\n",
    "save_at = [60] #seconds, needs to be a vector to be inputted into ODEProblem later\n",
    "normalize_to = 1000.0 #1 uM\n",
    "average_error = 0.03 #assume error is equal across dose response measurements\n",
    "dose_response_nM = [0.1, 1.0, 2.0, 5.0, 10.0, 20.0, 50.0, 100.0] #ligand doses, nM, doesn't include 1 uM stimulation\n",
    "#save\n",
    "dose_response_dict = Dict(\"ligand_stimulation (nM)\"=>dose_response_nM, \"response\"=>dose_response[!,\"relative Ga\"], \"save_at\" =>save_at, \n",
    "\"normalize_to_response_at_dose\"=>normalize_to,\"average_error\" => average_error)\n",
    "serialize(\"outputs/000_processed_active_g_dose_response.dict\", dose_response_dict)"
   ]
  },
  {
   "attachments": {},
   "cell_type": "markdown",
   "metadata": {},
   "source": [
    "### Extract Relevant Outputs for Test Set\n",
    "\n",
    "000_processed_binding_affinity_dose_response.dict: <br>\n",
    "\n",
    "Dict{String, Any} with 4 entries: <br>\n",
    "  \"response\"                       => [0.0253298, 0.145646, 0.265963, 0.497098,… <br>\n",
    "  \"save_at\"                        => [60] <br>\n",
    "  \"normalize_to_response_at_dose\"  => 6.022e17 <br>\n",
    "  \"ligand_stimulation (molecules)\" => [6.022e13, 6.022e14, 1.20155e15, 3.01815e… <br>\n",
    "  \"average_error\"                 => 0.03 <br>"
   ]
  },
  {
   "cell_type": "code",
   "execution_count": 5,
   "metadata": {},
   "outputs": [],
   "source": [
    "#convert ligand stimulation from nM to molecules, save with the processed timecourse dictionary\n",
    "dose_response = DataFrame(CSV.File(\"data/rl_dose_response.csv\"));\n",
    "save_at = [60] #seconds, needs to be a vector to be inputted into ODEProblem later\n",
    "normalize_to = 1000.0 #1 uM\n",
    "average_error = 0.03 #assume error is equal across dose response measurements\n",
    "dose_response_nM = [0.1, 1.0, 2.0, 5.0, 10.0, 20.0, 50.0, 100.0] #ligand doses, nM, doesn't include 1 uM stimulation\n",
    "#save\n",
    "dose_response_dict = Dict(\"ligand_stimulation (nM)\"=>dose_response_nM, \"response\"=>dose_response[!,\" relative RL\"], \"save_at\" =>save_at, \n",
    "\"normalize_to_response_at_dose\"=>normalize_to,\"average_error\" => average_error)\n",
    "serialize(\"outputs/000_processed_rl_dose_response.dict\", dose_response_dict)"
   ]
  },
  {
   "attachments": {},
   "cell_type": "markdown",
   "metadata": {},
   "source": [
    "Extract Kd Prediction"
   ]
  },
  {
   "cell_type": "code",
   "execution_count": 7,
   "metadata": {},
   "outputs": [],
   "source": [
    "data = DataFrame(CSV.File(\"data/predicted_kd.csv\"))\n",
    "parameters = String.(data[!,\"parameter\"])\n",
    "convert_to_nM = 10^9\n",
    "mean_predicted = log10.(data[!,\"predicted_Kd(M)\"].*convert_to_nM)\n",
    "mean_reported = log10.(data[!,\"reported_Kd(M)\"].*convert_to_nM)\n",
    "lambda = data[!,\"AF_ranking_score\"]\n",
    "protein_peptide_std_dev = 0.8 #from PPI Affinity MAE of protein-peptide Kd prediction\n",
    "dictionary_definition = Dict(parameters[i]=>Dict(\"mean\"=>mean_predicted[i],\"std_dev\"=>protein_peptide_std_dev,\"lambda\"=>lambda[i]) for i in 1:length(parameters))\n",
    "dictionary_definition_reported = Dict(parameters[i]=>Dict(\"mean\"=>mean_reported[i],\"std_dev\"=>protein_peptide_std_dev,\"lambda\"=>lambda[i]) for i in 1:length(parameters))\n",
    "serialize(\"outputs/000_regularization_parameters_predicted.dict\", dictionary_definition)\n",
    "serialize(\"outputs/000_regularization_parameters_reported.dict\", dictionary_definition_reported)"
   ]
  }
 ],
 "metadata": {
  "kernelspec": {
   "display_name": "Julia(emcee-4-thread-1.11) 1.11.4",
   "language": "julia",
   "name": "julia_emcee-4-thread-1.11_-1.11"
  },
  "language_info": {
   "file_extension": ".jl",
   "mimetype": "application/julia",
   "name": "julia",
   "version": "1.11.4"
  },
  "orig_nbformat": 4
 },
 "nbformat": 4,
 "nbformat_minor": 2
}
