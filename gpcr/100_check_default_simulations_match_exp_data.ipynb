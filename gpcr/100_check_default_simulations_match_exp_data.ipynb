{
 "cells": [
  {
   "cell_type": "code",
   "execution_count": 1,
   "metadata": {},
   "outputs": [],
   "source": [
    "using DifferentialEquations, Plots, Serialization\n",
    "include(\"ode_problem.jl\")\n",
    "include(\"calculate_experimental_outputs.jl\")\n",
    "include(\"misc.jl\");"
   ]
  },
  {
   "cell_type": "code",
   "execution_count": 2,
   "metadata": {},
   "outputs": [],
   "source": [
    "#figure hyperparameter\n",
    "marker_size = 7\n",
    "linewidth = 5\n",
    "color = :deeppink4;"
   ]
  },
  {
   "attachments": {},
   "cell_type": "markdown",
   "metadata": {},
   "source": [
    "### This Script Compares GPCR Simulations to the Reported Experimental Measurements\n",
    "\n",
    "To generate predictions, we set the parameter values to the published values, and simulate the experimental conditions. One condition is the active G Protein response to 1 uM of ligand (Fig5A in Yi et al) from 0 to 600 seconds. The response is stored at 9 timepoints, which recapitulate experimental measurements. The other condition is the dose response of active G Protein from 0.1 to 100 nM of ligand (Fig5A in Yi et al) normalized to the dose at 1 uM (or 1000 nM). Dose responses are stored at 8 concentrations, which again match experimental measurements."
   ]
  },
  {
   "cell_type": "code",
   "execution_count": 3,
   "metadata": {},
   "outputs": [],
   "source": [
    "#Load dictionaries containing experimental data\n",
    "#each dictionary has a key for \"save_at\", \"response\", \"ligand_stimulation (molecules)\", and \"average_error\"\n",
    "#dose response also has ligand stimulation amount that all other responses are normalized to\n",
    "experiment_timecourse = deserialize(\"outputs/000_processed_active_g_timecourse.dict\")\n",
    "experiment_dose_response = deserialize(\"outputs/000_processed_active_g_dose_response.dict\");\n",
    "test_dose_response = deserialize(\"outputs/000_processed_rl_dose_response.dict\");"
   ]
  },
  {
   "attachments": {},
   "cell_type": "markdown",
   "metadata": {},
   "source": [
    "Timecourse Figure 5A"
   ]
  },
  {
   "cell_type": "code",
   "execution_count": 4,
   "metadata": {},
   "outputs": [
    {
     "data": {
      "text/plain": [
       "\"/Users/hollyhuber/Documents/structure_informed_cell_signaling2/gpcr/outputs/100_yi_figure5a.png\""
      ]
     },
     "execution_count": 4,
     "metadata": {},
     "output_type": "execute_result"
    }
   ],
   "source": [
    "#create ODEProblem\n",
    "ligand_dose = 1000.0\n",
    "odesys, u0, tspan, p = return_ode_problem_default_inputs(ligand_dose)\n",
    "op = DifferentialEquations.ODEProblem(odesys, u0, tspan, p)\n",
    "solver_inputs = return_ode_problem_solver_default_inputs(\"timecourse\")\n",
    "\n",
    "#simulate\n",
    "predicted = DifferentialEquations.solve(op, solver_inputs[\"solver\"], abstol=solver_inputs[\"abstol\"], reltol=solver_inputs[\"reltol\"], saveat=solver_inputs[\"saveat\"]);\n",
    "fraction_activated = calculate_all_quantities(predicted)[\"fraction_active_G\"]\n",
    "\n",
    "#fine grain simulation for visualization\n",
    "save_at = return_finegrain_saveat()\n",
    "predicted = DifferentialEquations.solve(op, solver_inputs[\"solver\"], abstol=solver_inputs[\"abstol\"], reltol=solver_inputs[\"reltol\"], saveat=save_at);\n",
    "fraction_activated_finegrain = calculate_all_quantities(predicted)[\"fraction_active_G\"];\n",
    "\n",
    "#plot\n",
    "p1 = plot(save_at, fraction_activated_finegrain, label=false, color=color, linewidth=linewidth)\n",
    "scatter!(experiment_timecourse[\"save_at\"], fraction_activated, label=\"simulated\", color=color, markersize=marker_size)\n",
    "scatter!(experiment_timecourse[\"save_at\"], experiment_timecourse[\"response\"], label=\"experimental data\", color=\"black\",\n",
    "yerr=experiment_timecourse[\"average_error\"], markersize=marker_size)\n",
    "xlabel!(\"Time (secs)\")\n",
    "ylabel!(\"Active G-Proteins (Fraction)\")\n",
    "#title!(\"Figure 5A of Yi et al\")\n",
    "ylims!(0,0.5);\n",
    "plot!(size=(690,690), dpi=300)\n",
    "savefig(\"outputs/100_yi_figure5a.png\")"
   ]
  },
  {
   "attachments": {},
   "cell_type": "markdown",
   "metadata": {},
   "source": [
    "Dose Response Figure 5B and 4A"
   ]
  },
  {
   "cell_type": "code",
   "execution_count": 6,
   "metadata": {},
   "outputs": [],
   "source": [
    "#ode problems\n",
    "normalize_to = normalize_to_dose()\n",
    "ligand_doses = cat(return_ligand_dose_nM(),normalize_to, dims=1) #normalize to last stimulation\n",
    "\n",
    "n_doses = length(ligand_doses)\n",
    "#next input we need is an ode problem\n",
    "odeproblems = []\n",
    "for l in ligand_doses\n",
    "    odesys, u0, tspan, p = return_ode_problem_default_inputs(l)\n",
    "    prob = DifferentialEquations.ODEProblem(odesys, u0, tspan, p)\n",
    "    push!(odeproblems, prob)\n",
    "end\n",
    "\n",
    "#solver inputs \n",
    "solver_inputs = return_ode_problem_solver_default_inputs(\"dose response\");\n",
    "\n",
    "active_g = []\n",
    "rl = []\n",
    "for i in 1:n_doses\n",
    "    predicted = DifferentialEquations.solve(odeproblems[i], solver_inputs[\"solver\"], abstol=solver_inputs[\"abstol\"], reltol=solver_inputs[\"reltol\"], saveat=solver_inputs[\"saveat\"])\n",
    "    fraction_activated = calculate_all_quantities(predicted)\n",
    "    push!(active_g, fraction_activated[\"fraction_active_G\"][1]) #need to index vector of 1d\n",
    "    push!(rl, fraction_activated[\"RL\"][1])\n",
    "end\n",
    "\n",
    "active_g = active_g./active_g[end]\n",
    "rl = rl./rl[end]\n",
    "\n",
    "#finegrain dose response\n",
    "ligand_doses = return_finegrain_ligand_dose_nM() #(nM) \n",
    "n_doses = length(ligand_doses)\n",
    "#next input we need is an ode problem\n",
    "odeproblems = []\n",
    "L_index = species_indices_map()[\"L\"]\n",
    "for l in ligand_doses #replace ligand concentration in u0\n",
    "    odesys, u0, tspan, p = return_ode_problem_default_inputs(l) #get p, tspan, odesys\n",
    "    prob = DifferentialEquations.ODEProblem(odesys, u0, tspan, p)\n",
    "    push!(odeproblems, prob)\n",
    "end\n",
    "\n",
    "active_g_finegrain = []\n",
    "rl_finegrain = []\n",
    "\n",
    "for i in 1:n_doses\n",
    "    predicted = DifferentialEquations.solve(odeproblems[i], solver_inputs[\"solver\"], abstol=solver_inputs[\"abstol\"], reltol=solver_inputs[\"reltol\"], saveat=solver_inputs[\"saveat\"])\n",
    "    fraction_activated = calculate_all_quantities(predicted)\n",
    "    push!(active_g_finegrain, fraction_activated[\"fraction_active_G\"][1])\n",
    "    push!(rl_finegrain, fraction_activated[\"RL\"][1])\n",
    "end\n",
    "\n",
    "active_g_finegrain = active_g_finegrain./active_g_finegrain[end]\n",
    "rl_finegrain = rl_finegrain./rl_finegrain[end]\n",
    "\n",
    "#plot active g\n",
    "using CSV, DataFrames\n",
    "dose_response_exp_ligand_nM = log10.(return_ligand_dose_nM())\n",
    "p2 = plot(collect(range(start=-2,stop=3,length=50)) , active_g_finegrain, label=false, color=color, linewidth=linewidth)\n",
    "scatter!(dose_response_exp_ligand_nM, active_g, label=false, color=color, markersize=marker_size)\n",
    "scatter!(dose_response_exp_ligand_nM, experiment_dose_response[\"response\"], label=false, color=\"black\",yerr=experiment_dose_response[\"average_error\"], markersize=marker_size)\n",
    "xlabel!(\"log[Alpha-Factor](nM)\")\n",
    "ylabel!(\"G-Protein Activation Response\")\n",
    "xlims!(-3,3)\n",
    "ylims!(0,1.2)\n",
    "#title!(\"Figure 5B of Yi et al\");\n",
    "plot!(size=(690,690), dpi=300)\n",
    "savefig(\"outputs/100_yi_figure5b.png\");\n",
    "\n",
    "#plot rl\n",
    "using CSV, DataFrames\n",
    "dose_response_exp_ligand_nM = log10.(return_ligand_dose_nM())\n",
    "p2 = plot(collect(range(start=-2,stop=3,length=50)) , rl_finegrain, label=false, color=color, linewidth=linewidth)\n",
    "scatter!(dose_response_exp_ligand_nM, rl, label=false, color=color, markersize=marker_size)\n",
    "scatter!(dose_response_exp_ligand_nM, test_dose_response[\"response\"], label=false, color=\"black\",yerr=test_dose_response[\"average_error\"], markersize=marker_size)\n",
    "xlabel!(\"log[Alpha-Factor](nM)\")\n",
    "ylabel!(\"RL Response\")\n",
    "xlims!(-3,3)\n",
    "ylims!(0,1.2)\n",
    "#title!(\"Figure 5B of Yi et al\");\n",
    "plot!(size=(690,690), dpi=300)\n",
    "savefig(\"outputs/100_yi_figure4a.png\");"
   ]
  }
 ],
 "metadata": {
  "kernelspec": {
   "display_name": "Julia(emcee-4-thread-1.11) 1.11.4",
   "language": "julia",
   "name": "julia_emcee-4-thread-1.11_-1.11"
  },
  "language_info": {
   "file_extension": ".jl",
   "mimetype": "application/julia",
   "name": "julia",
   "version": "1.11.4"
  },
  "orig_nbformat": 4
 },
 "nbformat": 4,
 "nbformat_minor": 2
}
