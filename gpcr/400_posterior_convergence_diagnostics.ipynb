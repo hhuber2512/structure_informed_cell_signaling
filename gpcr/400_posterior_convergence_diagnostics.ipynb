{
 "cells": [
  {
   "cell_type": "code",
   "execution_count": 13,
   "metadata": {},
   "outputs": [],
   "source": [
    "using MCMCChains, Serialization, Plots, StableRNGs\n",
    "include(\"misc.jl\")\n",
    "include(\"convergence_diagnostics.jl\");"
   ]
  },
  {
   "cell_type": "code",
   "execution_count": 6,
   "metadata": {},
   "outputs": [],
   "source": [
    "#run = \"200\"\n",
    "rng = StableRNG(39485) #for randomly sampled trace Plots\n",
    "parameters = return_inferred_parameters();"
   ]
  },
  {
   "attachments": {},
   "cell_type": "markdown",
   "metadata": {},
   "source": [
    "Trace Plots"
   ]
  },
  {
   "cell_type": "code",
   "execution_count": 16,
   "metadata": {},
   "outputs": [
    {
     "data": {
      "text/plain": [
       "\"/Users/hollyhuber/Documents/structure_informed_cell_signaling2/gpcr/outputs/400_convergence_diagnostics/400_200_trace_plots.png\""
      ]
     },
     "execution_count": 16,
     "metadata": {},
     "output_type": "execute_result"
    }
   ],
   "source": [
    "chain = deserialize(\"outputs/300_$(run)_posterior_samples.jls\")\n",
    "ndims, nwalkers, nsamples = size(chain)\n",
    "p = []\n",
    "for i in 1:ndims\n",
    "    p_i = trace_plots(rng, chain[i,:,:], nwalkers, nsamples, parameters[i])\n",
    "    push!(p,p_i)\n",
    "end\n",
    "my_plot = plot(p...,layout=(4,2))\n",
    "plot!(legendfontsize=4,titlefontsize=4,tickfontsize=4,guidefontsize=4,left_margin = 2Plots.mm, bottom_margin = 2Plots.mm)\n",
    "savefig(\"outputs/400_convergence_diagnostics/400_$(run)_trace_plots.png\")"
   ]
  },
  {
   "attachments": {},
   "cell_type": "markdown",
   "metadata": {},
   "source": [
    "ESS"
   ]
  },
  {
   "cell_type": "code",
   "execution_count": 17,
   "metadata": {},
   "outputs": [],
   "source": [
    "my_ess = return_ess(chain, ndims, nwalkers, nsamples)\n",
    "serialize(\"outputs/400_$(run)_ess.jls\", my_ess)\n",
    "chain = nothing"
   ]
  },
  {
   "attachments": {},
   "cell_type": "markdown",
   "metadata": {},
   "source": [
    "Plot ESS"
   ]
  },
  {
   "cell_type": "code",
   "execution_count": 19,
   "metadata": {},
   "outputs": [
    {
     "data": {
      "text/plain": [
       "\"/Users/hollyhuber/Documents/structure_informed_cell_signaling2/gpcr/outputs/400_convergence_diagnostics/400_200_ess_plot.png\""
      ]
     },
     "execution_count": 19,
     "metadata": {},
     "output_type": "execute_result"
    }
   ],
   "source": [
    "ess = deserialize(\"outputs/400_$(run)_ess.jls\")\n",
    "nwalkers = 1000\n",
    "min_ess = nwalkers*100\n",
    "p1 = plot(bar(1:ndims, ess, color=:deeppink4, label=\"ess\"))\n",
    "plot!([0,ndims+1],[min_ess, min_ess], color=:black, linewidth=4, label=\"minimum ess\")\n",
    "xticks!(1:ndims, parameters)\n",
    "plot!(dpi=300, size=(10*100, 2*100))\n",
    "savefig(\"outputs/400_convergence_diagnostics/400_$(run)_ess_plot.png\")"
   ]
  },
  {
   "attachments": {},
   "cell_type": "markdown",
   "metadata": {},
   "source": [
    "chain = deserialize(\"outputs/300_$(run)_posterior_samples.jls\")\n",
    "ndims, nwalkers, nsamples = size(chain)\n",
    "parameters = return_inferred_parameters()\n",
    "#must reshape for ess_rhat function later \n",
    "reshaped_chain = zeros(nsamples,ndims,nwalkers)\n",
    "for i in 1:ndims\n",
    "    for j in 1:nwalkers\n",
    "        reshaped_chain[:,i,j] = chain[i,j,:]\n",
    "    end\n",
    "end"
   ]
  },
  {
   "attachments": {},
   "cell_type": "markdown",
   "metadata": {},
   "source": [
    "Trace Plots"
   ]
  },
  {
   "attachments": {},
   "cell_type": "markdown",
   "metadata": {},
   "source": [
    "p = []\n",
    "for parameter_to_plot in 1:ndims\n",
    "    chains_to_plot = [1,33, 50, 75, 98]\n",
    "    plot(1:nsamples, reshaped_chain[:,parameter_to_plot,chains_to_plot[1]],label=\"chain $(chains_to_plot[1])\")\n",
    "    for i in 2:length(chains_to_plot)\n",
    "        plot!(1:nsamples, reshaped_chain[:,parameter_to_plot,chains_to_plot[i]],label=\"chain $(chains_to_plot[i])\")\n",
    "    end\n",
    "    xlabel!(\"iteration\")\n",
    "    ylabel!(\"$(parameters[parameter_to_plot])\")\n",
    "\n",
    "parameter_to_plot = 1\n",
    "chains_to_plot = [1,33, 50, 75, 98]\n",
    "plot(1:nsamples, reshaped_chain[:,parameter_to_plot,chains_to_plot[1]],label=\"chain $(chains_to_plot[1])\")\n",
    "for i in 2:length(chains_to_plot)\n",
    "    plot!(1:nsamples, reshaped_chain[:,parameter_to_plot,chains_to_plot[i]],label=\"chain $(chains_to_plot[i])\")\n",
    "end\n",
    "xlabel!(\"iteration\")\n",
    "ylabel!(\"$(parameters[parameter_to_plot])\")"
   ]
  },
  {
   "attachments": {},
   "cell_type": "markdown",
   "metadata": {},
   "source": [
    "Calculate Diagnostics"
   ]
  },
  {
   "attachments": {},
   "cell_type": "markdown",
   "metadata": {},
   "source": [
    "mcmchains = MCMCChains.Chains(reshaped_chain, parameters)\n",
    "diagnostics = MCMCChains.ess_rhat(mcmchains)\n",
    "min_ess = nwalkers*100\n",
    "max_rhat = 1.01;"
   ]
  },
  {
   "attachments": {},
   "cell_type": "markdown",
   "metadata": {},
   "source": [
    "plot(bar(1:ndims, diagnostics[:,:ess], color=:deeppink4, label=\"ess\"))\n",
    "plot!([0,ndims+1],[min_ess,min_ess], color=:black, linewidth=4, label=\"minimum ess\")\n",
    "xticks!(1:8,parameters)"
   ]
  }
 ],
 "metadata": {
  "kernelspec": {
   "display_name": "Julia(emcee-4-thread-1.11) 1.11.4",
   "language": "julia",
   "name": "julia_emcee-4-thread-1.11_-1.11"
  },
  "language_info": {
   "file_extension": ".jl",
   "mimetype": "application/julia",
   "name": "julia",
   "version": "1.11.4"
  },
  "orig_nbformat": 4
 },
 "nbformat": 4,
 "nbformat_minor": 2
}
