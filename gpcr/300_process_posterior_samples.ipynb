{
 "cells": [
  {
   "cell_type": "code",
   "execution_count": 1,
   "metadata": {},
   "outputs": [],
   "source": [
    "using Serialization\n",
    "include(\"combine_posterior_samples.jl\");"
   ]
  },
  {
   "cell_type": "code",
   "execution_count": 2,
   "metadata": {},
   "outputs": [
    {
     "data": {
      "text/plain": [
       "\"200\""
      ]
     },
     "execution_count": 2,
     "metadata": {},
     "output_type": "execute_result"
    }
   ],
   "source": [
    "#run = \"200\""
   ]
  },
  {
   "attachments": {},
   "cell_type": "markdown",
   "metadata": {},
   "source": [
    "Combine and thin posterior samples for analysis (10000 samples across all chains)"
   ]
  },
  {
   "cell_type": "code",
   "execution_count": 3,
   "metadata": {},
   "outputs": [],
   "source": [
    "n_subchains = 40\n",
    "n_walkers = 1000\n",
    "n_samples_per_subchain = 1000\n",
    "n_samples_per_walker = n_subchains*n_walkers*n_samples_per_subchain\n",
    "n_total_thinned_samples = 10000\n",
    "thin_each_walker_by = Int(n_samples_per_walker/n_total_thinned_samples)\n",
    "\n",
    "chain, ll = combine_and_thin_posterior_samples(run, thin_each_walker_by, n_subchains)\n",
    "serialize(\"outputs/300_$(run)_posterior_samples_thinned.jls\", chain) #ndims x nsamples\n",
    "serialize(\"outputs/300_$(run)_posterior_samples_thinned_likelihood.jls\", ll); #nsamples"
   ]
  },
  {
   "attachments": {},
   "cell_type": "markdown",
   "metadata": {},
   "source": [
    "Combine and Thin Posterior Samples for Convergence Diagnostics (at least 100*n_walkers samples total, keep individual chains)"
   ]
  },
  {
   "cell_type": "code",
   "execution_count": 4,
   "metadata": {},
   "outputs": [],
   "source": [
    "thin_each_walker_by = 1 #keep all in this case, because no RAM issues \n",
    "chain, ll = combine_and_thin_posterior_samples_keep_walkers(run, thin_each_walker_by, n_subchains)\n",
    "serialize(\"outputs/300_$(run)_posterior_samples.jls\", chain) #ndims x nwalkers x n samples\n",
    "serialize(\"outputs/300_$(run)_posterior_samples_likelihood.jls\", ll); #nwalkers x nsamples"
   ]
  }
 ],
 "metadata": {
  "kernelspec": {
   "display_name": "Julia(emcee-4-thread-1.11) 1.11.4",
   "language": "julia",
   "name": "julia_emcee-4-thread-1.11_-1.11"
  },
  "language_info": {
   "file_extension": ".jl",
   "mimetype": "application/julia",
   "name": "julia",
   "version": "1.11.4"
  },
  "orig_nbformat": 4
 },
 "nbformat": 4,
 "nbformat_minor": 2
}
