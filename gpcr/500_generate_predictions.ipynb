{
 "cells": [
  {
   "cell_type": "code",
   "execution_count": 29,
   "metadata": {},
   "outputs": [],
   "source": [
    "using DifferentialEquations, Serialization\n",
    "include(\"ode_problem.jl\")\n",
    "include(\"calculate_experimental_outputs.jl\")\n",
    "include(\"make_predictions.jl\");"
   ]
  },
  {
   "attachments": {},
   "cell_type": "markdown",
   "metadata": {},
   "source": [
    "Specify Run of Interest"
   ]
  },
  {
   "cell_type": "code",
   "execution_count": 30,
   "metadata": {},
   "outputs": [],
   "source": [
    "#run = \"291\";"
   ]
  },
  {
   "attachments": {},
   "cell_type": "markdown",
   "metadata": {},
   "source": [
    "Create ODE Problems for each initial condition"
   ]
  },
  {
   "cell_type": "code",
   "execution_count": 31,
   "metadata": {},
   "outputs": [],
   "source": [
    "#ode problems\n",
    "normalize_to = normalize_to_dose()\n",
    "ligand_doses = cat(return_ligand_dose_nM(),normalize_to, dims=1) #normalize to last stimulation\n",
    "\n",
    "n_doses = length(ligand_doses)\n",
    "#next input we need is an ode problem\n",
    "odeproblems = []\n",
    "for l in ligand_doses\n",
    "    odesys, u0, tspan, p = return_ode_problem_default_inputs(l)\n",
    "    if l != 1000.0\n",
    "        tspan = (0,65)\n",
    "    end\n",
    "    prob = DifferentialEquations.ODEProblem(odesys, u0, tspan, p)\n",
    "    push!(odeproblems, prob)\n",
    "end\n",
    "\n",
    "#odeproblems for finegrain dose response\n",
    "ligand_doses = return_finegrain_ligand_dose_nM()\n",
    "n_doses_finegrain = length(ligand_doses)\n",
    "\n",
    "odeproblems_finegrain = []\n",
    "for l in ligand_doses\n",
    "    odesys, u0, tspan, p = return_ode_problem_default_inputs(l)\n",
    "    if l != 1000.0\n",
    "        tspan = (0,65)\n",
    "    end\n",
    "    prob = DifferentialEquations.ODEProblem(odesys, u0, tspan, p)\n",
    "    push!(odeproblems_finegrain, prob)\n",
    "end"
   ]
  },
  {
   "attachments": {},
   "cell_type": "markdown",
   "metadata": {},
   "source": [
    "Load ODE Solver Inputs"
   ]
  },
  {
   "cell_type": "code",
   "execution_count": 32,
   "metadata": {},
   "outputs": [],
   "source": [
    "#need ode solver inputs\n",
    "#save at changes based on output\n",
    "odesolver_inputs_timecourse = return_ode_problem_solver_default_inputs(\"timecourse\")\n",
    "odesolver_inputs_dose_response = return_ode_problem_solver_default_inputs(\"dose response\")\n",
    "save_at_finegrain = return_finegrain_saveat()\n",
    "odesolver_inputs_timecourse_finegrain = copy(odesolver_inputs_timecourse )\n",
    "odesolver_inputs_timecourse_finegrain[\"saveat\"] = save_at_finegrain;"
   ]
  },
  {
   "cell_type": "code",
   "execution_count": 33,
   "metadata": {},
   "outputs": [],
   "source": [
    "#change solver tolerances for very low ligand dose\n",
    "#this dose has no experimental value, it's only for plotting\n",
    "odesolver_inputs_dose_response[\"reltol\"] = 1.0e-12\n",
    "odesolver_inputs_dose_response[\"abstol\"] = 1.0e-9;"
   ]
  },
  {
   "attachments": {},
   "cell_type": "markdown",
   "metadata": {},
   "source": [
    "Define Type of ODE Solution"
   ]
  },
  {
   "cell_type": "code",
   "execution_count": 34,
   "metadata": {},
   "outputs": [],
   "source": [
    "#get type of ODEProblem solution\n",
    "pred = DifferentialEquations.solve(odeproblems[1], odesolver_inputs_timecourse[\"solver\"], abstol=odesolver_inputs_timecourse[\"abstol\"], reltol=odesolver_inputs_timecourse[\"reltol\"], saveat=odesolver_inputs_timecourse[\"saveat\"])\n",
    "ode_sol_type = typeof(pred);"
   ]
  },
  {
   "attachments": {},
   "cell_type": "markdown",
   "metadata": {},
   "source": [
    "Load posterior samples and convert from log10 scale"
   ]
  },
  {
   "cell_type": "code",
   "execution_count": 35,
   "metadata": {},
   "outputs": [],
   "source": [
    "parameters = 10.0.^deserialize(\"outputs/300_$(run)_posterior_samples_thinned.jls\")\n",
    "n_parameters, n_samples = size(parameters);"
   ]
  },
  {
   "attachments": {},
   "cell_type": "markdown",
   "metadata": {},
   "source": [
    "Simulate Timecourse using Posterior Samples"
   ]
  },
  {
   "cell_type": "code",
   "execution_count": 36,
   "metadata": {},
   "outputs": [],
   "source": [
    "predicted = Array{ode_sol_type}(undef, n_samples)\n",
    "predicted_finegrain = Array{ode_sol_type}(undef, n_samples)\n",
    "for j in 1:n_samples\n",
    "    predicted[j] = make_prediction(odeproblems[end], odesolver_inputs_timecourse, parameters[:,j]) #odeproblem[end] corresponds to ligand = 1000 nM\n",
    "    predicted_finegrain[j] = make_prediction(odeproblems[end], odesolver_inputs_timecourse_finegrain, parameters[:,j])\n",
    "end"
   ]
  },
  {
   "attachments": {},
   "cell_type": "markdown",
   "metadata": {},
   "source": [
    "Calculate Experimental Quantities (here, only active G protein) & Save"
   ]
  },
  {
   "cell_type": "code",
   "execution_count": 37,
   "metadata": {},
   "outputs": [],
   "source": [
    "timecourse_active_g = [calculate_all_quantities(predicted[i])[\"fraction_active_G\"] for i in 1:n_samples]\n",
    "timecourse_active_g_finegrain = [calculate_all_quantities(predicted_finegrain[i])[\"fraction_active_G\"] for i in 1:n_samples]\n",
    "serialize(\"outputs/500_$(run)_predictions_active_g_timecourse.jls\", timecourse_active_g)\n",
    "serialize(\"outputs/500_$(run)_finegrain_predictions_active_g_timecourse.jls\", timecourse_active_g_finegrain);"
   ]
  },
  {
   "attachments": {},
   "cell_type": "markdown",
   "metadata": {},
   "source": [
    "Simulate Dose Response using Posterior Samples"
   ]
  },
  {
   "cell_type": "code",
   "execution_count": null,
   "metadata": {},
   "outputs": [],
   "source": [
    "predicted = Matrix{ode_sol_type}(undef, n_doses, n_samples)\n",
    "for i in 1:n_doses\n",
    "    for j in 1:n_samples\n",
    "        predicted[i,j] = make_prediction(odeproblems[i], odesolver_inputs_dose_response, parameters[:,j])\n",
    "    end\n",
    "end\n",
    "\n",
    "predicted_finegrain = Matrix{ode_sol_type}(undef, n_doses_finegrain, n_samples)\n",
    "for i in 1:n_doses_finegrain\n",
    "    for j in 1:n_samples\n",
    "        predicted_finegrain[i,j] = make_prediction(odeproblems_finegrain[i], odesolver_inputs_dose_response, parameters[:,j])\n",
    "    end\n",
    "end"
   ]
  },
  {
   "attachments": {},
   "cell_type": "markdown",
   "metadata": {},
   "source": [
    "Calculate Experimental Quantities (here, active G protein and RL) & Save"
   ]
  },
  {
   "cell_type": "code",
   "execution_count": 39,
   "metadata": {},
   "outputs": [],
   "source": [
    "active_g = Matrix{Float64}(undef, n_doses, n_samples)\n",
    "rl = Matrix{Float64}(undef, n_doses, n_samples)\n",
    "for i in 1:n_doses\n",
    "    for j in 1:n_samples\n",
    "        fraction_activated = calculate_all_quantities(predicted[i,j])\n",
    "        active_g[i,j] = fraction_activated[\"fraction_active_G\"][1] #need to index vector of 1d\n",
    "        rl[i,j] = fraction_activated[\"RL\"][1]\n",
    "    end\n",
    "end\n",
    "\n",
    "active_g_finegrain = Matrix{Float64}(undef, n_doses_finegrain, n_samples)\n",
    "rl_finegrain = Matrix{Float64}(undef, n_doses_finegrain, n_samples)\n",
    "for i in 1:n_doses_finegrain\n",
    "    for j in 1:n_samples\n",
    "        fraction_activated = calculate_all_quantities(predicted_finegrain[i,j])\n",
    "        active_g_finegrain[i,j] = fraction_activated[\"fraction_active_G\"][1] #need to index vector of 1d\n",
    "        rl_finegrain[i,j] = fraction_activated[\"RL\"][1]\n",
    "    end\n",
    "end\n",
    "\n",
    "#normalize to dose of 1000 nM for each parameter saveat\n",
    "for j in 1:n_samples\n",
    "    active_g[:,j] = active_g[:,j]./active_g[end,j]\n",
    "    rl[:,j] = rl[:,j]./rl[end,j]\n",
    "end\n",
    "\n",
    "for j in 1:n_samples\n",
    "    active_g_finegrain[:,j] = active_g_finegrain[:,j]./active_g_finegrain[end,j]\n",
    "    rl_finegrain[:,j] = rl_finegrain[:,j]./rl_finegrain[end,j]\n",
    "end\n",
    "\n",
    "serialize(\"outputs/500_$(run)_predictions_active_g_dose_response.jls\", active_g)\n",
    "serialize(\"outputs/500_$(run)_finegrain_predictions_active_g_dose_response.jls\", active_g_finegrain)\n",
    "serialize(\"outputs/500_$(run)_predictions_rl_dose_response.jls\", rl)\n",
    "serialize(\"outputs/500_$(run)_finegrain_predictions_rl_dose_response.jls\", rl_finegrain);"
   ]
  },
  {
   "cell_type": "markdown",
   "metadata": {},
   "source": [
    "Simulate All Timecourses for all Doses"
   ]
  },
  {
   "cell_type": "code",
   "execution_count": null,
   "metadata": {},
   "outputs": [],
   "source": [
    "#must change tspan for dose response inputs\n",
    "normalize_to = normalize_to_dose()\n",
    "ligand_doses = cat(return_ligand_dose_nM(),normalize_to, dims=1) #normalize to last stimulation\n",
    "\n",
    "n_doses = length(ligand_doses)\n",
    "#next input we need is an ode problem\n",
    "odeproblems = []\n",
    "for l in ligand_doses\n",
    "    odesys, u0, tspan, p = return_ode_problem_default_inputs(l)\n",
    "    prob = DifferentialEquations.ODEProblem(odesys, u0, tspan, p)\n",
    "    push!(odeproblems, prob)\n",
    "end"
   ]
  },
  {
   "cell_type": "code",
   "execution_count": null,
   "metadata": {},
   "outputs": [],
   "source": [
    "predicted = Matrix{ode_sol_type}(undef, n_doses, n_samples)\n",
    "predicted_finegrain = Matrix{ode_sol_type}(undef, n_doses, n_samples)\n",
    "for i in 1:n_doses\n",
    "    for j in 1:n_samples\n",
    "        predicted[i,j] = make_prediction(odeproblems[i], odesolver_inputs_timecourse, parameters[:,j])\n",
    "        predicted_finegrain[i,j] = make_prediction(odeproblems[i], odesolver_inputs_timecourse_finegrain, parameters[:,j])\n",
    "    end\n",
    "end\n",
    "serialize(\"outputs/500_$(run)_predictions.jls\", predicted)\n",
    "serialize(\"outputs/500_$(run)_predictions_finegrain.jls\", predicted_finegrain)"
   ]
  }
 ],
 "metadata": {
  "kernelspec": {
   "display_name": "Julia(emcee-4-thread-1.11) 1.11.1",
   "language": "julia",
   "name": "julia_emcee-4-thread-1.11_-1.11"
  },
  "language_info": {
   "file_extension": ".jl",
   "mimetype": "application/julia",
   "name": "julia",
   "version": "1.11.1"
  },
  "orig_nbformat": 4
 },
 "nbformat": 4,
 "nbformat_minor": 2
}
