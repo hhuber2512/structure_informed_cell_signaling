{
 "cells": [
  {
   "cell_type": "code",
   "execution_count": 17,
   "metadata": {},
   "outputs": [],
   "source": [
    "using Serialization, Statistics, Distributions, StableRNGs, CSV, ForwardDiff, GlobalSensitivity\n",
    "include(\"misc.jl\")\n",
    "include(\"ode_problem.jl\")\n",
    "include(\"target_probability.jl\")\n",
    "include(\"marginal_kl_divergence.jl\")\n",
    "include(\"sensitivity_analysis.jl\");"
   ]
  },
  {
   "attachments": {},
   "cell_type": "markdown",
   "metadata": {},
   "source": [
    "RNG"
   ]
  },
  {
   "cell_type": "code",
   "execution_count": 18,
   "metadata": {},
   "outputs": [],
   "source": [
    "rng = StableRNG(34627); #for sampling prior"
   ]
  },
  {
   "attachments": {},
   "cell_type": "markdown",
   "metadata": {},
   "source": [
    "Input Run Details"
   ]
  },
  {
   "cell_type": "code",
   "execution_count": null,
   "metadata": {},
   "outputs": [],
   "source": [
    "#for analysis needing pairs (augmented and baseline comparison)\n",
    "augmented_run = \"200\"\n",
    "baseline_run = \"201\"\n",
    "prior_nonbinding_offset = [2,2]\n",
    "prior_binding_offset = [0,0]\n",
    "prior_bounds = return_prior_bounds_empirical(prior_nonbinding_offset, prior_binding_offset);"
   ]
  },
  {
   "cell_type": "code",
   "execution_count": 20,
   "metadata": {},
   "outputs": [
    {
     "data": {
      "text/plain": [
       "2-element Vector{Float64}:\n",
       " -4.714239202420308\n",
       " -2.714239202420308"
      ]
     },
     "execution_count": 20,
     "metadata": {},
     "output_type": "execute_result"
    }
   ],
   "source": [
    "augmented_run = \"204\"\n",
    "baseline_run = \"205\"\n",
    "bound_offset = [1,1]\n",
    "binding_bound_offset = [-1,-1]\n",
    "prior_bounds = return_prior_bounds_empirical(bound_offset, binding_bound_offset) #for target probability\n",
    "prior_bounds[1] = return_prior_bounds_empirical(bound_offset, [0,-2])[1] #shrink kon by 2 orders of magnitude, keeping ground truth in range"
   ]
  },
  {
   "cell_type": "code",
   "execution_count": 21,
   "metadata": {},
   "outputs": [],
   "source": [
    "#for analysis needing pairs (augmented and baseline comparison)\n",
    "augmented_run = \"202\"\n",
    "baseline_run = \"203\"\n",
    "prior_nonbinding_offset = [3,3]\n",
    "prior_binding_offset = [1,1]\n",
    "prior_bounds = return_prior_bounds_empirical(prior_nonbinding_offset, prior_binding_offset);"
   ]
  },
  {
   "attachments": {},
   "cell_type": "markdown",
   "metadata": {},
   "source": [
    "Calculate Quantiles of Posteriors"
   ]
  },
  {
   "cell_type": "code",
   "execution_count": 22,
   "metadata": {},
   "outputs": [],
   "source": [
    "#load posterior samples - change name as necessary \n",
    "aug_samples = deserialize(\"outputs/300_$(augmented_run)_posterior_samples_thinned.jls\") #ndims x nsamples\n",
    "baseline_samples = deserialize(\"outputs/300_$(baseline_run)_posterior_samples_thinned.jls\") #ndims x nsamples \n",
    "n_parameters, n_samples = size(aug_samples)\n",
    "\n",
    "#define priors\n",
    "#prior_bounds = return_prior_bounds_empirical(prior_nonbinding_offset, prior_binding_offset)\n",
    "\n",
    "#parameter names\n",
    "parameter_names = return_inferred_parameters()\n",
    "\n",
    "#ground truth value on log10 scale\n",
    "ground_truth = log10.(groundtruth_parameter_values())\n",
    "\n",
    "#calculate quantiles\n",
    "lower_bound = 0.05\n",
    "upper_bound = 0.95\n",
    "my_quantiles = [[Statistics.quantile(baseline_samples[i,:], lower_bound), Statistics.quantile(baseline_samples[i,:], upper_bound)] for i in 1:n_parameters]\n",
    "my_quantiles_aug = [[Statistics.quantile(aug_samples[i,:], lower_bound), Statistics.quantile(aug_samples[i,:], upper_bound)] for i in 1:n_parameters]\n",
    "my_quantiles_priors = []\n",
    "for i in 1:n_parameters\n",
    "    bounds = prior_bounds[i]\n",
    "    difference = bounds[2] - bounds[1]\n",
    "    quantiles_offset = difference*lower_bound\n",
    "    push!(my_quantiles_priors, [bounds[1]+quantiles_offset, bounds[2]-quantiles_offset])\n",
    "end\n",
    "\n",
    "#save \n",
    "serialize(\"outputs/600_$(baseline_run)_posterior_quantiles.jls\", my_quantiles)\n",
    "serialize(\"outputs/600_$(augmented_run)_posterior_quantiles.jls\", my_quantiles_aug)\n",
    "serialize(\"outputs/600_$(augmented_run)_prior_quantiles.jls\", my_quantiles_priors)"
   ]
  },
  {
   "attachments": {},
   "cell_type": "markdown",
   "metadata": {},
   "source": [
    "Mean Absolute Error w.r.t. Posterior Samples"
   ]
  },
  {
   "cell_type": "code",
   "execution_count": 23,
   "metadata": {},
   "outputs": [],
   "source": [
    "#load posterior samples\n",
    "aug_samples = deserialize(\"outputs/300_$(augmented_run)_posterior_samples_thinned.jls\") #ndims x nsamples\n",
    "baseline_samples = deserialize(\"outputs/300_$(baseline_run)_posterior_samples_thinned.jls\") #ndims x nsamples \n",
    "n_parameters, n_samples = size(aug_samples)\n",
    "\n",
    "#parameter names\n",
    "parameter_names = return_inferred_parameters()\n",
    "\n",
    "#ground truth value on log10 scale\n",
    "ground_truth = log10.(groundtruth_parameter_values())\n",
    "\n",
    "#calculate absolute error of each sample\n",
    "abs_error = Base.stack([abs.(baseline_samples[:,i] .- ground_truth) for i in 1:n_samples])\n",
    "abs_error_reg = Base.stack([abs.(aug_samples[:,i] .- ground_truth) for i in 1:n_samples])\n",
    "\n",
    "#take mean of absolute errors for each parameter\n",
    "mae = [sum(abs_error[i,:])/n_samples for i in 1:n_parameters]\n",
    "mae_reg = [sum(abs_error_reg[i,:])/n_samples for i in 1:n_parameters]\n",
    "\n",
    "#convert to dictionary\n",
    "mae_dict = Dict(parameter_names[i] => mae[i] for i in 1:n_parameters)\n",
    "mae_aug_dict = Dict(parameter_names[i] => mae_reg[i] for i in 1:n_parameters)\n",
    "\n",
    "#save \n",
    "serialize(\"outputs/600_$(baseline_run)_mean_absolute_error.jls\", mae_dict)\n",
    "serialize(\"outputs/600_$(augmented_run)_mean_absolute_error.jls\", mae_aug_dict)"
   ]
  },
  {
   "attachments": {},
   "cell_type": "markdown",
   "metadata": {},
   "source": [
    "Calculate KL Divergence for From Augmented to Baseline Posterior"
   ]
  },
  {
   "cell_type": "code",
   "execution_count": 24,
   "metadata": {},
   "outputs": [],
   "source": [
    "#load posterior samples\n",
    "aug_samples = deserialize(\"outputs/300_$(augmented_run)_posterior_samples_thinned.jls\") #ndims x nsamples\n",
    "baseline_samples = deserialize(\"outputs/300_$(baseline_run)_posterior_samples_thinned.jls\") #ndims x nsamples \n",
    "n_parameters, n_samples = size(aug_samples)\n",
    "#prior_bounds = return_prior_bounds_empirical(prior_nonbinding_offset, prior_binding_offset)\n",
    "prior_distributions = [Uniform(prior_bounds[i]...) for i in 1:n_parameters]\n",
    "prior_samples = transpose(Base.stack([rand(rng, prior_distributions[i], n_samples) for i in 1:n_parameters])) #ndims x nsamples \n",
    "\n",
    "#parameter names\n",
    "parameter_names = return_inferred_parameters()\n",
    "kl_div_augmented_baseline, parameter_names = kl_divergence_bits_samples(aug_samples, baseline_samples, parameter_names)\n",
    "kl_div_baseline_prior, parameter_names = kl_divergence_bits_samples(baseline_samples, prior_samples, parameter_names)\n",
    "\n",
    "#save\n",
    "serialize(\"outputs/600_$(augmented_run)_$(baseline_run)_kl_div.jls\", kl_div_augmented_baseline)\n",
    "serialize(\"outputs/600_$(baseline_run)_prior_kl_div.jls\", kl_div_augmented_baseline)"
   ]
  },
  {
   "attachments": {},
   "cell_type": "markdown",
   "metadata": {},
   "source": [
    "Calculate quantiles of finegrain predictions for which we have experimental data"
   ]
  },
  {
   "cell_type": "code",
   "execution_count": 25,
   "metadata": {},
   "outputs": [],
   "source": [
    "data_files = readdir(\"data\")\n",
    "sort_files = data_files .!= \".DS_Store\"\n",
    "data_files = sort(data_files[sort_files]) #sort to ensure consistent order\n",
    "sort_files = data_files .!= \"predicted_kd.csv\"\n",
    "data_files = sort(data_files[sort_files])\n",
    "quantity_names = [replace(data_files[i], \".csv\" => \"\") for i in 1:length(data_files)];"
   ]
  },
  {
   "cell_type": "code",
   "execution_count": 26,
   "metadata": {},
   "outputs": [],
   "source": [
    "for r in [augmented_run, baseline_run]    \n",
    "    for i in quantity_names\n",
    "        predictions = Base.stack(deserialize(\"outputs/500_$(r)_finegrain_predictions_$(i).jls\")) #ntime x n\n",
    "        n_time_points, n_predictions = size(predictions)\n",
    "        uq = 0.95\n",
    "        lq = 0.05\n",
    "        m = 0.5\n",
    "        quantile_up = [Statistics.quantile(predictions[i,:], uq) for i in 1:n_time_points]\n",
    "        quantile_low = [Statistics.quantile(predictions[i,:], lq) for i in 1:n_time_points]\n",
    "        median = [Statistics.quantile(predictions[i,:], m) for i in 1:n_time_points]\n",
    "        serialize(\"outputs/600_$(r)_prediction_quantiles_$(i).jls\", Dict(\"lower_quantile\"=>quantile_low, \n",
    "        \"median\"=>median, \"upper_quantile\" =>quantile_up))\n",
    "    end\n",
    "end"
   ]
  },
  {
   "attachments": {},
   "cell_type": "markdown",
   "metadata": {},
   "source": [
    "Calculate Quantiles of Predictions for All Species"
   ]
  },
  {
   "cell_type": "code",
   "execution_count": 28,
   "metadata": {},
   "outputs": [
    {
     "ename": "LoadError",
     "evalue": "EOFError: read end of file",
     "output_type": "error",
     "traceback": [
      "EOFError: read end of file",
      "",
      "Stacktrace:",
      " [1] read(s::IOStream, ::Type{UInt8})",
      "   @ Base ./iostream.jl:402",
      " [2] deserialize",
      "   @ ~/.julia/juliaup/julia-1.11.1+0.aarch64.apple.darwin14/share/julia/stdlib/v1.11/Serialization/src/Serialization.jl:844 [inlined]",
      " [3] deserialize",
      "   @ ~/.julia/juliaup/julia-1.11.1+0.aarch64.apple.darwin14/share/julia/stdlib/v1.11/Serialization/src/Serialization.jl:831 [inlined]",
      " [4] open(f::typeof(deserialize), args::String; kwargs::@Kwargs{})",
      "   @ Base ./io.jl:410",
      " [5] open",
      "   @ ./io.jl:407 [inlined]",
      " [6] deserialize(filename::String)",
      "   @ Serialization ~/.julia/juliaup/julia-1.11.1+0.aarch64.apple.darwin14/share/julia/stdlib/v1.11/Serialization/src/Serialization.jl:841",
      " [7] top-level scope",
      "   @ In[28]:3"
     ]
    }
   ],
   "source": [
    "#calculate quantiles\n",
    "for r in [augmented_run, baseline_run]\n",
    "    all_predictions = deserialize(\"outputs/500_$(r)_predictions.jls\")\n",
    "    n_doses, n_samples = size(all_predictions)\n",
    "    n_species = length(all_predictions[1].u[1])\n",
    "    n_time_points = length(all_predictions[1].u);\n",
    "    reshaped_predictions = []\n",
    "    for i in 1:n_doses\n",
    "        p_per_dose = all_predictions[i,:]\n",
    "        for z in 1:n_species\n",
    "            species_dose = zeros(n_time_points, n_samples)\n",
    "            for j in 1:n_samples\n",
    "                species_dose[:,j] = Base.stack(p_per_dose[j].u)[z,:]\n",
    "            end\n",
    "            reshaped_predictions = cat(reshaped_predictions, [Base.stack(species_dose)], dims=1)\n",
    "        end\n",
    "    end\n",
    "    quantiles = []   \n",
    "    for j in 1:(n_doses*n_species)\n",
    "        predictions = reshaped_predictions[j]\n",
    "        uq = 0.95\n",
    "        lq = 0.05\n",
    "        m = 0.5\n",
    "        quantile_up = [Statistics.quantile(predictions[i,:], uq) for i in 1:n_time_points]\n",
    "        quantile_low = [Statistics.quantile(predictions[i,:], lq) for i in 1:n_time_points]\n",
    "        median = [Statistics.quantile(predictions[i,:], m) for i in 1:n_time_points]\n",
    "        quantiles = cat(quantiles, [Dict(\"lower_quantile\"=>quantile_low, \"median\"=>median, \"upper_quantile\" =>quantile_up)], dims=1)\n",
    "    end\n",
    "    serialize(\"outputs/600_$(r)_prediction_quantiles.jls\", quantiles)\n",
    "end"
   ]
  },
  {
   "cell_type": "code",
   "execution_count": null,
   "metadata": {},
   "outputs": [
    {
     "ename": "LoadError",
     "evalue": "EOFError: read end of file",
     "output_type": "error",
     "traceback": [
      "EOFError: read end of file",
      "",
      "Stacktrace:",
      " [1] read(s::IOStream, ::Type{UInt8})",
      "   @ Base ./iostream.jl:402",
      " [2] deserialize",
      "   @ ~/.julia/juliaup/julia-1.11.1+0.aarch64.apple.darwin14/share/julia/stdlib/v1.11/Serialization/src/Serialization.jl:844 [inlined]",
      " [3] deserialize",
      "   @ ~/.julia/juliaup/julia-1.11.1+0.aarch64.apple.darwin14/share/julia/stdlib/v1.11/Serialization/src/Serialization.jl:831 [inlined]",
      " [4] open(f::typeof(deserialize), args::String; kwargs::@Kwargs{})",
      "   @ Base ./io.jl:410",
      " [5] open",
      "   @ ./io.jl:407 [inlined]",
      " [6] deserialize(filename::String)",
      "   @ Serialization ~/.julia/juliaup/julia-1.11.1+0.aarch64.apple.darwin14/share/julia/stdlib/v1.11/Serialization/src/Serialization.jl:841",
      " [7] top-level scope",
      "   @ In[11]:3"
     ]
    }
   ],
   "source": [
    "#calculate quantiles for finegrain predictions\n",
    "for r in [augmented_run, baseline_run]\n",
    "    all_predictions = deserialize(\"outputs/500_$(r)_predictions_finegrain.jls\")\n",
    "    n_doses, n_samples = size(all_predictions)\n",
    "    n_species = length(all_predictions[1].u[1])\n",
    "    n_time_points = length(all_predictions[1].u);\n",
    "    reshaped_predictions = []\n",
    "    for i in 1:n_doses\n",
    "        p_per_dose = all_predictions[i,:]\n",
    "        for z in 1:n_species\n",
    "            species_dose = zeros(n_time_points, n_samples)\n",
    "            for j in 1:n_samples\n",
    "                species_dose[:,j] = Base.stack(p_per_dose[j].u)[z,:]\n",
    "            end\n",
    "            reshaped_predictions = cat(reshaped_predictions, [Base.stack(species_dose)], dims=1)\n",
    "        end\n",
    "    end\n",
    "    quantiles = []   \n",
    "    for j in 1:(n_doses*n_species)\n",
    "        predictions = reshaped_predictions[j]\n",
    "        uq = 0.95\n",
    "        lq = 0.05\n",
    "        m = 0.5\n",
    "        quantile_up = [Statistics.quantile(predictions[i,:], uq) for i in 1:n_time_points]\n",
    "        quantile_low = [Statistics.quantile(predictions[i,:], lq) for i in 1:n_time_points]\n",
    "        median = [Statistics.quantile(predictions[i,:], m) for i in 1:n_time_points]\n",
    "        quantiles = cat(quantiles, [Dict(\"lower_quantile\"=>quantile_low, \"median\"=>median, \"upper_quantile\" =>quantile_up)], dims=1)\n",
    "    end\n",
    "    serialize(\"outputs/600_$(r)_prediction_quantiles_finegrain.jls\", quantiles)\n",
    "end "
   ]
  },
  {
   "attachments": {},
   "cell_type": "markdown",
   "metadata": {},
   "source": [
    "Local Sensitivity Analysis"
   ]
  },
  {
   "cell_type": "code",
   "execution_count": null,
   "metadata": {},
   "outputs": [],
   "source": [
    "#first, extract parameter set that maximizes baseline training data likelihood\n",
    "likelihood = deserialize(\"outputs/300_$(baseline_run)_posterior_samples_thinned_likelihood.jls\");\n",
    "max_likelihood = maximum(likelihood)\n",
    "mask = likelihood .== max_likelihood\n",
    "max_likelihood_parameters = deserialize(\"outputs/300_$(baseline_run)_posterior_samples_thinned.jls\")[:, mask]\n",
    "\n",
    "#calculate local sensitivity of each species about this parameter value \n",
    "normalize_to = normalize_to_dose()\n",
    "ligand_doses = cat(return_ligand_dose_nM(),normalize_to, dims=1)\n",
    "n_doses = length(ligand_doses)\n",
    "n_species = 5\n",
    "solver_inputs = return_ode_problem_solver_default_inputs(\"timecourse\")\n",
    "#redefined save at to be finer grain\n",
    "#solver_inputs[\"saveat\"] = return_finegrain_saveat()\n",
    "local_sensitivity_kb = []\n",
    "local_sensitivity_kf = []\n",
    "local_sensitivity_nonbinding = []\n",
    "for i in 1:n_doses\n",
    "    odesys, u0, tspan, p = return_ode_problem_default_inputs(ligand_doses[i])\n",
    "    odeprob = DifferentialEquations.ODEProblem(odesys, u0, tspan, p) #note, parameters will be redefined in next function\n",
    "    for j in 1:n_species\n",
    "        local_sensitivity = ForwardDiff.jacobian(p -> local_sensitivity_analysis(p, odeprob, solver_inputs, j), max_likelihood_parameters)\n",
    "        local_sensitivity_kb = cat(local_sensitivity_kb, [local_sensitivity[:,return_koff_indices()]], dims=1)\n",
    "        local_sensitivity_kf = cat(local_sensitivity_kf, [local_sensitivity[:, return_kon_indices()]], dims=1)\n",
    "        local_sensitivity_nonbinding = cat(local_sensitivity_nonbinding, [local_sensitivity[:, return_nonbinding_indices()]], dims=1)\n",
    "    end\n",
    "end\n",
    "serialize(\"outputs/600_$(baseline_run)_local_sensitivity_kb.jls\", local_sensitivity_kb)\n",
    "serialize(\"outputs/600_$(baseline_run)_local_sensitivity_kf.jls\", local_sensitivity_kf)\n",
    "serialize(\"outputs/600_$(baseline_run)_local_sensitivity_nonbind.jls\", local_sensitivity_nonbinding)"
   ]
  },
  {
   "attachments": {},
   "cell_type": "markdown",
   "metadata": {},
   "source": [
    "Reshape and save for correlation calculation between change in median and local sensitivity of parameters"
   ]
  },
  {
   "cell_type": "code",
   "execution_count": null,
   "metadata": {},
   "outputs": [
    {
     "ename": "LoadError",
     "evalue": "SystemError: opening file \"outputs/600_202_prediction_quantiles.jls\": No such file or directory",
     "output_type": "error",
     "traceback": [
      "SystemError: opening file \"outputs/600_202_prediction_quantiles.jls\": No such file or directory",
      "",
      "Stacktrace:",
      " [1] systemerror(p::String, errno::Int32; extrainfo::Nothing)",
      "   @ Base ./error.jl:176",
      " [2] systemerror",
      "   @ ./error.jl:175 [inlined]",
      " [3] open(fname::String; lock::Bool, read::Nothing, write::Nothing, create::Nothing, truncate::Nothing, append::Nothing)",
      "   @ Base ./iostream.jl:295",
      " [4] open",
      "   @ ./iostream.jl:277 [inlined]",
      " [5] open(f::typeof(deserialize), args::String; kwargs::@Kwargs{})",
      "   @ Base ./io.jl:408",
      " [6] open",
      "   @ ./io.jl:407 [inlined]",
      " [7] deserialize(filename::String)",
      "   @ Serialization ~/.julia/juliaup/julia-1.11.1+0.aarch64.apple.darwin14/share/julia/stdlib/v1.11/Serialization/src/Serialization.jl:841",
      " [8] top-level scope",
      "   @ In[16]:2"
     ]
    }
   ],
   "source": [
    "#calculate absolute difference between medians for each output of interest\n",
    "augmented_quantiles = deserialize(\"outputs/600_$(augmented_run)_prediction_quantiles.jls\")\n",
    "baseline_quantiles = deserialize(\"outputs/600_$(baseline_run)_prediction_quantiles.jls\")\n",
    "n_outputs = length(augmented_quantiles) #n_species x n_doses\n",
    "n_timepoints = length(augmented_quantiles[1][\"median\"])\n",
    "difference_between_medians = []\n",
    "for i in 1:n_outputs\n",
    "    difference_between_medians = cat(difference_between_medians, [abs.(augmented_quantiles[i][\"median\"] .- baseline_quantiles[i][\"median\"])], dims=1)\n",
    "end\n",
    "#save\n",
    "med_dif = reshape(Base.stack(difference_between_medians), n_outputs*n_timepoints)\n",
    "serialize(\"outputs/600_$(baseline_run)_$(augmented_run)_difference_between_medians_1d.jls\", med_dif)\n",
    "\n",
    "#load local sensitivity to parameter for each output of interest, reshape to match median difference, save\n",
    "for i in [\"kb\", \"kf\", \"nonbind\"]\n",
    "    local_sensitivity_kb = deserialize(\"outputs/600_$(baseline_run)_local_sensitivity_$(i).jls\") #vector of n_outputs, each output is sensitivity matrix of n_timepoints x n_parameters\n",
    "    #maximum across kb\n",
    "    max_ls_kb = []\n",
    "    for i in 1:n_outputs\n",
    "        max_ls_kb = cat(max_ls_kb, [vec(maximum(abs.(local_sensitivity_kb[i]), dims=2))], dims=1) #take parameter with highest sensitivity for particular output\n",
    "    end\n",
    "    ls_kb = reshape(Base.stack(max_ls_kb), n_outputs*n_timepoints)\n",
    "    serialize(\"outputs/600_$(baseline_run)_local_sensitivity_$(i)_1d.jls\", ls_kb)\n",
    "end"
   ]
  },
  {
   "attachments": {},
   "cell_type": "markdown",
   "metadata": {},
   "source": [
    "Global Sensitivity Analysis"
   ]
  },
  {
   "cell_type": "code",
   "execution_count": null,
   "metadata": {},
   "outputs": [
    {
     "data": {
      "text/plain": [
       "GlobalSensitivity.eFASTResult{Matrix{Float64}}([NaN NaN … NaN NaN; 0.952257064414132 1.1912050097004336e-5 … 1.8662018739522492e-5 1.9492053347577938e-5; … ; 3.237924065504669e-6 1.5450578287857687e-8 … 0.19437100569325833 0.36289978103945514; 4.205409941906061e-6 2.2098326055961463e-8 … 0.2021980582249355 0.3480790284473934], [NaN NaN … NaN NaN; 0.9829822310451259 0.0010100402938776343 … 0.002107593568066002 0.002090561691366899; … ; 0.007465348824223228 0.006168300648416558 … 0.3339004260173949 0.5235655057736296; 0.00788286447841946 0.006721957927072086 … 0.34843518540491125 0.5094344167278724])"
      ]
     },
     "execution_count": 14,
     "metadata": {},
     "output_type": "execute_result"
    }
   ],
   "source": [
    "#global sensitivity analysis about maximum likelihood parameter set \n",
    "#first, extract parameter set that maximizes baseline training data likelihood\n",
    "likelihood = deserialize(\"outputs/300_$(baseline_run)_posterior_samples_thinned_likelihood.jls\");\n",
    "max_likelihood = maximum(likelihood)\n",
    "mask = likelihood .== max_likelihood\n",
    "max_likelihood_parameters = deserialize(\"outputs/300_$(baseline_run)_posterior_samples_thinned.jls\")[:, mask]\n",
    "n_parameters = length(max_likelihood_parameters)\n",
    "n_species = 5\n",
    "#sensitivity analysis parameters\n",
    "#get bounds based on max likelihood parameters\n",
    "lb = max_likelihood_parameters.-2\n",
    "ub = max_likelihood_parameters.+2\n",
    "bounds = [[lb[i],ub[i]] for i in 1:n_parameters]\n",
    "Ns = 10000 #sample size, needs to be bigger than 2*num_harmonics*omega_max, where num_harmonics = 4 and omega_max = 8 (number of parameters) \n",
    "#ode problem definition\n",
    "#calculate local sensitivity of each species about this parameter value \n",
    "normalize_to = normalize_to_dose()\n",
    "ligand_doses = cat(return_ligand_dose_nM(),normalize_to, dims=1) #normalize to last stimulation\n",
    "n_doses = length(ligand_doses)\n",
    "n_species = 5\n",
    "solver_inputs = return_ode_problem_solver_default_inputs(\"timecourse\")\n",
    "solver_inputs[\"saveat\"] = [0, 10, 30, 60, 120, 210, 300, 450, 600] #exclude timepoint 0, which is set\n",
    "\n",
    "odesys, u0, tspan, p = return_ode_problem_default_inputs(ligand_doses[end])\n",
    "odeprob = DifferentialEquations.ODEProblem(odesys, u0, tspan, p) #note, parameters will be redefined in next function\n",
    "result = GlobalSensitivity.gsa(p -> global_sensitivity_analysis(p, odeprob, solver_inputs, n_species), eFAST(), bounds, samples=Ns)"
   ]
  },
  {
   "cell_type": "code",
   "execution_count": null,
   "metadata": {},
   "outputs": [],
   "source": [
    "difference_between_medians = []\n",
    "for i in 1:n_outputs\n",
    "    difference_between_medians = cat(difference_between_medians, [abs.(augmented_quantiles[i][\"median\"] .- baseline_quantiles[i][\"median\"])], dims=1)\n",
    "end"
   ]
  },
  {
   "cell_type": "code",
   "execution_count": null,
   "metadata": {},
   "outputs": [
    {
     "data": {
      "text/plain": [
       "45-element Vector{Any}:\n",
       " [0.0, 3.229836482390965, 10.969570463226773, 23.920657799342735, 55.150368807428094, 110.73246432182168, 172.08639413247693, 278.3746319975453, 381.8277284436772]\n",
       " [0.0, 8.881784197001252e-16, 8.881784197001252e-16, 8.881784197001252e-16, 8.881784197001252e-16, 1.7763568394002505e-15, 8.881784197001252e-16, 8.881784197001252e-16, 8.881784197001252e-16]\n",
       " [0.0, 0.8097439970457998, 1.4959439891955952, 0.4289483869192736, 7.044083387448154, 24.16792057356622, 43.96567946747098, 75.02227631382391, 98.93304701976064]\n",
       " [0.0, 0.26193609560868936, 0.9576363316209608, 0.7825066044479172, 3.662592860589939, 15.253569102866095, 28.86895508494854, 50.350186616422434, 67.41307864475311]\n",
       " [0.0, 0.2565782986060663, 0.9652796425681807, 0.7682334008297218, 3.723901435050209, 15.238185028303121, 28.86934722692456, 50.30036517390789, 67.28768092840824]\n",
       " [0.0, 4.729169629652461, 3.7897616483478487, 17.70769474800545, 116.63871548910902, 332.99199984968436, 551.4941470822741, 861.6704900444965, 1081.6946219999227]\n",
       " [0.0, 0.0, 7.105427357601002e-15, 0.0, 1.4210854715202004e-14, 0.0, 7.105427357601002e-15, 7.105427357601002e-15, 0.0]\n",
       " [0.0, 7.962560724765979, 14.01879359305019, 2.3508905412491004, 66.78015409940781, 201.16570631829745, 323.4514826350023, 448.9134067598652, 468.0578674411704]\n",
       " [0.0, 2.527507251539646, 8.900818828629781, 5.771368796351453, 30.26606616164281, 99.38549271512784, 161.69117426492085, 227.32426838216634, 244.4438774407099]\n",
       " [0.0, 2.518642491548924, 8.799267394328297, 5.628923400386043, 30.405436108335607, 99.2700074136892, 161.7332741393982, 227.2082393637727, 244.31812570409306]\n",
       " [0.0, 13.516154764021849, 18.062474140730046, 16.27360620370655, 171.200960977867, 462.78467209692826, 719.0630357733603, 978.5432429464222, 1056.230335127483]\n",
       " [0.0, 0.0, 0.0, 2.842170943040401e-14, 1.4210854715202004e-14, 1.4210854715202004e-14, 0.0, 1.4210854715202004e-14, 0.0]\n",
       " [0.0, 15.61369001432206, 25.983972853066575, 0.5666445921410741, 124.99500426722352, 325.2694549267844, 461.6980936107766, 511.2321830323217, 409.467222935049]\n",
       " ⋮\n",
       " [0.0, 49.50873311880241, 6.6729778311910195, 28.96418745995834, 29.33309938766888, 20.347221075133348, 14.896961644966723, 5.242749466376154, 3.8222694074829633]\n",
       " [0.0, 49.38263449476176, 6.731482403606606, 29.05099830395102, 29.415706073073125, 20.36672155762244, 14.982618759288926, 5.296476903483381, 3.795275521001031]\n",
       " [0.0, 97.18483519840856, 64.936836755481, 68.32145488241855, 59.08953320072659, 48.15225552601111, 40.03765575209263, 30.222350628024685, 23.69307993712939]\n",
       " [0.0, 0.0, 9.094947017729282e-13, 0.0, 9.094947017729282e-13, 9.094947017729282e-13, 9.094947017729282e-13, 1.8189894035458565e-12, 1.8189894035458565e-12]\n",
       " [0.0, 94.20736882859273, 75.9460107575942, 82.6406499256882, 73.40547786499974, 55.28805104727144, 42.62948796561432, 14.276900295415544, 3.9636890115075403]\n",
       " [0.0, 45.144208644733226, 5.373303760427916, 13.70728911119113, 11.930393892087523, 10.37766979279877, 8.27510787963638, 4.15612781726395, 3.5850932830981037]\n",
       " [0.0, 45.02330550009901, 5.225055277863703, 13.628032800008441, 12.169658081028501, 10.50133132405881, 8.303503194793393, 4.023728407884391, 3.497997742436837]\n",
       " [0.0, 7.6898417747840195, 7.288506289879901, 6.759511670999101, 5.835982447597465, 4.756268794060751, 3.946970443569581, 2.9909172125979455, 2.3473412240028395]\n",
       " [0.0, 9.458744898438454e-11, 1.2369127944111824e-10, 1.0913936421275139e-10, 7.275957614183426e-11, 8.731149137020111e-11, 1.0186340659856796e-10, 1.0913936421275139e-10, 1.0186340659856796e-10]\n",
       " [0.0, 11.822486819868573, 16.684004644035667, 20.001550694047182, 25.229855750898423, 30.65688688477894, 30.419370705189976, 14.208675051818773, 6.887530867917121]\n",
       " [0.0, 2.7193392122553632, 5.84686217142189, 4.1408482519018435, 1.1737858160449832, 1.8740791616346542, 3.704307686685752, 2.6829029182572413, 2.6986551452209824]\n",
       " [0.0, 2.6880225173558756, 5.913428581779499, 4.1233788116642245, 1.048426372648919, 1.7199683590474706, 3.652232336119141, 2.5076958992494838, 2.604979922362645]"
      ]
     },
     "execution_count": 16,
     "metadata": {},
     "output_type": "execute_result"
    }
   ],
   "source": [
    "difference_between_medians"
   ]
  },
  {
   "cell_type": "code",
   "execution_count": null,
   "metadata": {},
   "outputs": [
    {
     "data": {
      "text/plain": [
       "40-element view(::Vector{Float64}, [1, 10, 19, 28, 37, 46, 55, 64, 73, 82  …  271, 280, 289, 298, 307, 316, 325, 334, 343, 352]) with eltype Float64:\n",
       " 0.0\n",
       " 0.0\n",
       " 0.0\n",
       " 0.0\n",
       " 0.0\n",
       " 0.0\n",
       " 0.0\n",
       " 0.0\n",
       " 0.0\n",
       " 0.0\n",
       " 0.0\n",
       " 0.0\n",
       " 0.0\n",
       " ⋮\n",
       " 0.0\n",
       " 0.0\n",
       " 0.0\n",
       " 0.0\n",
       " 0.0\n",
       " 0.0\n",
       " 0.0\n",
       " 0.0\n",
       " 0.0\n",
       " 0.0\n",
       " 0.0\n",
       " 0.0"
      ]
     },
     "execution_count": 17,
     "metadata": {},
     "output_type": "execute_result"
    }
   ],
   "source": [
    "#replace NaN with 0 sensitivity\n",
    "result.S1[isnan.(result.S1)] .= 0\n",
    "result.ST[isnan.(result.ST)] .= 0"
   ]
  },
  {
   "cell_type": "code",
   "execution_count": null,
   "metadata": {},
   "outputs": [
    {
     "data": {
      "text/plain": [
       "45×1 Matrix{Float64}:\n",
       " 0.0\n",
       " 0.952257064414132\n",
       " 0.6498238775980206\n",
       " 0.3473280328808432\n",
       " 0.1981941321979138\n",
       " 0.16847908168628073\n",
       " 0.1642758739601098\n",
       " 0.16221506699295327\n",
       " 0.1606508029406419\n",
       " 0.0\n",
       " 0.0003506881961097106\n",
       " 0.00035494174951132107\n",
       " 0.0003540960254754372\n",
       " ⋮\n",
       " 1.211025769484332e-6\n",
       " 3.2064779898708352e-6\n",
       " 4.213963818281826e-6\n",
       " 0.0\n",
       " 0.01976659645446403\n",
       " 0.00206554652763975\n",
       " 0.00014531367541200198\n",
       " 2.208285871386796e-6\n",
       " 4.341292745882769e-7\n",
       " 1.165930994443774e-6\n",
       " 3.237924065504669e-6\n",
       " 4.205409941906061e-6"
      ]
     },
     "execution_count": 18,
     "metadata": {},
     "output_type": "execute_result"
    }
   ],
   "source": [
    "global_sensitivity_nonbinding = sum(result.S1[:,return_nonbinding_indices()], dims=2)\n",
    "global_sensitivity_kb = result.S1[:,return_koff_indices()]\n",
    "global_sensitivity_kf = result.S1[:,return_kon_indices()]"
   ]
  },
  {
   "cell_type": "code",
   "execution_count": null,
   "metadata": {},
   "outputs": [
    {
     "data": {
      "text/plain": [
       "45×8 Matrix{Float64}:\n",
       " 0.0          0.0          0.0          …  0.0          0.0\n",
       " 0.952257     1.19121e-5   6.97341e-6      1.8662e-5    1.94921e-5\n",
       " 0.649824     8.02775e-5   4.09355e-5      0.000104494  0.000115821\n",
       " 0.347328     0.000167625  7.40016e-5      0.000178174  0.000210942\n",
       " 0.198194     0.000247562  8.78449e-5      0.000193158  0.000252298\n",
       " 0.168479     0.000330219  8.94903e-5   …  0.000176576  0.000257622\n",
       " 0.164276     0.000413749  8.95883e-5      0.000160753  0.000257865\n",
       " 0.162215     0.000559715  8.94503e-5      0.000138767  0.000257929\n",
       " 0.160651     0.000711973  8.92631e-5      0.000121021  0.000258032\n",
       " 0.0          0.0          0.0             0.0          0.0\n",
       " 0.000350688  0.000399392  0.000664797  …  0.000323252  0.000894057\n",
       " 0.000354942  0.000398273  0.000681855     0.000340254  0.000885701\n",
       " 0.000354096  0.000384954  0.000687482     0.000340914  0.000892084\n",
       " ⋮                                      ⋱               \n",
       " 1.21103e-6   1.96717e-8   3.78799e-6      0.181527     0.379047\n",
       " 3.20648e-6   1.48985e-8   3.3146e-6       0.19483      0.361158\n",
       " 4.21396e-6   2.20931e-8   2.98059e-6   …  0.202651     0.346242\n",
       " 0.0          0.0          0.0             0.0          0.0\n",
       " 0.0197666    1.42014e-7   3.46591e-7      0.015909     0.18484\n",
       " 0.00206555   5.24968e-7   5.26103e-8      0.0661113    0.30853\n",
       " 0.000145314  4.45535e-8   5.75733e-8      0.106777     0.368019\n",
       " 2.20829e-6   3.75492e-8   9.01552e-8   …  0.143178     0.395037\n",
       " 4.34129e-7   5.44191e-8   8.10404e-8      0.167566     0.391716\n",
       " 1.16593e-6   1.62995e-8   7.76752e-8      0.181091     0.380711\n",
       " 3.23792e-6   1.54506e-8   1.21172e-7      0.194371     0.3629\n",
       " 4.20541e-6   2.20983e-8   1.57721e-7      0.202198     0.348079"
      ]
     },
     "execution_count": 19,
     "metadata": {},
     "output_type": "execute_result"
    }
   ],
   "source": [
    "result.S1"
   ]
  },
  {
   "cell_type": "code",
   "execution_count": null,
   "metadata": {},
   "outputs": [
    {
     "data": {
      "text/plain": [
       "45×1 Matrix{Float64}:\n",
       " 0.0\n",
       " 0.9829822310451259\n",
       " 0.9113305505803606\n",
       " 0.844368447335955\n",
       " 0.817753490573092\n",
       " 0.8138411935779329\n",
       " 0.8132799271943669\n",
       " 0.8128410197228595\n",
       " 0.8124297925075251\n",
       " 0.0\n",
       " 0.8759704304179168\n",
       " 0.8760680406605243\n",
       " 0.8758352989771423\n",
       " ⋮\n",
       " 0.006274248238773539\n",
       " 0.007450964360993351\n",
       " 0.007855647340775818\n",
       " 0.0\n",
       " 0.049637897366507144\n",
       " 0.008962201299447803\n",
       " 0.0044939162975631275\n",
       " 0.003979289503626027\n",
       " 0.005040309683251087\n",
       " 0.006306846748689088\n",
       " 0.007465348824223228\n",
       " 0.00788286447841946"
      ]
     },
     "execution_count": 20,
     "metadata": {},
     "output_type": "execute_result"
    }
   ],
   "source": [
    "global_sensitivity_nonbinding = sum(result.ST[:,return_nonbinding_indices()], dims=2)\n",
    "global_sensitivity_kb = sum(result.ST[:,return_koff_indices()], dims=2)\n",
    "global_sensitivity_kf = sum(result.ST[:,return_kon_indices()], dims=2)"
   ]
  },
  {
   "cell_type": "code",
   "execution_count": null,
   "metadata": {},
   "outputs": [],
   "source": [
    "med_dif = deserialize(\"outputs/600_$(baseline_run)_$(augmented_run)_difference_between_medians_1d.jls\");"
   ]
  },
  {
   "cell_type": "code",
   "execution_count": null,
   "metadata": {},
   "outputs": [
    {
     "data": {
      "text/plain": [
       "-0.24718688591065613"
      ]
     },
     "execution_count": 22,
     "metadata": {},
     "output_type": "execute_result"
    }
   ],
   "source": [
    "Statistics.cor(med_dif[361:end], vec(global_sensitivity_nonbinding))"
   ]
  },
  {
   "cell_type": "code",
   "execution_count": null,
   "metadata": {},
   "outputs": [
    {
     "data": {
      "image/png": "[encoded data removed]",
      "image/svg+xml": [
       "<?xml version=\"1.0\" encoding=\"utf-8\"?>\n",
       "<svg xmlns=\"http://www.w3.org/2000/svg\" xmlns:xlink=\"http://www.w3.org/1999/xlink\" width=\"600\" height=\"400\" viewBox=\"0 0 2400 1600\">\n",
       "<defs>\n",
       "  <clipPath id=\"clip020\">\n",
       "    <rect x=\"0\" y=\"0\" width=\"2400\" height=\"1600\"/>\n",
       "  </clipPath>\n",
       "</defs>\n",
       "<path clip-path=\"url(#clip020)\" d=\"M0 1600 L2400 1600 L2400 8.88178e-14 L0 8.88178e-14  Z\" fill=\"#ffffff\" fill-rule=\"evenodd\" fill-opacity=\"1\"/>\n",
       "<defs>\n",
       "  <clipPath id=\"clip021\">\n",
       "    <rect x=\"480\" y=\"0\" width=\"1681\" height=\"1600\"/>\n",
       "  </clipPath>\n",
       "</defs>\n",
       "<path clip-path=\"url(#clip020)\" d=\"M140.696 1486.45 L2352.76 1486.45 L2352.76 47.2441 L140.696 47.2441  Z\" fill=\"#ffffff\" fill-rule=\"evenodd\" fill-opacity=\"1\"/>\n",
       "<defs>\n",
       "  <clipPath id=\"clip022\">\n",
       "    <rect x=\"140\" y=\"47\" width=\"2213\" height=\"1440\"/>\n",
       "  </clipPath>\n",
       "</defs>\n",
       "<polyline clip-path=\"url(#clip022)\" style=\"stroke:#000000; stroke-linecap:round; stroke-linejoin:round; stroke-width:2; stroke-opacity:0.1; fill:none\" points=\"203.301,1486.45 203.301,47.2441 \"/>\n",
       "<polyline clip-path=\"url(#clip022)\" style=\"stroke:#000000; stroke-linecap:round; stroke-linejoin:round; stroke-width:2; stroke-opacity:0.1; fill:none\" points=\"606.424,1486.45 606.424,47.2441 \"/>\n",
       "<polyline clip-path=\"url(#clip022)\" style=\"stroke:#000000; stroke-linecap:round; stroke-linejoin:round; stroke-width:2; stroke-opacity:0.1; fill:none\" points=\"1009.55,1486.45 1009.55,47.2441 \"/>\n",
       "<polyline clip-path=\"url(#clip022)\" style=\"stroke:#000000; stroke-linecap:round; stroke-linejoin:round; stroke-width:2; stroke-opacity:0.1; fill:none\" points=\"1412.67,1486.45 1412.67,47.2441 \"/>\n",
       "<polyline clip-path=\"url(#clip022)\" style=\"stroke:#000000; stroke-linecap:round; stroke-linejoin:round; stroke-width:2; stroke-opacity:0.1; fill:none\" points=\"1815.79,1486.45 1815.79,47.2441 \"/>\n",
       "<polyline clip-path=\"url(#clip022)\" style=\"stroke:#000000; stroke-linecap:round; stroke-linejoin:round; stroke-width:2; stroke-opacity:0.1; fill:none\" points=\"2218.91,1486.45 2218.91,47.2441 \"/>\n",
       "<polyline clip-path=\"url(#clip022)\" style=\"stroke:#000000; stroke-linecap:round; stroke-linejoin:round; stroke-width:2; stroke-opacity:0.1; fill:none\" points=\"140.696,1445.72 2352.76,1445.72 \"/>\n",
       "<polyline clip-path=\"url(#clip022)\" style=\"stroke:#000000; stroke-linecap:round; stroke-linejoin:round; stroke-width:2; stroke-opacity:0.1; fill:none\" points=\"140.696,1002.83 2352.76,1002.83 \"/>\n",
       "<polyline clip-path=\"url(#clip022)\" style=\"stroke:#000000; stroke-linecap:round; stroke-linejoin:round; stroke-width:2; stroke-opacity:0.1; fill:none\" points=\"140.696,559.951 2352.76,559.951 \"/>\n",
       "<polyline clip-path=\"url(#clip022)\" style=\"stroke:#000000; stroke-linecap:round; stroke-linejoin:round; stroke-width:2; stroke-opacity:0.1; fill:none\" points=\"140.696,117.069 2352.76,117.069 \"/>\n",
       "<polyline clip-path=\"url(#clip020)\" style=\"stroke:#000000; stroke-linecap:round; stroke-linejoin:round; stroke-width:4; stroke-opacity:1; fill:none\" points=\"140.696,1486.45 2352.76,1486.45 \"/>\n",
       "<polyline clip-path=\"url(#clip020)\" style=\"stroke:#000000; stroke-linecap:round; stroke-linejoin:round; stroke-width:4; stroke-opacity:1; fill:none\" points=\"203.301,1486.45 203.301,1467.55 \"/>\n",
       "<polyline clip-path=\"url(#clip020)\" style=\"stroke:#000000; stroke-linecap:round; stroke-linejoin:round; stroke-width:4; stroke-opacity:1; fill:none\" points=\"606.424,1486.45 606.424,1467.55 \"/>\n",
       "<polyline clip-path=\"url(#clip020)\" style=\"stroke:#000000; stroke-linecap:round; stroke-linejoin:round; stroke-width:4; stroke-opacity:1; fill:none\" points=\"1009.55,1486.45 1009.55,1467.55 \"/>\n",
       "<polyline clip-path=\"url(#clip020)\" style=\"stroke:#000000; stroke-linecap:round; stroke-linejoin:round; stroke-width:4; stroke-opacity:1; fill:none\" points=\"1412.67,1486.45 1412.67,1467.55 \"/>\n",
       "<polyline clip-path=\"url(#clip020)\" style=\"stroke:#000000; stroke-linecap:round; stroke-linejoin:round; stroke-width:4; stroke-opacity:1; fill:none\" points=\"1815.79,1486.45 1815.79,1467.55 \"/>\n",
       "<polyline clip-path=\"url(#clip020)\" style=\"stroke:#000000; stroke-linecap:round; stroke-linejoin:round; stroke-width:4; stroke-opacity:1; fill:none\" points=\"2218.91,1486.45 2218.91,1467.55 \"/>\n",
       "<path clip-path=\"url(#clip020)\" d=\"M203.301 1517.37 Q199.69 1517.37 197.861 1520.93 Q196.056 1524.47 196.056 1531.6 Q196.056 1538.71 197.861 1542.27 Q199.69 1545.82 203.301 1545.82 Q206.935 1545.82 208.741 1542.27 Q210.57 1538.71 210.57 1531.6 Q210.57 1524.47 208.741 1520.93 Q206.935 1517.37 203.301 1517.37 M203.301 1513.66 Q209.111 1513.66 212.167 1518.27 Q215.245 1522.85 215.245 1531.6 Q215.245 1540.33 212.167 1544.94 Q209.111 1549.52 203.301 1549.52 Q197.491 1549.52 194.412 1544.94 Q191.357 1540.33 191.357 1531.6 Q191.357 1522.85 194.412 1518.27 Q197.491 1513.66 203.301 1513.66 Z\" fill=\"#000000\" fill-rule=\"nonzero\" fill-opacity=\"1\" /><path clip-path=\"url(#clip020)\" d=\"M596.806 1544.91 L604.445 1544.91 L604.445 1518.55 L596.134 1520.21 L596.134 1515.95 L604.398 1514.29 L609.074 1514.29 L609.074 1544.91 L616.713 1544.91 L616.713 1548.85 L596.806 1548.85 L596.806 1544.91 Z\" fill=\"#000000\" fill-rule=\"nonzero\" fill-opacity=\"1\" /><path clip-path=\"url(#clip020)\" d=\"M1004.2 1544.91 L1020.52 1544.91 L1020.52 1548.85 L998.574 1548.85 L998.574 1544.91 Q1001.24 1542.16 1005.82 1537.53 Q1010.43 1532.88 1011.61 1531.53 Q1013.85 1529.01 1014.73 1527.27 Q1015.63 1525.51 1015.63 1523.82 Q1015.63 1521.07 1013.69 1519.33 Q1011.77 1517.6 1008.67 1517.6 Q1006.47 1517.6 1004.01 1518.36 Q1001.58 1519.13 998.806 1520.68 L998.806 1515.95 Q1001.63 1514.82 1004.08 1514.24 Q1006.54 1513.66 1008.57 1513.66 Q1013.94 1513.66 1017.14 1516.35 Q1020.33 1519.03 1020.33 1523.52 Q1020.33 1525.65 1019.52 1527.57 Q1018.74 1529.47 1016.63 1532.07 Q1016.05 1532.74 1012.95 1535.95 Q1009.85 1539.15 1004.2 1544.91 Z\" fill=\"#000000\" fill-rule=\"nonzero\" fill-opacity=\"1\" /><path clip-path=\"url(#clip020)\" d=\"M1416.92 1530.21 Q1420.27 1530.93 1422.15 1533.2 Q1424.05 1535.47 1424.05 1538.8 Q1424.05 1543.92 1420.53 1546.72 Q1417.01 1549.52 1410.53 1549.52 Q1408.35 1549.52 1406.04 1549.08 Q1403.75 1548.66 1401.29 1547.81 L1401.29 1543.29 Q1403.24 1544.43 1405.55 1545.01 Q1407.87 1545.58 1410.39 1545.58 Q1414.79 1545.58 1417.08 1543.85 Q1419.39 1542.11 1419.39 1538.8 Q1419.39 1535.75 1417.24 1534.03 Q1415.11 1532.3 1411.29 1532.3 L1407.26 1532.3 L1407.26 1528.45 L1411.48 1528.45 Q1414.93 1528.45 1416.75 1527.09 Q1418.58 1525.7 1418.58 1523.11 Q1418.58 1520.45 1416.69 1519.03 Q1414.81 1517.6 1411.29 1517.6 Q1409.37 1517.6 1407.17 1518.01 Q1404.97 1518.43 1402.33 1519.31 L1402.33 1515.14 Q1405 1514.4 1407.31 1514.03 Q1409.65 1513.66 1411.71 1513.66 Q1417.03 1513.66 1420.13 1516.09 Q1423.24 1518.5 1423.24 1522.62 Q1423.24 1525.49 1421.59 1527.48 Q1419.95 1529.45 1416.92 1530.21 Z\" fill=\"#000000\" fill-rule=\"nonzero\" fill-opacity=\"1\" /><path clip-path=\"url(#clip020)\" d=\"M1818.8 1518.36 L1807 1536.81 L1818.8 1536.81 L1818.8 1518.36 M1817.57 1514.29 L1823.45 1514.29 L1823.45 1536.81 L1828.38 1536.81 L1828.38 1540.7 L1823.45 1540.7 L1823.45 1548.85 L1818.8 1548.85 L1818.8 1540.7 L1803.2 1540.7 L1803.2 1536.19 L1817.57 1514.29 Z\" fill=\"#000000\" fill-rule=\"nonzero\" fill-opacity=\"1\" /><path clip-path=\"url(#clip020)\" d=\"M2209.19 1514.29 L2227.55 1514.29 L2227.55 1518.22 L2213.47 1518.22 L2213.47 1526.7 Q2214.49 1526.35 2215.51 1526.19 Q2216.53 1526 2217.55 1526 Q2223.34 1526 2226.72 1529.17 Q2230.1 1532.34 2230.1 1537.76 Q2230.1 1543.34 2226.62 1546.44 Q2223.15 1549.52 2216.83 1549.52 Q2214.66 1549.52 2212.39 1549.15 Q2210.14 1548.78 2207.73 1548.04 L2207.73 1543.34 Q2209.82 1544.47 2212.04 1545.03 Q2214.26 1545.58 2216.74 1545.58 Q2220.74 1545.58 2223.08 1543.48 Q2225.42 1541.37 2225.42 1537.76 Q2225.42 1534.15 2223.08 1532.04 Q2220.74 1529.94 2216.74 1529.94 Q2214.86 1529.94 2212.99 1530.35 Q2211.14 1530.77 2209.19 1531.65 L2209.19 1514.29 Z\" fill=\"#000000\" fill-rule=\"nonzero\" fill-opacity=\"1\" /><polyline clip-path=\"url(#clip020)\" style=\"stroke:#000000; stroke-linecap:round; stroke-linejoin:round; stroke-width:4; stroke-opacity:1; fill:none\" points=\"140.696,1486.45 140.696,47.2441 \"/>\n",
       "<polyline clip-path=\"url(#clip020)\" style=\"stroke:#000000; stroke-linecap:round; stroke-linejoin:round; stroke-width:4; stroke-opacity:1; fill:none\" points=\"140.696,1445.72 159.593,1445.72 \"/>\n",
       "<polyline clip-path=\"url(#clip020)\" style=\"stroke:#000000; stroke-linecap:round; stroke-linejoin:round; stroke-width:4; stroke-opacity:1; fill:none\" points=\"140.696,1002.83 159.593,1002.83 \"/>\n",
       "<polyline clip-path=\"url(#clip020)\" style=\"stroke:#000000; stroke-linecap:round; stroke-linejoin:round; stroke-width:4; stroke-opacity:1; fill:none\" points=\"140.696,559.951 159.593,559.951 \"/>\n",
       "<polyline clip-path=\"url(#clip020)\" style=\"stroke:#000000; stroke-linecap:round; stroke-linejoin:round; stroke-width:4; stroke-opacity:1; fill:none\" points=\"140.696,117.069 159.593,117.069 \"/>\n",
       "<path clip-path=\"url(#clip020)\" d=\"M92.7512 1431.51 Q89.1401 1431.51 87.3114 1435.08 Q85.5058 1438.62 85.5058 1445.75 Q85.5058 1452.86 87.3114 1456.42 Q89.1401 1459.96 92.7512 1459.96 Q96.3854 1459.96 98.1909 1456.42 Q100.02 1452.86 100.02 1445.75 Q100.02 1438.62 98.1909 1435.08 Q96.3854 1431.51 92.7512 1431.51 M92.7512 1427.81 Q98.5613 1427.81 101.617 1432.42 Q104.696 1437 104.696 1445.75 Q104.696 1454.48 101.617 1459.08 Q98.5613 1463.67 92.7512 1463.67 Q86.941 1463.67 83.8623 1459.08 Q80.8068 1454.48 80.8068 1445.75 Q80.8068 1437 83.8623 1432.42 Q86.941 1427.81 92.7512 1427.81 Z\" fill=\"#000000\" fill-rule=\"nonzero\" fill-opacity=\"1\" /><path clip-path=\"url(#clip020)\" d=\"M53.3995 1016.18 L61.0384 1016.18 L61.0384 989.813 L52.7282 991.479 L52.7282 987.22 L60.9921 985.553 L65.668 985.553 L65.668 1016.18 L73.3068 1016.18 L73.3068 1020.11 L53.3995 1020.11 L53.3995 1016.18 Z\" fill=\"#000000\" fill-rule=\"nonzero\" fill-opacity=\"1\" /><path clip-path=\"url(#clip020)\" d=\"M92.7512 988.632 Q89.1401 988.632 87.3114 992.197 Q85.5058 995.738 85.5058 1002.87 Q85.5058 1009.97 87.3114 1013.54 Q89.1401 1017.08 92.7512 1017.08 Q96.3854 1017.08 98.1909 1013.54 Q100.02 1009.97 100.02 1002.87 Q100.02 995.738 98.1909 992.197 Q96.3854 988.632 92.7512 988.632 M92.7512 984.928 Q98.5613 984.928 101.617 989.535 Q104.696 994.118 104.696 1002.87 Q104.696 1011.59 101.617 1016.2 Q98.5613 1020.78 92.7512 1020.78 Q86.941 1020.78 83.8623 1016.2 Q80.8068 1011.59 80.8068 1002.87 Q80.8068 994.118 83.8623 989.535 Q86.941 984.928 92.7512 984.928 Z\" fill=\"#000000\" fill-rule=\"nonzero\" fill-opacity=\"1\" /><path clip-path=\"url(#clip020)\" d=\"M56.6171 573.296 L72.9365 573.296 L72.9365 577.231 L50.9921 577.231 L50.9921 573.296 Q53.6541 570.541 58.2375 565.912 Q62.8439 561.259 64.0245 559.916 Q66.2698 557.393 67.1494 555.657 Q68.0522 553.898 68.0522 552.208 Q68.0522 549.453 66.1078 547.717 Q64.1865 545.981 61.0847 545.981 Q58.8856 545.981 56.4319 546.745 Q54.0014 547.509 51.2236 549.06 L51.2236 544.338 Q54.0477 543.203 56.5014 542.625 Q58.955 542.046 60.9921 542.046 Q66.3624 542.046 69.5568 544.731 Q72.7513 547.416 72.7513 551.907 Q72.7513 554.037 71.9411 555.958 Q71.1541 557.856 69.0476 560.449 Q68.4689 561.12 65.367 564.338 Q62.2652 567.532 56.6171 573.296 Z\" fill=\"#000000\" fill-rule=\"nonzero\" fill-opacity=\"1\" /><path clip-path=\"url(#clip020)\" d=\"M92.7512 545.75 Q89.1401 545.75 87.3114 549.314 Q85.5058 552.856 85.5058 559.986 Q85.5058 567.092 87.3114 570.657 Q89.1401 574.199 92.7512 574.199 Q96.3854 574.199 98.1909 570.657 Q100.02 567.092 100.02 559.986 Q100.02 552.856 98.1909 549.314 Q96.3854 545.75 92.7512 545.75 M92.7512 542.046 Q98.5613 542.046 101.617 546.652 Q104.696 551.236 104.696 559.986 Q104.696 568.713 101.617 573.319 Q98.5613 577.902 92.7512 577.902 Q86.941 577.902 83.8623 573.319 Q80.8068 568.713 80.8068 559.986 Q80.8068 551.236 83.8623 546.652 Q86.941 542.046 92.7512 542.046 Z\" fill=\"#000000\" fill-rule=\"nonzero\" fill-opacity=\"1\" /><path clip-path=\"url(#clip020)\" d=\"M66.7559 115.714 Q70.1124 116.432 71.9874 118.701 Q73.8855 120.969 73.8855 124.302 Q73.8855 129.418 70.367 132.219 Q66.8485 135.02 60.3671 135.02 Q58.1912 135.02 55.8764 134.58 Q53.5847 134.163 51.131 133.307 L51.131 128.793 Q53.0754 129.927 55.3903 130.506 Q57.7051 131.085 60.2282 131.085 Q64.6263 131.085 66.918 129.349 Q69.2328 127.613 69.2328 124.302 Q69.2328 121.247 67.08 119.534 Q64.9504 117.798 61.131 117.798 L57.1032 117.798 L57.1032 113.955 L61.3161 113.955 Q64.7652 113.955 66.5939 112.589 Q68.4226 111.201 68.4226 108.608 Q68.4226 105.946 66.5245 104.534 Q64.6495 103.099 61.131 103.099 Q59.2097 103.099 57.0106 103.515 Q54.8115 103.932 52.1727 104.812 L52.1727 100.645 Q54.8347 99.9044 57.1495 99.534 Q59.4875 99.1636 61.5476 99.1636 Q66.8717 99.1636 69.9735 101.594 Q73.0753 104.002 73.0753 108.122 Q73.0753 110.992 71.4318 112.983 Q69.7883 114.951 66.7559 115.714 Z\" fill=\"#000000\" fill-rule=\"nonzero\" fill-opacity=\"1\" /><path clip-path=\"url(#clip020)\" d=\"M92.7512 102.867 Q89.1401 102.867 87.3114 106.432 Q85.5058 109.974 85.5058 117.103 Q85.5058 124.21 87.3114 127.775 Q89.1401 131.316 92.7512 131.316 Q96.3854 131.316 98.1909 127.775 Q100.02 124.21 100.02 117.103 Q100.02 109.974 98.1909 106.432 Q96.3854 102.867 92.7512 102.867 M92.7512 99.1636 Q98.5613 99.1636 101.617 103.77 Q104.696 108.353 104.696 117.103 Q104.696 125.83 101.617 130.437 Q98.5613 135.02 92.7512 135.02 Q86.941 135.02 83.8623 130.437 Q80.8068 125.83 80.8068 117.103 Q80.8068 108.353 83.8623 103.77 Q86.941 99.1636 92.7512 99.1636 Z\" fill=\"#000000\" fill-rule=\"nonzero\" fill-opacity=\"1\" /><circle clip-path=\"url(#clip022)\" cx=\"203.301\" cy=\"1445.72\" r=\"14.4\" fill=\"#009af9\" fill-rule=\"evenodd\" fill-opacity=\"1\" stroke=\"#000000\" stroke-opacity=\"1\" stroke-width=\"3.2\"/>\n",
       "<circle clip-path=\"url(#clip022)\" cx=\"225.014\" cy=\"1105.15\" r=\"14.4\" fill=\"#009af9\" fill-rule=\"evenodd\" fill-opacity=\"1\" stroke=\"#000000\" stroke-opacity=\"1\" stroke-width=\"3.2\"/>\n",
       "<circle clip-path=\"url(#clip022)\" cx=\"346.808\" cy=\"1122.92\" r=\"14.4\" fill=\"#009af9\" fill-rule=\"evenodd\" fill-opacity=\"1\" stroke=\"#000000\" stroke-opacity=\"1\" stroke-width=\"3.2\"/>\n",
       "<circle clip-path=\"url(#clip022)\" cx=\"490.976\" cy=\"1146.35\" r=\"14.4\" fill=\"#009af9\" fill-rule=\"evenodd\" fill-opacity=\"1\" stroke=\"#000000\" stroke-opacity=\"1\" stroke-width=\"3.2\"/>\n",
       "<circle clip-path=\"url(#clip022)\" cx=\"573.596\" cy=\"1187.25\" r=\"14.4\" fill=\"#009af9\" fill-rule=\"evenodd\" fill-opacity=\"1\" stroke=\"#000000\" stroke-opacity=\"1\" stroke-width=\"3.2\"/>\n",
       "<circle clip-path=\"url(#clip022)\" cx=\"590.793\" cy=\"1235.07\" r=\"14.4\" fill=\"#009af9\" fill-rule=\"evenodd\" fill-opacity=\"1\" stroke=\"#000000\" stroke-opacity=\"1\" stroke-width=\"3.2\"/>\n",
       "<circle clip-path=\"url(#clip022)\" cx=\"592.56\" cy=\"1270.91\" r=\"14.4\" fill=\"#009af9\" fill-rule=\"evenodd\" fill-opacity=\"1\" stroke=\"#000000\" stroke-opacity=\"1\" stroke-width=\"3.2\"/>\n",
       "<circle clip-path=\"url(#clip022)\" cx=\"592.396\" cy=\"1313.25\" r=\"14.4\" fill=\"#009af9\" fill-rule=\"evenodd\" fill-opacity=\"1\" stroke=\"#000000\" stroke-opacity=\"1\" stroke-width=\"3.2\"/>\n",
       "<circle clip-path=\"url(#clip022)\" cx=\"591.929\" cy=\"1341.76\" r=\"14.4\" fill=\"#009af9\" fill-rule=\"evenodd\" fill-opacity=\"1\" stroke=\"#000000\" stroke-opacity=\"1\" stroke-width=\"3.2\"/>\n",
       "<circle clip-path=\"url(#clip022)\" cx=\"203.301\" cy=\"1445.72\" r=\"14.4\" fill=\"#009af9\" fill-rule=\"evenodd\" fill-opacity=\"1\" stroke=\"#000000\" stroke-opacity=\"1\" stroke-width=\"3.2\"/>\n",
       "<circle clip-path=\"url(#clip022)\" cx=\"2290.15\" cy=\"1445.72\" r=\"14.4\" fill=\"#009af9\" fill-rule=\"evenodd\" fill-opacity=\"1\" stroke=\"#000000\" stroke-opacity=\"1\" stroke-width=\"3.2\"/>\n",
       "<circle clip-path=\"url(#clip022)\" cx=\"2290.07\" cy=\"1445.72\" r=\"14.4\" fill=\"#009af9\" fill-rule=\"evenodd\" fill-opacity=\"1\" stroke=\"#000000\" stroke-opacity=\"1\" stroke-width=\"3.2\"/>\n",
       "<circle clip-path=\"url(#clip022)\" cx=\"2290\" cy=\"1445.72\" r=\"14.4\" fill=\"#009af9\" fill-rule=\"evenodd\" fill-opacity=\"1\" stroke=\"#000000\" stroke-opacity=\"1\" stroke-width=\"3.2\"/>\n",
       "<circle clip-path=\"url(#clip022)\" cx=\"2289.98\" cy=\"1445.72\" r=\"14.4\" fill=\"#009af9\" fill-rule=\"evenodd\" fill-opacity=\"1\" stroke=\"#000000\" stroke-opacity=\"1\" stroke-width=\"3.2\"/>\n",
       "<circle clip-path=\"url(#clip022)\" cx=\"2289.98\" cy=\"1445.72\" r=\"14.4\" fill=\"#009af9\" fill-rule=\"evenodd\" fill-opacity=\"1\" stroke=\"#000000\" stroke-opacity=\"1\" stroke-width=\"3.2\"/>\n",
       "<circle clip-path=\"url(#clip022)\" cx=\"2289.94\" cy=\"1445.72\" r=\"14.4\" fill=\"#009af9\" fill-rule=\"evenodd\" fill-opacity=\"1\" stroke=\"#000000\" stroke-opacity=\"1\" stroke-width=\"3.2\"/>\n",
       "<circle clip-path=\"url(#clip022)\" cx=\"2289.98\" cy=\"1445.72\" r=\"14.4\" fill=\"#009af9\" fill-rule=\"evenodd\" fill-opacity=\"1\" stroke=\"#000000\" stroke-opacity=\"1\" stroke-width=\"3.2\"/>\n",
       "<circle clip-path=\"url(#clip022)\" cx=\"2289.92\" cy=\"1445.72\" r=\"14.4\" fill=\"#009af9\" fill-rule=\"evenodd\" fill-opacity=\"1\" stroke=\"#000000\" stroke-opacity=\"1\" stroke-width=\"3.2\"/>\n",
       "<circle clip-path=\"url(#clip022)\" cx=\"203.301\" cy=\"1445.72\" r=\"14.4\" fill=\"#009af9\" fill-rule=\"evenodd\" fill-opacity=\"1\" stroke=\"#000000\" stroke-opacity=\"1\" stroke-width=\"3.2\"/>\n",
       "<circle clip-path=\"url(#clip022)\" cx=\"481.307\" cy=\"922.119\" r=\"14.4\" fill=\"#009af9\" fill-rule=\"evenodd\" fill-opacity=\"1\" stroke=\"#000000\" stroke-opacity=\"1\" stroke-width=\"3.2\"/>\n",
       "<circle clip-path=\"url(#clip022)\" cx=\"631.682\" cy=\"706.811\" r=\"14.4\" fill=\"#009af9\" fill-rule=\"evenodd\" fill-opacity=\"1\" stroke=\"#000000\" stroke-opacity=\"1\" stroke-width=\"3.2\"/>\n",
       "<circle clip-path=\"url(#clip022)\" cx=\"685.582\" cy=\"559.882\" r=\"14.4\" fill=\"#009af9\" fill-rule=\"evenodd\" fill-opacity=\"1\" stroke=\"#000000\" stroke-opacity=\"1\" stroke-width=\"3.2\"/>\n",
       "<circle clip-path=\"url(#clip022)\" cx=\"729.834\" cy=\"328.33\" r=\"14.4\" fill=\"#009af9\" fill-rule=\"evenodd\" fill-opacity=\"1\" stroke=\"#000000\" stroke-opacity=\"1\" stroke-width=\"3.2\"/>\n",
       "<circle clip-path=\"url(#clip022)\" cx=\"759.386\" cy=\"87.9763\" r=\"14.4\" fill=\"#009af9\" fill-rule=\"evenodd\" fill-opacity=\"1\" stroke=\"#000000\" stroke-opacity=\"1\" stroke-width=\"3.2\"/>\n",
       "<circle clip-path=\"url(#clip022)\" cx=\"775.055\" cy=\"98.4954\" r=\"14.4\" fill=\"#009af9\" fill-rule=\"evenodd\" fill-opacity=\"1\" stroke=\"#000000\" stroke-opacity=\"1\" stroke-width=\"3.2\"/>\n",
       "<circle clip-path=\"url(#clip022)\" cx=\"790.73\" cy=\"816.439\" r=\"14.4\" fill=\"#009af9\" fill-rule=\"evenodd\" fill-opacity=\"1\" stroke=\"#000000\" stroke-opacity=\"1\" stroke-width=\"3.2\"/>\n",
       "<circle clip-path=\"url(#clip022)\" cx=\"801.181\" cy=\"1140.68\" r=\"14.4\" fill=\"#009af9\" fill-rule=\"evenodd\" fill-opacity=\"1\" stroke=\"#000000\" stroke-opacity=\"1\" stroke-width=\"3.2\"/>\n",
       "<circle clip-path=\"url(#clip022)\" cx=\"203.301\" cy=\"1445.72\" r=\"14.4\" fill=\"#009af9\" fill-rule=\"evenodd\" fill-opacity=\"1\" stroke=\"#000000\" stroke-opacity=\"1\" stroke-width=\"3.2\"/>\n",
       "<circle clip-path=\"url(#clip022)\" cx=\"672.079\" cy=\"1325.28\" r=\"14.4\" fill=\"#009af9\" fill-rule=\"evenodd\" fill-opacity=\"1\" stroke=\"#000000\" stroke-opacity=\"1\" stroke-width=\"3.2\"/>\n",
       "<circle clip-path=\"url(#clip022)\" cx=\"715.745\" cy=\"1186.77\" r=\"14.4\" fill=\"#009af9\" fill-rule=\"evenodd\" fill-opacity=\"1\" stroke=\"#000000\" stroke-opacity=\"1\" stroke-width=\"3.2\"/>\n",
       "<circle clip-path=\"url(#clip022)\" cx=\"732.248\" cy=\"1262.32\" r=\"14.4\" fill=\"#009af9\" fill-rule=\"evenodd\" fill-opacity=\"1\" stroke=\"#000000\" stroke-opacity=\"1\" stroke-width=\"3.2\"/>\n",
       "<circle clip-path=\"url(#clip022)\" cx=\"746.66\" cy=\"1393.73\" r=\"14.4\" fill=\"#009af9\" fill-rule=\"evenodd\" fill-opacity=\"1\" stroke=\"#000000\" stroke-opacity=\"1\" stroke-width=\"3.2\"/>\n",
       "<circle clip-path=\"url(#clip022)\" cx=\"763.434\" cy=\"1362.72\" r=\"14.4\" fill=\"#009af9\" fill-rule=\"evenodd\" fill-opacity=\"1\" stroke=\"#000000\" stroke-opacity=\"1\" stroke-width=\"3.2\"/>\n",
       "<circle clip-path=\"url(#clip022)\" cx=\"778.189\" cy=\"1281.66\" r=\"14.4\" fill=\"#009af9\" fill-rule=\"evenodd\" fill-opacity=\"1\" stroke=\"#000000\" stroke-opacity=\"1\" stroke-width=\"3.2\"/>\n",
       "<circle clip-path=\"url(#clip022)\" cx=\"793.461\" cy=\"1326.89\" r=\"14.4\" fill=\"#009af9\" fill-rule=\"evenodd\" fill-opacity=\"1\" stroke=\"#000000\" stroke-opacity=\"1\" stroke-width=\"3.2\"/>\n",
       "<circle clip-path=\"url(#clip022)\" cx=\"800.978\" cy=\"1326.2\" r=\"14.4\" fill=\"#009af9\" fill-rule=\"evenodd\" fill-opacity=\"1\" stroke=\"#000000\" stroke-opacity=\"1\" stroke-width=\"3.2\"/>\n",
       "<circle clip-path=\"url(#clip022)\" cx=\"203.301\" cy=\"1445.72\" r=\"14.4\" fill=\"#009af9\" fill-rule=\"evenodd\" fill-opacity=\"1\" stroke=\"#000000\" stroke-opacity=\"1\" stroke-width=\"3.2\"/>\n",
       "<circle clip-path=\"url(#clip022)\" cx=\"672.324\" cy=\"1326.67\" r=\"14.4\" fill=\"#009af9\" fill-rule=\"evenodd\" fill-opacity=\"1\" stroke=\"#000000\" stroke-opacity=\"1\" stroke-width=\"3.2\"/>\n",
       "<circle clip-path=\"url(#clip022)\" cx=\"716.029\" cy=\"1183.82\" r=\"14.4\" fill=\"#009af9\" fill-rule=\"evenodd\" fill-opacity=\"1\" stroke=\"#000000\" stroke-opacity=\"1\" stroke-width=\"3.2\"/>\n",
       "<circle clip-path=\"url(#clip022)\" cx=\"732.583\" cy=\"1263.1\" r=\"14.4\" fill=\"#009af9\" fill-rule=\"evenodd\" fill-opacity=\"1\" stroke=\"#000000\" stroke-opacity=\"1\" stroke-width=\"3.2\"/>\n",
       "<circle clip-path=\"url(#clip022)\" cx=\"747.08\" cy=\"1399.28\" r=\"14.4\" fill=\"#009af9\" fill-rule=\"evenodd\" fill-opacity=\"1\" stroke=\"#000000\" stroke-opacity=\"1\" stroke-width=\"3.2\"/>\n",
       "<circle clip-path=\"url(#clip022)\" cx=\"763.929\" cy=\"1369.54\" r=\"14.4\" fill=\"#009af9\" fill-rule=\"evenodd\" fill-opacity=\"1\" stroke=\"#000000\" stroke-opacity=\"1\" stroke-width=\"3.2\"/>\n",
       "<circle clip-path=\"url(#clip022)\" cx=\"778.742\" cy=\"1283.96\" r=\"14.4\" fill=\"#009af9\" fill-rule=\"evenodd\" fill-opacity=\"1\" stroke=\"#000000\" stroke-opacity=\"1\" stroke-width=\"3.2\"/>\n",
       "<circle clip-path=\"url(#clip022)\" cx=\"794.041\" cy=\"1334.65\" r=\"14.4\" fill=\"#009af9\" fill-rule=\"evenodd\" fill-opacity=\"1\" stroke=\"#000000\" stroke-opacity=\"1\" stroke-width=\"3.2\"/>\n",
       "<circle clip-path=\"url(#clip022)\" cx=\"801.62\" cy=\"1330.35\" r=\"14.4\" fill=\"#009af9\" fill-rule=\"evenodd\" fill-opacity=\"1\" stroke=\"#000000\" stroke-opacity=\"1\" stroke-width=\"3.2\"/>\n",
       "<path clip-path=\"url(#clip020)\" d=\"M2005.38 198.898 L2279.02 198.898 L2279.02 95.2176 L2005.38 95.2176  Z\" fill=\"#ffffff\" fill-rule=\"evenodd\" fill-opacity=\"1\"/>\n",
       "<polyline clip-path=\"url(#clip020)\" style=\"stroke:#000000; stroke-linecap:round; stroke-linejoin:round; stroke-width:4; stroke-opacity:1; fill:none\" points=\"2005.38,198.898 2279.02,198.898 2279.02,95.2176 2005.38,95.2176 2005.38,198.898 \"/>\n",
       "<circle clip-path=\"url(#clip020)\" cx=\"2103.7\" cy=\"147.058\" r=\"20.48\" fill=\"#009af9\" fill-rule=\"evenodd\" fill-opacity=\"1\" stroke=\"#000000\" stroke-opacity=\"1\" stroke-width=\"4.55111\"/>\n",
       "<path clip-path=\"url(#clip020)\" d=\"M2215.85 166.745 Q2214.05 171.375 2212.34 172.787 Q2210.62 174.199 2207.75 174.199 L2204.35 174.199 L2204.35 170.634 L2206.85 170.634 Q2208.61 170.634 2209.58 169.8 Q2210.55 168.967 2211.73 165.865 L2212.5 163.921 L2202.01 138.412 L2206.53 138.412 L2214.63 158.689 L2222.73 138.412 L2227.24 138.412 L2215.85 166.745 Z\" fill=\"#000000\" fill-rule=\"nonzero\" fill-opacity=\"1\" /><path clip-path=\"url(#clip020)\" d=\"M2234.53 160.402 L2242.17 160.402 L2242.17 134.037 L2233.86 135.703 L2233.86 131.444 L2242.13 129.778 L2246.8 129.778 L2246.8 160.402 L2254.44 160.402 L2254.44 164.338 L2234.53 164.338 L2234.53 160.402 Z\" fill=\"#000000\" fill-rule=\"nonzero\" fill-opacity=\"1\" /></svg>\n"
      ],
      "text/html": [
       "<?xml version=\"1.0\" encoding=\"utf-8\"?>\n",
       "<svg xmlns=\"http://www.w3.org/2000/svg\" xmlns:xlink=\"http://www.w3.org/1999/xlink\" width=\"600\" height=\"400\" viewBox=\"0 0 2400 1600\">\n",
       "<defs>\n",
       "  <clipPath id=\"clip070\">\n",
       "    <rect x=\"0\" y=\"0\" width=\"2400\" height=\"1600\"/>\n",
       "  </clipPath>\n",
       "</defs>\n",
       "<path clip-path=\"url(#clip070)\" d=\"M0 1600 L2400 1600 L2400 8.88178e-14 L0 8.88178e-14  Z\" fill=\"#ffffff\" fill-rule=\"evenodd\" fill-opacity=\"1\"/>\n",
       "<defs>\n",
       "  <clipPath id=\"clip071\">\n",
       "    <rect x=\"480\" y=\"0\" width=\"1681\" height=\"1600\"/>\n",
       "  </clipPath>\n",
       "</defs>\n",
       "<path clip-path=\"url(#clip070)\" d=\"M140.696 1486.45 L2352.76 1486.45 L2352.76 47.2441 L140.696 47.2441  Z\" fill=\"#ffffff\" fill-rule=\"evenodd\" fill-opacity=\"1\"/>\n",
       "<defs>\n",
       "  <clipPath id=\"clip072\">\n",
       "    <rect x=\"140\" y=\"47\" width=\"2213\" height=\"1440\"/>\n",
       "  </clipPath>\n",
       "</defs>\n",
       "<polyline clip-path=\"url(#clip072)\" style=\"stroke:#000000; stroke-linecap:round; stroke-linejoin:round; stroke-width:2; stroke-opacity:0.1; fill:none\" points=\"203.301,1486.45 203.301,47.2441 \"/>\n",
       "<polyline clip-path=\"url(#clip072)\" style=\"stroke:#000000; stroke-linecap:round; stroke-linejoin:round; stroke-width:2; stroke-opacity:0.1; fill:none\" points=\"606.424,1486.45 606.424,47.2441 \"/>\n",
       "<polyline clip-path=\"url(#clip072)\" style=\"stroke:#000000; stroke-linecap:round; stroke-linejoin:round; stroke-width:2; stroke-opacity:0.1; fill:none\" points=\"1009.55,1486.45 1009.55,47.2441 \"/>\n",
       "<polyline clip-path=\"url(#clip072)\" style=\"stroke:#000000; stroke-linecap:round; stroke-linejoin:round; stroke-width:2; stroke-opacity:0.1; fill:none\" points=\"1412.67,1486.45 1412.67,47.2441 \"/>\n",
       "<polyline clip-path=\"url(#clip072)\" style=\"stroke:#000000; stroke-linecap:round; stroke-linejoin:round; stroke-width:2; stroke-opacity:0.1; fill:none\" points=\"1815.79,1486.45 1815.79,47.2441 \"/>\n",
       "<polyline clip-path=\"url(#clip072)\" style=\"stroke:#000000; stroke-linecap:round; stroke-linejoin:round; stroke-width:2; stroke-opacity:0.1; fill:none\" points=\"2218.91,1486.45 2218.91,47.2441 \"/>\n",
       "<polyline clip-path=\"url(#clip072)\" style=\"stroke:#000000; stroke-linecap:round; stroke-linejoin:round; stroke-width:2; stroke-opacity:0.1; fill:none\" points=\"140.696,1445.72 2352.76,1445.72 \"/>\n",
       "<polyline clip-path=\"url(#clip072)\" style=\"stroke:#000000; stroke-linecap:round; stroke-linejoin:round; stroke-width:2; stroke-opacity:0.1; fill:none\" points=\"140.696,1002.83 2352.76,1002.83 \"/>\n",
       "<polyline clip-path=\"url(#clip072)\" style=\"stroke:#000000; stroke-linecap:round; stroke-linejoin:round; stroke-width:2; stroke-opacity:0.1; fill:none\" points=\"140.696,559.951 2352.76,559.951 \"/>\n",
       "<polyline clip-path=\"url(#clip072)\" style=\"stroke:#000000; stroke-linecap:round; stroke-linejoin:round; stroke-width:2; stroke-opacity:0.1; fill:none\" points=\"140.696,117.069 2352.76,117.069 \"/>\n",
       "<polyline clip-path=\"url(#clip070)\" style=\"stroke:#000000; stroke-linecap:round; stroke-linejoin:round; stroke-width:4; stroke-opacity:1; fill:none\" points=\"140.696,1486.45 2352.76,1486.45 \"/>\n",
       "<polyline clip-path=\"url(#clip070)\" style=\"stroke:#000000; stroke-linecap:round; stroke-linejoin:round; stroke-width:4; stroke-opacity:1; fill:none\" points=\"203.301,1486.45 203.301,1467.55 \"/>\n",
       "<polyline clip-path=\"url(#clip070)\" style=\"stroke:#000000; stroke-linecap:round; stroke-linejoin:round; stroke-width:4; stroke-opacity:1; fill:none\" points=\"606.424,1486.45 606.424,1467.55 \"/>\n",
       "<polyline clip-path=\"url(#clip070)\" style=\"stroke:#000000; stroke-linecap:round; stroke-linejoin:round; stroke-width:4; stroke-opacity:1; fill:none\" points=\"1009.55,1486.45 1009.55,1467.55 \"/>\n",
       "<polyline clip-path=\"url(#clip070)\" style=\"stroke:#000000; stroke-linecap:round; stroke-linejoin:round; stroke-width:4; stroke-opacity:1; fill:none\" points=\"1412.67,1486.45 1412.67,1467.55 \"/>\n",
       "<polyline clip-path=\"url(#clip070)\" style=\"stroke:#000000; stroke-linecap:round; stroke-linejoin:round; stroke-width:4; stroke-opacity:1; fill:none\" points=\"1815.79,1486.45 1815.79,1467.55 \"/>\n",
       "<polyline clip-path=\"url(#clip070)\" style=\"stroke:#000000; stroke-linecap:round; stroke-linejoin:round; stroke-width:4; stroke-opacity:1; fill:none\" points=\"2218.91,1486.45 2218.91,1467.55 \"/>\n",
       "<path clip-path=\"url(#clip070)\" d=\"M203.301 1517.37 Q199.69 1517.37 197.861 1520.93 Q196.056 1524.47 196.056 1531.6 Q196.056 1538.71 197.861 1542.27 Q199.69 1545.82 203.301 1545.82 Q206.935 1545.82 208.741 1542.27 Q210.57 1538.71 210.57 1531.6 Q210.57 1524.47 208.741 1520.93 Q206.935 1517.37 203.301 1517.37 M203.301 1513.66 Q209.111 1513.66 212.167 1518.27 Q215.245 1522.85 215.245 1531.6 Q215.245 1540.33 212.167 1544.94 Q209.111 1549.52 203.301 1549.52 Q197.491 1549.52 194.412 1544.94 Q191.357 1540.33 191.357 1531.6 Q191.357 1522.85 194.412 1518.27 Q197.491 1513.66 203.301 1513.66 Z\" fill=\"#000000\" fill-rule=\"nonzero\" fill-opacity=\"1\" /><path clip-path=\"url(#clip070)\" d=\"M596.806 1544.91 L604.445 1544.91 L604.445 1518.55 L596.134 1520.21 L596.134 1515.95 L604.398 1514.29 L609.074 1514.29 L609.074 1544.91 L616.713 1544.91 L616.713 1548.85 L596.806 1548.85 L596.806 1544.91 Z\" fill=\"#000000\" fill-rule=\"nonzero\" fill-opacity=\"1\" /><path clip-path=\"url(#clip070)\" d=\"M1004.2 1544.91 L1020.52 1544.91 L1020.52 1548.85 L998.574 1548.85 L998.574 1544.91 Q1001.24 1542.16 1005.82 1537.53 Q1010.43 1532.88 1011.61 1531.53 Q1013.85 1529.01 1014.73 1527.27 Q1015.63 1525.51 1015.63 1523.82 Q1015.63 1521.07 1013.69 1519.33 Q1011.77 1517.6 1008.67 1517.6 Q1006.47 1517.6 1004.01 1518.36 Q1001.58 1519.13 998.806 1520.68 L998.806 1515.95 Q1001.63 1514.82 1004.08 1514.24 Q1006.54 1513.66 1008.57 1513.66 Q1013.94 1513.66 1017.14 1516.35 Q1020.33 1519.03 1020.33 1523.52 Q1020.33 1525.65 1019.52 1527.57 Q1018.74 1529.47 1016.63 1532.07 Q1016.05 1532.74 1012.95 1535.95 Q1009.85 1539.15 1004.2 1544.91 Z\" fill=\"#000000\" fill-rule=\"nonzero\" fill-opacity=\"1\" /><path clip-path=\"url(#clip070)\" d=\"M1416.92 1530.21 Q1420.27 1530.93 1422.15 1533.2 Q1424.05 1535.47 1424.05 1538.8 Q1424.05 1543.92 1420.53 1546.72 Q1417.01 1549.52 1410.53 1549.52 Q1408.35 1549.52 1406.04 1549.08 Q1403.75 1548.66 1401.29 1547.81 L1401.29 1543.29 Q1403.24 1544.43 1405.55 1545.01 Q1407.87 1545.58 1410.39 1545.58 Q1414.79 1545.58 1417.08 1543.85 Q1419.39 1542.11 1419.39 1538.8 Q1419.39 1535.75 1417.24 1534.03 Q1415.11 1532.3 1411.29 1532.3 L1407.26 1532.3 L1407.26 1528.45 L1411.48 1528.45 Q1414.93 1528.45 1416.75 1527.09 Q1418.58 1525.7 1418.58 1523.11 Q1418.58 1520.45 1416.69 1519.03 Q1414.81 1517.6 1411.29 1517.6 Q1409.37 1517.6 1407.17 1518.01 Q1404.97 1518.43 1402.33 1519.31 L1402.33 1515.14 Q1405 1514.4 1407.31 1514.03 Q1409.65 1513.66 1411.71 1513.66 Q1417.03 1513.66 1420.13 1516.09 Q1423.24 1518.5 1423.24 1522.62 Q1423.24 1525.49 1421.59 1527.48 Q1419.95 1529.45 1416.92 1530.21 Z\" fill=\"#000000\" fill-rule=\"nonzero\" fill-opacity=\"1\" /><path clip-path=\"url(#clip070)\" d=\"M1818.8 1518.36 L1807 1536.81 L1818.8 1536.81 L1818.8 1518.36 M1817.57 1514.29 L1823.45 1514.29 L1823.45 1536.81 L1828.38 1536.81 L1828.38 1540.7 L1823.45 1540.7 L1823.45 1548.85 L1818.8 1548.85 L1818.8 1540.7 L1803.2 1540.7 L1803.2 1536.19 L1817.57 1514.29 Z\" fill=\"#000000\" fill-rule=\"nonzero\" fill-opacity=\"1\" /><path clip-path=\"url(#clip070)\" d=\"M2209.19 1514.29 L2227.55 1514.29 L2227.55 1518.22 L2213.47 1518.22 L2213.47 1526.7 Q2214.49 1526.35 2215.51 1526.19 Q2216.53 1526 2217.55 1526 Q2223.34 1526 2226.72 1529.17 Q2230.1 1532.34 2230.1 1537.76 Q2230.1 1543.34 2226.62 1546.44 Q2223.15 1549.52 2216.83 1549.52 Q2214.66 1549.52 2212.39 1549.15 Q2210.14 1548.78 2207.73 1548.04 L2207.73 1543.34 Q2209.82 1544.47 2212.04 1545.03 Q2214.26 1545.58 2216.74 1545.58 Q2220.74 1545.58 2223.08 1543.48 Q2225.42 1541.37 2225.42 1537.76 Q2225.42 1534.15 2223.08 1532.04 Q2220.74 1529.94 2216.74 1529.94 Q2214.86 1529.94 2212.99 1530.35 Q2211.14 1530.77 2209.19 1531.65 L2209.19 1514.29 Z\" fill=\"#000000\" fill-rule=\"nonzero\" fill-opacity=\"1\" /><polyline clip-path=\"url(#clip070)\" style=\"stroke:#000000; stroke-linecap:round; stroke-linejoin:round; stroke-width:4; stroke-opacity:1; fill:none\" points=\"140.696,1486.45 140.696,47.2441 \"/>\n",
       "<polyline clip-path=\"url(#clip070)\" style=\"stroke:#000000; stroke-linecap:round; stroke-linejoin:round; stroke-width:4; stroke-opacity:1; fill:none\" points=\"140.696,1445.72 159.593,1445.72 \"/>\n",
       "<polyline clip-path=\"url(#clip070)\" style=\"stroke:#000000; stroke-linecap:round; stroke-linejoin:round; stroke-width:4; stroke-opacity:1; fill:none\" points=\"140.696,1002.83 159.593,1002.83 \"/>\n",
       "<polyline clip-path=\"url(#clip070)\" style=\"stroke:#000000; stroke-linecap:round; stroke-linejoin:round; stroke-width:4; stroke-opacity:1; fill:none\" points=\"140.696,559.951 159.593,559.951 \"/>\n",
       "<polyline clip-path=\"url(#clip070)\" style=\"stroke:#000000; stroke-linecap:round; stroke-linejoin:round; stroke-width:4; stroke-opacity:1; fill:none\" points=\"140.696,117.069 159.593,117.069 \"/>\n",
       "<path clip-path=\"url(#clip070)\" d=\"M92.7512 1431.51 Q89.1401 1431.51 87.3114 1435.08 Q85.5058 1438.62 85.5058 1445.75 Q85.5058 1452.86 87.3114 1456.42 Q89.1401 1459.96 92.7512 1459.96 Q96.3854 1459.96 98.1909 1456.42 Q100.02 1452.86 100.02 1445.75 Q100.02 1438.62 98.1909 1435.08 Q96.3854 1431.51 92.7512 1431.51 M92.7512 1427.81 Q98.5613 1427.81 101.617 1432.42 Q104.696 1437 104.696 1445.75 Q104.696 1454.48 101.617 1459.08 Q98.5613 1463.67 92.7512 1463.67 Q86.941 1463.67 83.8623 1459.08 Q80.8068 1454.48 80.8068 1445.75 Q80.8068 1437 83.8623 1432.42 Q86.941 1427.81 92.7512 1427.81 Z\" fill=\"#000000\" fill-rule=\"nonzero\" fill-opacity=\"1\" /><path clip-path=\"url(#clip070)\" d=\"M53.3995 1016.18 L61.0384 1016.18 L61.0384 989.813 L52.7282 991.479 L52.7282 987.22 L60.9921 985.553 L65.668 985.553 L65.668 1016.18 L73.3068 1016.18 L73.3068 1020.11 L53.3995 1020.11 L53.3995 1016.18 Z\" fill=\"#000000\" fill-rule=\"nonzero\" fill-opacity=\"1\" /><path clip-path=\"url(#clip070)\" d=\"M92.7512 988.632 Q89.1401 988.632 87.3114 992.197 Q85.5058 995.738 85.5058 1002.87 Q85.5058 1009.97 87.3114 1013.54 Q89.1401 1017.08 92.7512 1017.08 Q96.3854 1017.08 98.1909 1013.54 Q100.02 1009.97 100.02 1002.87 Q100.02 995.738 98.1909 992.197 Q96.3854 988.632 92.7512 988.632 M92.7512 984.928 Q98.5613 984.928 101.617 989.535 Q104.696 994.118 104.696 1002.87 Q104.696 1011.59 101.617 1016.2 Q98.5613 1020.78 92.7512 1020.78 Q86.941 1020.78 83.8623 1016.2 Q80.8068 1011.59 80.8068 1002.87 Q80.8068 994.118 83.8623 989.535 Q86.941 984.928 92.7512 984.928 Z\" fill=\"#000000\" fill-rule=\"nonzero\" fill-opacity=\"1\" /><path clip-path=\"url(#clip070)\" d=\"M56.6171 573.296 L72.9365 573.296 L72.9365 577.231 L50.9921 577.231 L50.9921 573.296 Q53.6541 570.541 58.2375 565.912 Q62.8439 561.259 64.0245 559.916 Q66.2698 557.393 67.1494 555.657 Q68.0522 553.898 68.0522 552.208 Q68.0522 549.453 66.1078 547.717 Q64.1865 545.981 61.0847 545.981 Q58.8856 545.981 56.4319 546.745 Q54.0014 547.509 51.2236 549.06 L51.2236 544.338 Q54.0477 543.203 56.5014 542.625 Q58.955 542.046 60.9921 542.046 Q66.3624 542.046 69.5568 544.731 Q72.7513 547.416 72.7513 551.907 Q72.7513 554.037 71.9411 555.958 Q71.1541 557.856 69.0476 560.449 Q68.4689 561.12 65.367 564.338 Q62.2652 567.532 56.6171 573.296 Z\" fill=\"#000000\" fill-rule=\"nonzero\" fill-opacity=\"1\" /><path clip-path=\"url(#clip070)\" d=\"M92.7512 545.75 Q89.1401 545.75 87.3114 549.314 Q85.5058 552.856 85.5058 559.986 Q85.5058 567.092 87.3114 570.657 Q89.1401 574.199 92.7512 574.199 Q96.3854 574.199 98.1909 570.657 Q100.02 567.092 100.02 559.986 Q100.02 552.856 98.1909 549.314 Q96.3854 545.75 92.7512 545.75 M92.7512 542.046 Q98.5613 542.046 101.617 546.652 Q104.696 551.236 104.696 559.986 Q104.696 568.713 101.617 573.319 Q98.5613 577.902 92.7512 577.902 Q86.941 577.902 83.8623 573.319 Q80.8068 568.713 80.8068 559.986 Q80.8068 551.236 83.8623 546.652 Q86.941 542.046 92.7512 542.046 Z\" fill=\"#000000\" fill-rule=\"nonzero\" fill-opacity=\"1\" /><path clip-path=\"url(#clip070)\" d=\"M66.7559 115.714 Q70.1124 116.432 71.9874 118.701 Q73.8855 120.969 73.8855 124.302 Q73.8855 129.418 70.367 132.219 Q66.8485 135.02 60.3671 135.02 Q58.1912 135.02 55.8764 134.58 Q53.5847 134.163 51.131 133.307 L51.131 128.793 Q53.0754 129.927 55.3903 130.506 Q57.7051 131.085 60.2282 131.085 Q64.6263 131.085 66.918 129.349 Q69.2328 127.613 69.2328 124.302 Q69.2328 121.247 67.08 119.534 Q64.9504 117.798 61.131 117.798 L57.1032 117.798 L57.1032 113.955 L61.3161 113.955 Q64.7652 113.955 66.5939 112.589 Q68.4226 111.201 68.4226 108.608 Q68.4226 105.946 66.5245 104.534 Q64.6495 103.099 61.131 103.099 Q59.2097 103.099 57.0106 103.515 Q54.8115 103.932 52.1727 104.812 L52.1727 100.645 Q54.8347 99.9044 57.1495 99.534 Q59.4875 99.1636 61.5476 99.1636 Q66.8717 99.1636 69.9735 101.594 Q73.0753 104.002 73.0753 108.122 Q73.0753 110.992 71.4318 112.983 Q69.7883 114.951 66.7559 115.714 Z\" fill=\"#000000\" fill-rule=\"nonzero\" fill-opacity=\"1\" /><path clip-path=\"url(#clip070)\" d=\"M92.7512 102.867 Q89.1401 102.867 87.3114 106.432 Q85.5058 109.974 85.5058 117.103 Q85.5058 124.21 87.3114 127.775 Q89.1401 131.316 92.7512 131.316 Q96.3854 131.316 98.1909 127.775 Q100.02 124.21 100.02 117.103 Q100.02 109.974 98.1909 106.432 Q96.3854 102.867 92.7512 102.867 M92.7512 99.1636 Q98.5613 99.1636 101.617 103.77 Q104.696 108.353 104.696 117.103 Q104.696 125.83 101.617 130.437 Q98.5613 135.02 92.7512 135.02 Q86.941 135.02 83.8623 130.437 Q80.8068 125.83 80.8068 117.103 Q80.8068 108.353 83.8623 103.77 Q86.941 99.1636 92.7512 99.1636 Z\" fill=\"#000000\" fill-rule=\"nonzero\" fill-opacity=\"1\" /><circle clip-path=\"url(#clip072)\" cx=\"203.301\" cy=\"1445.72\" r=\"14.4\" fill=\"#009af9\" fill-rule=\"evenodd\" fill-opacity=\"1\" stroke=\"#000000\" stroke-opacity=\"1\" stroke-width=\"3.2\"/>\n",
       "<circle clip-path=\"url(#clip072)\" cx=\"225.014\" cy=\"1105.15\" r=\"14.4\" fill=\"#009af9\" fill-rule=\"evenodd\" fill-opacity=\"1\" stroke=\"#000000\" stroke-opacity=\"1\" stroke-width=\"3.2\"/>\n",
       "<circle clip-path=\"url(#clip072)\" cx=\"346.808\" cy=\"1122.92\" r=\"14.4\" fill=\"#009af9\" fill-rule=\"evenodd\" fill-opacity=\"1\" stroke=\"#000000\" stroke-opacity=\"1\" stroke-width=\"3.2\"/>\n",
       "<circle clip-path=\"url(#clip072)\" cx=\"490.976\" cy=\"1146.35\" r=\"14.4\" fill=\"#009af9\" fill-rule=\"evenodd\" fill-opacity=\"1\" stroke=\"#000000\" stroke-opacity=\"1\" stroke-width=\"3.2\"/>\n",
       "<circle clip-path=\"url(#clip072)\" cx=\"573.596\" cy=\"1187.25\" r=\"14.4\" fill=\"#009af9\" fill-rule=\"evenodd\" fill-opacity=\"1\" stroke=\"#000000\" stroke-opacity=\"1\" stroke-width=\"3.2\"/>\n",
       "<circle clip-path=\"url(#clip072)\" cx=\"590.793\" cy=\"1235.07\" r=\"14.4\" fill=\"#009af9\" fill-rule=\"evenodd\" fill-opacity=\"1\" stroke=\"#000000\" stroke-opacity=\"1\" stroke-width=\"3.2\"/>\n",
       "<circle clip-path=\"url(#clip072)\" cx=\"592.56\" cy=\"1270.91\" r=\"14.4\" fill=\"#009af9\" fill-rule=\"evenodd\" fill-opacity=\"1\" stroke=\"#000000\" stroke-opacity=\"1\" stroke-width=\"3.2\"/>\n",
       "<circle clip-path=\"url(#clip072)\" cx=\"592.396\" cy=\"1313.25\" r=\"14.4\" fill=\"#009af9\" fill-rule=\"evenodd\" fill-opacity=\"1\" stroke=\"#000000\" stroke-opacity=\"1\" stroke-width=\"3.2\"/>\n",
       "<circle clip-path=\"url(#clip072)\" cx=\"591.929\" cy=\"1341.76\" r=\"14.4\" fill=\"#009af9\" fill-rule=\"evenodd\" fill-opacity=\"1\" stroke=\"#000000\" stroke-opacity=\"1\" stroke-width=\"3.2\"/>\n",
       "<circle clip-path=\"url(#clip072)\" cx=\"203.301\" cy=\"1445.72\" r=\"14.4\" fill=\"#009af9\" fill-rule=\"evenodd\" fill-opacity=\"1\" stroke=\"#000000\" stroke-opacity=\"1\" stroke-width=\"3.2\"/>\n",
       "<circle clip-path=\"url(#clip072)\" cx=\"2290.15\" cy=\"1445.72\" r=\"14.4\" fill=\"#009af9\" fill-rule=\"evenodd\" fill-opacity=\"1\" stroke=\"#000000\" stroke-opacity=\"1\" stroke-width=\"3.2\"/>\n",
       "<circle clip-path=\"url(#clip072)\" cx=\"2290.07\" cy=\"1445.72\" r=\"14.4\" fill=\"#009af9\" fill-rule=\"evenodd\" fill-opacity=\"1\" stroke=\"#000000\" stroke-opacity=\"1\" stroke-width=\"3.2\"/>\n",
       "<circle clip-path=\"url(#clip072)\" cx=\"2290\" cy=\"1445.72\" r=\"14.4\" fill=\"#009af9\" fill-rule=\"evenodd\" fill-opacity=\"1\" stroke=\"#000000\" stroke-opacity=\"1\" stroke-width=\"3.2\"/>\n",
       "<circle clip-path=\"url(#clip072)\" cx=\"2289.98\" cy=\"1445.72\" r=\"14.4\" fill=\"#009af9\" fill-rule=\"evenodd\" fill-opacity=\"1\" stroke=\"#000000\" stroke-opacity=\"1\" stroke-width=\"3.2\"/>\n",
       "<circle clip-path=\"url(#clip072)\" cx=\"2289.98\" cy=\"1445.72\" r=\"14.4\" fill=\"#009af9\" fill-rule=\"evenodd\" fill-opacity=\"1\" stroke=\"#000000\" stroke-opacity=\"1\" stroke-width=\"3.2\"/>\n",
       "<circle clip-path=\"url(#clip072)\" cx=\"2289.94\" cy=\"1445.72\" r=\"14.4\" fill=\"#009af9\" fill-rule=\"evenodd\" fill-opacity=\"1\" stroke=\"#000000\" stroke-opacity=\"1\" stroke-width=\"3.2\"/>\n",
       "<circle clip-path=\"url(#clip072)\" cx=\"2289.98\" cy=\"1445.72\" r=\"14.4\" fill=\"#009af9\" fill-rule=\"evenodd\" fill-opacity=\"1\" stroke=\"#000000\" stroke-opacity=\"1\" stroke-width=\"3.2\"/>\n",
       "<circle clip-path=\"url(#clip072)\" cx=\"2289.92\" cy=\"1445.72\" r=\"14.4\" fill=\"#009af9\" fill-rule=\"evenodd\" fill-opacity=\"1\" stroke=\"#000000\" stroke-opacity=\"1\" stroke-width=\"3.2\"/>\n",
       "<circle clip-path=\"url(#clip072)\" cx=\"203.301\" cy=\"1445.72\" r=\"14.4\" fill=\"#009af9\" fill-rule=\"evenodd\" fill-opacity=\"1\" stroke=\"#000000\" stroke-opacity=\"1\" stroke-width=\"3.2\"/>\n",
       "<circle clip-path=\"url(#clip072)\" cx=\"481.307\" cy=\"922.119\" r=\"14.4\" fill=\"#009af9\" fill-rule=\"evenodd\" fill-opacity=\"1\" stroke=\"#000000\" stroke-opacity=\"1\" stroke-width=\"3.2\"/>\n",
       "<circle clip-path=\"url(#clip072)\" cx=\"631.682\" cy=\"706.811\" r=\"14.4\" fill=\"#009af9\" fill-rule=\"evenodd\" fill-opacity=\"1\" stroke=\"#000000\" stroke-opacity=\"1\" stroke-width=\"3.2\"/>\n",
       "<circle clip-path=\"url(#clip072)\" cx=\"685.582\" cy=\"559.882\" r=\"14.4\" fill=\"#009af9\" fill-rule=\"evenodd\" fill-opacity=\"1\" stroke=\"#000000\" stroke-opacity=\"1\" stroke-width=\"3.2\"/>\n",
       "<circle clip-path=\"url(#clip072)\" cx=\"729.834\" cy=\"328.33\" r=\"14.4\" fill=\"#009af9\" fill-rule=\"evenodd\" fill-opacity=\"1\" stroke=\"#000000\" stroke-opacity=\"1\" stroke-width=\"3.2\"/>\n",
       "<circle clip-path=\"url(#clip072)\" cx=\"759.386\" cy=\"87.9763\" r=\"14.4\" fill=\"#009af9\" fill-rule=\"evenodd\" fill-opacity=\"1\" stroke=\"#000000\" stroke-opacity=\"1\" stroke-width=\"3.2\"/>\n",
       "<circle clip-path=\"url(#clip072)\" cx=\"775.055\" cy=\"98.4954\" r=\"14.4\" fill=\"#009af9\" fill-rule=\"evenodd\" fill-opacity=\"1\" stroke=\"#000000\" stroke-opacity=\"1\" stroke-width=\"3.2\"/>\n",
       "<circle clip-path=\"url(#clip072)\" cx=\"790.73\" cy=\"816.439\" r=\"14.4\" fill=\"#009af9\" fill-rule=\"evenodd\" fill-opacity=\"1\" stroke=\"#000000\" stroke-opacity=\"1\" stroke-width=\"3.2\"/>\n",
       "<circle clip-path=\"url(#clip072)\" cx=\"801.181\" cy=\"1140.68\" r=\"14.4\" fill=\"#009af9\" fill-rule=\"evenodd\" fill-opacity=\"1\" stroke=\"#000000\" stroke-opacity=\"1\" stroke-width=\"3.2\"/>\n",
       "<circle clip-path=\"url(#clip072)\" cx=\"203.301\" cy=\"1445.72\" r=\"14.4\" fill=\"#009af9\" fill-rule=\"evenodd\" fill-opacity=\"1\" stroke=\"#000000\" stroke-opacity=\"1\" stroke-width=\"3.2\"/>\n",
       "<circle clip-path=\"url(#clip072)\" cx=\"672.079\" cy=\"1325.28\" r=\"14.4\" fill=\"#009af9\" fill-rule=\"evenodd\" fill-opacity=\"1\" stroke=\"#000000\" stroke-opacity=\"1\" stroke-width=\"3.2\"/>\n",
       "<circle clip-path=\"url(#clip072)\" cx=\"715.745\" cy=\"1186.77\" r=\"14.4\" fill=\"#009af9\" fill-rule=\"evenodd\" fill-opacity=\"1\" stroke=\"#000000\" stroke-opacity=\"1\" stroke-width=\"3.2\"/>\n",
       "<circle clip-path=\"url(#clip072)\" cx=\"732.248\" cy=\"1262.32\" r=\"14.4\" fill=\"#009af9\" fill-rule=\"evenodd\" fill-opacity=\"1\" stroke=\"#000000\" stroke-opacity=\"1\" stroke-width=\"3.2\"/>\n",
       "<circle clip-path=\"url(#clip072)\" cx=\"746.66\" cy=\"1393.73\" r=\"14.4\" fill=\"#009af9\" fill-rule=\"evenodd\" fill-opacity=\"1\" stroke=\"#000000\" stroke-opacity=\"1\" stroke-width=\"3.2\"/>\n",
       "<circle clip-path=\"url(#clip072)\" cx=\"763.434\" cy=\"1362.72\" r=\"14.4\" fill=\"#009af9\" fill-rule=\"evenodd\" fill-opacity=\"1\" stroke=\"#000000\" stroke-opacity=\"1\" stroke-width=\"3.2\"/>\n",
       "<circle clip-path=\"url(#clip072)\" cx=\"778.189\" cy=\"1281.66\" r=\"14.4\" fill=\"#009af9\" fill-rule=\"evenodd\" fill-opacity=\"1\" stroke=\"#000000\" stroke-opacity=\"1\" stroke-width=\"3.2\"/>\n",
       "<circle clip-path=\"url(#clip072)\" cx=\"793.461\" cy=\"1326.89\" r=\"14.4\" fill=\"#009af9\" fill-rule=\"evenodd\" fill-opacity=\"1\" stroke=\"#000000\" stroke-opacity=\"1\" stroke-width=\"3.2\"/>\n",
       "<circle clip-path=\"url(#clip072)\" cx=\"800.978\" cy=\"1326.2\" r=\"14.4\" fill=\"#009af9\" fill-rule=\"evenodd\" fill-opacity=\"1\" stroke=\"#000000\" stroke-opacity=\"1\" stroke-width=\"3.2\"/>\n",
       "<circle clip-path=\"url(#clip072)\" cx=\"203.301\" cy=\"1445.72\" r=\"14.4\" fill=\"#009af9\" fill-rule=\"evenodd\" fill-opacity=\"1\" stroke=\"#000000\" stroke-opacity=\"1\" stroke-width=\"3.2\"/>\n",
       "<circle clip-path=\"url(#clip072)\" cx=\"672.324\" cy=\"1326.67\" r=\"14.4\" fill=\"#009af9\" fill-rule=\"evenodd\" fill-opacity=\"1\" stroke=\"#000000\" stroke-opacity=\"1\" stroke-width=\"3.2\"/>\n",
       "<circle clip-path=\"url(#clip072)\" cx=\"716.029\" cy=\"1183.82\" r=\"14.4\" fill=\"#009af9\" fill-rule=\"evenodd\" fill-opacity=\"1\" stroke=\"#000000\" stroke-opacity=\"1\" stroke-width=\"3.2\"/>\n",
       "<circle clip-path=\"url(#clip072)\" cx=\"732.583\" cy=\"1263.1\" r=\"14.4\" fill=\"#009af9\" fill-rule=\"evenodd\" fill-opacity=\"1\" stroke=\"#000000\" stroke-opacity=\"1\" stroke-width=\"3.2\"/>\n",
       "<circle clip-path=\"url(#clip072)\" cx=\"747.08\" cy=\"1399.28\" r=\"14.4\" fill=\"#009af9\" fill-rule=\"evenodd\" fill-opacity=\"1\" stroke=\"#000000\" stroke-opacity=\"1\" stroke-width=\"3.2\"/>\n",
       "<circle clip-path=\"url(#clip072)\" cx=\"763.929\" cy=\"1369.54\" r=\"14.4\" fill=\"#009af9\" fill-rule=\"evenodd\" fill-opacity=\"1\" stroke=\"#000000\" stroke-opacity=\"1\" stroke-width=\"3.2\"/>\n",
       "<circle clip-path=\"url(#clip072)\" cx=\"778.742\" cy=\"1283.96\" r=\"14.4\" fill=\"#009af9\" fill-rule=\"evenodd\" fill-opacity=\"1\" stroke=\"#000000\" stroke-opacity=\"1\" stroke-width=\"3.2\"/>\n",
       "<circle clip-path=\"url(#clip072)\" cx=\"794.041\" cy=\"1334.65\" r=\"14.4\" fill=\"#009af9\" fill-rule=\"evenodd\" fill-opacity=\"1\" stroke=\"#000000\" stroke-opacity=\"1\" stroke-width=\"3.2\"/>\n",
       "<circle clip-path=\"url(#clip072)\" cx=\"801.62\" cy=\"1330.35\" r=\"14.4\" fill=\"#009af9\" fill-rule=\"evenodd\" fill-opacity=\"1\" stroke=\"#000000\" stroke-opacity=\"1\" stroke-width=\"3.2\"/>\n",
       "<path clip-path=\"url(#clip070)\" d=\"M2005.38 198.898 L2279.02 198.898 L2279.02 95.2176 L2005.38 95.2176  Z\" fill=\"#ffffff\" fill-rule=\"evenodd\" fill-opacity=\"1\"/>\n",
       "<polyline clip-path=\"url(#clip070)\" style=\"stroke:#000000; stroke-linecap:round; stroke-linejoin:round; stroke-width:4; stroke-opacity:1; fill:none\" points=\"2005.38,198.898 2279.02,198.898 2279.02,95.2176 2005.38,95.2176 2005.38,198.898 \"/>\n",
       "<circle clip-path=\"url(#clip070)\" cx=\"2103.7\" cy=\"147.058\" r=\"20.48\" fill=\"#009af9\" fill-rule=\"evenodd\" fill-opacity=\"1\" stroke=\"#000000\" stroke-opacity=\"1\" stroke-width=\"4.55111\"/>\n",
       "<path clip-path=\"url(#clip070)\" d=\"M2215.85 166.745 Q2214.05 171.375 2212.34 172.787 Q2210.62 174.199 2207.75 174.199 L2204.35 174.199 L2204.35 170.634 L2206.85 170.634 Q2208.61 170.634 2209.58 169.8 Q2210.55 168.967 2211.73 165.865 L2212.5 163.921 L2202.01 138.412 L2206.53 138.412 L2214.63 158.689 L2222.73 138.412 L2227.24 138.412 L2215.85 166.745 Z\" fill=\"#000000\" fill-rule=\"nonzero\" fill-opacity=\"1\" /><path clip-path=\"url(#clip070)\" d=\"M2234.53 160.402 L2242.17 160.402 L2242.17 134.037 L2233.86 135.703 L2233.86 131.444 L2242.13 129.778 L2246.8 129.778 L2246.8 160.402 L2254.44 160.402 L2254.44 164.338 L2234.53 164.338 L2234.53 160.402 Z\" fill=\"#000000\" fill-rule=\"nonzero\" fill-opacity=\"1\" /></svg>\n"
      ]
     },
     "execution_count": 23,
     "metadata": {},
     "output_type": "execute_result"
    }
   ],
   "source": [
    "using Plots\n",
    "scatter(global_sensitivity_nonbinding, med_dif[361:end])"
   ]
  },
  {
   "cell_type": "code",
   "execution_count": null,
   "metadata": {},
   "outputs": [
    {
     "data": {
      "text/plain": [
       "405-element Vector{Float64}:\n",
       "   0.0\n",
       "   3.229836482390965\n",
       "  10.969570463226773\n",
       "  23.920657799342735\n",
       "  55.150368807428094\n",
       " 110.73246432182168\n",
       " 172.08639413247693\n",
       " 278.3746319975453\n",
       " 381.8277284436772\n",
       "   0.0\n",
       "   8.881784197001252e-16\n",
       "   8.881784197001252e-16\n",
       "   8.881784197001252e-16\n",
       "   ⋮\n",
       "   3.704307686685752\n",
       "   2.6829029182572413\n",
       "   2.6986551452209824\n",
       "   0.0\n",
       "   2.6880225173558756\n",
       "   5.913428581779499\n",
       "   4.1233788116642245\n",
       "   1.048426372648919\n",
       "   1.7199683590474706\n",
       "   3.652232336119141\n",
       "   2.5076958992494838\n",
       "   2.604979922362645"
      ]
     },
     "execution_count": 24,
     "metadata": {},
     "output_type": "execute_result"
    }
   ],
   "source": [
    "med_dif"
   ]
  }
 ],
 "metadata": {
  "kernelspec": {
   "display_name": "Julia(emcee-4-thread-1.11) 1.11.4",
   "language": "julia",
   "name": "julia_emcee-4-thread-1.11_-1.11"
  },
  "language_info": {
   "file_extension": ".jl",
   "mimetype": "application/julia",
   "name": "julia",
   "version": "1.11.4"
  },
  "orig_nbformat": 4
 },
 "nbformat": 4,
 "nbformat_minor": 2
}
