{
 "cells": [
  {
   "cell_type": "code",
   "execution_count": 1,
   "metadata": {},
   "outputs": [],
   "source": [
    "import pandas as pd\n",
    "import numpy as np \n",
    "import matplotlib.pyplot as plt \n",
    "#from scipy.stats import pearsonr\n",
    "#from scipy.stats import ttest_ind\n",
    "#from scipy.stats import ttest_rel"
   ]
  },
  {
   "attachments": {},
   "cell_type": "markdown",
   "metadata": {},
   "source": [
    "Load Prodigy Dataset"
   ]
  },
  {
   "cell_type": "code",
   "execution_count": 2,
   "metadata": {},
   "outputs": [],
   "source": [
    "prodigy = pd.read_csv('data/PRODIGY_dataset.csv')\n",
    "#extract deltaG values and convert to Kd\n",
    "T = 310 #Kelvin (37 C)\n",
    "R = 0.001987 #kcal/mol*K\n",
    "KD = np.exp(prodigy[\"DG\"].to_numpy()/(T*R))\n",
    "#logscale\n",
    "KD = np.log10(KD)\n",
    "max = np.max(KD)\n",
    "min = np.min(KD)"
   ]
  },
  {
   "attachments": {},
   "cell_type": "markdown",
   "metadata": {},
   "source": [
    "Load Test Case KD Predictions"
   ]
  },
  {
   "cell_type": "code",
   "execution_count": 3,
   "metadata": {},
   "outputs": [],
   "source": [
    "df_egfr = pd.read_csv('/Users/hollyhuber/Documents/structure_informed_cell_signaling2/egfr/data/predicted_kd.csv')\n",
    "df_gpcr = pd.read_csv('/Users/hollyhuber/Documents/structure_informed_cell_signaling2/gpcr/data/predicted_kd.csv')"
   ]
  },
  {
   "attachments": {},
   "cell_type": "markdown",
   "metadata": {},
   "source": [
    "Compute Absolute Log Errors"
   ]
  },
  {
   "cell_type": "code",
   "execution_count": 4,
   "metadata": {},
   "outputs": [],
   "source": [
    "errors = np.abs(np.log10(df_egfr['predicted_Kd(M)'].to_numpy())-np.log10(df_egfr['reported_Kd(M)'].to_numpy()))\n",
    "errors_2 = np.abs(np.log10(df_gpcr['predicted_Kd(M)'].to_numpy())-np.log10(df_gpcr['reported_Kd(M)'].to_numpy()))\n",
    "all_errors = np.concatenate((errors, errors_2))"
   ]
  },
  {
   "attachments": {},
   "cell_type": "markdown",
   "metadata": {},
   "source": [
    "Compute Random Absolute Log Errors"
   ]
  },
  {
   "cell_type": "code",
   "execution_count": 5,
   "metadata": {},
   "outputs": [],
   "source": [
    "database_max = np.max(KD)\n",
    "database_min = np.min(KD)\n",
    "rng = np.random.default_rng(125083)\n",
    "random_kd = np.multiply(rng.random(len(all_errors)),(database_max-database_min)) + database_min\n",
    "ground_truth = np.concatenate((np.log10(df_egfr['reported_Kd(M)'].to_numpy()), np.log10(df_gpcr['reported_Kd(M)'].to_numpy())))\n",
    "errors_random = np.abs(random_kd - ground_truth)"
   ]
  },
  {
   "attachments": {},
   "cell_type": "markdown",
   "metadata": {},
   "source": [
    "Make Into DF for saving as CSV"
   ]
  },
  {
   "cell_type": "code",
   "execution_count": 6,
   "metadata": {},
   "outputs": [],
   "source": [
    "d = {\"Uninformed Prior Error\": errors_random, \"ML Pipeline Error\": all_errors}\n",
    "df = pd.DataFrame(data=d)\n",
    "df.to_csv(\"outputs/000_absolute_errors.csv\")"
   ]
  },
  {
   "attachments": {},
   "cell_type": "markdown",
   "metadata": {},
   "source": [
    "Correlation Between AlphaFold Confidence and Error - Make into DF and Save as CSV"
   ]
  },
  {
   "cell_type": "code",
   "execution_count": 7,
   "metadata": {},
   "outputs": [],
   "source": [
    "AF_confidence = df_egfr[\"AF_ranking_score\"].to_numpy() #note, we only save EGFR data, as GPCR has no AF3 confidence, since it's not a predicted structure\n",
    "AF_confidence2 = df_egfr[\"AF_ipTM\"].to_numpy()\n",
    "AF_confidence3 = df_egfr[\"AF_fraction_disordered\"].to_numpy()\n",
    "#save ranking score\n",
    "d = {\"AlphaFold3 Ranking Score\": AF_confidence, \"ml pipeline error\": errors}\n",
    "df = pd.DataFrame(data=d)\n",
    "df.to_csv(\"outputs/000_kd_predictor_error_and_af3_ranking_score.csv\")\n",
    "#save iptm\n",
    "d = {\"AlphaFold3 ipTM\": AF_confidence2, \"ml pipeline error\": errors}\n",
    "df = pd.DataFrame(data=d)\n",
    "df.to_csv(\"outputs/000_kd_predictor_error_and_af3_iptm.csv\")\n",
    "#save fraction disordered\n",
    "d = {\"AlphaFold3 fraction disordered\": AF_confidence3, \"ml pipeline error\": errors}\n",
    "df = pd.DataFrame(data=d)\n",
    "df.to_csv(\"outputs/000_kd_predictor_error_and_af3_fraction_disordered.csv\")"
   ]
  }
 ],
 "metadata": {
  "kernelspec": {
   "display_name": "inform_priors_env",
   "language": "python",
   "name": "python3"
  },
  "language_info": {
   "codemirror_mode": {
    "name": "ipython",
    "version": 3
   },
   "file_extension": ".py",
   "mimetype": "text/x-python",
   "name": "python",
   "nbconvert_exporter": "python",
   "pygments_lexer": "ipython3",
   "version": "3.13.2"
  },
  "orig_nbformat": 4
 },
 "nbformat": 4,
 "nbformat_minor": 2
}
